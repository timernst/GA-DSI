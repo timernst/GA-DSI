{
 "cells": [
  {
   "cell_type": "code",
   "execution_count": 1,
   "metadata": {
    "collapsed": true
   },
   "outputs": [],
   "source": [
    "# import pandas, matplotlib\n",
    "\n",
    "import pandas as pd\n",
    "import matplotlib as mp"
   ]
  },
  {
   "cell_type": "code",
   "execution_count": 4,
   "metadata": {
    "collapsed": true
   },
   "outputs": [],
   "source": [
    "# read in the csv from https://raw.githubusercontent.com/fivethirtyeight/data/master/flying-etiquette-survey/flying-etiquette.csv\n",
    "df = pd.read_csv('https://raw.githubusercontent.com/fivethirtyeight/data/master/flying-etiquette-survey/flying-etiquette.csv')\n"
   ]
  },
  {
   "cell_type": "code",
   "execution_count": 5,
   "metadata": {
    "collapsed": false
   },
   "outputs": [
    {
     "data": {
      "text/html": [
       "<div>\n",
       "<table border=\"1\" class=\"dataframe\">\n",
       "  <thead>\n",
       "    <tr style=\"text-align: right;\">\n",
       "      <th></th>\n",
       "      <th>RespondentID</th>\n",
       "      <th>How often do you travel by plane?</th>\n",
       "      <th>Do you ever recline your seat when you fly?</th>\n",
       "      <th>How tall are you?</th>\n",
       "      <th>Do you have any children under 18?</th>\n",
       "      <th>In a row of three seats, who should get to use the two arm rests?</th>\n",
       "      <th>In a row of two seats, who should get to use the middle arm rest?</th>\n",
       "      <th>Who should have control over the window shade?</th>\n",
       "      <th>Is itrude to move to an unsold seat on a plane?</th>\n",
       "      <th>Generally speaking, is it rude to say more than a few words tothe stranger sitting next to you on a plane?</th>\n",
       "      <th>...</th>\n",
       "      <th>Is itrude to wake a passenger up if you are trying to walk around?</th>\n",
       "      <th>In general, is itrude to bring a baby on a plane?</th>\n",
       "      <th>In general, is it rude to knowingly bring unruly children on a plane?</th>\n",
       "      <th>Have you ever used personal electronics during take off or landing in violation of a flight attendant's direction?</th>\n",
       "      <th>Have you ever smoked a cigarette in an airplane bathroom when it was against the rules?</th>\n",
       "      <th>Gender</th>\n",
       "      <th>Age</th>\n",
       "      <th>Household Income</th>\n",
       "      <th>Education</th>\n",
       "      <th>Location (Census Region)</th>\n",
       "    </tr>\n",
       "  </thead>\n",
       "  <tbody>\n",
       "    <tr>\n",
       "      <th>0</th>\n",
       "      <td>3436139758</td>\n",
       "      <td>Once a year or less</td>\n",
       "      <td>NaN</td>\n",
       "      <td>NaN</td>\n",
       "      <td>NaN</td>\n",
       "      <td>NaN</td>\n",
       "      <td>NaN</td>\n",
       "      <td>NaN</td>\n",
       "      <td>NaN</td>\n",
       "      <td>NaN</td>\n",
       "      <td>...</td>\n",
       "      <td>NaN</td>\n",
       "      <td>NaN</td>\n",
       "      <td>NaN</td>\n",
       "      <td>NaN</td>\n",
       "      <td>NaN</td>\n",
       "      <td>NaN</td>\n",
       "      <td>NaN</td>\n",
       "      <td>NaN</td>\n",
       "      <td>NaN</td>\n",
       "      <td>NaN</td>\n",
       "    </tr>\n",
       "    <tr>\n",
       "      <th>1</th>\n",
       "      <td>3434278696</td>\n",
       "      <td>Once a year or less</td>\n",
       "      <td>About half the time</td>\n",
       "      <td>6'3\"</td>\n",
       "      <td>Yes</td>\n",
       "      <td>The arm rests should be shared</td>\n",
       "      <td>The arm rests should be shared</td>\n",
       "      <td>Everyone in the row should have some say</td>\n",
       "      <td>No, not rude at all</td>\n",
       "      <td>No, not at all rude</td>\n",
       "      <td>...</td>\n",
       "      <td>No, not at all rude</td>\n",
       "      <td>No, not at all rude</td>\n",
       "      <td>No, not at all rude</td>\n",
       "      <td>No</td>\n",
       "      <td>No</td>\n",
       "      <td>Male</td>\n",
       "      <td>30-44</td>\n",
       "      <td>NaN</td>\n",
       "      <td>Graduate degree</td>\n",
       "      <td>Pacific</td>\n",
       "    </tr>\n",
       "    <tr>\n",
       "      <th>2</th>\n",
       "      <td>3434275578</td>\n",
       "      <td>Once a year or less</td>\n",
       "      <td>Usually</td>\n",
       "      <td>5'8\"</td>\n",
       "      <td>No</td>\n",
       "      <td>Whoever puts their arm on the arm rest first</td>\n",
       "      <td>The arm rests should be shared</td>\n",
       "      <td>The person in the window seat should have excl...</td>\n",
       "      <td>No, not rude at all</td>\n",
       "      <td>No, not at all rude</td>\n",
       "      <td>...</td>\n",
       "      <td>Yes, somewhat rude</td>\n",
       "      <td>Yes, somewhat rude</td>\n",
       "      <td>Yes, very rude</td>\n",
       "      <td>No</td>\n",
       "      <td>No</td>\n",
       "      <td>Male</td>\n",
       "      <td>30-44</td>\n",
       "      <td>$100,000 - $149,999</td>\n",
       "      <td>Bachelor degree</td>\n",
       "      <td>Pacific</td>\n",
       "    </tr>\n",
       "    <tr>\n",
       "      <th>3</th>\n",
       "      <td>3434268208</td>\n",
       "      <td>Once a year or less</td>\n",
       "      <td>Always</td>\n",
       "      <td>5'11\"</td>\n",
       "      <td>No</td>\n",
       "      <td>The arm rests should be shared</td>\n",
       "      <td>The arm rests should be shared</td>\n",
       "      <td>Everyone in the row should have some say</td>\n",
       "      <td>No, not rude at all</td>\n",
       "      <td>No, not at all rude</td>\n",
       "      <td>...</td>\n",
       "      <td>Yes, somewhat rude</td>\n",
       "      <td>Yes, somewhat rude</td>\n",
       "      <td>Yes, very rude</td>\n",
       "      <td>No</td>\n",
       "      <td>No</td>\n",
       "      <td>Male</td>\n",
       "      <td>30-44</td>\n",
       "      <td>$0 - $24,999</td>\n",
       "      <td>Bachelor degree</td>\n",
       "      <td>Pacific</td>\n",
       "    </tr>\n",
       "    <tr>\n",
       "      <th>4</th>\n",
       "      <td>3434250245</td>\n",
       "      <td>Once a month or less</td>\n",
       "      <td>About half the time</td>\n",
       "      <td>5'7\"</td>\n",
       "      <td>No</td>\n",
       "      <td>The person in the middle seat gets both arm rests</td>\n",
       "      <td>The person in aisle</td>\n",
       "      <td>Everyone in the row should have some say</td>\n",
       "      <td>No, not rude at all</td>\n",
       "      <td>No, not at all rude</td>\n",
       "      <td>...</td>\n",
       "      <td>Yes, somewhat rude</td>\n",
       "      <td>Yes, somewhat rude</td>\n",
       "      <td>Yes, very rude</td>\n",
       "      <td>Yes</td>\n",
       "      <td>No</td>\n",
       "      <td>Male</td>\n",
       "      <td>30-44</td>\n",
       "      <td>$50,000 - $99,999</td>\n",
       "      <td>Bachelor degree</td>\n",
       "      <td>Pacific</td>\n",
       "    </tr>\n",
       "  </tbody>\n",
       "</table>\n",
       "<p>5 rows × 27 columns</p>\n",
       "</div>"
      ],
      "text/plain": [
       "   RespondentID How often do you travel by plane?  \\\n",
       "0    3436139758               Once a year or less   \n",
       "1    3434278696               Once a year or less   \n",
       "2    3434275578               Once a year or less   \n",
       "3    3434268208               Once a year or less   \n",
       "4    3434250245              Once a month or less   \n",
       "\n",
       "  Do you ever recline your seat when you fly? How tall are you?  \\\n",
       "0                                         NaN               NaN   \n",
       "1                         About half the time              6'3\"   \n",
       "2                                     Usually              5'8\"   \n",
       "3                                      Always             5'11\"   \n",
       "4                         About half the time              5'7\"   \n",
       "\n",
       "  Do you have any children under 18?  \\\n",
       "0                                NaN   \n",
       "1                                Yes   \n",
       "2                                 No   \n",
       "3                                 No   \n",
       "4                                 No   \n",
       "\n",
       "  In a row of three seats, who should get to use the two arm rests?  \\\n",
       "0                                                NaN                  \n",
       "1                     The arm rests should be shared                  \n",
       "2       Whoever puts their arm on the arm rest first                  \n",
       "3                     The arm rests should be shared                  \n",
       "4  The person in the middle seat gets both arm rests                  \n",
       "\n",
       "  In a row of two seats, who should get to use the middle arm rest?  \\\n",
       "0                                                NaN                  \n",
       "1                     The arm rests should be shared                  \n",
       "2                     The arm rests should be shared                  \n",
       "3                     The arm rests should be shared                  \n",
       "4                                The person in aisle                  \n",
       "\n",
       "      Who should have control over the window shade?  \\\n",
       "0                                                NaN   \n",
       "1           Everyone in the row should have some say   \n",
       "2  The person in the window seat should have excl...   \n",
       "3           Everyone in the row should have some say   \n",
       "4           Everyone in the row should have some say   \n",
       "\n",
       "  Is itrude to move to an unsold seat on a plane?  \\\n",
       "0                                             NaN   \n",
       "1                             No, not rude at all   \n",
       "2                             No, not rude at all   \n",
       "3                             No, not rude at all   \n",
       "4                             No, not rude at all   \n",
       "\n",
       "  Generally speaking, is it rude to say more than a few words tothe stranger sitting next to you on a plane?  \\\n",
       "0                                                NaN                                                           \n",
       "1                                No, not at all rude                                                           \n",
       "2                                No, not at all rude                                                           \n",
       "3                                No, not at all rude                                                           \n",
       "4                                No, not at all rude                                                           \n",
       "\n",
       "            ...             \\\n",
       "0           ...              \n",
       "1           ...              \n",
       "2           ...              \n",
       "3           ...              \n",
       "4           ...              \n",
       "\n",
       "  Is itrude to wake a passenger up if you are trying to walk around?  \\\n",
       "0                                                NaN                   \n",
       "1                                No, not at all rude                   \n",
       "2                                 Yes, somewhat rude                   \n",
       "3                                 Yes, somewhat rude                   \n",
       "4                                 Yes, somewhat rude                   \n",
       "\n",
       "  In general, is itrude to bring a baby on a plane?  \\\n",
       "0                                               NaN   \n",
       "1                               No, not at all rude   \n",
       "2                                Yes, somewhat rude   \n",
       "3                                Yes, somewhat rude   \n",
       "4                                Yes, somewhat rude   \n",
       "\n",
       "  In general, is it rude to knowingly bring unruly children on a plane?  \\\n",
       "0                                                NaN                      \n",
       "1                                No, not at all rude                      \n",
       "2                                     Yes, very rude                      \n",
       "3                                     Yes, very rude                      \n",
       "4                                     Yes, very rude                      \n",
       "\n",
       "  Have you ever used personal electronics during take off or landing in violation of a flight attendant's direction?  \\\n",
       "0                                                NaN                                                                   \n",
       "1                                                 No                                                                   \n",
       "2                                                 No                                                                   \n",
       "3                                                 No                                                                   \n",
       "4                                                Yes                                                                   \n",
       "\n",
       "  Have you ever smoked a cigarette in an airplane bathroom when it was against the rules?  \\\n",
       "0                                                NaN                                        \n",
       "1                                                 No                                        \n",
       "2                                                 No                                        \n",
       "3                                                 No                                        \n",
       "4                                                 No                                        \n",
       "\n",
       "  Gender    Age     Household Income        Education Location (Census Region)  \n",
       "0    NaN    NaN                  NaN              NaN                      NaN  \n",
       "1   Male  30-44                  NaN  Graduate degree                  Pacific  \n",
       "2   Male  30-44  $100,000 - $149,999  Bachelor degree                  Pacific  \n",
       "3   Male  30-44         $0 - $24,999  Bachelor degree                  Pacific  \n",
       "4   Male  30-44    $50,000 - $99,999  Bachelor degree                  Pacific  \n",
       "\n",
       "[5 rows x 27 columns]"
      ]
     },
     "execution_count": 5,
     "metadata": {},
     "output_type": "execute_result"
    }
   ],
   "source": [
    "# view the head\n",
    "df.head()"
   ]
  },
  {
   "cell_type": "code",
   "execution_count": 7,
   "metadata": {
    "collapsed": false
   },
   "outputs": [
    {
     "data": {
      "text/plain": [
       "Index([u'RespondentID', u'How often do you travel by plane?',\n",
       "       u'Do you ever recline your seat when you fly?', u'How tall are you?',\n",
       "       u'Do you have any children under 18?',\n",
       "       u'In a row of three seats, who should get to use the two arm rests?',\n",
       "       u'In a row of two seats, who should get to use the middle arm rest?',\n",
       "       u'Who should have control over the window shade?',\n",
       "       u'Is itrude to move to an unsold seat on a plane?',\n",
       "       u'Generally speaking, is it rude to say more than a few words tothe stranger sitting next to you on a plane?',\n",
       "       u'On a 6 hour flight from NYC to LA, how many times is it acceptable to get up if you're not in an aisle seat?',\n",
       "       u'Under normal circumstances, does a person who reclines their seat during a flight have any obligation to the person sitting behind them?',\n",
       "       u'Is itrude to recline your seat on a plane?',\n",
       "       u'Given the opportunity, would you eliminate the possibility of reclining seats on planes entirely?',\n",
       "       u'Is it rude to ask someone to switch seats with you in order to be closer to friends?',\n",
       "       u'Is itrude to ask someone to switch seats with you in order to be closer to family?',\n",
       "       u'Is it rude to wake a passenger up if you are trying to go to the bathroom?',\n",
       "       u'Is itrude to wake a passenger up if you are trying to walk around?',\n",
       "       u'In general, is itrude to bring a baby on a plane?',\n",
       "       u'In general, is it rude to knowingly bring unruly children on a plane?',\n",
       "       u'Have you ever used personal electronics during take off or landing in violation of a flight attendant's direction?',\n",
       "       u'Have you ever smoked a cigarette in an airplane bathroom when it was against the rules?',\n",
       "       u'Gender', u'Age', u'Household Income', u'Education',\n",
       "       u'Location (Census Region)'],\n",
       "      dtype='object')"
      ]
     },
     "execution_count": 7,
     "metadata": {},
     "output_type": "execute_result"
    }
   ],
   "source": [
    "# view the columns - use iteration to print them out\n",
    "df.columns"
   ]
  },
  {
   "cell_type": "code",
   "execution_count": 8,
   "metadata": {
    "collapsed": false
   },
   "outputs": [],
   "source": [
    "# rename columns with shorter name\n",
    "df.columns = ['ID', 'Often', 'Recline','Height', 'Children', 'Arm_rest', 'middle_arm_rest', 'window_shade', 'unsold', 'talk', 'get_up', 'recline_obligation', 'rude_to_recline', 'eliminate_recline', 'switch_seats_friend', 'switch_seats_family', 'wake_for_bathroom', 'wake_to_walk', 'baby', 'unruly_children','electronics','cigarette', 'gender','age','household_income', 'education','location']"
   ]
  },
  {
   "cell_type": "code",
   "execution_count": 9,
   "metadata": {
    "collapsed": false
   },
   "outputs": [
    {
     "data": {
      "text/html": [
       "<div>\n",
       "<table border=\"1\" class=\"dataframe\">\n",
       "  <thead>\n",
       "    <tr style=\"text-align: right;\">\n",
       "      <th></th>\n",
       "      <th>ID</th>\n",
       "      <th>Often</th>\n",
       "      <th>Recline</th>\n",
       "      <th>Height</th>\n",
       "      <th>Children</th>\n",
       "      <th>Arm_rest</th>\n",
       "      <th>middle_arm_rest</th>\n",
       "      <th>window_shade</th>\n",
       "      <th>unsold</th>\n",
       "      <th>talk</th>\n",
       "      <th>...</th>\n",
       "      <th>wake_to_walk</th>\n",
       "      <th>baby</th>\n",
       "      <th>unruly_children</th>\n",
       "      <th>electronics</th>\n",
       "      <th>cigarette</th>\n",
       "      <th>gender</th>\n",
       "      <th>age</th>\n",
       "      <th>household_income</th>\n",
       "      <th>education</th>\n",
       "      <th>location</th>\n",
       "    </tr>\n",
       "  </thead>\n",
       "  <tbody>\n",
       "    <tr>\n",
       "      <th>0</th>\n",
       "      <td>3436139758</td>\n",
       "      <td>Once a year or less</td>\n",
       "      <td>NaN</td>\n",
       "      <td>NaN</td>\n",
       "      <td>NaN</td>\n",
       "      <td>NaN</td>\n",
       "      <td>NaN</td>\n",
       "      <td>NaN</td>\n",
       "      <td>NaN</td>\n",
       "      <td>NaN</td>\n",
       "      <td>...</td>\n",
       "      <td>NaN</td>\n",
       "      <td>NaN</td>\n",
       "      <td>NaN</td>\n",
       "      <td>NaN</td>\n",
       "      <td>NaN</td>\n",
       "      <td>NaN</td>\n",
       "      <td>NaN</td>\n",
       "      <td>NaN</td>\n",
       "      <td>NaN</td>\n",
       "      <td>NaN</td>\n",
       "    </tr>\n",
       "    <tr>\n",
       "      <th>1</th>\n",
       "      <td>3434278696</td>\n",
       "      <td>Once a year or less</td>\n",
       "      <td>About half the time</td>\n",
       "      <td>6'3\"</td>\n",
       "      <td>Yes</td>\n",
       "      <td>The arm rests should be shared</td>\n",
       "      <td>The arm rests should be shared</td>\n",
       "      <td>Everyone in the row should have some say</td>\n",
       "      <td>No, not rude at all</td>\n",
       "      <td>No, not at all rude</td>\n",
       "      <td>...</td>\n",
       "      <td>No, not at all rude</td>\n",
       "      <td>No, not at all rude</td>\n",
       "      <td>No, not at all rude</td>\n",
       "      <td>No</td>\n",
       "      <td>No</td>\n",
       "      <td>Male</td>\n",
       "      <td>30-44</td>\n",
       "      <td>NaN</td>\n",
       "      <td>Graduate degree</td>\n",
       "      <td>Pacific</td>\n",
       "    </tr>\n",
       "    <tr>\n",
       "      <th>2</th>\n",
       "      <td>3434275578</td>\n",
       "      <td>Once a year or less</td>\n",
       "      <td>Usually</td>\n",
       "      <td>5'8\"</td>\n",
       "      <td>No</td>\n",
       "      <td>Whoever puts their arm on the arm rest first</td>\n",
       "      <td>The arm rests should be shared</td>\n",
       "      <td>The person in the window seat should have excl...</td>\n",
       "      <td>No, not rude at all</td>\n",
       "      <td>No, not at all rude</td>\n",
       "      <td>...</td>\n",
       "      <td>Yes, somewhat rude</td>\n",
       "      <td>Yes, somewhat rude</td>\n",
       "      <td>Yes, very rude</td>\n",
       "      <td>No</td>\n",
       "      <td>No</td>\n",
       "      <td>Male</td>\n",
       "      <td>30-44</td>\n",
       "      <td>$100,000 - $149,999</td>\n",
       "      <td>Bachelor degree</td>\n",
       "      <td>Pacific</td>\n",
       "    </tr>\n",
       "    <tr>\n",
       "      <th>3</th>\n",
       "      <td>3434268208</td>\n",
       "      <td>Once a year or less</td>\n",
       "      <td>Always</td>\n",
       "      <td>5'11\"</td>\n",
       "      <td>No</td>\n",
       "      <td>The arm rests should be shared</td>\n",
       "      <td>The arm rests should be shared</td>\n",
       "      <td>Everyone in the row should have some say</td>\n",
       "      <td>No, not rude at all</td>\n",
       "      <td>No, not at all rude</td>\n",
       "      <td>...</td>\n",
       "      <td>Yes, somewhat rude</td>\n",
       "      <td>Yes, somewhat rude</td>\n",
       "      <td>Yes, very rude</td>\n",
       "      <td>No</td>\n",
       "      <td>No</td>\n",
       "      <td>Male</td>\n",
       "      <td>30-44</td>\n",
       "      <td>$0 - $24,999</td>\n",
       "      <td>Bachelor degree</td>\n",
       "      <td>Pacific</td>\n",
       "    </tr>\n",
       "    <tr>\n",
       "      <th>4</th>\n",
       "      <td>3434250245</td>\n",
       "      <td>Once a month or less</td>\n",
       "      <td>About half the time</td>\n",
       "      <td>5'7\"</td>\n",
       "      <td>No</td>\n",
       "      <td>The person in the middle seat gets both arm rests</td>\n",
       "      <td>The person in aisle</td>\n",
       "      <td>Everyone in the row should have some say</td>\n",
       "      <td>No, not rude at all</td>\n",
       "      <td>No, not at all rude</td>\n",
       "      <td>...</td>\n",
       "      <td>Yes, somewhat rude</td>\n",
       "      <td>Yes, somewhat rude</td>\n",
       "      <td>Yes, very rude</td>\n",
       "      <td>Yes</td>\n",
       "      <td>No</td>\n",
       "      <td>Male</td>\n",
       "      <td>30-44</td>\n",
       "      <td>$50,000 - $99,999</td>\n",
       "      <td>Bachelor degree</td>\n",
       "      <td>Pacific</td>\n",
       "    </tr>\n",
       "  </tbody>\n",
       "</table>\n",
       "<p>5 rows × 27 columns</p>\n",
       "</div>"
      ],
      "text/plain": [
       "           ID                 Often              Recline Height Children  \\\n",
       "0  3436139758   Once a year or less                  NaN    NaN      NaN   \n",
       "1  3434278696   Once a year or less  About half the time   6'3\"      Yes   \n",
       "2  3434275578   Once a year or less              Usually   5'8\"       No   \n",
       "3  3434268208   Once a year or less               Always  5'11\"       No   \n",
       "4  3434250245  Once a month or less  About half the time   5'7\"       No   \n",
       "\n",
       "                                            Arm_rest  \\\n",
       "0                                                NaN   \n",
       "1                     The arm rests should be shared   \n",
       "2       Whoever puts their arm on the arm rest first   \n",
       "3                     The arm rests should be shared   \n",
       "4  The person in the middle seat gets both arm rests   \n",
       "\n",
       "                  middle_arm_rest  \\\n",
       "0                             NaN   \n",
       "1  The arm rests should be shared   \n",
       "2  The arm rests should be shared   \n",
       "3  The arm rests should be shared   \n",
       "4             The person in aisle   \n",
       "\n",
       "                                        window_shade               unsold  \\\n",
       "0                                                NaN                  NaN   \n",
       "1           Everyone in the row should have some say  No, not rude at all   \n",
       "2  The person in the window seat should have excl...  No, not rude at all   \n",
       "3           Everyone in the row should have some say  No, not rude at all   \n",
       "4           Everyone in the row should have some say  No, not rude at all   \n",
       "\n",
       "                  talk   ...            wake_to_walk                 baby  \\\n",
       "0                  NaN   ...                     NaN                  NaN   \n",
       "1  No, not at all rude   ...     No, not at all rude  No, not at all rude   \n",
       "2  No, not at all rude   ...      Yes, somewhat rude   Yes, somewhat rude   \n",
       "3  No, not at all rude   ...      Yes, somewhat rude   Yes, somewhat rude   \n",
       "4  No, not at all rude   ...      Yes, somewhat rude   Yes, somewhat rude   \n",
       "\n",
       "       unruly_children electronics cigarette gender    age  \\\n",
       "0                  NaN         NaN       NaN    NaN    NaN   \n",
       "1  No, not at all rude          No        No   Male  30-44   \n",
       "2       Yes, very rude          No        No   Male  30-44   \n",
       "3       Yes, very rude          No        No   Male  30-44   \n",
       "4       Yes, very rude         Yes        No   Male  30-44   \n",
       "\n",
       "      household_income        education location  \n",
       "0                  NaN              NaN      NaN  \n",
       "1                  NaN  Graduate degree  Pacific  \n",
       "2  $100,000 - $149,999  Bachelor degree  Pacific  \n",
       "3         $0 - $24,999  Bachelor degree  Pacific  \n",
       "4    $50,000 - $99,999  Bachelor degree  Pacific  \n",
       "\n",
       "[5 rows x 27 columns]"
      ]
     },
     "execution_count": 9,
     "metadata": {},
     "output_type": "execute_result"
    }
   ],
   "source": [
    "# view head again - now just 3 rows\n",
    "df.head()\n"
   ]
  },
  {
   "cell_type": "code",
   "execution_count": 11,
   "metadata": {
    "collapsed": false
   },
   "outputs": [
    {
     "data": {
      "text/html": [
       "<div>\n",
       "<table border=\"1\" class=\"dataframe\">\n",
       "  <thead>\n",
       "    <tr style=\"text-align: right;\">\n",
       "      <th></th>\n",
       "      <th>ID</th>\n",
       "      <th>Often</th>\n",
       "      <th>Recline</th>\n",
       "      <th>Height</th>\n",
       "      <th>Children</th>\n",
       "      <th>Arm_rest</th>\n",
       "      <th>middle_arm_rest</th>\n",
       "      <th>window_shade</th>\n",
       "      <th>unsold</th>\n",
       "      <th>talk</th>\n",
       "      <th>...</th>\n",
       "      <th>wake_to_walk</th>\n",
       "      <th>baby</th>\n",
       "      <th>unruly_children</th>\n",
       "      <th>electronics</th>\n",
       "      <th>cigarette</th>\n",
       "      <th>gender</th>\n",
       "      <th>age</th>\n",
       "      <th>household_income</th>\n",
       "      <th>education</th>\n",
       "      <th>location</th>\n",
       "    </tr>\n",
       "  </thead>\n",
       "  <tbody>\n",
       "    <tr>\n",
       "      <th>1037</th>\n",
       "      <td>3431731485</td>\n",
       "      <td>Never</td>\n",
       "      <td>NaN</td>\n",
       "      <td>NaN</td>\n",
       "      <td>NaN</td>\n",
       "      <td>NaN</td>\n",
       "      <td>NaN</td>\n",
       "      <td>NaN</td>\n",
       "      <td>NaN</td>\n",
       "      <td>NaN</td>\n",
       "      <td>...</td>\n",
       "      <td>NaN</td>\n",
       "      <td>NaN</td>\n",
       "      <td>NaN</td>\n",
       "      <td>NaN</td>\n",
       "      <td>NaN</td>\n",
       "      <td>Female</td>\n",
       "      <td>&gt; 60</td>\n",
       "      <td>NaN</td>\n",
       "      <td>Some college or Associate degree</td>\n",
       "      <td>East North Central</td>\n",
       "    </tr>\n",
       "    <tr>\n",
       "      <th>1038</th>\n",
       "      <td>3431731196</td>\n",
       "      <td>Never</td>\n",
       "      <td>NaN</td>\n",
       "      <td>NaN</td>\n",
       "      <td>NaN</td>\n",
       "      <td>NaN</td>\n",
       "      <td>NaN</td>\n",
       "      <td>NaN</td>\n",
       "      <td>NaN</td>\n",
       "      <td>NaN</td>\n",
       "      <td>...</td>\n",
       "      <td>NaN</td>\n",
       "      <td>NaN</td>\n",
       "      <td>NaN</td>\n",
       "      <td>NaN</td>\n",
       "      <td>NaN</td>\n",
       "      <td>Female</td>\n",
       "      <td>30-44</td>\n",
       "      <td>$50,000 - $99,999</td>\n",
       "      <td>Bachelor degree</td>\n",
       "      <td>New England</td>\n",
       "    </tr>\n",
       "    <tr>\n",
       "      <th>1039</th>\n",
       "      <td>3431729581</td>\n",
       "      <td>Once a year or less</td>\n",
       "      <td>Once in a while</td>\n",
       "      <td>6'3\"</td>\n",
       "      <td>No</td>\n",
       "      <td>The arm rests should be shared</td>\n",
       "      <td>The arm rests should be shared</td>\n",
       "      <td>Everyone in the row should have some say</td>\n",
       "      <td>No, not rude at all</td>\n",
       "      <td>No, not at all rude</td>\n",
       "      <td>...</td>\n",
       "      <td>Yes, somewhat rude</td>\n",
       "      <td>Yes, somewhat rude</td>\n",
       "      <td>Yes, very rude</td>\n",
       "      <td>No</td>\n",
       "      <td>No</td>\n",
       "      <td>Male</td>\n",
       "      <td>&gt; 60</td>\n",
       "      <td>$50,000 - $99,999</td>\n",
       "      <td>Bachelor degree</td>\n",
       "      <td>Pacific</td>\n",
       "    </tr>\n",
       "  </tbody>\n",
       "</table>\n",
       "<p>3 rows × 27 columns</p>\n",
       "</div>"
      ],
      "text/plain": [
       "              ID                Often          Recline Height Children  \\\n",
       "1037  3431731485                Never              NaN    NaN      NaN   \n",
       "1038  3431731196                Never              NaN    NaN      NaN   \n",
       "1039  3431729581  Once a year or less  Once in a while   6'3\"       No   \n",
       "\n",
       "                            Arm_rest                 middle_arm_rest  \\\n",
       "1037                             NaN                             NaN   \n",
       "1038                             NaN                             NaN   \n",
       "1039  The arm rests should be shared  The arm rests should be shared   \n",
       "\n",
       "                                  window_shade               unsold  \\\n",
       "1037                                       NaN                  NaN   \n",
       "1038                                       NaN                  NaN   \n",
       "1039  Everyone in the row should have some say  No, not rude at all   \n",
       "\n",
       "                     talk         ...                wake_to_walk  \\\n",
       "1037                  NaN         ...                         NaN   \n",
       "1038                  NaN         ...                         NaN   \n",
       "1039  No, not at all rude         ...          Yes, somewhat rude   \n",
       "\n",
       "                    baby unruly_children electronics cigarette  gender    age  \\\n",
       "1037                 NaN             NaN         NaN       NaN  Female   > 60   \n",
       "1038                 NaN             NaN         NaN       NaN  Female  30-44   \n",
       "1039  Yes, somewhat rude  Yes, very rude          No        No    Male   > 60   \n",
       "\n",
       "       household_income                         education            location  \n",
       "1037                NaN  Some college or Associate degree  East North Central  \n",
       "1038  $50,000 - $99,999                   Bachelor degree         New England  \n",
       "1039  $50,000 - $99,999                   Bachelor degree             Pacific  \n",
       "\n",
       "[3 rows x 27 columns]"
      ]
     },
     "execution_count": 11,
     "metadata": {},
     "output_type": "execute_result"
    }
   ],
   "source": [
    "# view the last 3 rows\n",
    "df.tail(3)\n"
   ]
  },
  {
   "cell_type": "code",
   "execution_count": 16,
   "metadata": {
    "collapsed": false,
    "scrolled": true
   },
   "outputs": [
    {
     "data": {
      "text/plain": [
       "pandas.core.frame.DataFrame"
      ]
     },
     "execution_count": 16,
     "metadata": {},
     "output_type": "execute_result"
    }
   ],
   "source": [
    "# check the data type of the DataFrame\n",
    "type(df)\n"
   ]
  },
  {
   "cell_type": "code",
   "execution_count": null,
   "metadata": {
    "collapsed": false
   },
   "outputs": [],
   "source": [
    "# How many unique travel frequencies are there? What are they?\n",
    "\n"
   ]
  },
  {
   "cell_type": "code",
   "execution_count": 18,
   "metadata": {
    "collapsed": false
   },
   "outputs": [
    {
     "data": {
      "text/plain": [
       "array(['Once a year or less', 'Once a month or less', 'Never',\n",
       "       'A few times per week', 'Every day', 'A few times per month'], dtype=object)"
      ]
     },
     "execution_count": 18,
     "metadata": {},
     "output_type": "execute_result"
    }
   ],
   "source": [
    "df['Often'].unique()\n"
   ]
  },
  {
   "cell_type": "code",
   "execution_count": 20,
   "metadata": {
    "collapsed": false
   },
   "outputs": [
    {
     "data": {
      "text/plain": [
       "6"
      ]
     },
     "execution_count": 20,
     "metadata": {},
     "output_type": "execute_result"
    }
   ],
   "source": [
    "df['Often'].nunique()"
   ]
  },
  {
   "cell_type": "code",
   "execution_count": 17,
   "metadata": {
    "collapsed": false
   },
   "outputs": [
    {
     "data": {
      "text/plain": [
       "9"
      ]
     },
     "execution_count": 17,
     "metadata": {},
     "output_type": "execute_result"
    }
   ],
   "source": [
    "# How many unique regions are there? What are they?\n",
    "df['location'].nunique()\n"
   ]
  },
  {
   "cell_type": "code",
   "execution_count": null,
   "metadata": {
    "collapsed": false
   },
   "outputs": [],
   "source": []
  },
  {
   "cell_type": "code",
   "execution_count": null,
   "metadata": {
    "collapsed": false
   },
   "outputs": [],
   "source": [
    "# Select just those columns that relate to the personal characteristics of the person\n",
    "# Save that as a DataFrame name char\n",
    "\n"
   ]
  },
  {
   "cell_type": "code",
   "execution_count": 55,
   "metadata": {
    "collapsed": false,
    "scrolled": true
   },
   "outputs": [],
   "source": [
    "\n",
    "char = pd.read_csv('https://raw.githubusercontent.com/fivethirtyeight/data/master/flying-etiquette-survey/flying-etiquette.csv', \\\n",
    "                   usecols = [3,4]+range(23,27))\n"
   ]
  },
  {
   "cell_type": "code",
   "execution_count": 59,
   "metadata": {
    "collapsed": false,
    "scrolled": true
   },
   "outputs": [
    {
     "ename": "KeyError",
     "evalue": "1",
     "output_type": "error",
     "traceback": [
      "\u001b[0;31m---------------------------------------------------------------------------\u001b[0m",
      "\u001b[0;31mKeyError\u001b[0m                                  Traceback (most recent call last)",
      "\u001b[0;32m<ipython-input-59-08f87fb179f3>\u001b[0m in \u001b[0;36m<module>\u001b[0;34m()\u001b[0m\n\u001b[1;32m      1\u001b[0m \u001b[0;31m# From the new char DataFrame, select the height. Can you create a histogram?\u001b[0m\u001b[0;34m\u001b[0m\u001b[0;34m\u001b[0m\u001b[0m\n\u001b[1;32m      2\u001b[0m \u001b[0;34m\u001b[0m\u001b[0m\n\u001b[0;32m----> 3\u001b[0;31m \u001b[0mchar\u001b[0m\u001b[0;34m[\u001b[0m\u001b[0;36m1\u001b[0m\u001b[0;34m]\u001b[0m\u001b[0;34m.\u001b[0m\u001b[0mhist\u001b[0m\u001b[0;34m(\u001b[0m\u001b[0;34m)\u001b[0m\u001b[0;34m\u001b[0m\u001b[0m\n\u001b[0m",
      "\u001b[0;32m/Users/timothyernst/anaconda/envs/Python2/lib/python2.7/site-packages/pandas/core/frame.pyc\u001b[0m in \u001b[0;36m__getitem__\u001b[0;34m(self, key)\u001b[0m\n\u001b[1;32m   1995\u001b[0m             \u001b[0;32mreturn\u001b[0m \u001b[0mself\u001b[0m\u001b[0;34m.\u001b[0m\u001b[0m_getitem_multilevel\u001b[0m\u001b[0;34m(\u001b[0m\u001b[0mkey\u001b[0m\u001b[0;34m)\u001b[0m\u001b[0;34m\u001b[0m\u001b[0m\n\u001b[1;32m   1996\u001b[0m         \u001b[0;32melse\u001b[0m\u001b[0;34m:\u001b[0m\u001b[0;34m\u001b[0m\u001b[0m\n\u001b[0;32m-> 1997\u001b[0;31m             \u001b[0;32mreturn\u001b[0m \u001b[0mself\u001b[0m\u001b[0;34m.\u001b[0m\u001b[0m_getitem_column\u001b[0m\u001b[0;34m(\u001b[0m\u001b[0mkey\u001b[0m\u001b[0;34m)\u001b[0m\u001b[0;34m\u001b[0m\u001b[0m\n\u001b[0m\u001b[1;32m   1998\u001b[0m \u001b[0;34m\u001b[0m\u001b[0m\n\u001b[1;32m   1999\u001b[0m     \u001b[0;32mdef\u001b[0m \u001b[0m_getitem_column\u001b[0m\u001b[0;34m(\u001b[0m\u001b[0mself\u001b[0m\u001b[0;34m,\u001b[0m \u001b[0mkey\u001b[0m\u001b[0;34m)\u001b[0m\u001b[0;34m:\u001b[0m\u001b[0;34m\u001b[0m\u001b[0m\n",
      "\u001b[0;32m/Users/timothyernst/anaconda/envs/Python2/lib/python2.7/site-packages/pandas/core/frame.pyc\u001b[0m in \u001b[0;36m_getitem_column\u001b[0;34m(self, key)\u001b[0m\n\u001b[1;32m   2002\u001b[0m         \u001b[0;31m# get column\u001b[0m\u001b[0;34m\u001b[0m\u001b[0;34m\u001b[0m\u001b[0m\n\u001b[1;32m   2003\u001b[0m         \u001b[0;32mif\u001b[0m \u001b[0mself\u001b[0m\u001b[0;34m.\u001b[0m\u001b[0mcolumns\u001b[0m\u001b[0;34m.\u001b[0m\u001b[0mis_unique\u001b[0m\u001b[0;34m:\u001b[0m\u001b[0;34m\u001b[0m\u001b[0m\n\u001b[0;32m-> 2004\u001b[0;31m             \u001b[0;32mreturn\u001b[0m \u001b[0mself\u001b[0m\u001b[0;34m.\u001b[0m\u001b[0m_get_item_cache\u001b[0m\u001b[0;34m(\u001b[0m\u001b[0mkey\u001b[0m\u001b[0;34m)\u001b[0m\u001b[0;34m\u001b[0m\u001b[0m\n\u001b[0m\u001b[1;32m   2005\u001b[0m \u001b[0;34m\u001b[0m\u001b[0m\n\u001b[1;32m   2006\u001b[0m         \u001b[0;31m# duplicate columns & possible reduce dimensionality\u001b[0m\u001b[0;34m\u001b[0m\u001b[0;34m\u001b[0m\u001b[0m\n",
      "\u001b[0;32m/Users/timothyernst/anaconda/envs/Python2/lib/python2.7/site-packages/pandas/core/generic.pyc\u001b[0m in \u001b[0;36m_get_item_cache\u001b[0;34m(self, item)\u001b[0m\n\u001b[1;32m   1348\u001b[0m         \u001b[0mres\u001b[0m \u001b[0;34m=\u001b[0m \u001b[0mcache\u001b[0m\u001b[0;34m.\u001b[0m\u001b[0mget\u001b[0m\u001b[0;34m(\u001b[0m\u001b[0mitem\u001b[0m\u001b[0;34m)\u001b[0m\u001b[0;34m\u001b[0m\u001b[0m\n\u001b[1;32m   1349\u001b[0m         \u001b[0;32mif\u001b[0m \u001b[0mres\u001b[0m \u001b[0;32mis\u001b[0m \u001b[0mNone\u001b[0m\u001b[0;34m:\u001b[0m\u001b[0;34m\u001b[0m\u001b[0m\n\u001b[0;32m-> 1350\u001b[0;31m             \u001b[0mvalues\u001b[0m \u001b[0;34m=\u001b[0m \u001b[0mself\u001b[0m\u001b[0;34m.\u001b[0m\u001b[0m_data\u001b[0m\u001b[0;34m.\u001b[0m\u001b[0mget\u001b[0m\u001b[0;34m(\u001b[0m\u001b[0mitem\u001b[0m\u001b[0;34m)\u001b[0m\u001b[0;34m\u001b[0m\u001b[0m\n\u001b[0m\u001b[1;32m   1351\u001b[0m             \u001b[0mres\u001b[0m \u001b[0;34m=\u001b[0m \u001b[0mself\u001b[0m\u001b[0;34m.\u001b[0m\u001b[0m_box_item_values\u001b[0m\u001b[0;34m(\u001b[0m\u001b[0mitem\u001b[0m\u001b[0;34m,\u001b[0m \u001b[0mvalues\u001b[0m\u001b[0;34m)\u001b[0m\u001b[0;34m\u001b[0m\u001b[0m\n\u001b[1;32m   1352\u001b[0m             \u001b[0mcache\u001b[0m\u001b[0;34m[\u001b[0m\u001b[0mitem\u001b[0m\u001b[0;34m]\u001b[0m \u001b[0;34m=\u001b[0m \u001b[0mres\u001b[0m\u001b[0;34m\u001b[0m\u001b[0m\n",
      "\u001b[0;32m/Users/timothyernst/anaconda/envs/Python2/lib/python2.7/site-packages/pandas/core/internals.pyc\u001b[0m in \u001b[0;36mget\u001b[0;34m(self, item, fastpath)\u001b[0m\n\u001b[1;32m   3288\u001b[0m \u001b[0;34m\u001b[0m\u001b[0m\n\u001b[1;32m   3289\u001b[0m             \u001b[0;32mif\u001b[0m \u001b[0;32mnot\u001b[0m \u001b[0misnull\u001b[0m\u001b[0;34m(\u001b[0m\u001b[0mitem\u001b[0m\u001b[0;34m)\u001b[0m\u001b[0;34m:\u001b[0m\u001b[0;34m\u001b[0m\u001b[0m\n\u001b[0;32m-> 3290\u001b[0;31m                 \u001b[0mloc\u001b[0m \u001b[0;34m=\u001b[0m \u001b[0mself\u001b[0m\u001b[0;34m.\u001b[0m\u001b[0mitems\u001b[0m\u001b[0;34m.\u001b[0m\u001b[0mget_loc\u001b[0m\u001b[0;34m(\u001b[0m\u001b[0mitem\u001b[0m\u001b[0;34m)\u001b[0m\u001b[0;34m\u001b[0m\u001b[0m\n\u001b[0m\u001b[1;32m   3291\u001b[0m             \u001b[0;32melse\u001b[0m\u001b[0;34m:\u001b[0m\u001b[0;34m\u001b[0m\u001b[0m\n\u001b[1;32m   3292\u001b[0m                 \u001b[0mindexer\u001b[0m \u001b[0;34m=\u001b[0m \u001b[0mnp\u001b[0m\u001b[0;34m.\u001b[0m\u001b[0marange\u001b[0m\u001b[0;34m(\u001b[0m\u001b[0mlen\u001b[0m\u001b[0;34m(\u001b[0m\u001b[0mself\u001b[0m\u001b[0;34m.\u001b[0m\u001b[0mitems\u001b[0m\u001b[0;34m)\u001b[0m\u001b[0;34m)\u001b[0m\u001b[0;34m[\u001b[0m\u001b[0misnull\u001b[0m\u001b[0;34m(\u001b[0m\u001b[0mself\u001b[0m\u001b[0;34m.\u001b[0m\u001b[0mitems\u001b[0m\u001b[0;34m)\u001b[0m\u001b[0;34m]\u001b[0m\u001b[0;34m\u001b[0m\u001b[0m\n",
      "\u001b[0;32m/Users/timothyernst/anaconda/envs/Python2/lib/python2.7/site-packages/pandas/indexes/base.pyc\u001b[0m in \u001b[0;36mget_loc\u001b[0;34m(self, key, method, tolerance)\u001b[0m\n\u001b[1;32m   1945\u001b[0m                 \u001b[0;32mreturn\u001b[0m \u001b[0mself\u001b[0m\u001b[0;34m.\u001b[0m\u001b[0m_engine\u001b[0m\u001b[0;34m.\u001b[0m\u001b[0mget_loc\u001b[0m\u001b[0;34m(\u001b[0m\u001b[0mkey\u001b[0m\u001b[0;34m)\u001b[0m\u001b[0;34m\u001b[0m\u001b[0m\n\u001b[1;32m   1946\u001b[0m             \u001b[0;32mexcept\u001b[0m \u001b[0mKeyError\u001b[0m\u001b[0;34m:\u001b[0m\u001b[0;34m\u001b[0m\u001b[0m\n\u001b[0;32m-> 1947\u001b[0;31m                 \u001b[0;32mreturn\u001b[0m \u001b[0mself\u001b[0m\u001b[0;34m.\u001b[0m\u001b[0m_engine\u001b[0m\u001b[0;34m.\u001b[0m\u001b[0mget_loc\u001b[0m\u001b[0;34m(\u001b[0m\u001b[0mself\u001b[0m\u001b[0;34m.\u001b[0m\u001b[0m_maybe_cast_indexer\u001b[0m\u001b[0;34m(\u001b[0m\u001b[0mkey\u001b[0m\u001b[0;34m)\u001b[0m\u001b[0;34m)\u001b[0m\u001b[0;34m\u001b[0m\u001b[0m\n\u001b[0m\u001b[1;32m   1948\u001b[0m \u001b[0;34m\u001b[0m\u001b[0m\n\u001b[1;32m   1949\u001b[0m         \u001b[0mindexer\u001b[0m \u001b[0;34m=\u001b[0m \u001b[0mself\u001b[0m\u001b[0;34m.\u001b[0m\u001b[0mget_indexer\u001b[0m\u001b[0;34m(\u001b[0m\u001b[0;34m[\u001b[0m\u001b[0mkey\u001b[0m\u001b[0;34m]\u001b[0m\u001b[0;34m,\u001b[0m \u001b[0mmethod\u001b[0m\u001b[0;34m=\u001b[0m\u001b[0mmethod\u001b[0m\u001b[0;34m,\u001b[0m \u001b[0mtolerance\u001b[0m\u001b[0;34m=\u001b[0m\u001b[0mtolerance\u001b[0m\u001b[0;34m)\u001b[0m\u001b[0;34m\u001b[0m\u001b[0m\n",
      "\u001b[0;32mpandas/index.pyx\u001b[0m in \u001b[0;36mpandas.index.IndexEngine.get_loc (pandas/index.c:4154)\u001b[0;34m()\u001b[0m\n",
      "\u001b[0;32mpandas/index.pyx\u001b[0m in \u001b[0;36mpandas.index.IndexEngine.get_loc (pandas/index.c:4018)\u001b[0;34m()\u001b[0m\n",
      "\u001b[0;32mpandas/hashtable.pyx\u001b[0m in \u001b[0;36mpandas.hashtable.PyObjectHashTable.get_item (pandas/hashtable.c:12368)\u001b[0;34m()\u001b[0m\n",
      "\u001b[0;32mpandas/hashtable.pyx\u001b[0m in \u001b[0;36mpandas.hashtable.PyObjectHashTable.get_item (pandas/hashtable.c:12322)\u001b[0;34m()\u001b[0m\n",
      "\u001b[0;31mKeyError\u001b[0m: 1"
     ]
    }
   ],
   "source": [
    "# From the new char DataFrame, select the height. Can you create a histogram?\n",
    "\n",
    "char[1].hist()"
   ]
  },
  {
   "cell_type": "code",
   "execution_count": null,
   "metadata": {
    "collapsed": false,
    "scrolled": true
   },
   "outputs": [],
   "source": [
    "# Create a histogram by creating a list comprehension + a function to turn the data into inches\n"
   ]
  },
  {
   "cell_type": "code",
   "execution_count": null,
   "metadata": {
    "collapsed": false
   },
   "outputs": [],
   "source": []
  },
  {
   "cell_type": "code",
   "execution_count": null,
   "metadata": {
    "collapsed": false,
    "scrolled": true
   },
   "outputs": [],
   "source": [
    "# Slice the first 3 columns using .iloc notation, then use the double bracket notation\n",
    "\n"
   ]
  },
  {
   "cell_type": "code",
   "execution_count": null,
   "metadata": {
    "collapsed": false,
    "scrolled": true
   },
   "outputs": [],
   "source": []
  },
  {
   "cell_type": "code",
   "execution_count": null,
   "metadata": {
    "collapsed": false
   },
   "outputs": [],
   "source": [
    "## Create a dictionary using .unique and a dictionary comprehension\n",
    "## Then use a list comprehension with a function to update the count the number of degrees\n",
    "## How many degreee of each type are there?\n",
    "\n"
   ]
  },
  {
   "cell_type": "code",
   "execution_count": null,
   "metadata": {
    "collapsed": false
   },
   "outputs": [],
   "source": []
  },
  {
   "cell_type": "code",
   "execution_count": null,
   "metadata": {
    "collapsed": false
   },
   "outputs": [],
   "source": []
  },
  {
   "cell_type": "code",
   "execution_count": null,
   "metadata": {
    "collapsed": false
   },
   "outputs": [],
   "source": [
    "# Now use the education column with the .value_counts() method to check your work. Are they the same?\n",
    "\n"
   ]
  },
  {
   "cell_type": "code",
   "execution_count": null,
   "metadata": {
    "collapsed": true
   },
   "outputs": [],
   "source": []
  }
 ],
 "metadata": {
  "anaconda-cloud": {},
  "kernelspec": {
   "display_name": "Python [default]",
   "language": "python",
   "name": "python2"
  },
  "language_info": {
   "codemirror_mode": {
    "name": "ipython",
    "version": 2
   },
   "file_extension": ".py",
   "mimetype": "text/x-python",
   "name": "python",
   "nbconvert_exporter": "python",
   "pygments_lexer": "ipython2",
   "version": "2.7.12"
  }
 },
 "nbformat": 4,
 "nbformat_minor": 0
}
