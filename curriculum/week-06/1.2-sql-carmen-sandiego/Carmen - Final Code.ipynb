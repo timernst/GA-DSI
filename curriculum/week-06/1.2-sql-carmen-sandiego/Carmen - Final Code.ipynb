{
 "cells": [
  {
   "cell_type": "markdown",
   "metadata": {},
   "source": [
    "![](https://ga-dash.s3.amazonaws.com/production/assets/logo-9f88ae6c9c3871690e33280fcf557f33.png)\n",
    "\n",
    "# Where In The World Is Carmen Sandiego?\n",
    "\n",
    "![](http://i.giphy.com/13n8txR8c9UDHG.gif)\n",
    "\n",
    "## Introduction\n",
    "\n",
    "#### Use SQL to find Carmen Sandiego\n",
    "\n",
    "We're going to use what we've learned already about searching with SQL commands, and apply it to chase down and capture an elusive and world-reknowned thief, Carmen Sandiego. Follow the clues, use the interweb - write down both the SQL commands /queries you used and your answers to the clues - and figure out where Carmen is headed, so we can catch her and bring her in.\n",
    "\n",
    "## Exercise\n",
    "\n",
    "#### Requirements\n",
    "\n",
    "- From the command line, let's create a new database called ```carmen``` and populate it with the SQL found in ```world.sql```. (Make sure you have a postgresql server up locally, by running PostgresApp.)\n",
    "\n",
    "```\n",
    "# Enter psql\n",
    "psql\n",
    "\n",
    "# Create database\n",
    "CREATE DATABASE carmen;\n",
    "\n",
    "# Connect to carmen\n",
    "\\c carmen\n",
    "\\i world.SQL\n",
    "```\n",
    "\n",
    "**Pro Tip:** You can do this in one step with the command:\n",
    "\n",
    "```bash\n",
    "psql -d carmen -f /your/path/to/this/file/starter-code/world.sql\n",
    "```\n",
    "\n",
    "Then, use the clues below to create the appropriate SQL queries to help you find Carmen and then, tell us where she's heading!!\n",
    "\n",
    "- Use the clues.sql file as your \"answer sheet\". (The first is filled in as an example.)\n",
    "\n",
    "### The Clues\n",
    "\n",
    "  - **Clue #1:** We recently got word that someone fitting Carmen Sandiego's description has been traveling through Southern Europe. She's most likely traveling someplace where she won't be noticed, so find the least populated country in Southern Europe, and we'll start looking for her there.\n",
    "\n",
    "  - **Clue #2:** Now that we're here, we have insight that Carmen was seen attending language classes in this country's officially recognized language. Check our databases and find out what language is spoken in this country, so we can call in a translator to work with you.\n",
    "\n",
    "  - **Clue #3:** We have new news on the classes Carmen attended: our gumshoes tell us she's moved on to a different country, a country where people speak *only* the language she was learning. Find out which nearby country speaks nothing but that language.\n",
    "\n",
    "  - **Clue #4:** We're booking the first flight out: maybe we've actually got a chance to catch her this time. There are only two cities she could be flying to in the country. One is named the *same* as the country – that would be too obvious. We're following our gut on this one; find out what other city in that country she might be flying to.\n",
    "\n",
    "  - **Clue #5:** Oh no, she pulled a switch: there are two cities with very similar names, but in totally different parts of the globe! She's headed to South America as we speak; go find a city whose name is *like* the one we were headed to, but doesn't end the same. Find out the city, and do another search for what country it's in. Hurry!\n",
    "\n",
    "  - **Clue #6:** We're close! Our South American agent says she just got a taxi at the airport, and is headed towards the capital! Look up the country's capital, and get there pronto! Send us the name of where you're headed and we'll follow right behind you!\n",
    "\n",
    "  - **Clue #7:** She knows we're on to her: her taxi dropped her off at the international airport, and she beat us to the boarding gates. We have one chance to catch her, we just have to know where she's heading and beat her to the landing dock.\n",
    "\n",
    "  - **Clue #8** Lucky for us, she's getting cocky. She left us a note, and I'm sure she thinks she's very clever, but if we can crack it, we can finally put her where she belongs – behind bars.\n",
    "\n",
    "```\n",
    "  Our playdate of late has been unusually fun –\n",
    "  As an agent, I'll say, you've been a joy to outrun.\n",
    "  And while the food here is great, and the people – so nice!\n",
    "  I need a little more sunshine with my slice of life.\n",
    "  So I'm off to add one to the population I find\n",
    "  In a city of ninety-one thousand and now, eighty five.\n",
    "```\n",
    "\n",
    "\n",
    "#### Starter code\n",
    "\n",
    "Again, be sure to grab the .sql file from the [starter-code](starter-code/world.sql) and run it in your PostgreSQL terminal using the commands above.\n",
    "\n",
    "#### Deliverable\n",
    "\n",
    "Use the clues.sql file to write in the SQL queries that correspond with each clue and tell us where she's heading at the bottom:\n",
    "\n",
    "<p align=\"center\">\n",
    "  <img src =\"http://s3.postimg.org/8386vdt43/Screen_Shot_2015_07_08_at_8_11_25_PM.png\">\n",
    "</p>\n",
    "\n",
    "\n",
    "## Additional Resources\n",
    "\n",
    "- [PostgreSQL tutorial](http://www.tutorialspoint.com/postgresql/)\n",
    "- [PostgreSQL official documentation](http://www.postgresql.org/docs/)\n",
    "\n",
    "### Self Evaluation\n",
    "\n",
    "How did you perform in this exercise? For your own benefit, please rate your progress on a scale of 1-5 (5 being the highest) for the following criteria:\n",
    "\n",
    "- **Persistence:** Do you handle frustration well? Do you independently pursue understanding?\n",
    "- **Organization:** Do you thoughtfully implement best coding patterns and practices?\n",
    "- **Collaboration:** Do you make an effort solve problems and share your ideas with others?\n",
    "- **Communication:** Do you clearly convey your thoughts to others in illustrative and clear ways?"
   ]
  },
  {
   "cell_type": "markdown",
   "metadata": {},
   "source": [
    "#### Number 1\n",
    "\n",
    "carmen=# SELECT name, population FROM country WHERE region = 'Southern Europe' ORDER BY population ASC;ERE region = 'Southern Europe' ORDER BY population ASC;\n",
    "           name              | population\n",
    "-------------------------------+------------\n",
    " Holy See (Vatican City State) |       1000\n",
    " Gibraltar                     |      25000\n",
    " San Marino                    |      27000\n",
    " Andorra                       |      78000\n",
    " Malta                         |     380200\n",
    " Slovenia                      |    1987800\n",
    " Macedonia                     |    2024000\n",
    " Albania                       |    3401200\n",
    " Bosnia and Herzegovina        |    3972000\n",
    " Croatia                       |    4473000\n",
    " Portugal                      |    9997600\n",
    " Greece                        |   10545700\n",
    " Yugoslavia                    |   10640000\n",
    " Spain                         |   39441700\n",
    " Italy                         |   57680000"
   ]
  },
  {
   "cell_type": "markdown",
   "metadata": {},
   "source": [
    "#### Number 2\n",
    "\n",
    "carmen=# SELECT c.\"name\", cl.\"language\" FROM country AS c JOIN countrylanguage AS cl ON c.\"code\"=cl.\"countrycode\" WHERE \"name\"='Holy See (Vatican City State)';\n",
    "\n",
    "\n",
    "             name              | language\n",
    "-------------------------------+----------\n",
    " Holy See (Vatican City State) | Italian"
   ]
  },
  {
   "cell_type": "markdown",
   "metadata": {},
   "source": [
    "#### Number 3\n",
    "\n",
    "carmen=# SELECT c.\"name\", cl.\"language\" FROM country AS c JOIN countrylanguage AS cl ON c.\"code\"=cl.\"countrycode\" WHERE \"language\"='Italian' AND \"percentage\"=100;\n",
    "    name    | language\n",
    "------------+----------\n",
    " San Marino | Italian"
   ]
  },
  {
   "cell_type": "markdown",
   "metadata": {},
   "source": [
    "#### Number 4\n",
    "\n",
    "carmen=# SELECT cn.\"name\", ct.\"name\" FROM country AS cn JOIN city AS ct ON cn.\"code\" = ct.\"countrycode\" WHERE cn.\"name\"='San Marino';\n",
    "    name    |    name\n",
    "------------+------------\n",
    " San Marino | Serravalle\n",
    " San Marino | San Marino"
   ]
  },
  {
   "cell_type": "markdown",
   "metadata": {},
   "source": [
    "#### Number 5\n",
    "\n",
    "carmen=# SELECT c.\"name\", cn.\"name\" FROM city c JOIN country cn on cn.\"code\"=c.\"countrycode\" WHERE c.\"name\" LIKE 'Ser%' AND cn.\"region\"='South America';\n",
    "     name      |  name\n",
    "---------------+--------\n",
    " Serra         | Brazil\n",
    " Sert�ozinho | Brazil"
   ]
  },
  {
   "cell_type": "markdown",
   "metadata": {
    "collapsed": true
   },
   "source": [
    "#### Number 6\n",
    "\n",
    "carmen=# SELECT ct.name FROM city ct JOIN country cn ON ct.countrycode=cn.code WHERE cn.name='Brazil' AND ct.id=cn.capital;\n",
    "    name\n",
    "------------\n",
    " Brasï¿½lia"
   ]
  },
  {
   "cell_type": "markdown",
   "metadata": {},
   "source": [
    "#### Number 7\n",
    "\n",
    "Nothing required for #7"
   ]
  },
  {
   "cell_type": "markdown",
   "metadata": {},
   "source": [
    "#### Number 8\n",
    "\n",
    "carmen=# SELECT name, population FROM city WHERE population=91084;\n",
    "     name     | population\n",
    "--------------+------------\n",
    " Santa Monica |      91084"
   ]
  }
 ],
 "metadata": {
  "anaconda-cloud": {},
  "kernelspec": {
   "display_name": "Python [Python2]",
   "language": "python",
   "name": "Python [Python2]"
  },
  "language_info": {
   "codemirror_mode": {
    "name": "ipython",
    "version": 2
   },
   "file_extension": ".py",
   "mimetype": "text/x-python",
   "name": "python",
   "nbconvert_exporter": "python",
   "pygments_lexer": "ipython2",
   "version": "2.7.12"
  }
 },
 "nbformat": 4,
 "nbformat_minor": 0
}
