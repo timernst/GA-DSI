{
 "cells": [
  {
   "cell_type": "markdown",
   "metadata": {},
   "source": [
    "# Random Forest and Boosting Lab\n",
    "\n",
    "In this lab we will practice using Random Forest Regressor and Boosted Trees Regressor on the Project 6 Data.\n",
    "\n",
    "> Instructor Notes:\n",
    "- This walks the students through a sample dataset, they should actually do it on the full dataset they have created as part of Project 6.\n",
    "- The code for this lab is shorter than usual in order to give the students time to practice with Tableau."
   ]
  },
  {
   "cell_type": "markdown",
   "metadata": {},
   "source": [
    "## 1. Load and inspect the data\n",
    "\n",
    "As part of your work of project 6 you should have retrieved the top 250 movies from IMDB. Conduct this lab on the data you have retrieved.\n",
    "\n",
    "In the [asset folder](../../assets/datasets/imdb_p6_sample.csv) you can find a subset of the movies, in case you have not completed yet Project 6.\n",
    "\n",
    "1. Load the dataset and inspect it\n",
    "- Assign the rating to a y vector and the binary columns to an X feature matrix\n",
    "- What would you do with the year variable?\n",
    "> Answer: normalize it and use it as feature"
   ]
  },
  {
   "cell_type": "code",
   "execution_count": 1,
   "metadata": {
    "collapsed": false
   },
   "outputs": [],
   "source": [
    "import pandas as pd\n",
    "import numpy as np\n",
    "import matplotlib.pyplot as plt\n",
    "%matplotlib inline"
   ]
  },
  {
   "cell_type": "code",
   "execution_count": 2,
   "metadata": {
    "collapsed": false
   },
   "outputs": [
    {
     "data": {
      "text/html": [
       "<div>\n",
       "<table border=\"1\" class=\"dataframe\">\n",
       "  <thead>\n",
       "    <tr style=\"text-align: right;\">\n",
       "      <th></th>\n",
       "      <th>HA</th>\n",
       "      <th>rating</th>\n",
       "      <th>tconst</th>\n",
       "      <th>title</th>\n",
       "      <th>year</th>\n",
       "      <th>excellent</th>\n",
       "      <th>great</th>\n",
       "      <th>love</th>\n",
       "      <th>beautiful</th>\n",
       "      <th>best</th>\n",
       "      <th>hope</th>\n",
       "      <th>groundbreaking</th>\n",
       "      <th>amazing</th>\n",
       "    </tr>\n",
       "  </thead>\n",
       "  <tbody>\n",
       "    <tr>\n",
       "      <th>0</th>\n",
       "      <td>1633889</td>\n",
       "      <td>9.3</td>\n",
       "      <td>tt0111161</td>\n",
       "      <td>The Shawshank Redemption</td>\n",
       "      <td>1994</td>\n",
       "      <td>0</td>\n",
       "      <td>1</td>\n",
       "      <td>0</td>\n",
       "      <td>1</td>\n",
       "      <td>0</td>\n",
       "      <td>0</td>\n",
       "      <td>0</td>\n",
       "      <td>1</td>\n",
       "    </tr>\n",
       "    <tr>\n",
       "      <th>1</th>\n",
       "      <td>1118799</td>\n",
       "      <td>9.2</td>\n",
       "      <td>tt0068646</td>\n",
       "      <td>The Godfather</td>\n",
       "      <td>1972</td>\n",
       "      <td>1</td>\n",
       "      <td>1</td>\n",
       "      <td>0</td>\n",
       "      <td>0</td>\n",
       "      <td>1</td>\n",
       "      <td>0</td>\n",
       "      <td>1</td>\n",
       "      <td>0</td>\n",
       "    </tr>\n",
       "    <tr>\n",
       "      <th>2</th>\n",
       "      <td>762879</td>\n",
       "      <td>9.0</td>\n",
       "      <td>tt0071562</td>\n",
       "      <td>The Godfather: Part II</td>\n",
       "      <td>1974</td>\n",
       "      <td>1</td>\n",
       "      <td>1</td>\n",
       "      <td>0</td>\n",
       "      <td>0</td>\n",
       "      <td>1</td>\n",
       "      <td>0</td>\n",
       "      <td>0</td>\n",
       "      <td>1</td>\n",
       "    </tr>\n",
       "    <tr>\n",
       "      <th>3</th>\n",
       "      <td>1616346</td>\n",
       "      <td>9.0</td>\n",
       "      <td>tt0468569</td>\n",
       "      <td>The Dark Knight</td>\n",
       "      <td>2008</td>\n",
       "      <td>1</td>\n",
       "      <td>1</td>\n",
       "      <td>1</td>\n",
       "      <td>0</td>\n",
       "      <td>1</td>\n",
       "      <td>0</td>\n",
       "      <td>1</td>\n",
       "      <td>1</td>\n",
       "    </tr>\n",
       "    <tr>\n",
       "      <th>4</th>\n",
       "      <td>835155</td>\n",
       "      <td>8.9</td>\n",
       "      <td>tt0108052</td>\n",
       "      <td>Schindler's List</td>\n",
       "      <td>1993</td>\n",
       "      <td>1</td>\n",
       "      <td>1</td>\n",
       "      <td>1</td>\n",
       "      <td>1</td>\n",
       "      <td>1</td>\n",
       "      <td>1</td>\n",
       "      <td>1</td>\n",
       "      <td>1</td>\n",
       "    </tr>\n",
       "  </tbody>\n",
       "</table>\n",
       "</div>"
      ],
      "text/plain": [
       "        HA  rating     tconst                     title  year  excellent  \\\n",
       "0  1633889     9.3  tt0111161  The Shawshank Redemption  1994          0   \n",
       "1  1118799     9.2  tt0068646             The Godfather  1972          1   \n",
       "2   762879     9.0  tt0071562    The Godfather: Part II  1974          1   \n",
       "3  1616346     9.0  tt0468569           The Dark Knight  2008          1   \n",
       "4   835155     8.9  tt0108052          Schindler's List  1993          1   \n",
       "\n",
       "   great  love  beautiful  best  hope  groundbreaking  amazing  \n",
       "0      1     0          1     0     0               0        1  \n",
       "1      1     0          0     1     0               1        0  \n",
       "2      1     0          0     1     0               0        1  \n",
       "3      1     1          0     1     0               1        1  \n",
       "4      1     1          1     1     1               1        1  "
      ]
     },
     "execution_count": 2,
     "metadata": {},
     "output_type": "execute_result"
    }
   ],
   "source": [
    "df = pd.read_csv('../../assets/datasets/imdb_p6_sample.csv')\n",
    "df.head()"
   ]
  },
  {
   "cell_type": "code",
   "execution_count": 3,
   "metadata": {
    "collapsed": false
   },
   "outputs": [],
   "source": [
    "from sklearn.preprocessing import MinMaxScaler\n",
    "\n",
    "X = df.loc[:, 'year':].copy()\n",
    "X['year'] = MinMaxScaler().fit_transform(X['year'].astype(float).reshape(-1, 1))\n",
    "y = df['rating']"
   ]
  },
  {
   "cell_type": "markdown",
   "metadata": {},
   "source": [
    "## 2. Decision Tree Regressor\n",
    "\n",
    "\n",
    "1. Train a decision tree regressor on the data and estimate the rating\n",
    "- Evaluate the score with a 3-fold shuffled cross validation\n",
    "- Do a scatter plot of the predicted vs actual scores for each of the 3 folds, do they match?\n",
    "    - they should align to a diagonal line....\n",
    "- Add some text to the plot indicating the average $R^2$ coefficient"
   ]
  },
  {
   "cell_type": "code",
   "execution_count": 4,
   "metadata": {
    "collapsed": false
   },
   "outputs": [],
   "source": [
    "from sklearn.tree import DecisionTreeRegressor\n",
    "from sklearn.cross_validation import KFold, cross_val_score\n",
    "\n",
    "\n",
    "cv = KFold(len(y), shuffle=True)\n",
    "\n",
    "dt = DecisionTreeRegressor()\n",
    "\n",
    "scores = cross_val_score(dt, X, y, cv=cv)"
   ]
  },
  {
   "cell_type": "code",
   "execution_count": 5,
   "metadata": {
    "collapsed": false
   },
   "outputs": [
    {
     "data": {
      "image/png": "[encoded data removed]",
      "text/plain": [
       "<matplotlib.figure.Figure at 0x10d384a10>"
      ]
     },
     "metadata": {},
     "output_type": "display_data"
    }
   ],
   "source": [
    "def do_plot(model, m=None):\n",
    "    for fold, color in zip(cv, ['r', 'g', 'b']):\n",
    "        X_train = X.iloc[fold[0]]\n",
    "        X_test  = X.iloc[fold[1]]\n",
    "        y_train = y.iloc[fold[0]]\n",
    "        y_test  = y.iloc[fold[1]]\n",
    "        model.fit(X_train, y_train)\n",
    "        y_pred = model.predict(X_test)\n",
    "\n",
    "        plt.scatter(y_test, y_pred, color=color)\n",
    "        plt.plot([8.5,9.5],[8.5,9.5])\n",
    "        plt.text(9,9.5, \"R2: \"+str(m), fontsize=20, )\n",
    "        \n",
    "do_plot(dt, scores.mean().round(2))"
   ]
  },
  {
   "cell_type": "markdown",
   "metadata": {},
   "source": [
    "## 3. Random Forest Regressor\n",
    "\n",
    "\n",
    "1. Train a random forest regressor on the data and estimate the rating\n",
    "- Evaluate the score with a 3-fold shuffled cross validation\n",
    "- Do a scatter plot of the predicted vs actual scores for each of the 3 folds, do they match?\n",
    "- How does this plot compare with the previous one?\n",
    "> Answer: points are tighter now, indicating a better fit"
   ]
  },
  {
   "cell_type": "code",
   "execution_count": 6,
   "metadata": {
    "collapsed": false
   },
   "outputs": [
    {
     "data": {
      "text/plain": [
       "array([-3.27743243, -0.28843558, -0.29074627])"
      ]
     },
     "execution_count": 6,
     "metadata": {},
     "output_type": "execute_result"
    }
   ],
   "source": [
    "from sklearn.ensemble import RandomForestRegressor\n",
    "\n",
    "\n",
    "rf = RandomForestRegressor()\n",
    "\n",
    "scores = cross_val_score(rf, X, y, cv=cv)\n",
    "scores"
   ]
  },
  {
   "cell_type": "code",
   "execution_count": 7,
   "metadata": {
    "collapsed": false
   },
   "outputs": [
    {
     "data": {
      "image/png": "[encoded data removed]",
      "text/plain": [
       "<matplotlib.figure.Figure at 0x10ff3a850>"
      ]
     },
     "metadata": {},
     "output_type": "display_data"
    }
   ],
   "source": [
    "do_plot(rf, scores.mean().round(2))"
   ]
  },
  {
   "cell_type": "markdown",
   "metadata": {},
   "source": [
    "## 4. AdaBoost Regressor\n",
    "\n",
    "\n",
    "1. Train a AdaBoost regressor on the data and estimate the rating\n",
    "- Evaluate the score with a 3-fold shuffled cross validation\n",
    "- Do a scatter plot of the predicted vs actual scores for each of the 3 folds, do they match?\n",
    "- Compare with previous score"
   ]
  },
  {
   "cell_type": "code",
   "execution_count": 8,
   "metadata": {
    "collapsed": false
   },
   "outputs": [
    {
     "data": {
      "text/plain": [
       "array([-4.64864865, -0.20571319, -0.36401327])"
      ]
     },
     "execution_count": 8,
     "metadata": {},
     "output_type": "execute_result"
    }
   ],
   "source": [
    "from sklearn.ensemble import AdaBoostRegressor\n",
    "\n",
    "\n",
    "ab = AdaBoostRegressor()\n",
    "\n",
    "scores = cross_val_score(ab, X, y, cv=cv)\n",
    "scores"
   ]
  },
  {
   "cell_type": "code",
   "execution_count": 9,
   "metadata": {
    "collapsed": false
   },
   "outputs": [
    {
     "data": {
      "image/png": "[encoded data removed]",
      "text/plain": [
       "<matplotlib.figure.Figure at 0x10ffe3850>"
      ]
     },
     "metadata": {},
     "output_type": "display_data"
    }
   ],
   "source": [
    "do_plot(ab, scores.mean().round(2))"
   ]
  },
  {
   "cell_type": "markdown",
   "metadata": {},
   "source": [
    "## 4. Gradient Boosting Trees Regressor\n",
    "\n",
    "\n",
    "1. Train a Gradient Boosting Trees regressor on the data and estimate the rating\n",
    "- Evaluate the score with a 3-fold shuffled cross validation\n",
    "- Do a scatter plot of the predicted vs actual scores for each of the 3 folds, do they match?\n",
    "- Compare with previous score"
   ]
  },
  {
   "cell_type": "code",
   "execution_count": 10,
   "metadata": {
    "collapsed": false
   },
   "outputs": [
    {
     "data": {
      "text/plain": [
       "array([-6.0590332 , -0.29020412, -1.14696968])"
      ]
     },
     "execution_count": 10,
     "metadata": {},
     "output_type": "execute_result"
    }
   ],
   "source": [
    "from sklearn.ensemble import GradientBoostingRegressor\n",
    "\n",
    "\n",
    "gb = GradientBoostingRegressor()\n",
    "\n",
    "scores = cross_val_score(gb, X, y, cv=cv)\n",
    "scores"
   ]
  },
  {
   "cell_type": "code",
   "execution_count": 11,
   "metadata": {
    "collapsed": false
   },
   "outputs": [
    {
     "data": {
      "image/png": "[encoded data removed]",
      "text/plain": [
       "<matplotlib.figure.Figure at 0x10ffe3a90>"
      ]
     },
     "metadata": {},
     "output_type": "display_data"
    }
   ],
   "source": [
    "do_plot(ab, scores.mean().round(2))"
   ]
  },
  {
   "cell_type": "markdown",
   "metadata": {},
   "source": [
    "## 5. Tableau Practice\n",
    "\n",
    "Practice using Tableau to inspect the data and also to plot the results.\n"
   ]
  },
  {
   "cell_type": "code",
   "execution_count": null,
   "metadata": {
    "collapsed": true
   },
   "outputs": [],
   "source": []
  },
  {
   "cell_type": "markdown",
   "metadata": {},
   "source": [
    "## Bonus\n",
    "\n",
    "Take the best model and try to improve it using grid search."
   ]
  },
  {
   "cell_type": "code",
   "execution_count": null,
   "metadata": {
    "collapsed": true
   },
   "outputs": [],
   "source": []
  }
 ],
 "metadata": {
  "kernelspec": {
   "display_name": "Python [Python2]",
   "language": "python",
   "name": "Python [Python2]"
  },
  "language_info": {
   "codemirror_mode": {
    "name": "ipython",
    "version": 2
   },
   "file_extension": ".py",
   "mimetype": "text/x-python",
   "name": "python",
   "nbconvert_exporter": "python",
   "pygments_lexer": "ipython2",
   "version": "2.7.12"
  }
 },
 "nbformat": 4,
 "nbformat_minor": 0
}
