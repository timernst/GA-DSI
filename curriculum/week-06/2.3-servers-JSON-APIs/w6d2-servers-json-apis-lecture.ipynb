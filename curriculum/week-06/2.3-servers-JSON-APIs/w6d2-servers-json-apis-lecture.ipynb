{
 "cells": [
  {
   "cell_type": "markdown",
   "metadata": {
    "slideshow": {
     "slide_type": "slide"
    }
   },
   "source": [
    "# ![](https://ga-dash.s3.amazonaws.com/production/assets/logo-9f88ae6c9c3871690e33280fcf557f33.png) Servers, JSON, & APIs\n",
    "Week 6| Lesson 2.2"
   ]
  },
  {
   "cell_type": "markdown",
   "metadata": {
    "slideshow": {
     "slide_type": "slide"
    }
   },
   "source": [
    "### LEARNING OBJECTIVES\n",
    "*After this lesson, you will be able to:*\n",
    "- Identify HTTP verbs & their uses.\n",
    "- Describe APIs\n",
    "- Make calls to public APIs\n",
    "- Read and write data in JSON format"
   ]
  },
  {
   "cell_type": "markdown",
   "metadata": {
    "slideshow": {
     "slide_type": "slide"
    }
   },
   "source": [
    "### LESSON GUIDE\n",
    "\n",
    "| TIMING  | TYPE  | TOPIC  |\n",
    "|:-:|---|---|\n",
    "| 5 min | [Opening](#opening) | Opening |\n",
    "| 15 min | [Introduction](#introduction) | Introduction |\n",
    "| 15 min | [Demo](#demo) | Demo: HTTP |\n",
    "| 10 min | [Introduction](#introduction_2) | JSON |\n",
    "| 10 min | [Ind-practice](#ind-practice_1) | Independent Practice: Validate JSON |\n",
    "| 15 min | [Guided-practice/](#guided-practice/) | Guided Practice: Pulling data from API |\n",
    "| 10 min | [Ind-practice](#ind-practice_2/) | Independent Practice: Python APIs |\n",
    "| 5 min | [Conclusion](#conclusion) | Conclusion |"
   ]
  },
  {
   "cell_type": "markdown",
   "metadata": {
    "slideshow": {
     "slide_type": "slide"
    }
   },
   "source": [
    "<a name=\"opening\"></a>\n",
    "## Opening (5 min)\n",
    "An API (application program interface) is a set of routines, protocols, and tools for building software applications. It specifies how software components should interact.\n",
    "\n",
    "In the context of data science, APIs are a very important method for interacting with data hosted by third parties -- it's our way into someone else's database."
   ]
  },
  {
   "cell_type": "markdown",
   "metadata": {
    "slideshow": {
     "slide_type": "slide"
    }
   },
   "source": [
    "## An API request!\n",
    "\n",
    "https://maps.googleapis.com/maps/api/geocode/json?address=10+E+21ST+New+York+NY\n",
    "\n",
    "> Check: what do you think is happening here? What's the input pattern? What's the output?"
   ]
  },
  {
   "cell_type": "code",
   "execution_count": 1,
   "metadata": {
    "collapsed": false,
    "slideshow": {
     "slide_type": "fragment"
    }
   },
   "outputs": [],
   "source": [
    "import requests\n",
    "url = 'https://maps.googleapis.com/maps/api/geocode/json?address='\n",
    "address = '10+E+21st+New+York+NY'\n",
    "response = requests.post(url+address)\n",
    "#response.text\n",
    "#response.json"
   ]
  },
  {
   "cell_type": "code",
   "execution_count": 2,
   "metadata": {
    "collapsed": false
   },
   "outputs": [
    {
     "data": {
      "text/plain": [
       "u'{\\n   \"results\" : [\\n      {\\n         \"address_components\" : [\\n            {\\n               \"long_name\" : \"10\",\\n               \"short_name\" : \"10\",\\n               \"types\" : [ \"street_number\" ]\\n            },\\n            {\\n               \"long_name\" : \"East 21st Street\",\\n               \"short_name\" : \"E 21st St\",\\n               \"types\" : [ \"route\" ]\\n            },\\n            {\\n               \"long_name\" : \"Midtown\",\\n               \"short_name\" : \"Midtown\",\\n               \"types\" : [ \"neighborhood\", \"political\" ]\\n            },\\n            {\\n               \"long_name\" : \"Manhattan\",\\n               \"short_name\" : \"Manhattan\",\\n               \"types\" : [ \"political\", \"sublocality\", \"sublocality_level_1\" ]\\n            },\\n            {\\n               \"long_name\" : \"New York\",\\n               \"short_name\" : \"New York\",\\n               \"types\" : [ \"locality\", \"political\" ]\\n            },\\n            {\\n               \"long_name\" : \"New York County\",\\n               \"short_name\" : \"New York County\",\\n               \"types\" : [ \"administrative_area_level_2\", \"political\" ]\\n            },\\n            {\\n               \"long_name\" : \"New York\",\\n               \"short_name\" : \"NY\",\\n               \"types\" : [ \"administrative_area_level_1\", \"political\" ]\\n            },\\n            {\\n               \"long_name\" : \"United States\",\\n               \"short_name\" : \"US\",\\n               \"types\" : [ \"country\", \"political\" ]\\n            },\\n            {\\n               \"long_name\" : \"10010\",\\n               \"short_name\" : \"10010\",\\n               \"types\" : [ \"postal_code\" ]\\n            }\\n         ],\\n         \"formatted_address\" : \"10 E 21st St, New York, NY 10010, USA\",\\n         \"geometry\" : {\\n            \"location\" : {\\n               \"lat\" : 40.7398848,\\n               \"lng\" : -73.9900818\\n            },\\n            \"location_type\" : \"ROOFTOP\",\\n            \"viewport\" : {\\n               \"northeast\" : {\\n                  \"lat\" : 40.74123378029149,\\n                  \"lng\" : -73.98873281970849\\n               },\\n               \"southwest\" : {\\n                  \"lat\" : 40.7385358197085,\\n                  \"lng\" : -73.99143078029151\\n               }\\n            }\\n         },\\n         \"partial_match\" : true,\\n         \"place_id\" : \"ChIJO1DcwaNZwokRnNg92N3huws\",\\n         \"types\" : [ \"street_address\" ]\\n      }\\n   ],\\n   \"status\" : \"OK\"\\n}\\n'"
      ]
     },
     "execution_count": 2,
     "metadata": {},
     "output_type": "execute_result"
    }
   ],
   "source": [
    "response.text"
   ]
  },
  {
   "cell_type": "code",
   "execution_count": 3,
   "metadata": {
    "collapsed": false
   },
   "outputs": [
    {
     "data": {
      "text/plain": [
       "<bound method Response.json of <Response [200]>>"
      ]
     },
     "execution_count": 3,
     "metadata": {},
     "output_type": "execute_result"
    }
   ],
   "source": [
    "response.json"
   ]
  },
  {
   "cell_type": "markdown",
   "metadata": {
    "slideshow": {
     "slide_type": "fragment"
    }
   },
   "source": [
    "That's it -- we just used an API together! The response is JSON-structured text; later in the lesson we'll parse it together."
   ]
  },
  {
   "cell_type": "markdown",
   "metadata": {
    "slideshow": {
     "slide_type": "slide"
    }
   },
   "source": [
    "<a name=\"introduction\"></a>\n",
    "## Introduction (15 min)\n",
    "\n",
    "API calls are, in practice, a term for making _HTTP requests_ to a server and sending/receiving structured data from that endpoint. We are still communicating with URLs, however instead of receiving markup, like we do with HTML pages, we receive data.\n",
    "\n",
    "[Representational state transfer (REST)](https://en.wikipedia.org/wiki/Representational_state_transfer) is the most common* architecture style for passing information to and from these API endpoints.\n",
    "\n",
    "Before we start consuming these services however, it's important to understand the fundamentals of the underlying communication layer: HTTP.\n",
    "\n",
    "$^*$[GraphQL](https://facebook.github.io/react/blog/2015/05/01/graphql-introduction.html) may begin to [replace](https://medium.com/chute-engineering/graphql-in-the-age-of-rest-apis-b10f2bf09bba#.bmo4u9h32) the REST architectural style over the next 3-5 years.\n",
    "\n"
   ]
  },
  {
   "cell_type": "markdown",
   "metadata": {
    "slideshow": {
     "slide_type": "slide"
    }
   },
   "source": [
    "### HTTP\n",
    "\n",
    "HTTP is a protocol - a system of rules - that determines how web pages (see:'hypertext') get sent (see:'transferred') from one place to another. Among other things, it defines the format of the messages passed between HTTP clients and HTTP servers.\n",
    "\n",
    "![Web Architecture](./assets/images/webserver_to_rails_setup.jpeg \"Web Architecture\")\n",
    "\n",
    "Since the web is a service, it works through a combination of clients which _make_ requests and servers (which _receive_ requests).\n",
    "\n"
   ]
  },
  {
   "cell_type": "markdown",
   "metadata": {
    "slideshow": {
     "slide_type": "slide"
    }
   },
   "source": [
    "#### HTTP Client\n",
    "\n",
    "HTTP Clients make or generate HTTP Requests. Some types of clients are:\n",
    "\n",
    "* Browsers - Chrome, Firefox and Safari.\n",
    "* Command Line programs - [curl](http://curl.haxx.se/docs/) and [wget](http://www.gnu.org/software/wget/manual/wget.html).\n",
    "\n",
    "HTTP Clients respond to HTTP Responses from a Web Server. They process the data being returned frrm a web server, aka HTTP Server.\n",
    "\n"
   ]
  },
  {
   "cell_type": "markdown",
   "metadata": {
    "slideshow": {
     "slide_type": "slide"
    }
   },
   "source": [
    "#### HTTP/Web Server\n",
    "\n",
    "All _Web Servers_ receive _HTTP Requests_ and generate _HTTP Responses_. Often Web Servers are just the middleman, passing HTTP Request and Responses between the client and web application. Two of the most popular _HTTP or Web servers_ are [Apache](http://httpd.apache.org/) and [Nginx](http://nginx.com/), But there are lots different [web servers](http://en.wikipedia.org/wiki/Comparison_of_web_server_software) out there.\n",
    "\n",
    "\n"
   ]
  },
  {
   "cell_type": "markdown",
   "metadata": {
    "slideshow": {
     "slide_type": "slide"
    }
   },
   "source": [
    "### Web Applications\n",
    "\n",
    "Web Applications are programs that run on a web server, process the HTTP requests that the server receives, and generate HTTP Responses.\n",
    "\n",
    "![HTTP Request and Response](./assets/images/http_req_resp.gif)"
   ]
  },
  {
   "cell_type": "markdown",
   "metadata": {
    "slideshow": {
     "slide_type": "slide"
    }
   },
   "source": [
    "1. A client sends a HTTP Request to a HTTP Server running on a remote machine.  \n",
    "  * The _hostname_, given in the URL, indicates which server will receive the request.  \n",
    "2. The HTTP server processes the HTTP Request. This may entail passing the request to some Web Application, which creates a HTTP Response.\n",
    "3. The response gets sent back to the client.\n",
    "4. The client processes the response.\n",
    "\n"
   ]
  },
  {
   "cell_type": "markdown",
   "metadata": {
    "slideshow": {
     "slide_type": "slide"
    }
   },
   "source": [
    "How does the server know what the request is asking for? This is specified by the URL, a special kind of path that specifies where a resource can be found on the web.\n",
    "\n",
    "![URL](./assets/images/http1-url-structure.png)\n"
   ]
  },
  {
   "cell_type": "markdown",
   "metadata": {
    "slideshow": {
     "slide_type": "slide"
    }
   },
   "source": [
    "<a name=\"demo\"></a>\n",
    "## Demo: HTTP (15 min)\n",
    "\n",
    "Lets explore HTTP resources. We'll start by looking at HTTP requests and responses using the Chrome Inspector.\n",
    "\n",
    "![HTTP Request and Response](./assets/images/http_request_response.jpeg \"HTTP Request and Response\")\n",
    "\n",
    "* In Chrome, open up Chrome Inspector (*command + option + 'i', or ctrl + click and select 'inspect element'*).\n"
   ]
  },
  {
   "cell_type": "markdown",
   "metadata": {
    "slideshow": {
     "slide_type": "slide"
    }
   },
   "source": [
    "* Select the Network tab. It should look something like this:\n",
    "\n",
    "![Chrome Inspector](./assets/images/chrome_inspector.png)\n",
    "\n"
   ]
  },
  {
   "cell_type": "markdown",
   "metadata": {
    "slideshow": {
     "slide_type": "slide"
    }
   },
   "source": [
    "* Next, go to the URL https://generalassemb.ly/\n",
    "\n",
    "  You should be able to see a few HTTP Requests and Responses in the Network tab; for each request you'll see a **Path**, **Method**, **Status**, **Type**, and **Size** ('Content-Length'), along with info about how long it took to get each of these resources.\n",
    "  *Most of this information comes from the HTTP Request and Response.*\n",
    "\n",
    "  * Some HTTP requests are for CSS, JavaScript and images that are referenced by the HTML.\n",
    "  * Select `generalassemb.ly` in the Path column on the far left.\n",
    "  * Select the Headers tab. **Headers** are meta-data properties of an HTTP request or response, separate from the body of the message.\n",
    "\n"
   ]
  },
  {
   "cell_type": "markdown",
   "metadata": {
    "slideshow": {
     "slide_type": "slide"
    }
   },
   "source": [
    "### HTTP Request\n",
    "\n",
    "_GET_ is an **HTTP Request Method**.\n",
    "\n",
    "![HTTP Request](./assets/images/http_request.jpeg \"HTTP Request\")\n",
    "\n",
    "**HTTP Request Methods:**   \n",
    "\n",
    "* **GET** => Retrieve a resource.  \n",
    "* **POST** => Create a resource.  \n",
    "* **PATCH** (_or **PUT**, but **PATCH** is recommended_) => Update an existing resource.  \n",
    "* **DELETE** => Delete a resource.  \n",
    "* **HEAD** => Retrieve the headers for a resource.\n",
    "\n",
    "Of these, **GET** and **POST** are the most widely used.\n",
    "\n"
   ]
  },
  {
   "cell_type": "markdown",
   "metadata": {
    "slideshow": {
     "slide_type": "slide"
    }
   },
   "source": [
    "**HTTP Request Structure:**\n",
    "\n",
    "```\n",
    "[http request method] [URL] [http version]  \n",
    "[list of headers]\n",
    "(blank line)\n",
    "[request body]\n",
    "```\n"
   ]
  },
  {
   "cell_type": "markdown",
   "metadata": {
    "slideshow": {
     "slide_type": "slide"
    }
   },
   "source": [
    "**HTTP Request Method Example (No Body)**\n",
    "\n",
    "    GET http://vermonster.com HTTP/1.1  \n",
    "    Accept:text/html,application/xhtml+xml,application/xml;q=0.9,image/webp,*/*;q=0.8  \n",
    "    Accept-Encoding:gzip,deflate,sdch\n",
    "    Accept-Language:en-US,en;q=0.8  \n",
    "    Connection:keep-alive  \n",
    "    Host:vermonster.com  \n",
    "    User-Agent:Mozilla/5.0 (Macintosh; Intel Mac OS X 10_8_5)  \n",
    "    AppleWebKit/537.36 (KHTML, like Gecko) Chrome/32.0.1659.2 Safari/537.36\n",
    "    \n",
    "Understanding this structure can help troubleshoot web scraping, among other work. For instance you may want to manually spoof user-agent identities. (As long as you're not violating Terms of Service.)\n"
   ]
  },
  {
   "cell_type": "markdown",
   "metadata": {
    "slideshow": {
     "slide_type": "slide"
    }
   },
   "source": [
    "### HTTP Response\n",
    "\n",
    "![HTTP Response](./assets/images/http_response.jpeg \"HTTP Response\")\n",
    "\n",
    "When a client sends a request, the server sends back a response; the standard format for this response is:\n",
    "\n",
    "```\n",
    "[http version] [status] [reason]  \n",
    "[list of headers]\n",
    "\n",
    "[response body] # typically HTML, JSON, ...  \n",
    "```\n",
    "[Here's the list of possible status codes.](http://en.wikipedia.org/wiki/List_of_HTTP_status_codes) \n",
    "\n",
    "> **Check:** take turns explaining to a partner the different HTTP request methods, and when might use them\n"
   ]
  },
  {
   "cell_type": "markdown",
   "metadata": {
    "slideshow": {
     "slide_type": "slide"
    }
   },
   "source": [
    "<a name=\"introduction_2\"></a>\n",
    "## JSON (10 min)  \n",
    "\n",
    "JSON is short for _JavaScript Object Notation_. It is a standardized data schema that is common, compact, relatively easy to parse and (sort of) human-readable.\n",
    "\n",
    "JSON is built on two structures:\n",
    "\n",
    "* Objects, which are collections of key:value pairs. The syntax is {string: value, ...}.\n",
    "* Arrays, which are ordered collections of values. Their syntax is [value, value, ...].\n",
    "\n",
    "\"These are universal data structures. Virtually all modern programming languages support them in one form or another. It makes sense that a data format that is interchangeable with programming languages also be based on these structures.\" (http://json.org/)\n"
   ]
  },
  {
   "cell_type": "markdown",
   "metadata": {
    "slideshow": {
     "slide_type": "slide"
    }
   },
   "source": [
    "<a name=\"ind-practice_1\"></a>\n",
    "## Independent Practice: Validate JSON (10 min)\n",
    "JSON is very simple to use if correctly structured. One of the resources to validate JSON and check if the syntax is correct is [JSON Viewer](http://codebeautify.org/jsonviewer).\n",
    "\n",
    "Let's check out the JSON from the GoogleMaps API."
   ]
  },
  {
   "cell_type": "code",
   "execution_count": 5,
   "metadata": {
    "collapsed": false,
    "slideshow": {
     "slide_type": "fragment"
    }
   },
   "outputs": [
    {
     "data": {
      "text/plain": [
       "dict"
      ]
     },
     "execution_count": 5,
     "metadata": {},
     "output_type": "execute_result"
    }
   ],
   "source": [
    "response.json()\n",
    "type(response.json()) # It's a dictionary -- how can we dump it out as text?"
   ]
  },
  {
   "cell_type": "code",
   "execution_count": 6,
   "metadata": {
    "collapsed": false,
    "slideshow": {
     "slide_type": "fragment"
    }
   },
   "outputs": [
    {
     "data": {
      "text/plain": [
       "'{\"status\": \"OK\", \"results\": [{\"geometry\": {\"location\": {\"lat\": 40.7398848, \"lng\": -73.9900818}, \"viewport\": {\"northeast\": {\"lat\": 40.74123378029149, \"lng\": -73.98873281970849}, \"southwest\": {\"lat\": 40.7385358197085, \"lng\": -73.99143078029151}}, \"location_type\": \"ROOFTOP\"}, \"formatted_address\": \"10 E 21st St, New York, NY 10010, USA\", \"place_id\": \"ChIJO1DcwaNZwokRnNg92N3huws\", \"address_components\": [{\"long_name\": \"10\", \"types\": [\"street_number\"], \"short_name\": \"10\"}, {\"long_name\": \"East 21st Street\", \"types\": [\"route\"], \"short_name\": \"E 21st St\"}, {\"long_name\": \"Midtown\", \"types\": [\"neighborhood\", \"political\"], \"short_name\": \"Midtown\"}, {\"long_name\": \"Manhattan\", \"types\": [\"political\", \"sublocality\", \"sublocality_level_1\"], \"short_name\": \"Manhattan\"}, {\"long_name\": \"New York\", \"types\": [\"locality\", \"political\"], \"short_name\": \"New York\"}, {\"long_name\": \"New York County\", \"types\": [\"administrative_area_level_2\", \"political\"], \"short_name\": \"New York County\"}, {\"long_name\": \"New York\", \"types\": [\"administrative_area_level_1\", \"political\"], \"short_name\": \"NY\"}, {\"long_name\": \"United States\", \"types\": [\"country\", \"political\"], \"short_name\": \"US\"}, {\"long_name\": \"10010\", \"types\": [\"postal_code\"], \"short_name\": \"10010\"}], \"partial_match\": true, \"types\": [\"street_address\"]}]}'"
      ]
     },
     "execution_count": 6,
     "metadata": {},
     "output_type": "execute_result"
    }
   ],
   "source": [
    "import json\n",
    "json.dumps(response.json())"
   ]
  },
  {
   "cell_type": "markdown",
   "metadata": {
    "slideshow": {
     "slide_type": "slide"
    }
   },
   "source": [
    "If you see \"Valid JSON\", click \"Beautify\" and you will see a more readable way of JSON. If you do not see the message \"Valid JSON\", it means that there is a syntax error.\n"
   ]
  },
  {
   "cell_type": "markdown",
   "metadata": {
    "slideshow": {
     "slide_type": "fragment"
    }
   },
   "source": [
    "How about [this JSON](./assets/datasets/test.json)? Is it valid?"
   ]
  },
  {
   "cell_type": "markdown",
   "metadata": {
    "slideshow": {
     "slide_type": "slide"
    }
   },
   "source": [
    "* First, correct errors if there are any.\n",
    "* Then, work **in pairs** to identify the structure of the JSON:\n",
    "\n",
    "    - does whitespace matter?\n",
    "    - what is a root element?\n",
    "    - are there any arrays?\n",
    "    - how many objects are there?\n",
    "    - what are the attributes of an object?\n"
   ]
  },
  {
   "cell_type": "markdown",
   "metadata": {
    "slideshow": {
     "slide_type": "slide"
    }
   },
   "source": [
    "<a name=\"guided-practice/\"></a>\n",
    "## Guided Practice: Pulling data from API (15 min)\n",
    "\n",
    "APIs are methods and data formats to tell people how to \"talk\" to a system. A couple of examples will clarify:\n",
    "\n",
    "### Example 1: Movies\n",
    "The internet movie database is a large collection of data about movies. It can be browsed at the address: http://www.imdb.com/.\n",
    "\n",
    "What if we wanted to programatically access the data in the database? Unless we are employees of IMDB.com, we probably don't have direct access to their internal database, so we cannot perform SQL queries on their data.\n",
    "\n",
    "We could use scraping to retrieve data from the web page, and in some cases we will have to do exactly that.\n",
    "Note: check the \"Terms of Service\" before you scrape a website, you could be infringing their terms.\n",
    "\n",
    "In other cases, the website offers a way to programatically access data from their database. That's an API.\n",
    "\n",
    "In the case of movies, this is offered by http://www.omdbapi.com/\n",
    "\n",
    "\n",
    "1. Let's try for example to retrieve the data about the \"Avengers\" movie in 2015:\n",
    "\n",
    "In a browser paste:\n",
    "    http://www.omdbapi.com/?t=avengers&y=2015&plot=short&r=json\n",
    "    \n",
    "you should see something like:\n",
    "\n",
    "    {\n",
    "    Title: \"Avengers: Age of Ultron\",\n",
    "    Year: \"2015\",\n",
    "    Rated: \"PG-13\",\n",
    "    Released: \"01 May 2015\",\n",
    "    Runtime: \"141 min\",\n",
    "    Genre: \"Action, Adventure, Sci-Fi\",\n",
    "    Director: \"Joss Whedon\",\n",
    "    Writer: \"Joss Whedon, Stan Lee (Marvel comics), Jack Kirby (Marvel comics)\",\n",
    "    Actors: \"Robert Downey Jr., Chris Hemsworth, Mark Ruffalo, Chris Evans\",\n",
    "    Plot: \"When Tony Stark and Bruce Banner try to jump-start a dormant peacekeeping program called Ultron, things go horribly wrong and it's up to Earth's Mightiest Heroes to stop the villainous Ultron from enacting his terrible plans.\",\n",
    "    Language: \"English\",\n",
    "    Country: \"USA\",\n",
    "    Awards: \"2 wins & 37 nominations.\",\n",
    "    Poster: \"http://ia.media-imdb.com/images/M/MV5BMTM4OGJmNWMtOTM4Ni00NTE3LTg3MDItZmQxYjc4N2JhNmUxXkEyXkFqcGdeQXVyNTgzMDMzMTg@._V1_SX300.jpg\",\n",
    "    Metascore: \"66\",\n",
    "    imdbRating: \"7.5\",\n",
    "    imdbVotes: \"420,714\",\n",
    "    imdbID: \"tt2395427\",\n",
    "    Type: \"movie\",\n",
    "    Response: \"True\"\n",
    "    }\n",
    "\n",
    "Notice what happened: we interrogated a url and we received json as an answer.\n",
    "\n",
    "2. Try submitting a couple more queries to familiarize with the API.\n",
    "- You can also query an API from the command line using the app `curl`. Try typing:\n",
    "\n",
    "    curl http://www.omdbapi.com/?t=whiplash&plot=short&r=json\n",
    "    \n",
    "you should see something like:\n",
    "    \n",
    "    {\"Title\":\"Whiplash\",\"Year\":\"2014\",\"Rated\":\"R\",\"Released\":\"15 Oct 2014\",\"Runtime\":\"107 min\",\"Genre\":\"Drama, Music\",\"Director\":\"Damien Chazelle\",\"Writer\":\"Damien Chazelle\",\"Actors\":\"Miles Teller, J.K. Simmons, Paul Reiser, Melissa Benoist\",\"Plot\":\"A promising young drummer enrolls at a cut-throat music conservatory where his dreams of greatness are mentored by an instructor who will stop at nothing to realize a student's potential.\",\"Language\":\"English\",\"Country\":\"USA\",\"Awards\":\"Won 3 Oscars. Another 84 wins & 125 nominations.\",\"Poster\":\"http://ia.media-imdb.com/images/M/MV5BMTU4OTQ3MDUyMV5BMl5BanBnXkFtZTgwOTA2MjU0MjE@._V1_SX300.jpg\",\"Metascore\":\"88\",\"imdbRating\":\"8.5\",\"imdbVotes\":\"368,942\",\"imdbID\":\"tt2582802\",\"Type\":\"movie\",\"Response\":\"True\"}\n",
    "    \n",
    "\n",
    "### Example 2: Google Geocode API\n",
    "\n",
    "Google offers a freely accessible API to query their GEO databases.\n",
    "\n",
    "Try pasting the following line in your browser:\n",
    "\n",
    "    https://maps.googleapis.com/maps/api/geocode/json?address=033+BELDEN+PL+San+Francisco+CA\n",
    "    \n",
    "you should see something like:\n",
    "\n",
    "    {\n",
    "    results: [\n",
    "    {\n",
    "    address_components: [\n",
    "    {\n",
    "    long_name: \"33\",\n",
    "    short_name: \"33\",\n",
    "    types: [\n",
    "    \"street_number\"\n",
    "    ]\n",
    "    },\n",
    "    {\n",
    "    long_name: \"Belden Place\",\n",
    "    short_name: \"Belden Pl\",\n",
    "    types: [\n",
    "    \"route\"\n",
    "    ]\n",
    "    },\n",
    "    {\n",
    "    long_name: \"Financial District\",\n",
    "    short_name: \"Financial District\",\n",
    "    types: [\n",
    "    \"neighborhood\",\n",
    "    \"political\"\n",
    "    ]\n",
    "    },\n",
    "    {\n",
    "    long_name: \"San Francisco\",\n",
    "    short_name: \"SF\",\n",
    "    types: [\n",
    "    \"locality\",\n",
    "    \"political\"\n",
    "    ]\n",
    "    },\n",
    "    {\n",
    "    long_name: \"San Francisco County\",\n",
    "    short_name: \"San Francisco County\",\n",
    "    types: [\n",
    "    \"administrative_area_level_2\",\n",
    "    \"political\"\n",
    "    ]\n",
    "    },\n",
    "    {\n",
    "    long_name: \"California\",\n",
    "    short_name: \"CA\",\n",
    "    types: [\n",
    "    \"administrative_area_level_1\",\n",
    "    \"political\"\n",
    "    ]\n",
    "    },\n",
    "    {\n",
    "    long_name: \"United States\",\n",
    "    short_name: \"US\",\n",
    "    types: [\n",
    "    \"country\",\n",
    "    \"political\"\n",
    "    ]\n",
    "    },\n",
    "    {\n",
    "    long_name: \"94104\",\n",
    "    short_name: \"94104\",\n",
    "    types: [\n",
    "    \"postal_code\"\n",
    "    ]\n",
    "    }\n",
    "    ],\n",
    "    formatted_address: \"33 Belden Pl, San Francisco, CA 94104, USA\",\n",
    "    geometry: {\n",
    "    bounds: {\n",
    "    northeast: {\n",
    "    lat: 37.7913528,\n",
    "    lng: -122.4038195\n",
    "    },\n",
    "    southwest: {\n",
    "    lat: 37.7913502,\n",
    "    lng: -122.4038379\n",
    "    }\n",
    "    },\n",
    "    location: {\n",
    "    lat: 37.7913502,\n",
    "    lng: -122.4038379\n",
    "    },\n",
    "    location_type: \"RANGE_INTERPOLATED\",\n",
    "    viewport: {\n",
    "    northeast: {\n",
    "    lat: 37.7927004802915,\n",
    "    lng: -122.4024797197085\n",
    "    },\n",
    "    southwest: {\n",
    "    lat: 37.7900025197085,\n",
    "    lng: -122.4051776802915\n",
    "    }\n",
    "    }\n",
    "    },\n",
    "    place_id: \"EiozMyBCZWxkZW4gUGwsIFNhbiBGcmFuY2lzY28sIENBIDk0MTA0LCBVU0E\",\n",
    "    types: [\n",
    "    \"street_address\"\n",
    "    ]\n",
    "    }\n",
    "    ],\n",
    "    status: \"OK\"\n",
    "    }\n",
    "\n",
    "We queried an address and got back a lot of JSON data stored in Google's databases for that address.\n",
    "\n",
    "\n",
    "### OAUTH\n",
    "\n",
    "Many APIs are not free to access. You first need to register as a developer and obtain an authorization key. In most cases, this is also accompanied by a temporary token that needs to be renewed after some time. This is a way to prevent abuse on the server's resources.\n",
    "\n",
    "You can read more about it here: http://oauth.net/2/\n"
   ]
  },
  {
   "cell_type": "markdown",
   "metadata": {
    "slideshow": {
     "slide_type": "slide"
    }
   },
   "source": [
    "<a name=\"ind-practice_2/\"></a>\n",
    "## Independent Practice: Python APIs (15 min)\n",
    "\n",
    "### Python APIs\n",
    "\n",
    "1. form pairs and do the following\n",
    "- go to http://www.pythonforbeginners.com/api/list-of-python-apis\n",
    "- choose either the Wikipedia or GeoPy API: what data you can get? (Neither of these should require API keys)\n",
    "- install python module, try to extract data\n",
    "- discuss: how could you leverage that api? how could you use the data?\n",
    "- if you have time, try accessing one of the APIs which require registration and authentication"
   ]
  },
  {
   "cell_type": "code",
   "execution_count": null,
   "metadata": {
    "collapsed": true
   },
   "outputs": [],
   "source": [
    "import requests\n",
    "url = 'https://maps.googleapis.com/maps/api/geocode/json?address='\n",
    "address = '10+E+21st+New+York+NY'\n",
    "response = requests.post(url+address)\n",
    "#response.text\n",
    "#response.json"
   ]
  },
  {
   "cell_type": "code",
   "execution_count": 4,
   "metadata": {
    "collapsed": false
   },
   "outputs": [],
   "source": [
    "import wikipedia\n"
   ]
  },
  {
   "cell_type": "code",
   "execution_count": 6,
   "metadata": {
    "collapsed": false
   },
   "outputs": [],
   "source": [
    "ESB  = wikipedia.page(\"Empire State Building\")"
   ]
  },
  {
   "cell_type": "code",
   "execution_count": 8,
   "metadata": {
    "collapsed": false
   },
   "outputs": [
    {
     "data": {
      "text/plain": [
       "u'The Empire State Building is a 102-story skyscraper located in Midtown Manhattan, New York City, on Fifth Avenue between West 33rd and 34th Streets. It has a roof height of 1,250 feet (381 m), and with its antenna spire included, it stands a total of 1,454 feet (443 m) high. Its name is derived from the nickname for New York, the Empire State. It stood as the world\\'s tallest building for nearly 40 years, from its completion in early 1931 until the topping out of the original World Trade Center\\'s North Tower in late 1970. Following the September 11 attacks in 2001, the Empire State Building was again the tallest building in New York, until One World Trade Center reached a greater height in April 2012. The Empire State Building is currently the fifth-tallest completed skyscraper in the United States and the 29th-tallest in the world. It is also the fifth-tallest freestanding structure in the Americas. When measured by pinnacle height, it is the fourth-tallest building in the United States.\\nThe Empire State Building is an American cultural icon. It is designed in the distinctive Art Deco style and has been named as one of the Seven Wonders of the Modern World by the American Society of Civil Engineers. The building and its street floor interior are designated landmarks of the New York City Landmarks Preservation Commission, and confirmed by the New York City Board of Estimate. It was designated as a National Historic Landmark in 1986. In 2007, it was ranked number one on the AIA\\'s List of America\\'s Favorite Architecture.\\nThe building is owned by the Empire State Realty Trust, of which Anthony Malkin serves as Chairman, CEO and President. In 2010, the Empire State Building underwent a $550 million renovation, with $120 million spent to transform the building into a more energy efficient and eco-friendly structure. The Empire State Building is the tallest Leadership in Energy and Environmental Design (LEED)-certified building in the United States, having received a gold LEED rating in September 2011.\\n\\n\\n== History ==\\nThe site of the Empire State Building was first developed as the John Thompson Farm in the late 18th century. At the time, a stream ran across the site, emptying into Sunfish Pond, located a block away. Beginning in the late 19th century, the block was occupied by the Waldorf-Astoria Hotel, frequented by The Four Hundred, the social elite of New York.\\nThe limestone for the Empire State Building came from the Empire Mill in Sanders, Indiana which is an unincorporated town adjacent to Bloomington, Indiana. The Empire Mill Land office is near State Road 37 and Old State Road 37 just south of Bloomington. The Bloomington, Bedford, and Oolitic area is known locally as the limestone capital of the world.\\n\\n\\n=== Design and construction ===\\n\\nThe Empire State Building was designed by William F. Lamb from the architectural firm Shreve, Lamb and Harmon, which produced the building drawings in just two weeks, using its earlier designs for the Reynolds Building in Winston-Salem, North Carolina, and the Carew Tower in Cincinnati, Ohio (designed by the architectural firm W. W. Ahlschlager & Associates) as a basis. Every year the staff of the Empire State Building sends a Father\\'s Day card to the staff at the Reynolds Building in Winston-Salem to pay homage to its role as predecessor to the Empire State Building. The building was designed from the top down. The general contractors were The Starrett Brothers and Eken, and the project was financed primarily by John J. Raskob and Pierre S. du Pont. The construction company was chaired by Alfred E. Smith, a former Governor of New York and James Farley\\'s General Builders Supply Corporation supplied the building materials. John W. Bowser was project construction superintendent.\\nExcavation of the site began on January 22, 1930, and construction on the building itself started on March 17\\u2014St. Patrick\\'s Day\\u2014per Al Smith\\'s influence as Empire State, Inc. president. The project involved 3,400 workers, mostly immigrants from Europe, along with hundreds of Mohawk iron workers, many from the Kahnawake reserve near Montreal. According to official accounts, five workers died during the construction. Governor Smith\\'s grandchildren cut the ribbon on May 1, 1931. Lewis Wickes Hine\\'s photography of the construction provides not only invaluable documentation of the construction, but also a glimpse into common day life of workers in that era.\\nThe construction was part of an intense competition in New York for the title of \"world\\'s tallest building\". Two other projects fighting for the title, 40 Wall Street and the Chrysler Building, were still under construction when work began on the Empire State Building. Each held the title for less than a year, as the Empire State Building surpassed them upon its completion, on April 11, 1931, 12 days ahead of schedule, just 410 days after construction commenced. The building was officially opened on May 1, 1931 in dramatic fashion, when United States President Herbert Hoover turned on the building\\'s lights with the push of a button from Washington, D.C. Ironically, the first use of tower lights atop the Empire State Building, the following year, was for the purpose of signaling the victory of Franklin D. Roosevelt over Hoover in the presidential election of November 1932.\\n\\n\\n=== Opening ===\\n\\nThe building\\'s opening coincided with the Great Depression in the United States, and as a result much of its office space was initially unrented. The building\\'s vacancy was exacerbated by its poor location on 34th Street, which placed it relatively far from public transportation, as Grand Central Terminal and Penn Station, built decades beforehand, are several blocks away, as is the more recently built Port Authority Bus Terminal. Other more successful skyscrapers, such as the Chrysler Building, did not have this problem. In its first year of operation, the observation deck took in approximately 2 million dollars, as much money as its owners made in rent that year. The lack of renters led New Yorkers to deride the building as the \"Empty State Building\". The building only became profitable in 1950. The 1951 sale of the Empire State Building to Roger L. Stevens and his business partners was brokered by the prominent upper Manhattan real-estate firm Charles F. Noyes & Company for a record $51 million. At the time, that was the highest price paid for a single structure in real-estate history.\\n\\n\\n=== Incidents ===\\n\\n\\n==== 1945 plane crash ====\\n\\nAt 9:40 am on Saturday, July 28, 1945, a B-25 Mitchell bomber, piloted in thick fog by Lieutenant Colonel William Franklin Smith, Jr., crashed into the north side of the Empire State Building, between the 79th and 80th floors, where the offices of the National Catholic Welfare Council were located. One engine shot through the side opposite the impact and flew as far as the next block, where it landed on the roof of a nearby building, starting a fire that destroyed a penthouse. The other engine and part of the landing gear plummeted down an elevator shaft. The resulting fire was extinguished in 40 minutes. Fourteen people were killed in the incident. Elevator operator Betty Lou Oliver survived a plunge of 75 stories inside an elevator, which still stands as the Guinness World Record for the longest survived elevator fall recorded. Despite the damage and loss of life, the building was open for business on many floors on the following Monday. The crash helped spur the passage of the long-pending Federal Tort Claims Act of 1946, as well as the insertion of retroactive provisions into the law, allowing people to sue the government for the incident.\\nA year later, another aircraft narrowly missed striking the building.\\n\\n\\n==== Suicide attempts ====\\nOver the years, more than 30 people have attempted suicide, most successfully, by jumping from the upper parts of the building. The first suicide occurred even before its completion, by a worker who had been laid off. The fence around the observatory terrace was put up in 1947 after five people tried to jump during a three-week span.\\nOn December 16, 1943, ex-United States Navy gunner\\'s mate William Lloyd Rambo, 22, jumped to his death from the 86th floor, landing amidst Christmas shoppers on the street below. In the early morning of September 27, 1946, shell-shocked 27-year-old Marine Douglas W. Brashear, Jr. jumped from the 76th-floor window of the Grant Advertising Agency after phoning a co-worker to tell her \"I know now this is the end.\" Police found his shoes 50 feet from his body.\\nOn May 1, 1947, 23-year-old Evelyn McHale leapt to her death from the 86th floor observation deck and landed on a limousine parked at the curb. Photography student Robert Wiles took a photo of McHale\\'s oddly intact corpse a few minutes after her death. The police found a suicide note among possessions she left on the observation deck: \"He is much better off without me ... I wouldn\\u2019t make a good wife for anybody\". The photo ran in the edition of May 12, 1947 of Life magazine, and is often referred to as \"The Most Beautiful Suicide\". It was later used by visual artist Andy Warhol in one of his prints entitled Suicide (Fallen Body).\\nOnly one person has jumped from the upper observatory: on November 3, 1932, Frederick Eckert, of Astoria, ran past a guard in the enclosed 102nd floor gallery and jumped a gate leading to an outdoor catwalk intended for dirigible passengers. He landed and died on the roof of the 86th floor observation promenade.\\nTwo people have survived jumps, in both cases by not falling more than a floor: On December 2, 1979, Elvita Adams jumped from the 86th floor, only to be blown back onto a ledge on the 85th floor by a gust of wind and left with a broken hip. On April 25, 2013, a man, who is presumed to have jumped, fell from the 86th floor observation deck but landed alive on an 85th floor ledge \\u2013 where security guards brought him inside with minor injuries.\\n\\n\\n==== Shootings ====\\nTwo major shooting incidents have occurred at or in front of the Empire State Building.\\nOn February 23, 1997, at about 5 p.m. EST, a gunman shot seven people on the 86th floor observation deck. Abu Kamal, a 69-year-old Palestinian teacher, killed one person and wounded six others, supposedly in response to events happening in Palestine and Israel, before committing suicide.\\nOn August 24, 2012 at about 9 a.m. EDT, on the sidewalk at the Fifth Avenue side of the building, a gunman shot and killed a former co-worker from a workplace that had laid him off in 2011. When two police officers confronted the gunman, 58-year-old Jeffrey T. Johnson, he aimed his firearm at them. They responded by firing 16 shots at Johnson, killing him but also wounding nine bystanders, most of whom were hit by fragments, although three took direct hits from bullets.\\n\\n\\n== Architecture ==\\n\\n\\n=== Interior ===\\nThe Empire State Building rises to 1,250 ft (381 m) at the 102nd floor, and including the 203 ft (62 m) pinnacle, its full height reaches 1,453 feet 8 9\\u204416 inches (443.092 m). The building has 85 stories of commercial and office space representing 2,158,000 sq ft (200,500 m2) of rentable space. It has an indoor and outdoor observation deck on the 86th floor. The remaining 16 stories represent the Art Deco tower, which is capped by a 102nd-floor observatory. Atop the tower is the 203 ft (62 m) pinnacle, much of which is covered by broadcast antennas, with a lightning rod at the very top.\\nThe Empire State Building was the first building to have more than 100 floors. It has 6,500 windows and 73 elevators, and there are 1,860 steps from street level to the 102nd floor. It has a total floor area of 2,768,591 sq ft (257,211 m2); the base of the Empire State Building is about 2 acres (8,094 m2). The building houses 1,000 businesses and has its own ZIP code, 10118. As of 2007, approximately 21,000 employees work in the building each day, making the Empire State Building the second-largest single office complex in America, after the Pentagon. The building was completed in one year and 45 days. Its original 64 elevators are located in a central core; today, the Empire State Building has 73 elevators in all, including service elevators. It takes less than one minute by elevator to get to the 80th floor, which contains a gift shop and an exhibit detailing the building\\'s construction. From there, visitors can take another elevator or climb the stairs to the 86th floor, where an outdoor observation deck is located. The building has 70 mi (113 km) of pipe, 2,500,000 ft (760,000 m) of electrical wire, and about 9,000 faucets. It is heated by low-pressure steam; despite its height, the building only requires between 2 and 3 psi (14 and 21 kPa) of steam pressure for heating. It weighs approximately 370,000 short tons (340,000 t). The exterior of the building is clad in Indiana limestone panels.\\nThe Empire State Building cost $40,948,900 to build (equivalent to $638,247,300 in 2016). Long-term forecasting of the life cycle of the structure was implemented at the design phase to ensure that the building\\'s future intended uses were not restricted by the requirements of previous generations. This is particularly evident in the over-design of the building\\'s electrical system.\\nThe building\\'s art deco design is typical of pre\\u2013World War II architecture in New York. The modernistic stainless steel canopies of the entrances on 33rd and 34th Streets lead to two story-high corridors around the elevator core, crossed by stainless steel and glass-enclosed bridges at the second-floor level. The elevator core contains 67 elevators.\\nThe lobby is three stories high and features an aluminum relief of the skyscraper without the antenna, which was not added to the spire until 1952. The north corridor contained eight illuminated panels, created by Roy Sparkia and Ren\\xe9e Nemorov in 1963 in time for the 1964 World\\'s Fair, which depicts the building as the Eighth Wonder of the World, alongside the traditional seven. These panels were eventually moved near a ticketing line for the observation deck.\\nUntil the 1960s, the ceilings in the lobby had a shiny art deco mural inspired by both the sky and the Machine Age, until it was covered with ceiling tiles and fluorescent lighting. Because the original murals, designed by an artist named Leif Neandross, were damaged, reproductions were installed. Over 50 artists and workers used 15,000 square feet of aluminum and 1,300 square feet of 23-carat gold leaf to re-create the mural. Renovations to the lobby alluded to original plans for the building; replacing the clock over the information desk in the Fifth Avenue lobby with an anemometer, as well as installing two chandeliers originally intended to be part of the building when it first opened. In 2000, the building\\'s owners installed a series of paintings by the New York artist Kysa Johnson in the concourse level. In January 2014 the artist filed suit in federal court in New York under the Visual Artists Rights Act, alleging the negligent destruction of the paintings and damage to her reputation as an artist.\\nThe building\\'s lobbies and common areas received a $550 million renovation in 2009, which included new air conditioning, waterproofing, and renovating the observation deck; moving the gift shop to the 80th floor. Of this, $120 million was spent in an effort to transform the building into a more energy efficient and eco-friendly structure. For example, the 6,500 windows were remanufactured onsite into superwindows which block heat but pass light. Air conditioning operating costs on hot days were reduced and this saved $17 million of the project\\'s capital cost immediately, partly funding other retrofitting. Receiving a gold Leadership in Energy and Environmental Design (LEED) rating in September 2011, the Empire State Building is the tallest LEED certified building in the United States.\\n\\n\\n=== Features ===\\n\\n\\n==== Above the 102nd floor ====\\nOn the 102nd floor of the Empire State Building there is a door with stairs ascending to the 103rd floor. This was built as a disembarkation floor for airships tethered to the building\\'s spire, and has a circular balcony outside. It is now a hot spot for celebrities, and an access point to reach the spire for maintenance. The room now contains electrical equipment. Above the 103rd floor, there is a set of stairs and a ladder to reach the spire for maintenance work.\\nThe building\\'s Art Deco spire was designed to be a mooring mast and depot for dirigibles. An elevator between the 86th and 102nd floors would carry passengers after they checked in on the 86th floor. The idea proved impractical and dangerous, due to the powerful updrafts caused by the building itself, as well as the lack of mooring lines tying the other end of the craft to the ground. The building\\'s design was expanded to include the mooring mast as part of a competition for the world\\'s tallest building.\\nA large broadcast tower was added atop the spire in the early 1950s, to support the transmission antennas of several television and FM stations. Until then, NBC had exclusive rights to the site, and \\u2013 beginning in 1931 \\u2013 built various, smaller antennas for their television transmissions.\\n\\n\\n==== Broadcast stations ====\\nNew York City is the largest media market in the United States. Since the September 11 attacks, nearly all of the city\\'s commercial broadcast stations (both television and FM radio) have transmitted from the top of the Empire State Building, although a few FM stations are located at the nearby Cond\\xe9 Nast Building. Most New York City AM stations broadcast from sites across the Hudson River in New Jersey or from other surrounding areas.\\n\\nBroadcasting began at the Empire State Building on December 22, 1931, when RCA began transmitting experimental television broadcasts from a small antenna erected atop the spire. They leased the 85th floor and built a laboratory there, and\\u2014in 1934\\u2014RCA was joined by Edwin Howard Armstrong in a cooperative venture to test his FM system from the building\\'s antenna. When Armstrong and RCA fell out in 1935 and his FM equipment was removed, the 85th floor became the home of RCA\\'s New York television operations, first as experimental station W2XBS channel 1, which eventually became (on July 1, 1941) commercial station WNBT, channel 1 (now WNBC-TV channel 4). NBC\\'s FM station (WEAF-FM, now WQHT) began transmitting from the antenna in 1940. NBC retained exclusive use of the top of the building until 1950, when the FCC ordered the exclusive deal broken, based on consumer complaints that a common location was necessary for the (now) seven New York-area television stations (five licensed to New York City, NY, one licensed to Newark, NJ, and one licensed to Secaucus, NJ) to transmit from so that receiving antennas would not have to be constantly adjusted. Construction on a giant tower began. Other television broadcasters then joined RCA at the building, on the 83rd, 82nd, and 81st floors, frequently bringing sister FM stations along for the ride. Multiple transmissions of TV and FM began from the new tower in 1951. In 1965, a separate set of FM antennas was constructed ringing the 103rd floor observation area to act as a master antenna. When the World Trade Center was being constructed, it caused serious reception problems for the television stations, most of which then moved to the World Trade Center as soon as it was completed. This made it possible to renovate the antenna structure and the transmitter facilities for the benefit of the FM stations remaining there, which were soon joined by other FMs and UHF TVs moving in from elsewhere in the metropolitan area. The destruction of the World Trade Center necessitated a great deal of shuffling of antennas and transmitter rooms to accommodate the stations moving back uptown.\\nAs of 2012, the Empire State Building is home to the following stations:\\nTelevision broadcasting: WCBS-2, WNBC-4, WNYW-5, WABC-7, WWOR-9 Secaucus, WPIX-11, WNET-13 Newark, WNYE-25, WPXN-31, WXTV-41 Paterson, WNJU-47 Linden and WFUT-68 Newark\\nFM broadcasting: WBMP-92.3, WPAT-93.1 Paterson, WNYC-93.9, WPLJ-95.5, WXNY-96.3, WQHT-97.1, WSKQ-97.9, WEPN-98.7, WBAI-99.5, WHTZ-100.3 Newark, WCBS-101.1, WFAN-101.9, WNEW-FM-102.7, WKTU-103.5 Lake Success, WAXQ-104.3, WWPR-105.1, WQXR-105.9 Newark, WLTW-106.7 and WBLS-107.5\\n\\n\\n==== Observation decks ====\\nThe Empire State Building has one of the most popular outdoor observatories in the world, having been visited by over 110 million people. The 86th-floor observation deck offers impressive 360-degree views of the city. There is a second observation deck on the 102nd floor that is open to the public. It was closed in 1999, but reopened in November 2005. It is completely enclosed and much smaller than the first one; it may be closed on high-traffic days. Tourists may pay to visit the observation deck on the 86th floor and an additional amount for the 102nd floor. The lines to enter the observation decks, according to Concierge.com, are \"as legendary as the building itself:\" there are five of them: the sidewalk line, the lobby elevator line, the ticket purchase line, the second elevator line, and the line to get off the elevator and onto the observation deck. For an extra fee tourists can skip to the front of the line. The Empire State Building makes more money from tickets sales for its observation decks than it does from renting office space.\\nThe skyscraper\\'s observation deck plays host to several cinematic, television, and literary classics including, An Affair To Remember, On the Town, Love Affair and Sleepless in Seattle. In the Latin American literary classic, Giannina Braschi\\'s Empire of Dreams the observation deck is the site of a pastoral revolution; shepherds take over the City of New York. The deck was also the site of a publicity-stunt Martian invasion in an episode of I Love Lucy (\"Lucy Is Envious\", season 3, episode 25).\\n\\n\\n==== New York Skyride ====\\nThe Empire State Building also has a motion simulator attraction located on the 2nd floor. Opened in 1994 as a complement to the observation deck, the New York Sky ride (or NY Sky ride) is a simulated aerial tour over the city. The cinematic presentation lasts approximately 25 minutes. As of May 2013, tickets are Adults $57, Children $42, Seniors $49.\\n\\nSince its opening, the ride has gone through two incarnations. The original version, which ran from 1994 until around 2002, featured James Doohan, Star Trek\\'s Scotty, as the airplane\\'s pilot, who humorously tried to keep the flight under control during a storm, with the tour taking an unexpected route through the subway, Coney Island, and FAO Schwartz, among other places. After the September 11 attacks in 2001, however, the ride was closed, and an updated version debuted in mid-2002 with actor Kevin Bacon as the pilot. The new version of the narration attempted to make the attraction more educational, and included some minor post-9/11 patriotic undertones with retrospective footage of the World Trade Center. The new flight also goes haywire, but this segment is much shorter than in the original.\\n\\n\\n==== Lights ====\\nIn 1964, floodlights were added to illuminate the top of the building at night. Since 1976 the spire has been lit in colors chosen to match seasonal and other events, such as St. Patrick\\'s Day, Christmas, Independence Day and Bastille Day. After the eightieth birthday and subsequent death of Frank Sinatra, for example, the building was bathed in blue light to represent the singer\\'s nickname \"Ol\\' Blue Eyes\". After the death of actress Fay Wray (King Kong) in late 2004, the building stood in complete darkness for 15 minutes.\\nThe floodlights bathed the building in red, white, and blue for several months after the destruction of the World Trade Center, then reverted to the standard schedule. On June 4, 2002, the Empire State Building donned purple and gold (the royal colors of Elizabeth II), in thanks for the United Kingdom playing the Star Spangled Banner during the Changing of the Guard at Buckingham Palace on September 12, 2001 (a show of support after the September 11 attacks). This would also be shown after the Westminster Dog Show. Traditionally, in addition to the standard schedule, the building will be lit in the colors of New York\\'s sports teams on the nights they have home games (orange, blue and white for the New York Knicks, red, white and blue for the New York Rangers, and so on). The first weekend in June finds the building bathed in green light for the Belmont Stakes held in nearby Belmont Park. The building is illuminated in tennis-ball yellow during the US Open tennis tournament in late August and early September. It was twice lit in scarlet to support nearby Rutgers University: once for a football game against the University of Louisville on November 9, 2006, and again on April 3, 2007 when the women\\'s basketball team played in the national championship game. On January 13, 2012, the building was lit in red, orange, and yellow to honor the 60th anniversary of NBC\\'s The Today Show making it the first time the building was illuminated to honor a television program. From June 1 to 3, 2012, the building was lit in blue and white, the colors of the Israeli flag, in honor of the 49th annual Celebrate Israel Parade.\\nDuring 2012, the building\\'s metal halide lamps and floodlights were replaced with LED fixtures, increasing the available colors from nine to over 16 million. The computer-controlled system allows the building to be illuminated in ways that were unable to be done previously with plastic gels. For instance, on November 6, 2012, CNN used the top of the Empire State Building as a scoreboard for the 2012 United States presidential election. When incumbent president Barack Obama had reached the 270 electoral votes necessary to win re-election, the lights turned blue. Had Republican challenger Mitt Romney won, the building would have been lit red. Also, on November 26, 2012, the building had its first ever synchronized light show, using music from recording artist Alicia Keys. Those wishing to hear the music could tune to certain radio stations in the New York area. A video of the performance was posted online the next day. In 2013 the lights were changed to Financial Times pink. In the run-up week to Super Bowl XLVIII held at MetLife Stadium on February 2, 2014, the building was lit in a contest sponsored by the National Football League\\'s wireless partner, Verizon Wireless to determine both the winner and fan support for the two teams via their team colors in the game through the #WhosGonnaWin Twitter hashtag, either the \"action green\" and navy blue of the Seattle Seahawks or orange and blue of the Denver Broncos, along with a light show during the game\\'s halftime.\\n\\n\\n=== Height records and comparisons ===\\n\\nThe Empire State Building remained the tallest man-made structure in the world for 23 years before it was surpassed by the Griffin Television Tower Oklahoma (KWTV Mast) in 1954. It was also the tallest free-standing structure in the world for 36 years before it was surpassed by the Ostankino Tower in 1967.\\nThe longest world record held by the Empire State Building was for the tallest skyscraper (to structural height), which it held for 42 years until it was surpassed by the North Tower of the World Trade Center in 1972. An early-1970s proposal to dismantle the spire and replace it with an additional 11 floors, which would have brought the building\\'s height to 1,494 feet (455 m) and made it once again the world\\'s tallest at the time, was considered but ultimately rejected.\\nWith the destruction of the World Trade Center in the September 11 attacks, the Empire State Building again became the tallest building in New York City, and the second-tallest building in the Americas, surpassed only by the Willis Tower in Chicago. It is currently the fifth-tallest, surpassed by the Willis Tower, the Trump International Hotel and Tower (Chicago), 432 Park Avenue and the new One World Trade Center. One World Trade Center surpassed the roof height of the Empire State Building on April 30, 2012, and became the tallest building in New York City\\u2014on the way toward becoming the tallest building in the Americas at a planned 1,776 feet (541 m).\\nThe Empire State Building is currently the fifth-tallest completed skyscraper in the United States, after the One World Trade Center, 432 Park Avenue in New York City, the Willis Tower and Trump International Hotel and Tower, both in Chicago. It is also the 25th-tallest in the world, the tallest now is Burj Khalifa, located in Dubai. It is also the fifth-tallest freestanding structure in the Americas.\\nOn clear days, the building can be seen from much of the New York Metropolitan Area, and as far away as New Haven, Connecticut and Morristown, New Jersey.\\n\\n\\n=== Neighboring Midtown Manhattan landmarks ===\\nThe Empire State Building anchors an area of Midtown which features other major Manhattan landmarks as well, including Macy\\'s Herald Square, Koreatown, Penn Station, Madison Square Garden, and the Flower District. Together, these sites contribute to a significant volume of commuter and tourist pedestrian traffic traversing the southern portion of Midtown Manhattan.\\n\\n\\n== In popular culture ==\\n\\n\\n=== Film ===\\n\\nPerhaps the most famous popular culture representation of the building is in King Kong (1933), in which the title character, a giant ape, climbs to the top to escape his captors but falls to his death after being attacked by airplanes. In 1983, for the film\\'s fiftieth anniversary, a huge 90-foot (27 m) tall inflatable Kong was placed on the building mast above the observation deck by artist Robert Vicino. In 2005, Peter Jackson\\'s remake of King Kong was released, set in 1930s New York City, including a final showdown between Kong and biplanes atop a greatly detailed Empire State Building. (The 1976 remake of King Kong was set in a contemporary New York City and held its climactic scene on the towers of the World Trade Center.)\\nLove Affair (1939) involves a couple who plan to meet atop the Empire State Building, a rendezvous that is prevented by an automobile accident. The film was remade in 1957 (as An Affair to Remember) and in 1994 (again as Love Affair). Sleepless in Seattle (1993), a romantic comedy partially inspired by An Affair to Remember, climaxes with scenes in the Empire State Building\\'s lobby and observatory.\\nIn the Looney Tunes cartoon \"Much Ado About Nutting\", a squirrel has so much difficulty opening a coconut he carries it to the Empire State Building\\'s observation deck and tosses it over the edge. While the street is damaged by the impact, the coconut remains intact.\\nIn the 1946 Looney Tunes cartoon Baseball Bugs, Bugs Bunny is pitching in the Polo Grounds against the Gashouse Gorillas. In the bottom of the ninth, with two outs and Bugs protecting a one run lead, the opposition hits the ball out of the park for an apparent game-winning two-run homer. Bugs pursues the ball through New York City. The chase culminates at the \"Umpire State Building\". Bugs ascends to the top of the building by elevator and catches the ball for the third out, winning the game.\\nIn the Tom and Jerry cartoon \"Mouse in Manhattan\", Jerry walks by and views the Empire State Building, along with other landmarks, including the Statue of Atlas at Rockefeller Center and Grand Central Terminal.\\nAndy Warhol\\'s 1964 silent film Empire is one continuous, eight-hour black-and-white shot of the Empire State Building at night. In 2004, the National Film Registry deemed its cultural significance worthy of preservation in the Library of Congress.\\nIn Percy Jackson & the Olympians: The Lightning Thief (2010), Mount Olympus is located over the Empire State Building, and there is a special elevator in the building to the \"600th floor\", which is supposed to be Olympus, just like in the book series.\\nThe building is chosen as Ground Zero for the target of a nuclear bomb that is dropped on New York in Fail-Safe (1964).\\nBoth Zero Mostel and Gene Wilder go to the Observation Deck of the building in the original Mel Brooks film The Producers.\\nIn The Time Machine (2002), the Empire State Building is still standing in the year 2030, but dwarfed by several larger skyscrapers around it. It is not visible in later scenes set in a post-apocalyptic New York.\\nIn Sky Captain and the World of Tomorrow (2004), the top of the building serves its original purpose of being a docking station for dirigibles, and the Hindenburg III docks at it on its maiden voyage.\\nThe building starred in Enchanted (2007) which Giselle tried to rescue Robert from Queen Narissa in her dragon form.\\nMany films have opened with the Empire State Building, such as West Side Story (1961), Step Up 3D and The Other Guys (both 2010).\\nThe building has been destroyed in some disaster films, such as Independence Day (1996) and Knowing (2009).\\nIn The Divide (2011), the building is destroyed by a nuclear bomb detonated on New York. It was heavily featured on posters promoting the film.\\nIn Superman II (1980), Ursa (Sarah Douglas) uses a flagpole to knock Superman (Christopher Reeve) into the tower of the Chrysler Building. He ducks with Non (Jack O\\'Halloran) taking the blast. However, scenes showing the tower falling and being flown back to the top by Superman are of the Empire State Building.\\nIn The 5th Wave, the building happens to survive a massive tsunami that hits Manhattan during an alien invasion.\\nMany other films that feature the Empire State Building are listed on the building\\'s own website.\\n\\n\\n=== Television ===\\nIn the 1965 four-part Underdog cartoon serial \"The Phoney Booths\" (episodes 49-52), Underdog falls under the mental control of mad scientist Simon Bar Sinister. Simon orders Underdog to use his super powers to bring him valuable objects - including the Empire State Building, which Underdog lifts whole to bring it to Simon. In the end, circumstances release Underdog from Simon\\u2019s control. He defeats the evil scientist and puts back the Empire State Building.\\nThe Empire State Building featured in the 1966 Doctor Who serial The Chase, in which the TARDIS lands on the roof of the building; The Doctor and his companions leave quite quickly, however, because The Daleks are close behind them. A Dalek is also seen on the roof of the building while it interrogates a human. In 2007, Doctor Who episodes \"Daleks in Manhattan\" and \"Evolution of the Daleks\" also featured the building, which the Daleks are constructing to use as a lightning conductor. Russell T Davies said in an article that \"in his mind\", the Daleks remembered the building from their last visit.\\nIn the science fiction drama series Fringe, the observation deck of the Empire State Building serves its primary purpose as a docking station for zeppelins in the parallel universe shown in the second season episode Peter.\\nThe Discovery Channel show MythBusters tested the urban myth which claims that if one drops a penny off the top of the Empire State Building, it could kill someone or put a crater in the pavement. The outcome was that, by the time the penny hits the ground, it is going roughly 65 mph (105 km/h) (terminal velocity for an object of its mass and shape), which is not fast enough to inflict lethal injury or put a crater into the pavement. The urban legend is a joke in the 2003 musical Avenue Q, where a character waiting atop the building for a rendezvous tosses a penny over the side\\u2014only to hit her rival.\\nIn Gerry Anderson\\'s popular puppet series Thunderbirds, the episode Terror in New York City, the Empire State Building is being moved to a new location as the site around it is set for redevelopment. However, something goes wrong and the building collapses, trapping a reporter and his cameraman underneath the rubble. Their rescue is the focus of the rest of the episode.\\nThe music video of the song \"Everything is Everything\" (by singer Lauryn Hill) prominently features the Empire State Building as the center of a city (record) turntable.\\nIn the episode \"First Time in New York\" of the television series How I Met Your Mother (originally aired on January 8, 2007), the gang takes Robin\\'s sister Katie to the Empire State Building. On the first day, they only got to the lobby, but they eventually went to the top the next day.\\n\\n\\n=== Literature ===\\nH.G. Wells\\' 1933 science fiction novel The Shape of Things to Come, written in the form of a history book published in the far future, includes the following passage: \"Up to quite recently Lower New York has been the most old-fashioned city in the world, unique in its gloomy antiquity. The last of the ancient skyscrapers, the Empire State Building, is even now under demolition in C.E. 2106!\".\\nDavid Macaulay\\'s 1980 illustrated book Unbuilding depicts the Empire State Building being purchased by a Middle Eastern billionaire and disassembled piece by piece, to be transported to Saudi Arabia and rebuilt there. The mooring mast is rebuilt in New York, while the remainder of the building is lost at sea.\\nGiannina Braschi\\'s Empire of Dreams, a Latin American poetry epic published in 1988, featured a pastoral revolution on the top floor of the Empire State Building, where shepherds danced and sang songs of revolution.\\nThe Empire State Building is featured prominently as both a setting and integral plot device throughout much of Michael Chabon\\'s 2000 Pulitzer Prize-winning novel, The Amazing Adventures of Kavalier & Clay.\\nIn his \"biography\", Doc Savage: His Apocalyptic Life, Philip Jose Farmer theorizes that the skyscraper in which Doc Savage lived and where he met with his comrades, had his laboratories, etc., was the Empire State Building. Since the 86th Floor (mentioned in the Savage stories as his floor) was the Observatory, one may presume that Doc \"actually\" lived on another floor.\\nIn the series, \"Percy Jackson & the Olympians\", Rick Riordan shows the Empire State Building as the headquarters of the Olympian Gods, where the Greek Gods live and also hold their meetings.\\nIn the 1961 children\\'s novel James and the Giant Peach by Roald Dahl, the giant peach is dropped onto the lightning rod of the Empire State Building at the end. This novel was later adapted in a film under the same name in 1996, which features the same part where the peach falls on to the Building\\'s antenna.\\nIn the sci-fi/alternate history series of novels Wild Cards, the 86th floor is the location of New York\\'s premier chic restaurant, Aces High, a very popular hangout for the superpowered aces.\\n\\n\\n=== Other ===\\nA 7.6 feet (2.3 m) scale model built from 12,000 LEGO bricks over 250 hours is featured along with other notable buildings in the LEGO Architecture: Towering Ambition exhibition at the National Building Museum in Washington, D.C.\\nThe Empire State Building Run-Up is a foot race from ground level to the 86th-floor observation deck that has been held annually since 1978. Its participants are referred to both as runners and as climbers, and are often tower running enthusiasts. The race covers a vertical distance of 1,050 feet (320 m) and takes in 1,576 steps. The record time is 9 minutes and 33 seconds, achieved by Australian professional cyclist Paul Crake in 2003, at a climbing rate of 6,593 ft (2,010 m) per hour.\\n\\n\\n== Notable tenants ==\\n\\n\\n== Gallery ==\\n\\n\\n== See also ==\\n\\nList of buildings with 100 floors or more\\nList of tallest buildings in the world\\nList of tallest buildings in the United States\\nList of tallest buildings in New York City\\nList of tallest buildings by U.S. state\\nList of tallest freestanding structures in the world\\nHistory of the tallest skyscrapers\\n\\n\\n== References ==\\nNotes\\n\\nCitations\\n\\nBibliography\\n\\n\\n== External links ==\\nOfficial website\\nEmpire State Building on CTBUH Skyscraper Center\\nEmpire State Building (1930) \\u2013 film footage of the building\\'s construction at British Path\\xe9 News\\nHearst Magazines (December 1930). Popular Mechanics. Hearst Magazines. p. 920. \\nEmpire State Building green retrofit archive at the Internet Archive\\nEmpire State Building trivia at About.com\\nEmpire State Building under construction (1930\\u20131931) at the New York Public Library\\nEmpire State Building at Viva 2 \\u2013 archive of over 500 construction photographs at The Skyscraper Museum\\nStreetscapes: The Empire State Building slideshow at The New York Times\\nList of tenants at the Empire State Building - Companies located at 350 5th Avenue, New York NY'"
      ]
     },
     "execution_count": 8,
     "metadata": {},
     "output_type": "execute_result"
    }
   ],
   "source": [
    "ESB.content\n"
   ]
  },
  {
   "cell_type": "code",
   "execution_count": 11,
   "metadata": {
    "collapsed": false
   },
   "outputs": [
    {
     "data": {
      "text/plain": [
       "u\"January is the first month of the year in the Julian and Gregorian calendars and the first month to have the length of 31 days. The first day of the month is known as New Year's Day. It is, on average, the coldest month of the year within most of the Northern Hemisphere (where it is the second month of winter) and the warmest month of the year within most of the Southern Hemisphere (where it is the second month of summer).\""
      ]
     },
     "execution_count": 11,
     "metadata": {},
     "output_type": "execute_result"
    }
   ],
   "source": [
    ">>> wikipedia.summary(\"January\", sentences=3)\n"
   ]
  },
  {
   "cell_type": "markdown",
   "metadata": {
    "slideshow": {
     "slide_type": "slide"
    }
   },
   "source": [
    "<a name=\"conclusion\"></a>\n",
    "## Conclusion (5 min)\n",
    "Today we learned about HTTP, APIs and JSON formats. They are very important for systematically accessing data from the web.\n",
    "\n",
    "**Check:** can you think of a few websites you would like to pull data from? Do they have an API available?"
   ]
  },
  {
   "cell_type": "markdown",
   "metadata": {},
   "source": [
    "### ADDITIONAL RESOURCES\n",
    "\n",
    "- [Blog post on json with pandas](https://www.dataquest.io/blog/using-json-data-in-pandas/)\n",
    "- [API article Wikipedia](https://en.wikipedia.org/wiki/Application_programming_interface)\n",
    "- [Programmable web](http://www.programmableweb.com/)"
   ]
  }
 ],
 "metadata": {
  "celltoolbar": "Slideshow",
  "kernelspec": {
   "display_name": "Python [Python2]",
   "language": "python",
   "name": "Python [Python2]"
  },
  "language_info": {
   "codemirror_mode": {
    "name": "ipython",
    "version": 2
   },
   "file_extension": ".py",
   "mimetype": "text/x-python",
   "name": "python",
   "nbconvert_exporter": "python",
   "pygments_lexer": "ipython2",
   "version": "2.7.12"
  }
 },
 "nbformat": 4,
 "nbformat_minor": 0
}
