{
 "cells": [
  {
   "cell_type": "markdown",
   "metadata": {},
   "source": [
    "---\n",
    "title: Roman Numerals\n",
    "duration: \"1:00\"\n",
    "---\n",
    "\n",
    "# ![](https://ga-dash.s3.amazonaws.com/production/assets/logo-9f88ae6c9c3871690e33280fcf557f33.png) Morning Exercise: Romans Numerals\n",
    "Week 6 | Exercise 1.0\n",
    "\n",
    "![](http://blog.world-mysteries.com/wp-content/uploads/2012/02/gk_mtable.jpg)\n",
    "\n",
    "Take the Roman numerals from 1-1000. [Here's a lookup table](http://literacy.kent.edu/Minigrants/Cinci/romanchart.htm) if you need a refresher.\n",
    "\n",
    "1. Write a function to_roman() that converts an integer to its value as a Roman numeral.\n",
    "2. Write a function from_roman() that does the reverse: convert a string of Roman numerals to its integer value.\n",
    "3. Submit each of your functions to Slack. Look at your classmates functions. See if you can find a way to break their code.\n",
    "\n",
    "Your functions should be able to handle integers from 1-1000 and return out the appropriate errors if the input is out of range, or of the wrong type.\n",
    "\n",
    "Here's your partner for this morning:\n",
    "\n",
    "```bash\n",
    "('Tim', 'Kristen')\n",
    "\n",
    "('Tiana', 'Andrew')\n",
    "\n",
    "('Jocelyn', 'Sam')\n",
    "\n",
    "('Betsy', 'Rachel')\n",
    "\n",
    "('Joshua', 'Jesse')\n",
    "\n",
    "('Doug', 'Amish')\n",
    "\n",
    "('Thomas', 'Amer')\n",
    "\n",
    "('Debjani', 'Sara')\n",
    "\n",
    "('JP', 'Peida')\n",
    "\n",
    "('Mike', '*')\n",
    "\n",
    "\n",
    "```\n"
   ]
  },
  {
   "cell_type": "code",
   "execution_count": 35,
   "metadata": {
    "collapsed": false
   },
   "outputs": [
    {
     "ename": "RuntimeError",
     "evalue": "maximum recursion depth exceeded",
     "output_type": "error",
     "traceback": [
      "\u001b[0;31m---------------------------------------------------------------------------\u001b[0m",
      "\u001b[0;31mRuntimeError\u001b[0m                              Traceback (most recent call last)",
      "\u001b[0;32m<ipython-input-35-fc9e83dc4e40>\u001b[0m in \u001b[0;36m<module>\u001b[0;34m()\u001b[0m\n\u001b[1;32m     16\u001b[0m \u001b[0;34m\u001b[0m\u001b[0m\n\u001b[1;32m     17\u001b[0m \u001b[0;34m\u001b[0m\u001b[0m\n\u001b[0;32m---> 18\u001b[0;31m \u001b[0mmake_roman\u001b[0m\u001b[0;34m(\u001b[0m\u001b[0;36m620\u001b[0m\u001b[0;34m)\u001b[0m\u001b[0;34m\u001b[0m\u001b[0m\n\u001b[0m",
      "\u001b[0;32m<ipython-input-35-fc9e83dc4e40>\u001b[0m in \u001b[0;36mmake_roman\u001b[0;34m(number)\u001b[0m\n\u001b[1;32m     11\u001b[0m         \u001b[0mroman\u001b[0m \u001b[0;34m=\u001b[0m \u001b[0mroman\u001b[0m \u001b[0;34m+\u001b[0m \u001b[0;34m'L'\u001b[0m\u001b[0;34m\u001b[0m\u001b[0m\n\u001b[1;32m     12\u001b[0m         \u001b[0mnumber\u001b[0m\u001b[0;34m-=\u001b[0m\u001b[0;36m50\u001b[0m\u001b[0;34m\u001b[0m\u001b[0m\n\u001b[0;32m---> 13\u001b[0;31m     \u001b[0;32mreturn\u001b[0m \u001b[0mmake_roman\u001b[0m\u001b[0;34m(\u001b[0m\u001b[0mnumber\u001b[0m\u001b[0;34m)\u001b[0m\u001b[0;34m\u001b[0m\u001b[0m\n\u001b[0m\u001b[1;32m     14\u001b[0m     \u001b[0;32mprint\u001b[0m \u001b[0mroman\u001b[0m\u001b[0;34m\u001b[0m\u001b[0m\n\u001b[1;32m     15\u001b[0m     \u001b[0;32mprint\u001b[0m \u001b[0mnumber\u001b[0m\u001b[0;34m\u001b[0m\u001b[0m\n",
      "... last 1 frames repeated, from the frame below ...\n",
      "\u001b[0;32m<ipython-input-35-fc9e83dc4e40>\u001b[0m in \u001b[0;36mmake_roman\u001b[0;34m(number)\u001b[0m\n\u001b[1;32m     11\u001b[0m         \u001b[0mroman\u001b[0m \u001b[0;34m=\u001b[0m \u001b[0mroman\u001b[0m \u001b[0;34m+\u001b[0m \u001b[0;34m'L'\u001b[0m\u001b[0;34m\u001b[0m\u001b[0m\n\u001b[1;32m     12\u001b[0m         \u001b[0mnumber\u001b[0m\u001b[0;34m-=\u001b[0m\u001b[0;36m50\u001b[0m\u001b[0;34m\u001b[0m\u001b[0m\n\u001b[0;32m---> 13\u001b[0;31m     \u001b[0;32mreturn\u001b[0m \u001b[0mmake_roman\u001b[0m\u001b[0;34m(\u001b[0m\u001b[0mnumber\u001b[0m\u001b[0;34m)\u001b[0m\u001b[0;34m\u001b[0m\u001b[0m\n\u001b[0m\u001b[1;32m     14\u001b[0m     \u001b[0;32mprint\u001b[0m \u001b[0mroman\u001b[0m\u001b[0;34m\u001b[0m\u001b[0m\n\u001b[1;32m     15\u001b[0m     \u001b[0;32mprint\u001b[0m \u001b[0mnumber\u001b[0m\u001b[0;34m\u001b[0m\u001b[0m\n",
      "\u001b[0;31mRuntimeError\u001b[0m: maximum recursion depth exceeded"
     ]
    }
   ],
   "source": [
    "\n",
    "roman = []\n",
    "def make_roman(number): \n",
    "    if number % 1000 == 0:\n",
    "        roman = 'M'\n",
    "    elif number % 500 >= 0:\n",
    "        roman = 'D'\n",
    "        number -= 500\n",
    "#        return make_roman(number)\n",
    "    elif number % 50 >= 0:\n",
    "        roman = roman + 'L'\n",
    "        number-=50\n",
    "    print roman\n",
    "    print number\n",
    "    \n",
    "\n",
    "make_roman(620)"
   ]
  },
  {
   "cell_type": "code",
   "execution_count": 36,
   "metadata": {
    "collapsed": false
   },
   "outputs": [
    {
     "name": "stdout",
     "output_type": "stream",
     "text": [
      "CMXCIX\n",
      "999\n",
      "LXXIX\n",
      "79\n"
     ]
    }
   ],
   "source": [
    "ones={0:\"\",1:\"I\",2:\"II\",3:\"III\",4:\"IV\",5:\"V\",6:\"VI\",7:\"VII\",8:\"VIII\",9:\"IX\"}\n",
    "tens={0:\"\",1:\"X\",2:\"XX\",3:\"XXX\",4:\"XL\",5:\"L\",6:\"LX\",7:\"LXX\",8:\"LXXX\",9:\"XC\"}\n",
    "hund={0:\"\",1:\"C\",2:\"CC\",3:\"CCC\",4:\"CD\",5:\"D\",6:\"DC\",7:\"DCC\",8:\"DCCC\",9:\"CM\"}\n",
    "thou={0:\"\",1:\"M\"}\n",
    "\n",
    "def to_roman(number):\n",
    "    one = number%10\n",
    "    ten = (number%100 - one)/10\n",
    "    hun = (number%1000 - (ten + one))/100\n",
    "    thousand = (number%10000 - (ten + one + hun))/1000\n",
    "    print thou[thousand] + hund[hun] + tens[ten] + ones[one]\n",
    "    \n",
    "ones_r = {y:x for x,y in ones.iteritems()}\n",
    "tens_r = {y:x*10 for x,y in tens.iteritems()}\n",
    "hund_r = {y:x*100 for x,y in hund.iteritems()}\n",
    "thou_r = {y:x*1000 for x,y in thou.iteritems()}\n",
    "romans = dict(ones_r.items() + tens_r.items() + hund_r.items() + thou_r.items())\n",
    "\n",
    "def from_roman(number):\n",
    "    out = 0\n",
    "    prior = 0\n",
    "    for c in number[::-1]:\n",
    "        if prior > romans[c]:\n",
    "            out -= romans[c]\n",
    "            prior = romans[c]\n",
    "        else:\n",
    "            out += romans[c]\n",
    "            prior = romans[c]\n",
    "    print out\n",
    "    \n",
    "to_roman(999)\n",
    "from_roman('CMXCIX')\n",
    "to_roman(79)\n",
    "from_roman('LXXIX')"
   ]
  },
  {
   "cell_type": "code",
   "execution_count": 37,
   "metadata": {
    "collapsed": false
   },
   "outputs": [
    {
     "name": "stdout",
     "output_type": "stream",
     "text": [
      "CMXCIX\n",
      "999\n",
      "LXXIX\n",
      "79\n"
     ]
    }
   ],
   "source": [
    "ones={0:\"\",1:\"I\",2:\"II\",3:\"III\",4:\"IV\",5:\"V\",6:\"VI\",7:\"VII\",8:\"VIII\",9:\"IX\"}\n",
    "tens={0:\"\",1:\"X\",2:\"XX\",3:\"XXX\",4:\"XL\",5:\"L\",6:\"LX\",7:\"LXX\",8:\"LXXX\",9:\"XC\"}\n",
    "hund={0:\"\",1:\"C\",2:\"CC\",3:\"CCC\",4:\"CD\",5:\"D\",6:\"DC\",7:\"DCC\",8:\"DCCC\",9:\"CM\"}\n",
    "thou={0:\"\",1:\"M\"}\n",
    "\n",
    "def to_roman(number):\n",
    "    one = number%10\n",
    "    ten = (number%100 - one)/10\n",
    "    hun = (number%1000 - (ten + one))/100\n",
    "    thousand = (number%10000 - (ten + one + hun))/1000\n",
    "    print thou[thousand] + hund[hun] + tens[ten] + ones[one]\n",
    "    \n",
    "ones_r = {y:x for x,y in ones.iteritems()}\n",
    "tens_r = {y:x*10 for x,y in tens.iteritems()}\n",
    "hund_r = {y:x*100 for x,y in hund.iteritems()}\n",
    "thou_r = {y:x*1000 for x,y in thou.iteritems()}\n",
    "romans = dict(ones_r.items() + tens_r.items() + hund_r.items() + thou_r.items())\n",
    "\n",
    "def from_roman(number):\n",
    "    out = 0\n",
    "    prior = 0\n",
    "    for c in number[::-1]:\n",
    "        if prior > romans[c]:\n",
    "            out -= romans[c]\n",
    "            prior = romans[c]\n",
    "        else:\n",
    "            out += romans[c]\n",
    "            prior = romans[c]\n",
    "    print out\n",
    "    \n",
    "to_roman(999)\n",
    "from_roman('CMXCIX')\n",
    "to_roman(79)\n",
    "from_roman('LXXIX')"
   ]
  }
 ],
 "metadata": {
  "anaconda-cloud": {},
  "kernelspec": {
   "display_name": "Python [Python2]",
   "language": "python",
   "name": "Python [Python2]"
  },
  "language_info": {
   "codemirror_mode": {
    "name": "ipython",
    "version": 2
   },
   "file_extension": ".py",
   "mimetype": "text/x-python",
   "name": "python",
   "nbconvert_exporter": "python",
   "pygments_lexer": "ipython2",
   "version": "2.7.12"
  }
 },
 "nbformat": 4,
 "nbformat_minor": 1
}
