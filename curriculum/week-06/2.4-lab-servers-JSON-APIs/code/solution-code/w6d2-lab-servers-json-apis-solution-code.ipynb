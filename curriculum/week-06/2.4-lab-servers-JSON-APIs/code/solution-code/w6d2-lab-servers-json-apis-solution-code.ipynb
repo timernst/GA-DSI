{
 "cells": [
  {
   "cell_type": "markdown",
   "metadata": {},
   "source": [
    "# APIs Lab\n",
    "In this lab we will practice using APIs to retrieve and store data."
   ]
  },
  {
   "cell_type": "code",
   "execution_count": 2,
   "metadata": {
    "collapsed": false
   },
   "outputs": [],
   "source": [
    "# Imports at the top\n",
    "import json\n",
    "import urllib\n",
    "import pandas as pd\n",
    "import numpy as np\n",
    "import requests\n",
    "import json\n",
    "import re\n",
    "import matplotlib.pyplot as plt\n",
    "%matplotlib inline"
   ]
  },
  {
   "cell_type": "markdown",
   "metadata": {},
   "source": [
    "## Exercise 1: Get Data From Sheetsu\n",
    "\n",
    "[Sheetsu](https://sheetsu.com/) is an online service that allows you to access any Google spreadsheet from an API. This can be a very handy way to share a dataset with colleagues as well as to create a mini centralized data storage, that is simpler to edit than a database.\n",
    "\n",
    "A Google Spreadsheet with wine data can be found [here](https://docs.google.com/a/generalassemb.ly/spreadsheets/d/1JWRwDnwIMLgvPqNMdJLmAJgzvz0K3zAUc6jev3ci1c8/edit?usp=sharing).\n",
    "\n",
    "You can access it through the Sheetsu API at this endpoint: https://sheetsu.com/apis/v1.0/cc9420722ae4. [Here](https://sheetsu.com/docs/beta) is Sheetsu's documentation.\n",
    "\n",
    "Questions:\n",
    "\n",
    "1. Use the requests library to access the document. Inspect the response text. What kind of data is it?\n",
    "> Answer: it's a json string\n",
    "- Check the status code of the response object. What code is it?\n",
    "> 200\n",
    "- Use the appropriate libraries and read functions to read the response into a Pandas Dataframe\n",
    "> Possible answers include: pd.read_json and json.loads + pd.Dataframe\n",
    "- Once you've imported the data into a dataframe, check the value of the 5th line: what's the price?\n",
    "> 6"
   ]
  },
  {
   "cell_type": "code",
   "execution_count": null,
   "metadata": {
    "collapsed": true
   },
   "outputs": [],
   "source": [
    "# You can either post or get info from this API\n",
    "api_base_url = 'https://sheetsu.com/apis/v1.0/cc9420722ae4'"
   ]
  },
  {
   "cell_type": "code",
   "execution_count": null,
   "metadata": {
    "collapsed": false,
    "scrolled": true
   },
   "outputs": [],
   "source": [
    "# What kind of data is this returning?\n",
    "api_response = requests.get(api_base_url)\n",
    "api_response.text[:200]"
   ]
  },
  {
   "cell_type": "code",
   "execution_count": null,
   "metadata": {
    "collapsed": false
   },
   "outputs": [],
   "source": [
    "response = json.loads(api_response.text)"
   ]
  },
  {
   "cell_type": "code",
   "execution_count": null,
   "metadata": {
    "collapsed": false
   },
   "outputs": [],
   "source": [
    "type(response)"
   ]
  },
  {
   "cell_type": "code",
   "execution_count": null,
   "metadata": {
    "collapsed": false
   },
   "outputs": [],
   "source": [
    "response[0]"
   ]
  },
  {
   "cell_type": "code",
   "execution_count": null,
   "metadata": {
    "collapsed": false
   },
   "outputs": [],
   "source": [
    "api_response.status_code"
   ]
  },
  {
   "cell_type": "markdown",
   "metadata": {},
   "source": [
    "#### Lets read the data into a DataFrame!"
   ]
  },
  {
   "cell_type": "code",
   "execution_count": null,
   "metadata": {
    "collapsed": false
   },
   "outputs": [],
   "source": [
    "wine_df = pd.DataFrame(response)\n",
    "wine_df.head()"
   ]
  },
  {
   "cell_type": "markdown",
   "metadata": {},
   "source": [
    "#### Pandas has great functions. We could just do it this way\n",
    "\n",
    "This sometimes works, but the data may need adjusting"
   ]
  },
  {
   "cell_type": "code",
   "execution_count": null,
   "metadata": {
    "collapsed": false
   },
   "outputs": [],
   "source": [
    "wine_df = pd.read_json(api_response.text)\n",
    "wine_df.tail(2)"
   ]
  },
  {
   "cell_type": "markdown",
   "metadata": {},
   "source": [
    "### Exercise 2: Post Data to Sheetsu\n",
    "Now that we've learned how to read data, it'd be great if we could also write data. For this we will need to use a _POST_ request.\n",
    "\n",
    "1. Use the post command to add the following data to the spreadsheet:\n",
    "- What status did you get? How can you check that you actually added the data correctly?\n",
    "> Answer: send a get request and check the last line added\n",
    "- In this exercise, your classmates are adding data to the same spreadsheet. What happens because of this? Is it a problem? How could you mitigate it?\n",
    "> There will be many duplicate lines on the spreadsheet. One way to mitigate this would be through permission, another would be to insert at a specific position, so that the line is overwritten at each time.\n"
   ]
  },
  {
   "cell_type": "code",
   "execution_count": null,
   "metadata": {
    "collapsed": true
   },
   "outputs": [],
   "source": [
    "post_data = {\n",
    "'Grape' : ''\n",
    ", 'Name' : 'My wonderful wine'\n",
    ", 'Color' : 'R'\n",
    ", 'Country' : 'US'\n",
    ", 'Region' : 'Sonoma'\n",
    ", 'Vinyard' : ''\n",
    ", 'Score' : '10'\n",
    ", 'Consumed In' : '2015'\n",
    ", 'Vintage' : '1973'\n",
    ", 'Price' : '200'\n",
    "}"
   ]
  },
  {
   "cell_type": "code",
   "execution_count": null,
   "metadata": {
    "collapsed": false
   },
   "outputs": [],
   "source": [
    "requests.post(api_base_url, data=post_data)"
   ]
  },
  {
   "cell_type": "markdown",
   "metadata": {},
   "source": [
    "## Exercise 3: Data munging\n",
    "\n",
    "Get back to the dataframe you've created in the beginning. Let's do some data munging:\n",
    "\n",
    "1. Search for missing data\n",
    "    - Is there any missing data? How do you deal with it?\n",
    "    - Is there any data you can just remove?\n",
    "    - Are the data types appropriate?\n",
    "- Summarize the data \n",
    "    - Try using describe, min, max, mean, var"
   ]
  },
  {
   "cell_type": "code",
   "execution_count": null,
   "metadata": {
    "collapsed": false
   },
   "outputs": [],
   "source": [
    "wine_df.head(1)"
   ]
  },
  {
   "cell_type": "code",
   "execution_count": null,
   "metadata": {
    "collapsed": false
   },
   "outputs": [],
   "source": [
    "wine_df = wine_df.replace('', np.nan)"
   ]
  },
  {
   "cell_type": "code",
   "execution_count": null,
   "metadata": {
    "collapsed": false
   },
   "outputs": [],
   "source": [
    "wine_df.head(1)"
   ]
  },
  {
   "cell_type": "code",
   "execution_count": null,
   "metadata": {
    "collapsed": false
   },
   "outputs": [],
   "source": [
    "wine_df.info()"
   ]
  },
  {
   "cell_type": "code",
   "execution_count": null,
   "metadata": {
    "collapsed": false
   },
   "outputs": [],
   "source": [
    "wine_df[['Score', 'Price']] = wine_df[['Score', 'Price']].astype(float)"
   ]
  },
  {
   "cell_type": "code",
   "execution_count": null,
   "metadata": {
    "collapsed": false
   },
   "outputs": [],
   "source": [
    "wine_df.describe()"
   ]
  },
  {
   "cell_type": "code",
   "execution_count": null,
   "metadata": {
    "collapsed": false
   },
   "outputs": [],
   "source": [
    "wine_df.head()"
   ]
  },
  {
   "cell_type": "markdown",
   "metadata": {},
   "source": [
    "## Exercise 4: Feature Extraction\n",
    "\n",
    "We would like to use a regression tree to predict the score of a wine. In order to do that, we first need to select and engineer appropriate features.\n",
    "\n",
    "- Set the target to be the Score column, drop the rows with no score\n",
    "- Use pd.get_dummies to create dummy features for all the text columns\n",
    "- Fill the nan values in the numerical columns, using an appropriate method\n",
    "- Train a Decision tree regressor on the Score, using a train test split:\n",
    "        X_train, X_test, y_train, y_test, = train_test_split(X, y, test_size=0.3, random_state=42)\n",
    "- Plot the test values, the predicted values and the residuals\n",
    "- Calculate R^2 score\n",
    "- Discuss your findings\n"
   ]
  },
  {
   "cell_type": "code",
   "execution_count": null,
   "metadata": {
    "collapsed": false
   },
   "outputs": [],
   "source": [
    "dropped = wine_df[~wine_df['Score'].isnull()]"
   ]
  },
  {
   "cell_type": "code",
   "execution_count": null,
   "metadata": {
    "collapsed": true
   },
   "outputs": [],
   "source": [
    "y = dropped['Score']"
   ]
  },
  {
   "cell_type": "code",
   "execution_count": null,
   "metadata": {
    "collapsed": true
   },
   "outputs": [],
   "source": [
    "numerical = ['Consumed In', 'Price', 'Vintage']\n",
    "dummies = [c for c in dropped.columns if c not in numerical + ['Score']]"
   ]
  },
  {
   "cell_type": "code",
   "execution_count": null,
   "metadata": {
    "collapsed": false
   },
   "outputs": [],
   "source": [
    "X = dropped[numerical].join(pd.get_dummies(dropped[dummies]))"
   ]
  },
  {
   "cell_type": "code",
   "execution_count": null,
   "metadata": {
    "collapsed": true
   },
   "outputs": [],
   "source": [
    "from sklearn.tree import DecisionTreeRegressor\n",
    "from sklearn.cross_validation import train_test_split\n",
    "from sklearn.preprocessing import Imputer\n",
    "from sklearn.pipeline import make_pipeline"
   ]
  },
  {
   "cell_type": "code",
   "execution_count": null,
   "metadata": {
    "collapsed": true
   },
   "outputs": [],
   "source": [
    "\"\"\" We've mentioned pipelines in class; this is a simple example. See the documentation here: \n",
    "http://scikit-learn.org/stable/modules/generated/sklearn.pipeline.Pipeline.html#sklearn.pipeline.Pipeline \"\"\"\n",
    "\n",
    "dt = make_pipeline(Imputer(),\n",
    "                   DecisionTreeRegressor())"
   ]
  },
  {
   "cell_type": "code",
   "execution_count": null,
   "metadata": {
    "collapsed": true
   },
   "outputs": [],
   "source": [
    "X_train, X_test, y_train, y_test, = train_test_split(X, y, test_size=0.3, random_state=42)"
   ]
  },
  {
   "cell_type": "code",
   "execution_count": null,
   "metadata": {
    "collapsed": false
   },
   "outputs": [],
   "source": [
    "dt.fit(X_train, y_train)"
   ]
  },
  {
   "cell_type": "code",
   "execution_count": null,
   "metadata": {
    "collapsed": false
   },
   "outputs": [],
   "source": [
    "y_pred = dt.predict(X_test)"
   ]
  },
  {
   "cell_type": "code",
   "execution_count": null,
   "metadata": {
    "collapsed": false
   },
   "outputs": [],
   "source": [
    "plt.plot(y_test.values, 'o')\n",
    "plt.plot(y_pred, 'o')\n",
    "plt.legend(['actual', 'predicted'])\n"
   ]
  },
  {
   "cell_type": "code",
   "execution_count": null,
   "metadata": {
    "collapsed": false
   },
   "outputs": [],
   "source": [
    "resid = y_pred - y_test.values\n",
    "plt.plot(resid, 'o-')\n",
    "plt.axhline(resid.mean(), color = 'r')"
   ]
  },
  {
   "cell_type": "code",
   "execution_count": null,
   "metadata": {
    "collapsed": true
   },
   "outputs": [],
   "source": [
    "from sklearn.metrics import r2_score"
   ]
  },
  {
   "cell_type": "code",
   "execution_count": null,
   "metadata": {
    "collapsed": false
   },
   "outputs": [],
   "source": [
    "r2_score(y_test, y_pred)"
   ]
  },
  {
   "cell_type": "markdown",
   "metadata": {},
   "source": [
    "Discussion\n",
    "The r-squared score is very bad and the predicted values do not seem to reproduce the expected values. This is probably due to 2 factors:\n",
    "- too few data points to actually use machine learning\n",
    "- features are probably not indicative of the score\n",
    "\n",
    "One takeaway: don't blindly apply ML models!"
   ]
  },
  {
   "cell_type": "markdown",
   "metadata": {},
   "source": [
    "## Exercise 5: IMDB Movies\n",
    "\n",
    "Sometimes an API doesn't provide all the information we would like to get and we need to be creative.\n",
    "Here we will use a combination of scraping and API calls to investigate the ratings and gross earnings of famous movies."
   ]
  },
  {
   "cell_type": "markdown",
   "metadata": {
    "collapsed": true
   },
   "source": [
    "## 5.a Get top movies\n",
    "\n",
    "The Internet Movie Database contains data about movies. Unfortunately it does not have a public API.\n",
    "\n",
    "The page http://www.imdb.com/chart/top contains the list of the top 250 movies of all times. Retrieve the page using the requests library and then parse the html to obtain a list of the `movie_ids` for these movies. You can parse it with [regular expressions](https://developers.google.com/edu/python/regular-expressions) or `BeautifulSoup`.\n",
    "\n",
    "\n",
    "**Hint:** movie_ids look like this: `tt2582802`"
   ]
  },
  {
   "cell_type": "code",
   "execution_count": 3,
   "metadata": {
    "collapsed": false
   },
   "outputs": [],
   "source": [
    "def get_top_250():\n",
    "    response = requests.get('http://www.imdb.com/chart/top')\n",
    "    html = response.text\n",
    "    entries = re.findall(\"<a href.*?/title/(.*?)/\", html)\n",
    "    return list(set(entries))"
   ]
  },
  {
   "cell_type": "code",
   "execution_count": 4,
   "metadata": {
    "collapsed": true
   },
   "outputs": [],
   "source": [
    "entries = get_top_250()"
   ]
  },
  {
   "cell_type": "code",
   "execution_count": 5,
   "metadata": {
    "collapsed": false
   },
   "outputs": [
    {
     "data": {
      "text/plain": [
       "250"
      ]
     },
     "execution_count": 5,
     "metadata": {},
     "output_type": "execute_result"
    }
   ],
   "source": [
    "len(entries)"
   ]
  },
  {
   "cell_type": "code",
   "execution_count": 6,
   "metadata": {
    "collapsed": false
   },
   "outputs": [
    {
     "data": {
      "text/plain": [
       "u'tt2582802'"
      ]
     },
     "execution_count": 6,
     "metadata": {},
     "output_type": "execute_result"
    }
   ],
   "source": [
    "entries[0]"
   ]
  },
  {
   "cell_type": "markdown",
   "metadata": {},
   "source": [
    "## 5.b Get top movies data\n",
    "\n",
    "Although the Internet Movie Database does not have a public API, an open API exists at http://www.omdbapi.com.\n",
    "\n",
    "Use this API to retrieve information about each of the 250 movies you have extracted in the previous step.\n",
    "1. Check the documentation of omdbapi.com to learn how to request movie data by ID\n",
    "- Define a function that returns a python object with all the information for a given ID\n",
    "- Iterate on all the IDs and store the results in a list of such objects\n",
    "- Create a Pandas Dataframe from the list\n",
    "\n",
    "> Check - how would you scrape movie-specific IMDB data without this third-party API?"
   ]
  },
  {
   "cell_type": "code",
   "execution_count": 7,
   "metadata": {
    "collapsed": false
   },
   "outputs": [],
   "source": [
    "def get_entry(entry):\n",
    "    res = requests.get('http://www.omdbapi.com/?i='+entry)\n",
    "    if res.status_code != 200:\n",
    "        print entry, res.status_code\n",
    "    else:\n",
    "        print '.',\n",
    "    try:\n",
    "        j = json.loads(res.text)\n",
    "    except ValueError:\n",
    "        j = None\n",
    "    return j"
   ]
  },
  {
   "cell_type": "code",
   "execution_count": 8,
   "metadata": {
    "collapsed": false
   },
   "outputs": [
    {
     "name": "stdout",
     "output_type": "stream",
     "text": [
      ". . . . . . . . . . . . . . . . . . . . . . . . . . . . . . . . . . . . . . . . . . . . . . . . . . . . . . . . . . . . . . . . . . . . . . . . . . . . . . . . . . . . . . . . . . . . . . . . . . . . . . . . . . . . . . . . . . . . . . . . . . . . . . . . . . . . . . . . . . . . . . . . . . . . . . . . . . . . . . . . . . . . . . . . . . . . . . . . . . . . . . . . . . . . . . . . . . . . . . . . . . . . . . . . . . . . . . . . . . . . . . . . . . . . . . . . . . . . . . . . . . . . . . . . . .\n"
     ]
    }
   ],
   "source": [
    "entries_dict_list = [get_entry(e) for e in entries]"
   ]
  },
  {
   "cell_type": "code",
   "execution_count": 9,
   "metadata": {
    "collapsed": false
   },
   "outputs": [
    {
     "data": {
      "text/plain": [
       "250"
      ]
     },
     "execution_count": 9,
     "metadata": {},
     "output_type": "execute_result"
    }
   ],
   "source": [
    "len(entries_dict_list)"
   ]
  },
  {
   "cell_type": "code",
   "execution_count": 10,
   "metadata": {
    "collapsed": false
   },
   "outputs": [],
   "source": [
    "df = pd.DataFrame(entries_dict_list)"
   ]
  },
  {
   "cell_type": "code",
   "execution_count": 11,
   "metadata": {
    "collapsed": false
   },
   "outputs": [
    {
     "data": {
      "text/html": [
       "<div>\n",
       "<table border=\"1\" class=\"dataframe\">\n",
       "  <thead>\n",
       "    <tr style=\"text-align: right;\">\n",
       "      <th></th>\n",
       "      <th>Actors</th>\n",
       "      <th>Awards</th>\n",
       "      <th>Country</th>\n",
       "      <th>Director</th>\n",
       "      <th>Genre</th>\n",
       "      <th>Language</th>\n",
       "      <th>Metascore</th>\n",
       "      <th>Plot</th>\n",
       "      <th>Poster</th>\n",
       "      <th>Rated</th>\n",
       "      <th>Released</th>\n",
       "      <th>Response</th>\n",
       "      <th>Runtime</th>\n",
       "      <th>Title</th>\n",
       "      <th>Type</th>\n",
       "      <th>Writer</th>\n",
       "      <th>Year</th>\n",
       "      <th>imdbID</th>\n",
       "      <th>imdbRating</th>\n",
       "      <th>imdbVotes</th>\n",
       "    </tr>\n",
       "  </thead>\n",
       "  <tbody>\n",
       "    <tr>\n",
       "      <th>0</th>\n",
       "      <td>Miles Teller, J.K. Simmons, Paul Reiser, Melis...</td>\n",
       "      <td>Won 3 Oscars. Another 87 wins &amp; 131 nominations.</td>\n",
       "      <td>USA</td>\n",
       "      <td>Damien Chazelle</td>\n",
       "      <td>Drama, Music</td>\n",
       "      <td>English</td>\n",
       "      <td>88</td>\n",
       "      <td>A promising young drummer enrolls at a cut-thr...</td>\n",
       "      <td>https://images-na.ssl-images-amazon.com/images...</td>\n",
       "      <td>R</td>\n",
       "      <td>15 Oct 2014</td>\n",
       "      <td>True</td>\n",
       "      <td>107 min</td>\n",
       "      <td>Whiplash</td>\n",
       "      <td>movie</td>\n",
       "      <td>Damien Chazelle</td>\n",
       "      <td>2014</td>\n",
       "      <td>tt2582802</td>\n",
       "      <td>8.5</td>\n",
       "      <td>413,720</td>\n",
       "    </tr>\n",
       "    <tr>\n",
       "      <th>1</th>\n",
       "      <td>Toshirô Mifune, Takashi Shimura, Keiko Tsushim...</td>\n",
       "      <td>Nominated for 2 Oscars. Another 5 wins &amp; 6 nom...</td>\n",
       "      <td>Japan</td>\n",
       "      <td>Akira Kurosawa</td>\n",
       "      <td>Action, Adventure, Drama</td>\n",
       "      <td>Japanese</td>\n",
       "      <td>98</td>\n",
       "      <td>A poor village under attack by bandits recruit...</td>\n",
       "      <td>https://images-na.ssl-images-amazon.com/images...</td>\n",
       "      <td>UNRATED</td>\n",
       "      <td>19 Nov 1956</td>\n",
       "      <td>True</td>\n",
       "      <td>207 min</td>\n",
       "      <td>Seven Samurai</td>\n",
       "      <td>movie</td>\n",
       "      <td>Akira Kurosawa (screenplay), Shinobu Hashimoto...</td>\n",
       "      <td>1954</td>\n",
       "      <td>tt0047478</td>\n",
       "      <td>8.7</td>\n",
       "      <td>232,249</td>\n",
       "    </tr>\n",
       "    <tr>\n",
       "      <th>2</th>\n",
       "      <td>Harrison Ford, Karen Allen, Paul Freeman, Rona...</td>\n",
       "      <td>Won 4 Oscars. Another 30 wins &amp; 23 nominations.</td>\n",
       "      <td>USA</td>\n",
       "      <td>Steven Spielberg</td>\n",
       "      <td>Action, Adventure</td>\n",
       "      <td>English, German, Hebrew, Spanish, Arabic, Nepali</td>\n",
       "      <td>85</td>\n",
       "      <td>Archaeologist and adventurer Indiana Jones is ...</td>\n",
       "      <td>https://images-na.ssl-images-amazon.com/images...</td>\n",
       "      <td>PG</td>\n",
       "      <td>12 Jun 1981</td>\n",
       "      <td>True</td>\n",
       "      <td>115 min</td>\n",
       "      <td>Raiders of the Lost Ark</td>\n",
       "      <td>movie</td>\n",
       "      <td>Lawrence Kasdan (screenplay), George Lucas (st...</td>\n",
       "      <td>1981</td>\n",
       "      <td>tt0082971</td>\n",
       "      <td>8.5</td>\n",
       "      <td>671,034</td>\n",
       "    </tr>\n",
       "  </tbody>\n",
       "</table>\n",
       "</div>"
      ],
      "text/plain": [
       "                                              Actors  \\\n",
       "0  Miles Teller, J.K. Simmons, Paul Reiser, Melis...   \n",
       "1  Toshirô Mifune, Takashi Shimura, Keiko Tsushim...   \n",
       "2  Harrison Ford, Karen Allen, Paul Freeman, Rona...   \n",
       "\n",
       "                                              Awards Country  \\\n",
       "0   Won 3 Oscars. Another 87 wins & 131 nominations.     USA   \n",
       "1  Nominated for 2 Oscars. Another 5 wins & 6 nom...   Japan   \n",
       "2    Won 4 Oscars. Another 30 wins & 23 nominations.     USA   \n",
       "\n",
       "           Director                     Genre  \\\n",
       "0   Damien Chazelle              Drama, Music   \n",
       "1    Akira Kurosawa  Action, Adventure, Drama   \n",
       "2  Steven Spielberg         Action, Adventure   \n",
       "\n",
       "                                           Language Metascore  \\\n",
       "0                                           English        88   \n",
       "1                                          Japanese        98   \n",
       "2  English, German, Hebrew, Spanish, Arabic, Nepali        85   \n",
       "\n",
       "                                                Plot  \\\n",
       "0  A promising young drummer enrolls at a cut-thr...   \n",
       "1  A poor village under attack by bandits recruit...   \n",
       "2  Archaeologist and adventurer Indiana Jones is ...   \n",
       "\n",
       "                                              Poster    Rated     Released  \\\n",
       "0  https://images-na.ssl-images-amazon.com/images...        R  15 Oct 2014   \n",
       "1  https://images-na.ssl-images-amazon.com/images...  UNRATED  19 Nov 1956   \n",
       "2  https://images-na.ssl-images-amazon.com/images...       PG  12 Jun 1981   \n",
       "\n",
       "  Response  Runtime                    Title   Type  \\\n",
       "0     True  107 min                 Whiplash  movie   \n",
       "1     True  207 min            Seven Samurai  movie   \n",
       "2     True  115 min  Raiders of the Lost Ark  movie   \n",
       "\n",
       "                                              Writer  Year     imdbID  \\\n",
       "0                                    Damien Chazelle  2014  tt2582802   \n",
       "1  Akira Kurosawa (screenplay), Shinobu Hashimoto...  1954  tt0047478   \n",
       "2  Lawrence Kasdan (screenplay), George Lucas (st...  1981  tt0082971   \n",
       "\n",
       "  imdbRating imdbVotes  \n",
       "0        8.5   413,720  \n",
       "1        8.7   232,249  \n",
       "2        8.5   671,034  "
      ]
     },
     "execution_count": 11,
     "metadata": {},
     "output_type": "execute_result"
    }
   ],
   "source": [
    "df.head(3)"
   ]
  },
  {
   "cell_type": "code",
   "execution_count": 12,
   "metadata": {
    "collapsed": false
   },
   "outputs": [
    {
     "name": "stdout",
     "output_type": "stream",
     "text": [
      "<class 'pandas.core.frame.DataFrame'>\n",
      "RangeIndex: 250 entries, 0 to 249\n",
      "Data columns (total 20 columns):\n",
      "Actors        250 non-null object\n",
      "Awards        250 non-null object\n",
      "Country       250 non-null object\n",
      "Director      250 non-null object\n",
      "Genre         250 non-null object\n",
      "Language      250 non-null object\n",
      "Metascore     250 non-null object\n",
      "Plot          250 non-null object\n",
      "Poster        250 non-null object\n",
      "Rated         250 non-null object\n",
      "Released      250 non-null object\n",
      "Response      250 non-null object\n",
      "Runtime       250 non-null object\n",
      "Title         250 non-null object\n",
      "Type          250 non-null object\n",
      "Writer        250 non-null object\n",
      "Year          250 non-null object\n",
      "imdbID        250 non-null object\n",
      "imdbRating    250 non-null object\n",
      "imdbVotes     250 non-null object\n",
      "dtypes: object(20)\n",
      "memory usage: 39.1+ KB\n"
     ]
    }
   ],
   "source": [
    "df.info()"
   ]
  },
  {
   "cell_type": "markdown",
   "metadata": {},
   "source": [
    "## 5.c Get gross data\n",
    "\n",
    "The OMDB API is great, but it does not provide information about Gross Revenue of the movie. We'll revert back to scraping for this.\n",
    "\n",
    "1. Write a function that retrieves the gross revenue from the entry page at imdb.com\n",
    "- The function should handle the exception of when the page doesn't report gross revenue\n",
    "- Retrieve the gross revenue for each movie and store it in a separate dataframe"
   ]
  },
  {
   "cell_type": "code",
   "execution_count": 13,
   "metadata": {
    "collapsed": false
   },
   "outputs": [],
   "source": [
    "def get_gross(entry):\n",
    "    response = requests.get('http://www.imdb.com/title/'+entry)\n",
    "    html = response.text\n",
    "    try:\n",
    "        gross_list = re.findall(\"Gross:</h4>[ ]*\\$([^ ]*)\", html)\n",
    "        gross = int(gross_list[0].replace(',', ''))\n",
    "        print '.',\n",
    "        return gross\n",
    "    except Exception as ex:\n",
    "        print\n",
    "        print ex, entry, response.status_code\n",
    "        return None"
   ]
  },
  {
   "cell_type": "code",
   "execution_count": 14,
   "metadata": {
    "collapsed": false
   },
   "outputs": [
    {
     "name": "stdout",
     "output_type": "stream",
     "text": [
      ". . . . . . .\n",
      "list index out of range tt0046268 200\n",
      "\n",
      "list index out of range tt0055630 200\n",
      ". . . . .\n",
      "list index out of range tt0057115 200\n",
      ".\n",
      "list index out of range tt0071315 200\n",
      ". . . .\n",
      "list index out of range tt0074896 200\n",
      ". .\n",
      "list index out of range tt0021749 200\n",
      ". .\n",
      "list index out of range tt0053125 200\n",
      ". . .\n",
      "list index out of range tt1220719 200\n",
      "\n",
      "list index out of range tt0025316 200\n",
      ". .\n",
      "list index out of range tt0083922 200\n",
      ". . .\n",
      "list index out of range tt0072684 200\n",
      ".\n",
      "list index out of range tt0074958 200\n",
      ". . . .\n",
      "list index out of range tt0036775 200\n",
      ". . . . . .\n",
      "list index out of range tt0978762 200\n",
      ". .\n",
      "list index out of range tt0080678 200\n",
      ". .\n",
      "list index out of range tt0056592 200\n",
      ".\n",
      "list index out of range tt0095327 200\n",
      ". . . . . . . . .\n",
      "list index out of range tt0046438 200\n",
      ".\n",
      "list index out of range tt0015864 200\n",
      ".\n",
      "list index out of range tt0045152 200\n",
      ". . . .\n",
      "list index out of range tt0046911 200\n",
      ".\n",
      "list index out of range tt0050986 200\n",
      ".\n",
      "list index out of range tt0091251 200\n",
      ". . . . . . . . . .\n",
      "list index out of range tt0032553 200\n",
      "\n",
      "list index out of range tt0032551 200\n",
      ". . . . . .\n",
      "list index out of range tt0060827 200\n",
      ". . .\n",
      "list index out of range tt0031679 200\n",
      ". . . . . .\n",
      "list index out of range tt0053198 200\n",
      ". . .\n",
      "list index out of range tt0050825 200\n",
      "\n",
      "list index out of range tt0042876 200\n",
      "\n",
      "list index out of range tt0083987 200\n",
      ". . .\n",
      "list index out of range tt0044079 200\n",
      "\n",
      "list index out of range tt0041546 200\n",
      ". . . . . .\n",
      "list index out of range tt0092067 200\n",
      ". . . .\n",
      "list index out of range tt1954470 200\n",
      ". . . . . . . .\n",
      "list index out of range tt0057012 200\n",
      "\n",
      "list index out of range tt0096283 200\n",
      ".\n",
      "list index out of range tt0064116 200\n",
      ". . . . .\n",
      "list index out of range tt0081505 200\n",
      "\n",
      "list index out of range tt0038650 200\n",
      ".\n",
      "list index out of range tt0034583 200\n",
      ". . . . .\n",
      "list index out of range tt0046250 200\n",
      ". .\n",
      "list index out of range tt0033870 200\n",
      ". . .\n",
      "list index out of range tt0040897 200\n",
      ". .\n",
      "list index out of range tt0019254 200\n",
      "\n",
      "list index out of range tt0066921 200\n",
      "\n",
      "list index out of range tt0061512 200\n",
      "\n",
      "list index out of range tt0033467 200\n",
      ".\n",
      "list index out of range tt0169102 200\n",
      "\n",
      "list index out of range tt0017925 200\n",
      ". . . .\n",
      "list index out of range tt0055031 200\n",
      ".\n",
      "list index out of range tt0087544 200\n",
      ". . .\n",
      "list index out of range tt0050083 200\n",
      ". .\n",
      "list index out of range tt0018455 200\n",
      ". . . .\n",
      "list index out of range tt0077416 200\n",
      ". . . . . .\n",
      "list index out of range tt0087884 200\n",
      ". . .\n",
      "list index out of range tt0050976 200\n",
      ". . . . . . . . .\n",
      "list index out of range tt0043014 200\n",
      "\n",
      "list index out of range tt0079944 200\n",
      ".\n",
      "list index out of range tt0053604 200\n",
      ". . . . .\n",
      "list index out of range tt0051201 200\n",
      ".\n",
      "list index out of range tt0032976 200\n",
      ".\n",
      "list index out of range tt0059578 200\n",
      "\n",
      "list index out of range tt0072890 200\n",
      ". . . . . . .\n",
      "list index out of range tt1028532 200\n",
      ". . . . . .\n",
      "list index out of range tt0075314 200\n"
     ]
    }
   ],
   "source": [
    "grosses = [(e, get_gross(e)) for e in entries]"
   ]
  },
  {
   "cell_type": "code",
   "execution_count": 15,
   "metadata": {
    "collapsed": false
   },
   "outputs": [
    {
     "data": {
      "text/html": [
       "<div>\n",
       "<table border=\"1\" class=\"dataframe\">\n",
       "  <thead>\n",
       "    <tr style=\"text-align: right;\">\n",
       "      <th></th>\n",
       "      <th>imdbID</th>\n",
       "      <th>Gross</th>\n",
       "    </tr>\n",
       "  </thead>\n",
       "  <tbody>\n",
       "    <tr>\n",
       "      <th>0</th>\n",
       "      <td>tt2582802</td>\n",
       "      <td>13092000.0</td>\n",
       "    </tr>\n",
       "    <tr>\n",
       "      <th>1</th>\n",
       "      <td>tt0047478</td>\n",
       "      <td>269061.0</td>\n",
       "    </tr>\n",
       "    <tr>\n",
       "      <th>2</th>\n",
       "      <td>tt0082971</td>\n",
       "      <td>242374454.0</td>\n",
       "    </tr>\n",
       "    <tr>\n",
       "      <th>3</th>\n",
       "      <td>tt0050212</td>\n",
       "      <td>27200000.0</td>\n",
       "    </tr>\n",
       "    <tr>\n",
       "      <th>4</th>\n",
       "      <td>tt0848228</td>\n",
       "      <td>623279547.0</td>\n",
       "    </tr>\n",
       "  </tbody>\n",
       "</table>\n",
       "</div>"
      ],
      "text/plain": [
       "      imdbID        Gross\n",
       "0  tt2582802   13092000.0\n",
       "1  tt0047478     269061.0\n",
       "2  tt0082971  242374454.0\n",
       "3  tt0050212   27200000.0\n",
       "4  tt0848228  623279547.0"
      ]
     },
     "execution_count": 15,
     "metadata": {},
     "output_type": "execute_result"
    }
   ],
   "source": [
    "df1 = pd.DataFrame(grosses, columns=['imdbID', 'Gross'])\n",
    "df1.head()"
   ]
  },
  {
   "cell_type": "markdown",
   "metadata": {},
   "source": [
    "## 5.d Data munging\n",
    "\n",
    "1. Now that you have movie information and gross revenue information, let's clean the two datasets.\n",
    "- Check if there are null values. Be careful: they may appear to be valid strings.\n",
    "- Convert the columns to the appropriate formats. In particular handle:\n",
    "    - Released\n",
    "    - Runtime\n",
    "    - year\n",
    "    - imdbRating\n",
    "    - imdbVotes\n",
    "- Merge the data from the two datasets into a single one"
   ]
  },
  {
   "cell_type": "code",
   "execution_count": 16,
   "metadata": {
    "collapsed": false
   },
   "outputs": [
    {
     "name": "stdout",
     "output_type": "stream",
     "text": [
      "<class 'pandas.core.frame.DataFrame'>\n",
      "RangeIndex: 250 entries, 0 to 249\n",
      "Data columns (total 20 columns):\n",
      "Actors        250 non-null object\n",
      "Awards        246 non-null object\n",
      "Country       250 non-null object\n",
      "Director      250 non-null object\n",
      "Genre         250 non-null object\n",
      "Language      249 non-null object\n",
      "Metascore     169 non-null object\n",
      "Plot          250 non-null object\n",
      "Poster        248 non-null object\n",
      "Rated         249 non-null object\n",
      "Released      249 non-null object\n",
      "Response      250 non-null object\n",
      "Runtime       250 non-null object\n",
      "Title         250 non-null object\n",
      "Type          250 non-null object\n",
      "Writer        250 non-null object\n",
      "Year          250 non-null object\n",
      "imdbID        250 non-null object\n",
      "imdbRating    250 non-null object\n",
      "imdbVotes     250 non-null object\n",
      "dtypes: object(20)\n",
      "memory usage: 39.1+ KB\n"
     ]
    }
   ],
   "source": [
    "df = df.replace('N/A', np.nan)\n",
    "df.info()"
   ]
  },
  {
   "cell_type": "code",
   "execution_count": 17,
   "metadata": {
    "collapsed": false
   },
   "outputs": [],
   "source": [
    "df.Released = pd.to_datetime(df.Released)"
   ]
  },
  {
   "cell_type": "code",
   "execution_count": 18,
   "metadata": {
    "collapsed": false
   },
   "outputs": [],
   "source": [
    "def intminutes(x):\n",
    "    y = x.replace('min', '').strip()\n",
    "    return int(y)\n",
    "\n",
    "df.Runtime = df.Runtime.apply(intminutes)"
   ]
  },
  {
   "cell_type": "code",
   "execution_count": 19,
   "metadata": {
    "collapsed": false
   },
   "outputs": [],
   "source": [
    "df.Year = df.Year.astype(int)"
   ]
  },
  {
   "cell_type": "code",
   "execution_count": 20,
   "metadata": {
    "collapsed": false
   },
   "outputs": [],
   "source": [
    "df.imdbRating = df.imdbRating.astype(float)"
   ]
  },
  {
   "cell_type": "code",
   "execution_count": 21,
   "metadata": {
    "collapsed": false
   },
   "outputs": [],
   "source": [
    "def intvotes(x):\n",
    "    y = x.replace(',', '').strip()\n",
    "    return int(y)\n",
    "df.imdbVotes = df.imdbVotes.apply(intvotes)"
   ]
  },
  {
   "cell_type": "code",
   "execution_count": 22,
   "metadata": {
    "collapsed": false
   },
   "outputs": [
    {
     "name": "stdout",
     "output_type": "stream",
     "text": [
      "<class 'pandas.core.frame.DataFrame'>\n",
      "RangeIndex: 250 entries, 0 to 249\n",
      "Data columns (total 20 columns):\n",
      "Actors        250 non-null object\n",
      "Awards        246 non-null object\n",
      "Country       250 non-null object\n",
      "Director      250 non-null object\n",
      "Genre         250 non-null object\n",
      "Language      249 non-null object\n",
      "Metascore     169 non-null object\n",
      "Plot          250 non-null object\n",
      "Poster        248 non-null object\n",
      "Rated         249 non-null object\n",
      "Released      249 non-null datetime64[ns]\n",
      "Response      250 non-null object\n",
      "Runtime       250 non-null int64\n",
      "Title         250 non-null object\n",
      "Type          250 non-null object\n",
      "Writer        250 non-null object\n",
      "Year          250 non-null int64\n",
      "imdbID        250 non-null object\n",
      "imdbRating    250 non-null float64\n",
      "imdbVotes     250 non-null int64\n",
      "dtypes: datetime64[ns](1), float64(1), int64(3), object(15)\n",
      "memory usage: 39.1+ KB\n"
     ]
    }
   ],
   "source": [
    "df.info()"
   ]
  },
  {
   "cell_type": "code",
   "execution_count": 23,
   "metadata": {
    "collapsed": true
   },
   "outputs": [],
   "source": [
    "df = pd.merge(df, df1)"
   ]
  },
  {
   "cell_type": "code",
   "execution_count": 24,
   "metadata": {
    "collapsed": false
   },
   "outputs": [
    {
     "data": {
      "text/html": [
       "<div>\n",
       "<table border=\"1\" class=\"dataframe\">\n",
       "  <thead>\n",
       "    <tr style=\"text-align: right;\">\n",
       "      <th></th>\n",
       "      <th>Actors</th>\n",
       "      <th>Awards</th>\n",
       "      <th>Country</th>\n",
       "      <th>Director</th>\n",
       "      <th>Genre</th>\n",
       "      <th>Language</th>\n",
       "      <th>Metascore</th>\n",
       "      <th>Plot</th>\n",
       "      <th>Poster</th>\n",
       "      <th>Rated</th>\n",
       "      <th>...</th>\n",
       "      <th>Response</th>\n",
       "      <th>Runtime</th>\n",
       "      <th>Title</th>\n",
       "      <th>Type</th>\n",
       "      <th>Writer</th>\n",
       "      <th>Year</th>\n",
       "      <th>imdbID</th>\n",
       "      <th>imdbRating</th>\n",
       "      <th>imdbVotes</th>\n",
       "      <th>Gross</th>\n",
       "    </tr>\n",
       "  </thead>\n",
       "  <tbody>\n",
       "    <tr>\n",
       "      <th>0</th>\n",
       "      <td>Miles Teller, J.K. Simmons, Paul Reiser, Melis...</td>\n",
       "      <td>Won 3 Oscars. Another 87 wins &amp; 131 nominations.</td>\n",
       "      <td>USA</td>\n",
       "      <td>Damien Chazelle</td>\n",
       "      <td>Drama, Music</td>\n",
       "      <td>English</td>\n",
       "      <td>88</td>\n",
       "      <td>A promising young drummer enrolls at a cut-thr...</td>\n",
       "      <td>https://images-na.ssl-images-amazon.com/images...</td>\n",
       "      <td>R</td>\n",
       "      <td>...</td>\n",
       "      <td>True</td>\n",
       "      <td>107</td>\n",
       "      <td>Whiplash</td>\n",
       "      <td>movie</td>\n",
       "      <td>Damien Chazelle</td>\n",
       "      <td>2014</td>\n",
       "      <td>tt2582802</td>\n",
       "      <td>8.5</td>\n",
       "      <td>413720</td>\n",
       "      <td>13092000.0</td>\n",
       "    </tr>\n",
       "    <tr>\n",
       "      <th>1</th>\n",
       "      <td>Toshirô Mifune, Takashi Shimura, Keiko Tsushim...</td>\n",
       "      <td>Nominated for 2 Oscars. Another 5 wins &amp; 6 nom...</td>\n",
       "      <td>Japan</td>\n",
       "      <td>Akira Kurosawa</td>\n",
       "      <td>Action, Adventure, Drama</td>\n",
       "      <td>Japanese</td>\n",
       "      <td>98</td>\n",
       "      <td>A poor village under attack by bandits recruit...</td>\n",
       "      <td>https://images-na.ssl-images-amazon.com/images...</td>\n",
       "      <td>UNRATED</td>\n",
       "      <td>...</td>\n",
       "      <td>True</td>\n",
       "      <td>207</td>\n",
       "      <td>Seven Samurai</td>\n",
       "      <td>movie</td>\n",
       "      <td>Akira Kurosawa (screenplay), Shinobu Hashimoto...</td>\n",
       "      <td>1954</td>\n",
       "      <td>tt0047478</td>\n",
       "      <td>8.7</td>\n",
       "      <td>232249</td>\n",
       "      <td>269061.0</td>\n",
       "    </tr>\n",
       "    <tr>\n",
       "      <th>2</th>\n",
       "      <td>Harrison Ford, Karen Allen, Paul Freeman, Rona...</td>\n",
       "      <td>Won 4 Oscars. Another 30 wins &amp; 23 nominations.</td>\n",
       "      <td>USA</td>\n",
       "      <td>Steven Spielberg</td>\n",
       "      <td>Action, Adventure</td>\n",
       "      <td>English, German, Hebrew, Spanish, Arabic, Nepali</td>\n",
       "      <td>85</td>\n",
       "      <td>Archaeologist and adventurer Indiana Jones is ...</td>\n",
       "      <td>https://images-na.ssl-images-amazon.com/images...</td>\n",
       "      <td>PG</td>\n",
       "      <td>...</td>\n",
       "      <td>True</td>\n",
       "      <td>115</td>\n",
       "      <td>Raiders of the Lost Ark</td>\n",
       "      <td>movie</td>\n",
       "      <td>Lawrence Kasdan (screenplay), George Lucas (st...</td>\n",
       "      <td>1981</td>\n",
       "      <td>tt0082971</td>\n",
       "      <td>8.5</td>\n",
       "      <td>671034</td>\n",
       "      <td>242374454.0</td>\n",
       "    </tr>\n",
       "    <tr>\n",
       "      <th>3</th>\n",
       "      <td>William Holden, Alec Guinness, Jack Hawkins, S...</td>\n",
       "      <td>Won 7 Oscars. Another 23 wins &amp; 7 nominations.</td>\n",
       "      <td>UK, USA</td>\n",
       "      <td>David Lean</td>\n",
       "      <td>Adventure, Drama, War</td>\n",
       "      <td>English, Japanese, Thai</td>\n",
       "      <td>NaN</td>\n",
       "      <td>After settling his differences with a Japanese...</td>\n",
       "      <td>https://images-na.ssl-images-amazon.com/images...</td>\n",
       "      <td>PG</td>\n",
       "      <td>...</td>\n",
       "      <td>True</td>\n",
       "      <td>161</td>\n",
       "      <td>The Bridge on the River Kwai</td>\n",
       "      <td>movie</td>\n",
       "      <td>Pierre Boulle (novel), Carl Foreman (screenpla...</td>\n",
       "      <td>1957</td>\n",
       "      <td>tt0050212</td>\n",
       "      <td>8.2</td>\n",
       "      <td>151604</td>\n",
       "      <td>27200000.0</td>\n",
       "    </tr>\n",
       "    <tr>\n",
       "      <th>4</th>\n",
       "      <td>Robert Downey Jr., Chris Evans, Mark Ruffalo, ...</td>\n",
       "      <td>Nominated for 1 Oscar. Another 34 wins &amp; 75 no...</td>\n",
       "      <td>USA</td>\n",
       "      <td>Joss Whedon</td>\n",
       "      <td>Action, Sci-Fi, Thriller</td>\n",
       "      <td>English, Russian</td>\n",
       "      <td>69</td>\n",
       "      <td>Earth's mightiest heroes must come together an...</td>\n",
       "      <td>https://images-na.ssl-images-amazon.com/images...</td>\n",
       "      <td>PG-13</td>\n",
       "      <td>...</td>\n",
       "      <td>True</td>\n",
       "      <td>143</td>\n",
       "      <td>The Avengers</td>\n",
       "      <td>movie</td>\n",
       "      <td>Joss Whedon (screenplay), Zak Penn (story), Jo...</td>\n",
       "      <td>2012</td>\n",
       "      <td>tt0848228</td>\n",
       "      <td>8.1</td>\n",
       "      <td>1010033</td>\n",
       "      <td>623279547.0</td>\n",
       "    </tr>\n",
       "  </tbody>\n",
       "</table>\n",
       "<p>5 rows × 21 columns</p>\n",
       "</div>"
      ],
      "text/plain": [
       "                                              Actors  \\\n",
       "0  Miles Teller, J.K. Simmons, Paul Reiser, Melis...   \n",
       "1  Toshirô Mifune, Takashi Shimura, Keiko Tsushim...   \n",
       "2  Harrison Ford, Karen Allen, Paul Freeman, Rona...   \n",
       "3  William Holden, Alec Guinness, Jack Hawkins, S...   \n",
       "4  Robert Downey Jr., Chris Evans, Mark Ruffalo, ...   \n",
       "\n",
       "                                              Awards  Country  \\\n",
       "0   Won 3 Oscars. Another 87 wins & 131 nominations.      USA   \n",
       "1  Nominated for 2 Oscars. Another 5 wins & 6 nom...    Japan   \n",
       "2    Won 4 Oscars. Another 30 wins & 23 nominations.      USA   \n",
       "3     Won 7 Oscars. Another 23 wins & 7 nominations.  UK, USA   \n",
       "4  Nominated for 1 Oscar. Another 34 wins & 75 no...      USA   \n",
       "\n",
       "           Director                     Genre  \\\n",
       "0   Damien Chazelle              Drama, Music   \n",
       "1    Akira Kurosawa  Action, Adventure, Drama   \n",
       "2  Steven Spielberg         Action, Adventure   \n",
       "3        David Lean     Adventure, Drama, War   \n",
       "4       Joss Whedon  Action, Sci-Fi, Thriller   \n",
       "\n",
       "                                           Language Metascore  \\\n",
       "0                                           English        88   \n",
       "1                                          Japanese        98   \n",
       "2  English, German, Hebrew, Spanish, Arabic, Nepali        85   \n",
       "3                           English, Japanese, Thai       NaN   \n",
       "4                                  English, Russian        69   \n",
       "\n",
       "                                                Plot  \\\n",
       "0  A promising young drummer enrolls at a cut-thr...   \n",
       "1  A poor village under attack by bandits recruit...   \n",
       "2  Archaeologist and adventurer Indiana Jones is ...   \n",
       "3  After settling his differences with a Japanese...   \n",
       "4  Earth's mightiest heroes must come together an...   \n",
       "\n",
       "                                              Poster    Rated     ...       \\\n",
       "0  https://images-na.ssl-images-amazon.com/images...        R     ...        \n",
       "1  https://images-na.ssl-images-amazon.com/images...  UNRATED     ...        \n",
       "2  https://images-na.ssl-images-amazon.com/images...       PG     ...        \n",
       "3  https://images-na.ssl-images-amazon.com/images...       PG     ...        \n",
       "4  https://images-na.ssl-images-amazon.com/images...    PG-13     ...        \n",
       "\n",
       "  Response Runtime                         Title   Type  \\\n",
       "0     True     107                      Whiplash  movie   \n",
       "1     True     207                 Seven Samurai  movie   \n",
       "2     True     115       Raiders of the Lost Ark  movie   \n",
       "3     True     161  The Bridge on the River Kwai  movie   \n",
       "4     True     143                  The Avengers  movie   \n",
       "\n",
       "                                              Writer  Year     imdbID  \\\n",
       "0                                    Damien Chazelle  2014  tt2582802   \n",
       "1  Akira Kurosawa (screenplay), Shinobu Hashimoto...  1954  tt0047478   \n",
       "2  Lawrence Kasdan (screenplay), George Lucas (st...  1981  tt0082971   \n",
       "3  Pierre Boulle (novel), Carl Foreman (screenpla...  1957  tt0050212   \n",
       "4  Joss Whedon (screenplay), Zak Penn (story), Jo...  2012  tt0848228   \n",
       "\n",
       "  imdbRating  imdbVotes        Gross  \n",
       "0        8.5     413720   13092000.0  \n",
       "1        8.7     232249     269061.0  \n",
       "2        8.5     671034  242374454.0  \n",
       "3        8.2     151604   27200000.0  \n",
       "4        8.1    1010033  623279547.0  \n",
       "\n",
       "[5 rows x 21 columns]"
      ]
     },
     "execution_count": 24,
     "metadata": {},
     "output_type": "execute_result"
    }
   ],
   "source": [
    "df.head()"
   ]
  },
  {
   "cell_type": "markdown",
   "metadata": {},
   "source": [
    "## 5.d Text vectorization\n",
    "\n",
    "There are several columns in the data that contain a comma separated list of items, for example the Genre column and the Actors column. (If this were a database, which normal form does this violate?) Let's transform those to binary columns using the count vectorizer from scikit learn.\n",
    "\n",
    "Append these columns to the merged dataframe.\n",
    "\n",
    "**Hint:** In order to get the actors name right, you'll have to set the `token_pattern` parameter in `CountVectorizer` to u'(?u)\\\\w+\\.?\\\\w?\\.? \\\\w+'. Can you see why? How does this differ from the default?"
   ]
  },
  {
   "cell_type": "code",
   "execution_count": 25,
   "metadata": {
    "collapsed": true
   },
   "outputs": [],
   "source": [
    "from sklearn.feature_extraction.text import CountVectorizer"
   ]
  },
  {
   "cell_type": "code",
   "execution_count": 26,
   "metadata": {
    "collapsed": false
   },
   "outputs": [
    {
     "data": {
      "text/html": [
       "<div>\n",
       "<table border=\"1\" class=\"dataframe\">\n",
       "  <thead>\n",
       "    <tr style=\"text-align: right;\">\n",
       "      <th></th>\n",
       "      <th>genre_action</th>\n",
       "      <th>genre_adventure</th>\n",
       "      <th>genre_animation</th>\n",
       "      <th>genre_biography</th>\n",
       "      <th>genre_comedy</th>\n",
       "      <th>genre_crime</th>\n",
       "      <th>genre_drama</th>\n",
       "      <th>genre_family</th>\n",
       "      <th>genre_fantasy</th>\n",
       "      <th>genre_fi</th>\n",
       "      <th>...</th>\n",
       "      <th>genre_music</th>\n",
       "      <th>genre_musical</th>\n",
       "      <th>genre_mystery</th>\n",
       "      <th>genre_noir</th>\n",
       "      <th>genre_romance</th>\n",
       "      <th>genre_sci</th>\n",
       "      <th>genre_sport</th>\n",
       "      <th>genre_thriller</th>\n",
       "      <th>genre_war</th>\n",
       "      <th>genre_western</th>\n",
       "    </tr>\n",
       "  </thead>\n",
       "  <tbody>\n",
       "    <tr>\n",
       "      <th>0</th>\n",
       "      <td>0</td>\n",
       "      <td>0</td>\n",
       "      <td>0</td>\n",
       "      <td>0</td>\n",
       "      <td>0</td>\n",
       "      <td>0</td>\n",
       "      <td>1</td>\n",
       "      <td>0</td>\n",
       "      <td>0</td>\n",
       "      <td>0</td>\n",
       "      <td>...</td>\n",
       "      <td>1</td>\n",
       "      <td>0</td>\n",
       "      <td>0</td>\n",
       "      <td>0</td>\n",
       "      <td>0</td>\n",
       "      <td>0</td>\n",
       "      <td>0</td>\n",
       "      <td>0</td>\n",
       "      <td>0</td>\n",
       "      <td>0</td>\n",
       "    </tr>\n",
       "    <tr>\n",
       "      <th>1</th>\n",
       "      <td>1</td>\n",
       "      <td>1</td>\n",
       "      <td>0</td>\n",
       "      <td>0</td>\n",
       "      <td>0</td>\n",
       "      <td>0</td>\n",
       "      <td>1</td>\n",
       "      <td>0</td>\n",
       "      <td>0</td>\n",
       "      <td>0</td>\n",
       "      <td>...</td>\n",
       "      <td>0</td>\n",
       "      <td>0</td>\n",
       "      <td>0</td>\n",
       "      <td>0</td>\n",
       "      <td>0</td>\n",
       "      <td>0</td>\n",
       "      <td>0</td>\n",
       "      <td>0</td>\n",
       "      <td>0</td>\n",
       "      <td>0</td>\n",
       "    </tr>\n",
       "    <tr>\n",
       "      <th>2</th>\n",
       "      <td>1</td>\n",
       "      <td>1</td>\n",
       "      <td>0</td>\n",
       "      <td>0</td>\n",
       "      <td>0</td>\n",
       "      <td>0</td>\n",
       "      <td>0</td>\n",
       "      <td>0</td>\n",
       "      <td>0</td>\n",
       "      <td>0</td>\n",
       "      <td>...</td>\n",
       "      <td>0</td>\n",
       "      <td>0</td>\n",
       "      <td>0</td>\n",
       "      <td>0</td>\n",
       "      <td>0</td>\n",
       "      <td>0</td>\n",
       "      <td>0</td>\n",
       "      <td>0</td>\n",
       "      <td>0</td>\n",
       "      <td>0</td>\n",
       "    </tr>\n",
       "    <tr>\n",
       "      <th>3</th>\n",
       "      <td>0</td>\n",
       "      <td>1</td>\n",
       "      <td>0</td>\n",
       "      <td>0</td>\n",
       "      <td>0</td>\n",
       "      <td>0</td>\n",
       "      <td>1</td>\n",
       "      <td>0</td>\n",
       "      <td>0</td>\n",
       "      <td>0</td>\n",
       "      <td>...</td>\n",
       "      <td>0</td>\n",
       "      <td>0</td>\n",
       "      <td>0</td>\n",
       "      <td>0</td>\n",
       "      <td>0</td>\n",
       "      <td>0</td>\n",
       "      <td>0</td>\n",
       "      <td>0</td>\n",
       "      <td>1</td>\n",
       "      <td>0</td>\n",
       "    </tr>\n",
       "    <tr>\n",
       "      <th>4</th>\n",
       "      <td>1</td>\n",
       "      <td>0</td>\n",
       "      <td>0</td>\n",
       "      <td>0</td>\n",
       "      <td>0</td>\n",
       "      <td>0</td>\n",
       "      <td>0</td>\n",
       "      <td>0</td>\n",
       "      <td>0</td>\n",
       "      <td>1</td>\n",
       "      <td>...</td>\n",
       "      <td>0</td>\n",
       "      <td>0</td>\n",
       "      <td>0</td>\n",
       "      <td>0</td>\n",
       "      <td>0</td>\n",
       "      <td>1</td>\n",
       "      <td>0</td>\n",
       "      <td>1</td>\n",
       "      <td>0</td>\n",
       "      <td>0</td>\n",
       "    </tr>\n",
       "  </tbody>\n",
       "</table>\n",
       "<p>5 rows × 23 columns</p>\n",
       "</div>"
      ],
      "text/plain": [
       "   genre_action  genre_adventure  genre_animation  genre_biography  \\\n",
       "0             0                0                0                0   \n",
       "1             1                1                0                0   \n",
       "2             1                1                0                0   \n",
       "3             0                1                0                0   \n",
       "4             1                0                0                0   \n",
       "\n",
       "   genre_comedy  genre_crime  genre_drama  genre_family  genre_fantasy  \\\n",
       "0             0            0            1             0              0   \n",
       "1             0            0            1             0              0   \n",
       "2             0            0            0             0              0   \n",
       "3             0            0            1             0              0   \n",
       "4             0            0            0             0              0   \n",
       "\n",
       "   genre_fi      ...        genre_music  genre_musical  genre_mystery  \\\n",
       "0         0      ...                  1              0              0   \n",
       "1         0      ...                  0              0              0   \n",
       "2         0      ...                  0              0              0   \n",
       "3         0      ...                  0              0              0   \n",
       "4         1      ...                  0              0              0   \n",
       "\n",
       "   genre_noir  genre_romance  genre_sci  genre_sport  genre_thriller  \\\n",
       "0           0              0          0            0               0   \n",
       "1           0              0          0            0               0   \n",
       "2           0              0          0            0               0   \n",
       "3           0              0          0            0               0   \n",
       "4           0              0          1            0               1   \n",
       "\n",
       "   genre_war  genre_western  \n",
       "0          0              0  \n",
       "1          0              0  \n",
       "2          0              0  \n",
       "3          1              0  \n",
       "4          0              0  \n",
       "\n",
       "[5 rows x 23 columns]"
      ]
     },
     "execution_count": 26,
     "metadata": {},
     "output_type": "execute_result"
    }
   ],
   "source": [
    "cv = CountVectorizer()\n",
    "data = cv.fit_transform(df.Genre).todense()\n",
    "columns = ['genre_'+c for c in cv.get_feature_names()]\n",
    "genredf = pd.DataFrame(data, columns=columns)\n",
    "genredf.head()"
   ]
  },
  {
   "cell_type": "code",
   "execution_count": 27,
   "metadata": {
    "collapsed": false
   },
   "outputs": [],
   "source": [
    "df = pd.concat([df, genredf], axis = 1)"
   ]
  },
  {
   "cell_type": "code",
   "execution_count": 28,
   "metadata": {
    "collapsed": false
   },
   "outputs": [
    {
     "data": {
      "text/html": [
       "<div>\n",
       "<table border=\"1\" class=\"dataframe\">\n",
       "  <thead>\n",
       "    <tr style=\"text-align: right;\">\n",
       "      <th></th>\n",
       "      <th>actor: aamir khan</th>\n",
       "      <th>actor: aaron eckhart</th>\n",
       "      <th>actor: abdel ahmed</th>\n",
       "      <th>actor: adam baldwin</th>\n",
       "      <th>actor: adam driver</th>\n",
       "      <th>actor: adolphe menjou</th>\n",
       "      <th>actor: adrien brody</th>\n",
       "      <th>actor: agnes moorehead</th>\n",
       "      <th>actor: ahney her</th>\n",
       "      <th>actor: akemi yamaguchi</th>\n",
       "      <th>...</th>\n",
       "      <th>actor: woody harrelson</th>\n",
       "      <th>actor: xolani mali</th>\n",
       "      <th>actor: yacef saadi</th>\n",
       "      <th>actor: yoshiko shinohara</th>\n",
       "      <th>actor: yukiko shimazaki</th>\n",
       "      <th>actor: yves montand</th>\n",
       "      <th>actor: yôko tsukasa</th>\n",
       "      <th>actor: zach grenier</th>\n",
       "      <th>actor: zoe saldana</th>\n",
       "      <th>actor: álvaro guerrero</th>\n",
       "    </tr>\n",
       "  </thead>\n",
       "  <tbody>\n",
       "    <tr>\n",
       "      <th>0</th>\n",
       "      <td>0</td>\n",
       "      <td>0</td>\n",
       "      <td>0</td>\n",
       "      <td>0</td>\n",
       "      <td>0</td>\n",
       "      <td>0</td>\n",
       "      <td>0</td>\n",
       "      <td>0</td>\n",
       "      <td>0</td>\n",
       "      <td>0</td>\n",
       "      <td>...</td>\n",
       "      <td>0</td>\n",
       "      <td>0</td>\n",
       "      <td>0</td>\n",
       "      <td>0</td>\n",
       "      <td>0</td>\n",
       "      <td>0</td>\n",
       "      <td>0</td>\n",
       "      <td>0</td>\n",
       "      <td>0</td>\n",
       "      <td>0</td>\n",
       "    </tr>\n",
       "    <tr>\n",
       "      <th>1</th>\n",
       "      <td>0</td>\n",
       "      <td>0</td>\n",
       "      <td>0</td>\n",
       "      <td>0</td>\n",
       "      <td>0</td>\n",
       "      <td>0</td>\n",
       "      <td>0</td>\n",
       "      <td>0</td>\n",
       "      <td>0</td>\n",
       "      <td>0</td>\n",
       "      <td>...</td>\n",
       "      <td>0</td>\n",
       "      <td>0</td>\n",
       "      <td>0</td>\n",
       "      <td>0</td>\n",
       "      <td>1</td>\n",
       "      <td>0</td>\n",
       "      <td>0</td>\n",
       "      <td>0</td>\n",
       "      <td>0</td>\n",
       "      <td>0</td>\n",
       "    </tr>\n",
       "    <tr>\n",
       "      <th>2</th>\n",
       "      <td>0</td>\n",
       "      <td>0</td>\n",
       "      <td>0</td>\n",
       "      <td>0</td>\n",
       "      <td>0</td>\n",
       "      <td>0</td>\n",
       "      <td>0</td>\n",
       "      <td>0</td>\n",
       "      <td>0</td>\n",
       "      <td>0</td>\n",
       "      <td>...</td>\n",
       "      <td>0</td>\n",
       "      <td>0</td>\n",
       "      <td>0</td>\n",
       "      <td>0</td>\n",
       "      <td>0</td>\n",
       "      <td>0</td>\n",
       "      <td>0</td>\n",
       "      <td>0</td>\n",
       "      <td>0</td>\n",
       "      <td>0</td>\n",
       "    </tr>\n",
       "    <tr>\n",
       "      <th>3</th>\n",
       "      <td>0</td>\n",
       "      <td>0</td>\n",
       "      <td>0</td>\n",
       "      <td>0</td>\n",
       "      <td>0</td>\n",
       "      <td>0</td>\n",
       "      <td>0</td>\n",
       "      <td>0</td>\n",
       "      <td>0</td>\n",
       "      <td>0</td>\n",
       "      <td>...</td>\n",
       "      <td>0</td>\n",
       "      <td>0</td>\n",
       "      <td>0</td>\n",
       "      <td>0</td>\n",
       "      <td>0</td>\n",
       "      <td>0</td>\n",
       "      <td>0</td>\n",
       "      <td>0</td>\n",
       "      <td>0</td>\n",
       "      <td>0</td>\n",
       "    </tr>\n",
       "    <tr>\n",
       "      <th>4</th>\n",
       "      <td>0</td>\n",
       "      <td>0</td>\n",
       "      <td>0</td>\n",
       "      <td>0</td>\n",
       "      <td>0</td>\n",
       "      <td>0</td>\n",
       "      <td>0</td>\n",
       "      <td>0</td>\n",
       "      <td>0</td>\n",
       "      <td>0</td>\n",
       "      <td>...</td>\n",
       "      <td>0</td>\n",
       "      <td>0</td>\n",
       "      <td>0</td>\n",
       "      <td>0</td>\n",
       "      <td>0</td>\n",
       "      <td>0</td>\n",
       "      <td>0</td>\n",
       "      <td>0</td>\n",
       "      <td>0</td>\n",
       "      <td>0</td>\n",
       "    </tr>\n",
       "  </tbody>\n",
       "</table>\n",
       "<p>5 rows × 817 columns</p>\n",
       "</div>"
      ],
      "text/plain": [
       "   actor: aamir khan  actor: aaron eckhart  actor: abdel ahmed  \\\n",
       "0                  0                     0                   0   \n",
       "1                  0                     0                   0   \n",
       "2                  0                     0                   0   \n",
       "3                  0                     0                   0   \n",
       "4                  0                     0                   0   \n",
       "\n",
       "   actor: adam baldwin  actor: adam driver  actor: adolphe menjou  \\\n",
       "0                    0                   0                      0   \n",
       "1                    0                   0                      0   \n",
       "2                    0                   0                      0   \n",
       "3                    0                   0                      0   \n",
       "4                    0                   0                      0   \n",
       "\n",
       "   actor: adrien brody  actor: agnes moorehead  actor: ahney her  \\\n",
       "0                    0                       0                 0   \n",
       "1                    0                       0                 0   \n",
       "2                    0                       0                 0   \n",
       "3                    0                       0                 0   \n",
       "4                    0                       0                 0   \n",
       "\n",
       "   actor: akemi yamaguchi           ...            actor: woody harrelson  \\\n",
       "0                       0           ...                                 0   \n",
       "1                       0           ...                                 0   \n",
       "2                       0           ...                                 0   \n",
       "3                       0           ...                                 0   \n",
       "4                       0           ...                                 0   \n",
       "\n",
       "   actor: xolani mali  actor: yacef saadi  actor: yoshiko shinohara  \\\n",
       "0                   0                   0                         0   \n",
       "1                   0                   0                         0   \n",
       "2                   0                   0                         0   \n",
       "3                   0                   0                         0   \n",
       "4                   0                   0                         0   \n",
       "\n",
       "   actor: yukiko shimazaki  actor: yves montand  actor: yôko tsukasa  \\\n",
       "0                        0                    0                    0   \n",
       "1                        1                    0                    0   \n",
       "2                        0                    0                    0   \n",
       "3                        0                    0                    0   \n",
       "4                        0                    0                    0   \n",
       "\n",
       "   actor: zach grenier  actor: zoe saldana  actor: álvaro guerrero  \n",
       "0                    0                   0                       0  \n",
       "1                    0                   0                       0  \n",
       "2                    0                   0                       0  \n",
       "3                    0                   0                       0  \n",
       "4                    0                   0                       0  \n",
       "\n",
       "[5 rows x 817 columns]"
      ]
     },
     "execution_count": 28,
     "metadata": {},
     "output_type": "execute_result"
    }
   ],
   "source": [
    "cv = CountVectorizer(token_pattern=u'(?u)\\\\w+\\.?\\\\w?\\.? \\\\w+')\n",
    "data = cv.fit_transform(df.Actors).todense()\n",
    "columns = ['actor: '+c for c in cv.get_feature_names()]\n",
    "actorsdf = pd.DataFrame(data, columns=columns)\n",
    "actorsdf.head()"
   ]
  },
  {
   "cell_type": "code",
   "execution_count": 29,
   "metadata": {
    "collapsed": false
   },
   "outputs": [
    {
     "data": {
      "text/plain": [
       "u'Miles Teller, J.K. Simmons, Paul Reiser, Melissa Benoist'"
      ]
     },
     "execution_count": 29,
     "metadata": {},
     "output_type": "execute_result"
    }
   ],
   "source": [
    "df.Actors[0]"
   ]
  },
  {
   "cell_type": "code",
   "execution_count": 30,
   "metadata": {
    "collapsed": false
   },
   "outputs": [
    {
     "data": {
      "text/plain": [
       "actor: j.k. simmons       1\n",
       "actor: melissa benoist    1\n",
       "actor: miles teller       1\n",
       "actor: paul reiser        1\n",
       "Name: 0, dtype: int64"
      ]
     },
     "execution_count": 30,
     "metadata": {},
     "output_type": "execute_result"
    }
   ],
   "source": [
    "actorsdf.loc[0,actorsdf.iloc[0] != 0]"
   ]
  },
  {
   "cell_type": "code",
   "execution_count": 31,
   "metadata": {
    "collapsed": true
   },
   "outputs": [],
   "source": [
    "df = pd.concat([df, actorsdf], axis = 1)"
   ]
  },
  {
   "cell_type": "markdown",
   "metadata": {},
   "source": [
    "## Bonus:\n",
    "\n",
    "1. What are the top 10 grossing movies?\n",
    "- Who are the 10 actors that appear in the most movies?\n",
    "- What's the average grossing of the movies in which each of these actors appear?\n",
    "- What genre is the oldest movie?\n"
   ]
  },
  {
   "cell_type": "code",
   "execution_count": 32,
   "metadata": {
    "collapsed": false
   },
   "outputs": [
    {
     "data": {
      "text/plain": [
       "Index([                  u'Actors',                   u'Awards',\n",
       "                        u'Country',                 u'Director',\n",
       "                          u'Genre',                 u'Language',\n",
       "                      u'Metascore',                     u'Plot',\n",
       "                         u'Poster',                    u'Rated',\n",
       "       ...\n",
       "         u'actor: woody harrelson',       u'actor: xolani mali',\n",
       "             u'actor: yacef saadi', u'actor: yoshiko shinohara',\n",
       "        u'actor: yukiko shimazaki',      u'actor: yves montand',\n",
       "            u'actor: yôko tsukasa',      u'actor: zach grenier',\n",
       "             u'actor: zoe saldana',   u'actor: álvaro guerrero'],\n",
       "      dtype='object', length=861)"
      ]
     },
     "execution_count": 32,
     "metadata": {},
     "output_type": "execute_result"
    }
   ],
   "source": [
    "df.columns"
   ]
  },
  {
   "cell_type": "code",
   "execution_count": 33,
   "metadata": {
    "collapsed": false
   },
   "outputs": [
    {
     "data": {
      "text/html": [
       "<div>\n",
       "<table border=\"1\" class=\"dataframe\">\n",
       "  <thead>\n",
       "    <tr style=\"text-align: right;\">\n",
       "      <th></th>\n",
       "      <th>Title</th>\n",
       "      <th>Gross</th>\n",
       "      <th>Genre</th>\n",
       "    </tr>\n",
       "  </thead>\n",
       "  <tbody>\n",
       "    <tr>\n",
       "      <th>160</th>\n",
       "      <td>Star Wars: The Force Awakens</td>\n",
       "      <td>936627416.0</td>\n",
       "      <td>Action, Adventure, Fantasy</td>\n",
       "    </tr>\n",
       "    <tr>\n",
       "      <th>4</th>\n",
       "      <td>The Avengers</td>\n",
       "      <td>623279547.0</td>\n",
       "      <td>Action, Sci-Fi, Thriller</td>\n",
       "    </tr>\n",
       "    <tr>\n",
       "      <th>37</th>\n",
       "      <td>The Dark Knight</td>\n",
       "      <td>533316061.0</td>\n",
       "      <td>Action, Crime, Drama</td>\n",
       "    </tr>\n",
       "    <tr>\n",
       "      <th>235</th>\n",
       "      <td>Star Wars: Episode IV - A New Hope</td>\n",
       "      <td>460935665.0</td>\n",
       "      <td>Action, Adventure, Fantasy</td>\n",
       "    </tr>\n",
       "    <tr>\n",
       "      <th>159</th>\n",
       "      <td>The Dark Knight Rises</td>\n",
       "      <td>448130642.0</td>\n",
       "      <td>Action, Thriller</td>\n",
       "    </tr>\n",
       "    <tr>\n",
       "      <th>48</th>\n",
       "      <td>The Lion King</td>\n",
       "      <td>422783777.0</td>\n",
       "      <td>Animation, Adventure, Drama</td>\n",
       "    </tr>\n",
       "    <tr>\n",
       "      <th>100</th>\n",
       "      <td>Toy Story 3</td>\n",
       "      <td>414984497.0</td>\n",
       "      <td>Animation, Adventure, Comedy</td>\n",
       "    </tr>\n",
       "    <tr>\n",
       "      <th>68</th>\n",
       "      <td>Harry Potter and the Deathly Hallows: Part 2</td>\n",
       "      <td>380955619.0</td>\n",
       "      <td>Adventure, Drama, Fantasy</td>\n",
       "    </tr>\n",
       "    <tr>\n",
       "      <th>9</th>\n",
       "      <td>Finding Nemo</td>\n",
       "      <td>380838870.0</td>\n",
       "      <td>Animation, Adventure, Comedy</td>\n",
       "    </tr>\n",
       "    <tr>\n",
       "      <th>78</th>\n",
       "      <td>The Lord of the Rings: The Return of the King</td>\n",
       "      <td>377019252.0</td>\n",
       "      <td>Action, Adventure, Drama</td>\n",
       "    </tr>\n",
       "  </tbody>\n",
       "</table>\n",
       "</div>"
      ],
      "text/plain": [
       "                                             Title        Gross  \\\n",
       "160                   Star Wars: The Force Awakens  936627416.0   \n",
       "4                                     The Avengers  623279547.0   \n",
       "37                                 The Dark Knight  533316061.0   \n",
       "235             Star Wars: Episode IV - A New Hope  460935665.0   \n",
       "159                          The Dark Knight Rises  448130642.0   \n",
       "48                                   The Lion King  422783777.0   \n",
       "100                                    Toy Story 3  414984497.0   \n",
       "68    Harry Potter and the Deathly Hallows: Part 2  380955619.0   \n",
       "9                                     Finding Nemo  380838870.0   \n",
       "78   The Lord of the Rings: The Return of the King  377019252.0   \n",
       "\n",
       "                            Genre  \n",
       "160    Action, Adventure, Fantasy  \n",
       "4        Action, Sci-Fi, Thriller  \n",
       "37           Action, Crime, Drama  \n",
       "235    Action, Adventure, Fantasy  \n",
       "159              Action, Thriller  \n",
       "48    Animation, Adventure, Drama  \n",
       "100  Animation, Adventure, Comedy  \n",
       "68      Adventure, Drama, Fantasy  \n",
       "9    Animation, Adventure, Comedy  \n",
       "78       Action, Adventure, Drama  "
      ]
     },
     "execution_count": 33,
     "metadata": {},
     "output_type": "execute_result"
    }
   ],
   "source": [
    "df[['Title','Gross', 'Genre']].sort_values('Gross', ascending = False).head(10)"
   ]
  },
  {
   "cell_type": "code",
   "execution_count": 34,
   "metadata": {
    "collapsed": true
   },
   "outputs": [],
   "source": [
    "actorcols = actorsdf.columns"
   ]
  },
  {
   "cell_type": "code",
   "execution_count": 35,
   "metadata": {
    "collapsed": false
   },
   "outputs": [
    {
     "data": {
      "text/plain": [
       "actor: leonardo dicaprio    7\n",
       "actor: robert de            7\n",
       "actor: harrison ford        7\n",
       "actor: clint eastwood       6\n",
       "actor: tom hanks            6\n",
       "actor: mark hamill          5\n",
       "actor: tom hardy            5\n",
       "actor: matt damon           4\n",
       "actor: al pacino            4\n",
       "actor: christian bale       4\n",
       "dtype: int64"
      ]
     },
     "execution_count": 35,
     "metadata": {},
     "output_type": "execute_result"
    }
   ],
   "source": [
    "topactors = actorsdf.sum().sort_values(ascending = False).head(10)\n",
    "topactors"
   ]
  },
  {
   "cell_type": "code",
   "execution_count": 36,
   "metadata": {
    "collapsed": false
   },
   "outputs": [
    {
     "data": {
      "text/plain": [
       "actor: mark hamill          4.992118e+08\n",
       "actor: harrison ford        3.519134e+08\n",
       "actor: christian bale       3.099683e+08\n",
       "actor: tom hanks            2.423047e+08\n",
       "actor: tom hardy            2.183233e+08\n",
       "actor: matt damon           1.815702e+08\n",
       "actor: leonardo dicaprio    1.686647e+08\n",
       "actor: al pacino            7.606449e+07\n",
       "actor: clint eastwood       7.185320e+07\n",
       "actor: robert de            3.655932e+07\n",
       "dtype: float64"
      ]
     },
     "execution_count": 36,
     "metadata": {},
     "output_type": "execute_result"
    }
   ],
   "source": [
    "means = [df.loc[df[actor]==1,'Gross'].mean() for actor in topactors.index]\n",
    "means = pd.Series(means, index = topactors.index)\n",
    "means.sort_values(ascending = False)"
   ]
  },
  {
   "cell_type": "code",
   "execution_count": 37,
   "metadata": {
    "collapsed": false
   },
   "outputs": [
    {
     "data": {
      "text/html": [
       "<div>\n",
       "<table border=\"1\" class=\"dataframe\">\n",
       "  <thead>\n",
       "    <tr style=\"text-align: right;\">\n",
       "      <th></th>\n",
       "      <th>Genre</th>\n",
       "      <th>Title</th>\n",
       "      <th>Released</th>\n",
       "      <th>Gross</th>\n",
       "    </tr>\n",
       "  </thead>\n",
       "  <tbody>\n",
       "    <tr>\n",
       "      <th>88</th>\n",
       "      <td>Comedy, Drama, Family</td>\n",
       "      <td>The Kid</td>\n",
       "      <td>1921-02-06</td>\n",
       "      <td>2500000.0</td>\n",
       "    </tr>\n",
       "    <tr>\n",
       "      <th>180</th>\n",
       "      <td>Action, Adventure, Comedy</td>\n",
       "      <td>The General</td>\n",
       "      <td>1927-02-24</td>\n",
       "      <td>NaN</td>\n",
       "    </tr>\n",
       "    <tr>\n",
       "      <th>212</th>\n",
       "      <td>Drama, Sci-Fi</td>\n",
       "      <td>Metropolis</td>\n",
       "      <td>1927-03-13</td>\n",
       "      <td>26435.0</td>\n",
       "    </tr>\n",
       "    <tr>\n",
       "      <th>194</th>\n",
       "      <td>Drama, Romance</td>\n",
       "      <td>Sunrise</td>\n",
       "      <td>1927-11-04</td>\n",
       "      <td>NaN</td>\n",
       "    </tr>\n",
       "    <tr>\n",
       "      <th>174</th>\n",
       "      <td>Biography, Drama, History</td>\n",
       "      <td>The Passion of Joan of Arc</td>\n",
       "      <td>1928-10-25</td>\n",
       "      <td>NaN</td>\n",
       "    </tr>\n",
       "  </tbody>\n",
       "</table>\n",
       "</div>"
      ],
      "text/plain": [
       "                         Genre                       Title   Released  \\\n",
       "88       Comedy, Drama, Family                     The Kid 1921-02-06   \n",
       "180  Action, Adventure, Comedy                 The General 1927-02-24   \n",
       "212              Drama, Sci-Fi                  Metropolis 1927-03-13   \n",
       "194             Drama, Romance                     Sunrise 1927-11-04   \n",
       "174  Biography, Drama, History  The Passion of Joan of Arc 1928-10-25   \n",
       "\n",
       "         Gross  \n",
       "88   2500000.0  \n",
       "180        NaN  \n",
       "212    26435.0  \n",
       "194        NaN  \n",
       "174        NaN  "
      ]
     },
     "execution_count": 37,
     "metadata": {},
     "output_type": "execute_result"
    }
   ],
   "source": [
    "df.sort_values('Released')[['Genre', 'Title', 'Released', 'Gross']].head()"
   ]
  }
 ],
 "metadata": {
  "kernelspec": {
   "display_name": "Python [Python2]",
   "language": "python",
   "name": "Python [Python2]"
  },
  "language_info": {
   "codemirror_mode": {
    "name": "ipython",
    "version": 2
   },
   "file_extension": ".py",
   "mimetype": "text/x-python",
   "name": "python",
   "nbconvert_exporter": "python",
   "pygments_lexer": "ipython2",
   "version": "2.7.12"
  }
 },
 "nbformat": 4,
 "nbformat_minor": 0
}
