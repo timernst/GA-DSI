{
 "cells": [
  {
   "cell_type": "code",
   "execution_count": 42,
   "metadata": {
    "collapsed": false
   },
   "outputs": [
    {
     "data": {
      "text/plain": [
       "1.4142135623730951"
      ]
     },
     "execution_count": 42,
     "metadata": {},
     "output_type": "execute_result"
    }
   ],
   "source": [
    "import math\n",
    "def calculate_distance(p, q):\n",
    "    distance = math.sqrt((q[0]-p[0])**2+(q[1]-p[1])**2)\n",
    "    return distance\n",
    "\n",
    "z = [4, 8]\n",
    "x = [3, 7]\n",
    "\n",
    "calculate_distance(z, x)"
   ]
  },
  {
   "cell_type": "code",
   "execution_count": 43,
   "metadata": {
    "collapsed": true
   },
   "outputs": [],
   "source": [
    "def neighbor_vote(labels):\n",
    "    if lables.count(0) > lables.count(1):\n",
    "        vote = 0\n",
    "        return vote\n",
    "    elif lables.count(0) < lables.count(1):\n",
    "        vote = 1\n",
    "        return vote\n",
    "    else:\n",
    "        vote = 1\n",
    "        return vote\n"
   ]
  },
  {
   "cell_type": "code",
   "execution_count": null,
   "metadata": {
    "collapsed": true
   },
   "outputs": [],
   "source": [
    "def knn_classifier(labeled_points, new_point, k):\n",
    "    k_values = dist.sort[k]\n",
    "    lables = \n",
    "    prediction = neighbor_vote(lables)\n",
    "    return prediction"
   ]
  },
  {
   "cell_type": "code",
   "execution_count": 48,
   "metadata": {
    "collapsed": false
   },
   "outputs": [
    {
     "ename": "NameError",
     "evalue": "global name 'labeled_pionts' is not defined",
     "output_type": "error",
     "traceback": [
      "\u001b[0;31m---------------------------------------------------------------------------\u001b[0m",
      "\u001b[0;31mNameError\u001b[0m                                 Traceback (most recent call last)",
      "\u001b[0;32m<ipython-input-48-56dc364427e9>\u001b[0m in \u001b[0;36m<module>\u001b[0;34m()\u001b[0m\n\u001b[1;32m      6\u001b[0m \u001b[0msomething_new\u001b[0m \u001b[0;34m=\u001b[0m \u001b[0;34m[\u001b[0m\u001b[0;36m5\u001b[0m\u001b[0;34m,\u001b[0m\u001b[0;36m3\u001b[0m\u001b[0;34m]\u001b[0m\u001b[0;34m\u001b[0m\u001b[0m\n\u001b[1;32m      7\u001b[0m \u001b[0;34m\u001b[0m\u001b[0m\n\u001b[0;32m----> 8\u001b[0;31m \u001b[0mknn_classifier\u001b[0m\u001b[0;34m(\u001b[0m\u001b[0msome_labled_points\u001b[0m\u001b[0;34m,\u001b[0m \u001b[0msomething_new\u001b[0m\u001b[0;34m)\u001b[0m\u001b[0;34m\u001b[0m\u001b[0m\n\u001b[0m",
      "\u001b[0;32m<ipython-input-48-56dc364427e9>\u001b[0m in \u001b[0;36mknn_classifier\u001b[0;34m(labeled_points, new_point)\u001b[0m\n\u001b[1;32m      1\u001b[0m \u001b[0;32mdef\u001b[0m \u001b[0mknn_classifier\u001b[0m\u001b[0;34m(\u001b[0m\u001b[0mlabeled_points\u001b[0m\u001b[0;34m,\u001b[0m \u001b[0mnew_point\u001b[0m\u001b[0;34m)\u001b[0m\u001b[0;34m:\u001b[0m\u001b[0;34m\u001b[0m\u001b[0m\n\u001b[0;32m----> 2\u001b[0;31m     \u001b[0mdist\u001b[0m \u001b[0;34m=\u001b[0m \u001b[0;34m[\u001b[0m\u001b[0mcalculate_distance\u001b[0m\u001b[0;34m(\u001b[0m\u001b[0mx\u001b[0m\u001b[0;34m,\u001b[0m \u001b[0mnew_point\u001b[0m\u001b[0;34m)\u001b[0m \u001b[0;32mfor\u001b[0m \u001b[0mx\u001b[0m \u001b[0;32min\u001b[0m \u001b[0mlabeled_pionts\u001b[0m\u001b[0;34m]\u001b[0m\u001b[0;34m\u001b[0m\u001b[0m\n\u001b[0m\u001b[1;32m      3\u001b[0m     \u001b[0;32mreturn\u001b[0m \u001b[0mdist\u001b[0m\u001b[0;34m\u001b[0m\u001b[0m\n\u001b[1;32m      4\u001b[0m \u001b[0;34m\u001b[0m\u001b[0m\n\u001b[1;32m      5\u001b[0m \u001b[0msome_labled_points\u001b[0m \u001b[0;34m=\u001b[0m \u001b[0;34m[\u001b[0m\u001b[0;34m[\u001b[0m\u001b[0;36m2\u001b[0m\u001b[0;34m,\u001b[0m\u001b[0;36m4\u001b[0m\u001b[0;34m]\u001b[0m\u001b[0;34m,\u001b[0m \u001b[0;34m[\u001b[0m\u001b[0;36m5\u001b[0m\u001b[0;34m,\u001b[0m\u001b[0;36m7\u001b[0m\u001b[0;34m]\u001b[0m\u001b[0;34m,\u001b[0m \u001b[0;34m[\u001b[0m\u001b[0;36m13\u001b[0m\u001b[0;34m,\u001b[0m\u001b[0;36m18\u001b[0m\u001b[0;34m]\u001b[0m\u001b[0;34m,\u001b[0m \u001b[0;34m[\u001b[0m\u001b[0;36m7\u001b[0m\u001b[0;34m,\u001b[0m\u001b[0;36m9\u001b[0m\u001b[0;34m]\u001b[0m\u001b[0;34m]\u001b[0m\u001b[0;34m\u001b[0m\u001b[0m\n",
      "\u001b[0;31mNameError\u001b[0m: global name 'labeled_pionts' is not defined"
     ]
    }
   ],
   "source": [
    "def knn_classifier(labeled_points, new_point):\n",
    "    dist = [calculate_distance(x, new_point) for x in labeled_pionts]\n",
    "    return dist\n",
    "\n",
    "some_labled_points = [[2,4], [5,7], [13,18], [7,9]]\n",
    "something_new = [5,3]\n",
    "\n",
    "knn_classifier(some_labled_points, something_new)"
   ]
  },
  {
   "cell_type": "code",
   "execution_count": 16,
   "metadata": {
    "collapsed": true
   },
   "outputs": [],
   "source": [
    "from sklearn import datasets\n",
    "import pandas as pd\n",
    "import numpy as np\n",
    "from sklearn.cross_validation import train_test_split\n",
    "\n",
    "# import data\n",
    "iris = datasets.load_iris()\n",
    "X = iris.data[:100, :2]  # use the first two features and just the first two classes.\n",
    "y = iris.target[:100]\n",
    "X_train, X_test, y_train, y_test = train_test_split(X, y, test_size=0.30, random_state=42)\n",
    "\n",
    "# Split 70/30 into initial data and new points to classify\n",
    "training_df = pd.DataFrame({'feature1':X_train[:,0],'feature2':X_train[:,1],'class':y_train})\n",
    "test_df = pd.DataFrame({'feature1':X_test[:,0],'feature2':X_test[:,1],'class':y_test})"
   ]
  },
  {
   "cell_type": "code",
   "execution_count": 46,
   "metadata": {
    "collapsed": false
   },
   "outputs": [
    {
     "name": "stdout",
     "output_type": "stream",
     "text": [
      "[[ 5.1  3.5]\n",
      " [ 4.9  3. ]\n",
      " [ 4.7  3.2]\n",
      " [ 4.6  3.1]\n",
      " [ 5.   3.6]\n",
      " [ 5.4  3.9]\n",
      " [ 4.6  3.4]\n",
      " [ 5.   3.4]\n",
      " [ 4.4  2.9]\n",
      " [ 4.9  3.1]\n",
      " [ 5.4  3.7]\n",
      " [ 4.8  3.4]\n",
      " [ 4.8  3. ]\n",
      " [ 4.3  3. ]\n",
      " [ 5.8  4. ]\n",
      " [ 5.7  4.4]\n",
      " [ 5.4  3.9]\n",
      " [ 5.1  3.5]\n",
      " [ 5.7  3.8]\n",
      " [ 5.1  3.8]\n",
      " [ 5.4  3.4]\n",
      " [ 5.1  3.7]\n",
      " [ 4.6  3.6]\n",
      " [ 5.1  3.3]\n",
      " [ 4.8  3.4]\n",
      " [ 5.   3. ]\n",
      " [ 5.   3.4]\n",
      " [ 5.2  3.5]\n",
      " [ 5.2  3.4]\n",
      " [ 4.7  3.2]\n",
      " [ 4.8  3.1]\n",
      " [ 5.4  3.4]\n",
      " [ 5.2  4.1]\n",
      " [ 5.5  4.2]\n",
      " [ 4.9  3.1]\n",
      " [ 5.   3.2]\n",
      " [ 5.5  3.5]\n",
      " [ 4.9  3.1]\n",
      " [ 4.4  3. ]\n",
      " [ 5.1  3.4]\n",
      " [ 5.   3.5]\n",
      " [ 4.5  2.3]\n",
      " [ 4.4  3.2]\n",
      " [ 5.   3.5]\n",
      " [ 5.1  3.8]\n",
      " [ 4.8  3. ]\n",
      " [ 5.1  3.8]\n",
      " [ 4.6  3.2]\n",
      " [ 5.3  3.7]\n",
      " [ 5.   3.3]\n",
      " [ 7.   3.2]\n",
      " [ 6.4  3.2]\n",
      " [ 6.9  3.1]\n",
      " [ 5.5  2.3]\n",
      " [ 6.5  2.8]\n",
      " [ 5.7  2.8]\n",
      " [ 6.3  3.3]\n",
      " [ 4.9  2.4]\n",
      " [ 6.6  2.9]\n",
      " [ 5.2  2.7]\n",
      " [ 5.   2. ]\n",
      " [ 5.9  3. ]\n",
      " [ 6.   2.2]\n",
      " [ 6.1  2.9]\n",
      " [ 5.6  2.9]\n",
      " [ 6.7  3.1]\n",
      " [ 5.6  3. ]\n",
      " [ 5.8  2.7]\n",
      " [ 6.2  2.2]\n",
      " [ 5.6  2.5]\n",
      " [ 5.9  3.2]\n",
      " [ 6.1  2.8]\n",
      " [ 6.3  2.5]\n",
      " [ 6.1  2.8]\n",
      " [ 6.4  2.9]\n",
      " [ 6.6  3. ]\n",
      " [ 6.8  2.8]\n",
      " [ 6.7  3. ]\n",
      " [ 6.   2.9]\n",
      " [ 5.7  2.6]\n",
      " [ 5.5  2.4]\n",
      " [ 5.5  2.4]\n",
      " [ 5.8  2.7]\n",
      " [ 6.   2.7]\n",
      " [ 5.4  3. ]\n",
      " [ 6.   3.4]\n",
      " [ 6.7  3.1]\n",
      " [ 6.3  2.3]\n",
      " [ 5.6  3. ]\n",
      " [ 5.5  2.5]\n",
      " [ 5.5  2.6]\n",
      " [ 6.1  3. ]\n",
      " [ 5.8  2.6]\n",
      " [ 5.   2.3]\n",
      " [ 5.6  2.7]\n",
      " [ 5.7  3. ]\n",
      " [ 5.7  2.9]\n",
      " [ 6.2  2.9]\n",
      " [ 5.1  2.5]\n",
      " [ 5.7  2.8]]\n"
     ]
    }
   ],
   "source": [
    "print X\n"
   ]
  },
  {
   "cell_type": "code",
   "execution_count": 39,
   "metadata": {
    "collapsed": false
   },
   "outputs": [
    {
     "name": "stdout",
     "output_type": "stream",
     "text": [
      "[3, 7]\n"
     ]
    }
   ],
   "source": [
    "print x"
   ]
  },
  {
   "cell_type": "code",
   "execution_count": null,
   "metadata": {
    "collapsed": true
   },
   "outputs": [],
   "source": [
    "\"\"\" Iteratively classify new points in test_df, based on the labeled points in training_df, and track your accuracy.\"\"\""
   ]
  },
  {
   "cell_type": "code",
   "execution_count": null,
   "metadata": {
    "collapsed": true
   },
   "outputs": [],
   "source": [
    "\"\"\" BONUS: plot the labeled points and an example of a new point being classified.\"\"\""
   ]
  }
 ],
 "metadata": {
  "kernelspec": {
   "display_name": "Python [Python2]",
   "language": "python",
   "name": "Python [Python2]"
  },
  "language_info": {
   "codemirror_mode": {
    "name": "ipython",
    "version": 2
   },
   "file_extension": ".py",
   "mimetype": "text/x-python",
   "name": "python",
   "nbconvert_exporter": "python",
   "pygments_lexer": "ipython2",
   "version": "2.7.12"
  }
 },
 "nbformat": 4,
 "nbformat_minor": 0
}
