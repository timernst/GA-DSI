{
 "cells": [
  {
   "cell_type": "markdown",
   "metadata": {
    "slideshow": {
     "slide_type": "slide"
    }
   },
   "source": [
    "# ![](https://ga-dash.s3.amazonaws.com/production/assets/logo-9f88ae6c9c3871690e33280fcf557f33.png) Data Visualization & Plotting Tools\n",
    "\n",
    "Week 1 | Day 5"
   ]
  },
  {
   "cell_type": "markdown",
   "metadata": {
    "slideshow": {
     "slide_type": "slide"
    }
   },
   "source": [
    "### LEARNING OBJECTIVES\n",
    "*After this lesson, you will be able to:*\n",
    "- Explain the importance of data visualization in the data science workflow\n",
    "- Discuss the different types of visualizations available\n",
    "- Use the appropriate visualization for the task\n",
    "- Discuss the pros and cons of different plotting libraries\n",
    "- Create a few simple plots in matplotlib and seaborn"
   ]
  },
  {
   "cell_type": "markdown",
   "metadata": {
    "slideshow": {
     "slide_type": "slide"
    }
   },
   "source": [
    "## Why visualize data?"
   ]
  },
  {
   "cell_type": "markdown",
   "metadata": {
    "slideshow": {
     "slide_type": "fragment"
    }
   },
   "source": [
    "Two reasons:\n",
    "\n",
    "1. Exploration\n",
    "2. Explanation"
   ]
  },
  {
   "cell_type": "markdown",
   "metadata": {
    "slideshow": {
     "slide_type": "slide"
    }
   },
   "source": [
    "## Exploration\n",
    "\n",
    "- We use visualizations to help us understand data in ways that we can't through simple tables\n",
    "- Visualizations reveal deep\n",
    "relationships in the data instantly that tables of data cannot do"
   ]
  },
  {
   "cell_type": "markdown",
   "metadata": {
    "slideshow": {
     "slide_type": "slide"
    }
   },
   "source": [
    "## Exploration Example #1"
   ]
  },
  {
   "cell_type": "markdown",
   "metadata": {
    "slideshow": {
     "slide_type": "-"
    }
   },
   "source": [
    "<center>\n",
    "<img src=\"http://i.imgur.com/4SzUB0x.png\" width=\"650\">\n",
    "</center>"
   ]
  },
  {
   "cell_type": "markdown",
   "metadata": {
    "slideshow": {
     "slide_type": "-"
    }
   },
   "source": [
    "##### Given these summary statistics, what do you imagine these 4 datasets look like?"
   ]
  },
  {
   "cell_type": "markdown",
   "metadata": {
    "slideshow": {
     "slide_type": "slide"
    }
   },
   "source": [
    "<center>![](http://i.imgur.com/UbqFnXr.png)</center>"
   ]
  },
  {
   "cell_type": "markdown",
   "metadata": {
    "slideshow": {
     "slide_type": "slide"
    }
   },
   "source": [
    "## Exploration Example #2"
   ]
  },
  {
   "cell_type": "markdown",
   "metadata": {
    "slideshow": {
     "slide_type": "-"
    }
   },
   "source": [
    "<br><br><center>![](https://upload.wikimedia.org/wikipedia/commons/d/d4/Correlation_examples2.svg)</center>"
   ]
  },
  {
   "cell_type": "markdown",
   "metadata": {
    "slideshow": {
     "slide_type": "slide"
    }
   },
   "source": [
    "## Explanation Example #1"
   ]
  },
  {
   "cell_type": "markdown",
   "metadata": {
    "slideshow": {
     "slide_type": "-"
    }
   },
   "source": [
    "[Billion-Dollar Gram](http://www.informationisbeautiful.net/visualizations/the-billion-dollar-gram/)"
   ]
  },
  {
   "cell_type": "markdown",
   "metadata": {
    "slideshow": {
     "slide_type": "slide"
    }
   },
   "source": [
    "## Explanation Example #2"
   ]
  },
  {
   "cell_type": "markdown",
   "metadata": {
    "slideshow": {
     "slide_type": "-"
    }
   },
   "source": [
    "[XKCD Climate Change](https://xkcd.com/1732/)"
   ]
  },
  {
   "cell_type": "markdown",
   "metadata": {
    "slideshow": {
     "slide_type": "slide"
    }
   },
   "source": [
    "## Explanation Example #3"
   ]
  },
  {
   "cell_type": "markdown",
   "metadata": {
    "slideshow": {
     "slide_type": "-"
    }
   },
   "source": [
    "[Supplement Evidence](http://www.informationisbeautiful.net/visualizations/snake-oil-supplements/)"
   ]
  },
  {
   "cell_type": "markdown",
   "metadata": {
    "slideshow": {
     "slide_type": "slide"
    }
   },
   "source": [
    "## Types of Charts in Data Science\n",
    "\n",
    "There are hundreds if not thousands of types of visualizations. Let's look a a few of the more common types of visualizations and their use cases in the data science field."
   ]
  },
  {
   "cell_type": "markdown",
   "metadata": {
    "slideshow": {
     "slide_type": "slide"
    }
   },
   "source": [
    "## 1. Line Chart\n",
    "\n",
    "This is the most basic of plots. Each line represents a value over time. Should not be overly-cluttered with lines.\n",
    "\n",
    "<img src=\"http://i.imgur.com/kJhKnmM.png\" width=600>"
   ]
  },
  {
   "cell_type": "markdown",
   "metadata": {
    "slideshow": {
     "slide_type": "slide"
    }
   },
   "source": [
    "## 2. Pie Chart\n",
    "\n",
    "The most reviled of all the charts. Use with caution. Should show proportions of a whole and should have 4 or fewer \"slices\".\n",
    "Prefer donut -- or even better bar or stacked bars.\n",
    "\n",
    "\n",
    "<img src=\"http://i.imgur.com/wsVTukr.jpg\" width=\"500\">"
   ]
  },
  {
   "cell_type": "markdown",
   "metadata": {
    "slideshow": {
     "slide_type": "slide"
    }
   },
   "source": [
    "## 3. Histogram"
   ]
  },
  {
   "cell_type": "markdown",
   "metadata": {
    "slideshow": {
     "slide_type": "-"
    }
   },
   "source": [
    "![](http://i.imgur.com/vHjpuPq.png)"
   ]
  },
  {
   "cell_type": "markdown",
   "metadata": {
    "slideshow": {
     "slide_type": "slide"
    }
   },
   "source": [
    "### Histograms are used to view the distribution of **continuous variables** <br>\n",
    "<center><em>This means the data must be 'binned'</em></center>\n",
    "\n",
    "![](http://i.imgur.com/PSk8Mc7.png)"
   ]
  },
  {
   "cell_type": "markdown",
   "metadata": {
    "slideshow": {
     "slide_type": "slide"
    }
   },
   "source": [
    "## 4. Bar Chart\n",
    "\n",
    "A bar chart is used to display quantities across categories.\n",
    "\n",
    "![](http://i.imgur.com/3oaLTZa.png)"
   ]
  },
  {
   "cell_type": "markdown",
   "metadata": {
    "slideshow": {
     "slide_type": "slide"
    }
   },
   "source": [
    "## 4. Scatterplot\n",
    "\n",
    "A scatter plot is a chart that plots one variable against another. It is used to show the relationship between the variables.\n",
    "<center>\n",
    "![](https://upload.wikimedia.org/wikipedia/commons/0/0f/Oldfaithful3.png)\n",
    "</center>"
   ]
  },
  {
   "cell_type": "markdown",
   "metadata": {
    "slideshow": {
     "slide_type": "slide"
    }
   },
   "source": [
    "## 5. Choropleth\n",
    "\n",
    "A map that uses differences in shading, coloring, or the placing of symbols within predefined areas to indicate the average values of a property or quantity in those areas."
   ]
  },
  {
   "cell_type": "markdown",
   "metadata": {
    "slideshow": {
     "slide_type": "-"
    }
   },
   "source": [
    "<img src=\"http://i.imgur.com/yICikJL.png\" width=800>"
   ]
  },
  {
   "cell_type": "markdown",
   "metadata": {
    "slideshow": {
     "slide_type": "slide"
    }
   },
   "source": [
    "## 6. Box Plot\n",
    "\n",
    "The box plot is a plot that displays data using quartiles. There are a number of slight variations on this plot, so it\n",
    "can be confusing to even somewhat technical audiences. If you use a box plot, make absolutely sure it **isn't for a general audience** and it is **well labelled**.\n",
    "<center>\n",
    "<img src=\"http://i.imgur.com/ymfpKCg.png\" width=500>\n",
    "</center>"
   ]
  },
  {
   "cell_type": "markdown",
   "metadata": {
    "slideshow": {
     "slide_type": "slide"
    }
   },
   "source": [
    "## Exercise:\n",
    "\n",
    "Take a few moments and pair up with a partner to answer the following:\n",
    "<small>\n",
    "- Which type of chart would be best to display the relationship between wealth and age?\n",
    "- If you were to change the size of the points based on another variable what would that type of chart be called?\n",
    "- Which type of chart would be best to visualize the population of the US by age?\n",
    "- Which type of chart would be best to display the average rent by borough in Manhattan?\n",
    "- Which type of chart would be best to display the distribution of data? Under what circumstances could that be different?\n",
    "- Which type of chart would be best to display the average price of Manhattan real estate over the last 5 years?\n",
    "- Which charts require continuous variables?\n",
    "- Find the best and worst visualizations you can anywhere on the internet & Slack them to me\n",
    "</small>"
   ]
  },
  {
   "cell_type": "markdown",
   "metadata": {
    "slideshow": {
     "slide_type": "slide"
    }
   },
   "source": [
    "## Bad Viz"
   ]
  },
  {
   "cell_type": "markdown",
   "metadata": {
    "slideshow": {
     "slide_type": "slide"
    }
   },
   "source": [
    "<center><img src=\"http://66.media.tumblr.com/9629a19ab96f3a03a336865ddaf28f25/tumblr_odr2w1Q8Gh1sgh0voo1_1280.png\" width=500></center>"
   ]
  },
  {
   "cell_type": "markdown",
   "metadata": {
    "slideshow": {
     "slide_type": "slide"
    }
   },
   "source": [
    "## Feeling All Safe & Sound?\n",
    "<center>\n",
    "<br>\n",
    "<img src=\"http://66.media.tumblr.com/22b22e511db835debf340f692bb351dc/tumblr_od46vvxwOq1sgh0voo1_1280.jpg\" width=700></center>"
   ]
  },
  {
   "cell_type": "markdown",
   "metadata": {
    "slideshow": {
     "slide_type": "slide"
    }
   },
   "source": [
    "## Definitely Feeling Safe Now\n",
    "![](http://68.media.tumblr.com/1aafa5ea09a50e7ee2f31bc874a7f209/tumblr_obyucjB3Vm1sgh0voo1_1280.jpg)"
   ]
  },
  {
   "cell_type": "markdown",
   "metadata": {
    "slideshow": {
     "slide_type": "slide"
    }
   },
   "source": [
    "## Scale Is Important\n",
    "\n",
    "![](http://i.imgur.com/kd7FFuT.png)"
   ]
  },
  {
   "cell_type": "markdown",
   "metadata": {
    "slideshow": {
     "slide_type": "slide"
    }
   },
   "source": [
    "## Alphabetical Isn't Always Best\n",
    "<br>\n",
    "<center>\n",
    "![](http://66.media.tumblr.com/dfcd8585de39e63c2cb4ea28c3b66308/tumblr_obshgcwlh21sgh0voo1_1280.png)\n",
    "</center>"
   ]
  },
  {
   "cell_type": "markdown",
   "metadata": {
    "slideshow": {
     "slide_type": "slide"
    }
   },
   "source": [
    "## Donut Make This Mistake\n",
    "![](http://i.imgur.com/NG3qrL7.png)"
   ]
  },
  {
   "cell_type": "markdown",
   "metadata": {
    "slideshow": {
     "slide_type": "slide"
    }
   },
   "source": [
    "<center>![](http://imgs.xkcd.com/comics/heatmap.png)</center>"
   ]
  },
  {
   "cell_type": "markdown",
   "metadata": {
    "slideshow": {
     "slide_type": "slide"
    }
   },
   "source": [
    "## Exercise:\n",
    "\n",
    "With a partner, spend the next few minutes re-creating either one of these bad visualizations, or any other bad viz to improve it. Be ready to explain what you did to fix it and why."
   ]
  },
  {
   "cell_type": "markdown",
   "metadata": {
    "slideshow": {
     "slide_type": "slide"
    }
   },
   "source": [
    "## Visualization Libraries\n",
    "\n",
    "\n",
    "There are a number of visualization libraries used in data science. No single one is *the* definitive library in the Python ecosystem. <br>\n",
    "<br>\n",
    "The following are the top libraries used in Python:<br>\n",
    "1. Matplotlib (incl. pandas)\n",
    "2. Seaborn\n",
    "3. Bokeh\n",
    "4. Plotly\n",
    "\n",
    "\n",
    "The folowing are the top non-Python-based libraries:<br>\n",
    "1. D3\n",
    "2. Tableau\n",
    "\n",
    "We'll discuss MPL, Seaborn, and D3 today."
   ]
  },
  {
   "cell_type": "markdown",
   "metadata": {
    "slideshow": {
     "slide_type": "slide"
    }
   },
   "source": [
    "## Matplotlib\n",
    "\n",
    "[Gallery](http://matplotlib.org/gallery.html)\n",
    "\n",
    "![](http://i.imgur.com/LZPg10C.png)"
   ]
  },
  {
   "cell_type": "markdown",
   "metadata": {
    "slideshow": {
     "slide_type": "slide"
    }
   },
   "source": [
    "## Matplotlib Example"
   ]
  },
  {
   "cell_type": "code",
   "execution_count": 4,
   "metadata": {
    "collapsed": false,
    "slideshow": {
     "slide_type": "-"
    }
   },
   "outputs": [
    {
     "data": {
      "text/plain": [
       "<Container object of 4 artists>"
      ]
     },
     "execution_count": 4,
     "metadata": {},
     "output_type": "execute_result"
    },
    {
     "data": {
      "image/png": "[encoded data removed]",
      "text/plain": [
       "<matplotlib.figure.Figure at 0x109a0c410>"
      ]
     },
     "metadata": {},
     "output_type": "display_data"
    }
   ],
   "source": [
    "import matplotlib.pyplot as plt\n",
    "%matplotlib inline\n",
    "\n",
    "fig, ax = plt.subplots()\n",
    "\n",
    "states = {'NY': 25, 'NJ': 10, 'NE': 15, 'NH': 7}\n",
    "\n",
    "x = range(len(states))\n",
    "y = states.values()\n",
    "\n",
    "plt.bar(x, y)"
   ]
  },
  {
   "cell_type": "markdown",
   "metadata": {
    "slideshow": {
     "slide_type": "slide"
    }
   },
   "source": [
    "## Cleaning that up"
   ]
  },
  {
   "cell_type": "code",
   "execution_count": 5,
   "metadata": {
    "collapsed": false,
    "hideOutput": true,
    "hidePrompt": true,
    "slideshow": {
     "slide_type": "slide"
    }
   },
   "outputs": [
    {
     "data": {
      "text/plain": [
       "<Container object of 4 artists>"
      ]
     },
     "execution_count": 5,
     "metadata": {},
     "output_type": "execute_result"
    },
    {
     "data": {
      "image/png": "[encoded data removed]",
      "text/plain": [
       "<matplotlib.figure.Figure at 0x10c7b2910>"
      ]
     },
     "metadata": {},
     "output_type": "display_data"
    }
   ],
   "source": [
    "fig, ax = plt.subplots(figsize=(15,7))\n",
    "\n",
    "states = {'NY': 25, 'NJ': 10, 'NE': 15, 'NH': 7}\n",
    "\n",
    "x = range(len(states))\n",
    "y = states.values()\n",
    "\n",
    "# set the title, make it bigger, and move it up in the y-direction\n",
    "ax.set_title('Number by State', fontsize=18, y=1.01)\n",
    "\n",
    "# set the x tick labels and center\n",
    "ax.set_xticks(x)\n",
    "ax.set_xticklabels(states.keys())\n",
    "\n",
    "# add some margin\n",
    "ax.set_ylim(0, max(states.values()) * 1.1)\n",
    "ax.set_xlim(-1,len(states))\n",
    "\n",
    "# chang the color\n",
    "plt.bar(x, y, align='center', color='r')"
   ]
  },
  {
   "cell_type": "code",
   "execution_count": 6,
   "metadata": {
    "collapsed": false,
    "hideCode": true,
    "hidePrompt": true,
    "slideshow": {
     "slide_type": "slide"
    }
   },
   "outputs": [
    {
     "data": {
      "text/plain": [
       "<Container object of 4 artists>"
      ]
     },
     "execution_count": 6,
     "metadata": {},
     "output_type": "execute_result"
    },
    {
     "data": {
      "image/png": "[encoded data removed]",
      "text/plain": [
       "<matplotlib.figure.Figure at 0x10cb85210>"
      ]
     },
     "metadata": {},
     "output_type": "display_data"
    }
   ],
   "source": [
    "fig, ax = plt.subplots(figsize=(15,7))\n",
    "\n",
    "states = {'NY': 25, 'NJ': 10, 'NE': 15, 'NH': 7}\n",
    "\n",
    "x = range(len(states))\n",
    "y = states.values()\n",
    "\n",
    "# set the title, make it bigger, and move it up in the y-direction\n",
    "ax.set_title('Number by State', fontsize=18, y=1.01)\n",
    "\n",
    "# set the x tick labels and center\n",
    "ax.set_xticks(x)\n",
    "ax.set_xticklabels(states.keys())\n",
    "\n",
    "# add some margin\n",
    "ax.set_ylim(0, max(states.values()) * 1.1)\n",
    "ax.set_xlim(-1,len(states))\n",
    "\n",
    "# chang the color\n",
    "plt.bar(x, y, align='center', color='r')"
   ]
  },
  {
   "cell_type": "markdown",
   "metadata": {
    "slideshow": {
     "slide_type": "slide"
    }
   },
   "source": [
    "## Exercise\n",
    "\n",
    "- Create your own bar chart in matplotlib\n",
    "- Create a toy data set and practice changing the parameters like color, font size, tick position\n",
    "- Use stack overflow and the documentation to help you if you get stuck\n",
    "- If you still have time build another chart use plt.scatter()"
   ]
  },
  {
   "cell_type": "code",
   "execution_count": 17,
   "metadata": {
    "collapsed": false
   },
   "outputs": [
    {
     "data": {
      "text/plain": [
       "<Container object of 4 artists>"
      ]
     },
     "execution_count": 17,
     "metadata": {},
     "output_type": "execute_result"
    },
    {
     "data": {
      "image/png": "[encoded data removed]",
      "text/plain": [
       "<matplotlib.figure.Figure at 0x10f67df90>"
      ]
     },
     "metadata": {},
     "output_type": "display_data"
    }
   ],
   "source": [
    "fig, ax = plt.subplots(figsize=(15,7))\n",
    "\n",
    "states = {'NY': 25, 'NJ': 10, 'NE': 15, 'NH': 7}\n",
    "\n",
    "x = range(len(states))\n",
    "y = states.values()\n",
    "\n",
    "# set the title, make it bigger, and move it up in the y-direction\n",
    "ax.set_title('Number by State', fontsize=18, y=1.01)\n",
    "\n",
    "# set the x tick labels and center\n",
    "ax.set_xticks(x)\n",
    "ax.set_xticklabels(states.keys())\n",
    "\n",
    "# add some margin\n",
    "ax.set_ylim(0, max(states.values()) * 1.1)\n",
    "ax.set_xlim(-1,len(states))\n",
    "\n",
    "# chang the color\n",
    "plt.bar(x, y, align='center', color='b')\n",
    "\n",
    "plt.axes"
   ]
  },
  {
   "cell_type": "markdown",
   "metadata": {
    "slideshow": {
     "slide_type": "slide"
    }
   },
   "source": [
    "## Seaborn\n",
    "[Documentation](https://stanford.edu/~mwaskom/software/seaborn/examples/index.html)\n",
    "![](http://i.imgur.com/jmMc6gF.png)"
   ]
  },
  {
   "cell_type": "code",
   "execution_count": 66,
   "metadata": {
    "collapsed": false,
    "slideshow": {
     "slide_type": "slide"
    }
   },
   "outputs": [
    {
     "data": {
      "text/plain": [
       "<matplotlib.axes._subplots.AxesSubplot at 0x122616550>"
      ]
     },
     "execution_count": 66,
     "metadata": {},
     "output_type": "execute_result"
    },
    {
     "data": {
      "image/png": "[encoded data removed]",
      "text/plain": [
       "<matplotlib.figure.Figure at 0x1226b2950>"
      ]
     },
     "metadata": {},
     "output_type": "display_data"
    }
   ],
   "source": [
    "import seaborn as sns\n",
    "sns.set(style=\"white\", context=\"talk\")\n",
    "\n",
    "# takes strings directly as x labels\n",
    "sns.barplot(states.keys(), y, palette=\"BuGn_d\")"
   ]
  },
  {
   "cell_type": "code",
   "execution_count": 1,
   "metadata": {
    "collapsed": false,
    "slideshow": {
     "slide_type": "slide"
    }
   },
   "outputs": [
    {
     "ename": "NameError",
     "evalue": "name 'plt' is not defined",
     "output_type": "error",
     "traceback": [
      "\u001b[0;31m---------------------------------------------------------------------------\u001b[0m",
      "\u001b[0;31mNameError\u001b[0m                                 Traceback (most recent call last)",
      "\u001b[0;32m<ipython-input-1-f4d2c5e2cc4f>\u001b[0m in \u001b[0;36m<module>\u001b[0;34m()\u001b[0m\n\u001b[1;32m      2\u001b[0m \u001b[0msns\u001b[0m\u001b[0;34m.\u001b[0m\u001b[0mset\u001b[0m\u001b[0;34m(\u001b[0m\u001b[0mstyle\u001b[0m\u001b[0;34m=\u001b[0m\u001b[0;34m\"white\"\u001b[0m\u001b[0;34m,\u001b[0m \u001b[0mcontext\u001b[0m\u001b[0;34m=\u001b[0m\u001b[0;34m\"talk\"\u001b[0m\u001b[0;34m)\u001b[0m\u001b[0;34m\u001b[0m\u001b[0m\n\u001b[1;32m      3\u001b[0m \u001b[0;34m\u001b[0m\u001b[0m\n\u001b[0;32m----> 4\u001b[0;31m \u001b[0mfig\u001b[0m\u001b[0;34m,\u001b[0m \u001b[0max\u001b[0m \u001b[0;34m=\u001b[0m \u001b[0mplt\u001b[0m\u001b[0;34m.\u001b[0m\u001b[0msubplots\u001b[0m\u001b[0;34m(\u001b[0m\u001b[0mfigsize\u001b[0m\u001b[0;34m=\u001b[0m\u001b[0;34m(\u001b[0m\u001b[0;36m15\u001b[0m\u001b[0;34m,\u001b[0m\u001b[0;36m7\u001b[0m\u001b[0;34m)\u001b[0m\u001b[0;34m)\u001b[0m\u001b[0;34m\u001b[0m\u001b[0m\n\u001b[0m\u001b[1;32m      5\u001b[0m \u001b[0;34m\u001b[0m\u001b[0m\n\u001b[1;32m      6\u001b[0m \u001b[0;31m# set the title - uses mpl under the hood\u001b[0m\u001b[0;34m\u001b[0m\u001b[0;34m\u001b[0m\u001b[0m\n",
      "\u001b[0;31mNameError\u001b[0m: name 'plt' is not defined"
     ]
    }
   ],
   "source": [
    "import seaborn as sns\n",
    "sns.set(style=\"white\", context=\"talk\")\n",
    "\n",
    "fig, ax = plt.subplots(figsize=(15,7))\n",
    "\n",
    "# set the title - uses mpl under the hood\n",
    "ax.set_title('Number By State', fontsize=16, y=1.02)\n",
    "\n",
    "# takes strings directly as x labels\n",
    "sns.pairplot(states.keys(), y, palette=\"BuGn_d\")"
   ]
  },
  {
   "cell_type": "markdown",
   "metadata": {
    "slideshow": {
     "slide_type": "slide"
    }
   },
   "source": [
    "## Exercise:\n",
    "\n",
    "- Spend some time now looking at the documentation for Seaborn. \n",
    "- Try to run some example plots in your notebook, e.g., violin plots, pair plots, etc.\n",
    "\n"
   ]
  },
  {
   "cell_type": "markdown",
   "metadata": {
    "slideshow": {
     "slide_type": "slide"
    }
   },
   "source": [
    "## D3\n",
    "\n",
    "D3 is an amazing library created by Mike Bostik of the New York Times. It is a Javascript-based library -- not a Python one.\n",
    "\n",
    "[Documentation](https://github.com/d3/d3/wiki/Gallery)\n",
    "\n",
    "\n",
    "<center><img src=\"http://i.imgur.com/c7ljWLy.png\" width=\"1000\"></center>\n"
   ]
  },
  {
   "cell_type": "markdown",
   "metadata": {
    "slideshow": {
     "slide_type": "slide"
    }
   },
   "source": [
    "## Conclusion\n",
    "\n",
    "In this lecture we've seen the following:\n",
    "- Why visualization is important to datascince: exploration and explaination\n",
    "- The most common types of visualizations\n",
    "- Which visualizations are appropriate for the given task\n",
    "- The most commonly-used libraries for data science and their pros and cons\n",
    "- How to create a few simple plots in mpl and seaborn\n",
    "\n",
    "\n",
    "Following this lecture there is a lab on visualization. Feel free to pair up and work on this.\n",
    "It is not going to be easy. If you run into trouble, use the documentation and stack overflow\n",
    "to find the answers to the best of your ability."
   ]
  }
 ],
 "metadata": {
  "anaconda-cloud": {},
  "celltoolbar": "Slideshow",
  "kernelspec": {
   "display_name": "Python [Python2]",
   "language": "python",
   "name": "Python [Python2]"
  },
  "language_info": {
   "codemirror_mode": {
    "name": "ipython",
    "version": 2
   },
   "file_extension": ".py",
   "mimetype": "text/x-python",
   "name": "python",
   "nbconvert_exporter": "python",
   "pygments_lexer": "ipython2",
   "version": "2.7.12"
  }
 },
 "nbformat": 4,
 "nbformat_minor": 0
}
