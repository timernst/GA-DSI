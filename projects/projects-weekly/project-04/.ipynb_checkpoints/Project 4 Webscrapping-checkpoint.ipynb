{
 "cells": [
  {
   "cell_type": "code",
   "execution_count": 277,
   "metadata": {
    "collapsed": true
   },
   "outputs": [],
   "source": [
    "from sklearn.cross_validation import train_test_split\n",
    "\n",
    " \n",
    "import pandas as pd\n",
    "import matplotlib.pyplot as plt\n",
    "%matplotlib inline\n",
    "import numpy as np\n",
    "\n",
    "from sklearn.linear_model import LogisticRegression\n",
    "from sklearn.cross_validation import train_test_split\n",
    "\n",
    "from sklearn.metrics import classification_report\n",
    "from sklearn.metrics import roc_auc_score\n",
    "from sklearn.metrics import roc_curve\n",
    "from sklearn.metrics import auc\n",
    "from sklearn.metrics import confusion_matrix\n",
    "\n",
    "import numpy as np\n",
    "import pandas as pd\n",
    "import patsy\n",
    "\n",
    "from sklearn.metrics import classification_report, confusion_matrix, accuracy_score\n",
    "from sklearn.cross_validation import train_test_split, cross_val_score\n",
    "from sklearn.linear_model import LogisticRegression, LogisticRegressionCV\n",
    "from sklearn.grid_search import GridSearchCV"
   ]
  },
  {
   "cell_type": "code",
   "execution_count": null,
   "metadata": {
    "collapsed": true
   },
   "outputs": [],
   "source": [
    "#We worked with our classmates and leveraged some shared understanding to get a lot of the webscraping done. It also /\n",
    "#uses a lot of the work from the lab on webscrapping. \n",
    "\"\"\"################################################################\n",
    "############### EDIT THESE CONSTANTS\n",
    "############### \n",
    "###############        EDIT THESE CONSTANTS\n",
    "\n",
    "MAX_RESULTS_PER_CITY = 10       ### DO NOT SET MORE THAN 1000\n",
    "URL_SEARCH_TERM = 'Data Scientist' ### DO NOT SET MORE THAN SINGLE SEARCH TERM (TITLE)\n",
    "CITY_SET = ['New York', 'Chicago', 'San Francisco', 'Austin', 'Atlanta', '', 'Boston', 'Seattle']\n",
    "\n",
    "###############\n",
    "################################################################\n",
    "\n",
    "\n",
    "import requests\n",
    "import bs4\n",
    "import pandas as pd\n",
    "from bs4 import BeautifulSoup\n",
    "from selenium.webdriver.common.desired_capabilities import DesiredCapabilities\n",
    "from selenium import webdriver\n",
    "import datetime\n",
    "import urllib\n",
    "\n",
    "def extract_location_from_resultRow(result):\n",
    "    try:\n",
    "        location = (result.find(class_='location').text.strip())\n",
    "    except:\n",
    "        location = ''\n",
    "    return location\n",
    "\n",
    "def extract_company_from_resultRow(result):\n",
    "    try:\n",
    "        company = (result.find(class_='company').text.strip())\n",
    "    except:\n",
    "        company = ''\n",
    "    return company\n",
    "\n",
    "def extract_jkid_from_resultRow(result):\n",
    "    try:\n",
    "        row = (result.find(class_='jobtitle turnstileLink'))\n",
    "        jkid = result['data-jk']\n",
    "    except: \n",
    "        jkid = ''\n",
    "    return jkid\n",
    "\n",
    "def extract_title_from_resultRow(result):\n",
    "    try:\n",
    "        title = (result.find(class_='turnstileLink'))\n",
    "        title_text = title.text\n",
    "    except: \n",
    "        title_text = ''\n",
    "    return title_text\n",
    "\n",
    "def extract_salary_from_resultRow(result):\n",
    "    try:\n",
    "        salary = (result.find(class_='snip').find('nobr').text)\n",
    "    except:\n",
    "        salary = ''\n",
    "    salary_text = salary\n",
    "    return salary_text\n",
    "\n",
    "def extract_reviews_from_resultRow(result):\n",
    "    try:\n",
    "        reviews = (result.find(class_='slNoUnderline').text.strip().strip(' reviews').replace(',',''))\n",
    "    except: \n",
    "        reviews = ''\n",
    "    return reviews\n",
    "\n",
    "def extract_stars_from_resultRow(result):\n",
    "    try: \n",
    "        stars = (result.find(class_='rating')['style']).split(';background-position:')[1].split(':')[1].split('px')[0].strip()\n",
    "    except: \n",
    "        stars = ''\n",
    "    return stars\n",
    "\n",
    "def extract_date_from_resultRow(result):\n",
    "    try: \n",
    "        date = (result.find(class_='date').text.strip(' ago').strip())\n",
    "    except: \n",
    "        date = ''\n",
    "    return date\n",
    "\n",
    "dcap = dict(DesiredCapabilities.PHANTOMJS)\n",
    "dcap[\"phantomjs.page.settings.userAgent\"] = (\"Mozilla/5.0 (Macintosh; Intel Mac OS X 10_12_0) AppleWebKit/537.36 (KHTML, like Gecko) Chrome/53.0.2785.143 Safari/537.36\")\n",
    "\n",
    "driver = webdriver.PhantomJS(executable_path='/Users/amishdalal/Downloads/phantomjs-2.1.1-macosx/bin/phantomjs')\n",
    "driver.set_window_size(1024, 768) \n",
    "\n",
    "for city in CITY_SET:\n",
    "    job_dict = []\n",
    "    now = datetime.datetime.now()\n",
    "    for start in range(0, MAX_RESULTS_PER_CITY, 10):\n",
    "\n",
    "        URL = \"http://www.indeed.com/jobs?q=\"+urllib.quote(URL_SEARCH_TERM)+\"&l=\"+urllib.quote(city)+\"&start=\"+str(start)\n",
    "        driver.get(URL)\n",
    "        soup = BeautifulSoup(driver.page_source, \"lxml\")\n",
    "\n",
    "        for i in soup.findAll(\"div\", {\"data-tn-component\" attribute : \"organicJob\" value }):\n",
    "\n",
    "            location = extract_location_from_resultRow(i)\n",
    "            company = extract_company_from_resultRow(i)\n",
    "            jkid = extract_jkid_from_resultRow(i)\n",
    "            title = extract_title_from_resultRow(i)\n",
    "            salary = extract_salary_from_resultRow(i)\n",
    "            reviews = extract_reviews_from_resultRow(i)\n",
    "            stars = extract_stars_from_resultRow(i)``````   \n",
    "            post_date = extract_date_from_resultRow(i)\n",
    "\n",
    "            job_dict.append([location, company, jkid,title, salary, stars, reviews, post_date, now])\n",
    "            \n",
    "        job_df = pd.DataFrame(job_dict, columns=['location', 'company', 'jkid', 'title', 'salary', 'stars', 'reviews', 'post_date', 'pull_date'])       \n",
    "\n",
    "    job_df.to_csv('scrape'+city+'_'+str(MAX_RESULTS_PER_CITY)+'.csv', encoding='utf-8')\"\"\""
   ]
  },
  {
   "cell_type": "code",
   "execution_count": 205,
   "metadata": {
    "collapsed": false
   },
   "outputs": [],
   "source": [
    "San_Fran= pd.read_csv('/Users/timothyernst/Documents/General Assembly/rewebscraping/scrapeSan Francisco_1000.csv')\n",
    "Atlanta= pd.read_csv('/Users/timothyernst/Documents/General Assembly/rewebscraping/scrapeAtlanta_1000.csv')\n",
    "Austin= pd.read_csv('/Users/timothyernst/Documents/General Assembly/rewebscraping/scrapeAustin_1000.csv')\n",
    "Boston= pd.read_csv('/Users/timothyernst/Documents/General Assembly/rewebscraping/scrapeBoston_1000.csv')\n",
    "Chicago= pd.read_csv('/Users/timothyernst/Documents/General Assembly/rewebscraping/scrapeChicago_1000.csv')\n",
    "New_York= pd.read_csv('/Users/timothyernst/Documents/General Assembly/rewebscraping/scrapeNew York_1000.csv')\n",
    "Seattle= pd.read_csv('/Users/timothyernst/Documents/General Assembly/rewebscraping/scrapeSeattle_1000.csv')\n",
    "Denver = pd.read_csv('/Users/timothyernst/Documents/General Assembly/newcities/scrapeDenver_1000.csv')\n",
    "Houston = pd.read_csv('/Users/timothyernst/Documents/General Assembly/newcities/scrapeHouston_1000.csv')\n",
    "Los_Angeles = pd.read_csv('/Users/timothyernst/Documents/General Assembly/newcities/scrapeLos_Angeles_1000.csv')\n",
    "Portland = pd.read_csv('/Users/timothyernst/Documents/General Assembly/newcities/scrapePortland_OR_1000.csv')\n",
    "Raleigh = pd.read_csv('/Users/timothyernst/Documents/General Assembly/newcities/scrapeRaleigh_1000.csv')\n",
    "Salt_Lake_City = pd.read_csv('/Users/timothyernst/Documents/General Assembly/newcities/scrapeSalt_Lake_City_1000.csv')\n",
    "Washington_DC = pd.read_csv('/Users/timothyernst/Documents/General Assembly/newcities/scrapeWashington_DC_1000.csv')"
   ]
  },
  {
   "cell_type": "code",
   "execution_count": 293,
   "metadata": {
    "collapsed": false
   },
   "outputs": [],
   "source": [
    "city_data =pd.concat([San_Fran, Atlanta, Austin, Boston, Chicago, New_York, Seattle, Denver, Houston, Los_Angeles, Portland, Raleigh, Salt_Lake_City, Washington_DC])\n",
    "city_data.to_csv('total_data.csv')"
   ]
  },
  {
   "cell_type": "code",
   "execution_count": 250,
   "metadata": {
    "collapsed": false
   },
   "outputs": [
    {
     "name": "stdout",
     "output_type": "stream",
     "text": [
      "<class 'pandas.core.frame.DataFrame'>\n",
      "Int64Index: 10424 entries, 0 to 999\n",
      "Data columns (total 10 columns):\n",
      "Unnamed: 0    10424 non-null int64\n",
      "location      10424 non-null object\n",
      "company       10418 non-null object\n",
      "jkid          10424 non-null object\n",
      "title         10424 non-null object\n",
      "salary        563 non-null object\n",
      "stars         7264 non-null float64\n",
      "reviews       7264 non-null float64\n",
      "post_date     10424 non-null object\n",
      "pull_date     10424 non-null object\n",
      "dtypes: float64(2), int64(1), object(7)\n",
      "memory usage: 895.8+ KB\n"
     ]
    }
   ],
   "source": [
    "#10K data points and only 500 salaries :(\n",
    "city_data.info()"
   ]
  },
  {
   "cell_type": "code",
   "execution_count": 253,
   "metadata": {
    "collapsed": false
   },
   "outputs": [],
   "source": [
    "#Drop any rows with blank salaries. \n",
    "df = city_data.dropna(subset = ['location','company','title','salary'])\n",
    "df = df.drop_duplicates(subset = ['jkid'])"
   ]
  },
  {
   "cell_type": "code",
   "execution_count": 254,
   "metadata": {
    "collapsed": false
   },
   "outputs": [
    {
     "name": "stdout",
     "output_type": "stream",
     "text": [
      "<class 'pandas.core.frame.DataFrame'>\n",
      "Int64Index: 477 entries, 100 to 978\n",
      "Data columns (total 10 columns):\n",
      "Unnamed: 0    477 non-null int64\n",
      "location      477 non-null object\n",
      "company       477 non-null object\n",
      "jkid          477 non-null object\n",
      "title         477 non-null object\n",
      "salary        477 non-null object\n",
      "stars         263 non-null float64\n",
      "reviews       263 non-null float64\n",
      "post_date     477 non-null object\n",
      "pull_date     477 non-null object\n",
      "dtypes: float64(2), int64(1), object(7)\n",
      "memory usage: 41.0+ KB\n"
     ]
    }
   ],
   "source": [
    "df.info()"
   ]
  },
  {
   "cell_type": "code",
   "execution_count": 255,
   "metadata": {
    "collapsed": false
   },
   "outputs": [],
   "source": [
    "#string = \"$120,000 - $130,000 a year\"\n",
    "\n",
    "#string.split(' ')[0]\n",
    "\n",
    "df['min_sal'] = [x.split(' ')[0] for x in df.salary]\n",
    "df['max_sal'] = [x.split(' ')[-3] for x in df.salary]\n",
    "df['unit'] = [x.split(' ')[-1] for x in df.salary]"
   ]
  },
  {
   "cell_type": "code",
   "execution_count": 256,
   "metadata": {
    "collapsed": false
   },
   "outputs": [],
   "source": [
    "df['min_sal'] = [x.replace('$', '') for x in df.min_sal]\n",
    "df['max_sal'] = [x.replace('$', '') for x in df.max_sal]\n",
    "\n",
    "#Remove the commas and make them \n",
    "df['min_sal'] = [float(x.replace(',', '')) for x in df.min_sal]\n",
    "df['max_sal'] = [float(x.replace(',', '')) for x in df.max_sal]\n",
    "\n",
    "#For some reason it made the min a float but not the max so let's try again.\n",
    "#df['max_sal'] = df['max_sal'].astype(float)"
   ]
  },
  {
   "cell_type": "code",
   "execution_count": 257,
   "metadata": {
    "collapsed": false
   },
   "outputs": [
    {
     "name": "stdout",
     "output_type": "stream",
     "text": [
      "<class 'pandas.core.frame.DataFrame'>\n",
      "Int64Index: 477 entries, 100 to 978\n",
      "Data columns (total 13 columns):\n",
      "Unnamed: 0    477 non-null int64\n",
      "location      477 non-null object\n",
      "company       477 non-null object\n",
      "jkid          477 non-null object\n",
      "title         477 non-null object\n",
      "salary        477 non-null object\n",
      "stars         263 non-null float64\n",
      "reviews       263 non-null float64\n",
      "post_date     477 non-null object\n",
      "pull_date     477 non-null object\n",
      "min_sal       477 non-null float64\n",
      "max_sal       477 non-null float64\n",
      "unit          477 non-null object\n",
      "dtypes: float64(4), int64(1), object(8)\n",
      "memory usage: 52.2+ KB\n"
     ]
    }
   ],
   "source": [
    "df.info()"
   ]
  },
  {
   "cell_type": "code",
   "execution_count": 258,
   "metadata": {
    "collapsed": false
   },
   "outputs": [],
   "source": [
    "df['max_sal'] = df['max_sal'].astype(float)"
   ]
  },
  {
   "cell_type": "code",
   "execution_count": 259,
   "metadata": {
    "collapsed": false
   },
   "outputs": [],
   "source": [
    "#Average the min and max to get a single number we can work with. \n",
    "df['avg_sal'] = (df['min_sal'] + df['max_sal']) /2"
   ]
  },
  {
   "cell_type": "code",
   "execution_count": 260,
   "metadata": {
    "collapsed": false
   },
   "outputs": [],
   "source": [
    "#Anualize the salaries that appear as per month or per hour. We assume 2,000 hrs / year. \n",
    "dict_unit={'month':12, 'hour': 2000, 'year': 1, 'week': 50, 'day':250}\n",
    "df['m'] = df['unit'].map(lambda x: dict_unit[x])\n",
    "df['ann_sal'] = df['avg_sal']*df['m']"
   ]
  },
  {
   "cell_type": "code",
   "execution_count": 261,
   "metadata": {
    "collapsed": false
   },
   "outputs": [],
   "source": [
    "#Split the location data into two columns.\n",
    "df['state']=[x.split(', ')[1] for x in df['location']]\n",
    "df['city']=[x.split(', ')[0] for x in df['location']]\n",
    "df['state']=[x.split(' ')[0] for x in df['state']]"
   ]
  },
  {
   "cell_type": "code",
   "execution_count": 262,
   "metadata": {
    "collapsed": true
   },
   "outputs": [],
   "source": [
    "\n",
    "\n",
    "def title_category(words):\n",
    "        if ('scientist' in words.lower()) and ('data' in words.lower()) and ('senior' in words.lower()):\n",
    "            return 'senior data scientist'\n",
    "        elif('science' in words.lower()) and ('director' in words.lower()) and ('data' in words.lower()):\n",
    "            return 'senior data scientist'\n",
    "        elif ('scientist' in words.lower()) and ('lead' in words.lower()):\n",
    "            return 'senior data scientist'\n",
    "        elif ('scientist' in words.lower()) and ('sr' in words.lower()):\n",
    "            return 'senior data scientist'\n",
    "        elif ('science' in words.lower()) and ('manager' in words.lower()) and ('data' in words.lower()):\n",
    "            return 'senior data scientist'\n",
    "        elif ('scientist' in words.lower()) and ('data' in words.lower()):\n",
    "            return 'data scientist'\n",
    "        elif ('learning' in words.lower()) and ('machine' in words.lower()) and ('scientist' in words.lower()):\n",
    "            return 'data scientist'\n",
    "        elif ('analyst' in words.lower()) and ('data' in words.lower()):\n",
    "            return 'data analyst'\n",
    "        elif ('analyst' in words.lower()) and ('quantitative' in words.lower()):\n",
    "            return 'data analyst'\n",
    "        elif ('analytics' in words.lower()) and ('manager' in words.lower()):\n",
    "            return 'data analyst'\n",
    "        elif ('analyst' in words.lower()) and ('research' in words.lower()):\n",
    "            return 'data analyst'\n",
    "        elif ('research' in words.lower()) and ('associate' in words.lower()):\n",
    "            return 'data analyst'\n",
    "        elif ('scientist' in words.lower()) and ('research' in words.lower()):\n",
    "            return 'data analyst'\n",
    "        elif ('statistical' in words.lower()) and ('analyst' in words.lower()):\n",
    "            return 'data analyst'\n",
    "        elif ('engineer' in words.lower()) and ('data' in words.lower()):\n",
    "            return 'data engineer'\n",
    "        elif ('engineer' in words.lower()) and ('learning' in words.lower()) and ('machine' in words.lower()):\n",
    "            return 'data engineer'\n",
    "        elif ('statistical' in words.lower()) and ('programmer' in words.lower()):\n",
    "            return 'data engineer'\n",
    "        elif ('statistical' in words.lower()) or ('statistician' in words.lower()):\n",
    "            return 'statistician'\n",
    "        elif ('python' in words.lower()) or ('data' in words.lower()) or ('SQL' in words.lower()):\n",
    "            return 'data other'\n",
    "        elif ('scientist' in words.lower()) or ('science' in words.lower()):\n",
    "            return 'scientist'\n",
    "        else:\n",
    "            return 'misc'"
   ]
  },
  {
   "cell_type": "code",
   "execution_count": 263,
   "metadata": {
    "collapsed": false
   },
   "outputs": [
    {
     "data": {
      "text/plain": [
       "\"\\ndf['Title_New'].value_counts().nunique();\\n\\ndf['Title_New'].value_counts()\""
      ]
     },
     "execution_count": 263,
     "metadata": {},
     "output_type": "execute_result"
    }
   ],
   "source": [
    "df['Title_New']=df['title'].map(title_category);\n",
    "\n",
    "\"\"\"\n",
    "df['Title_New'].value_counts().nunique();\n",
    "\n",
    "df['Title_New'].value_counts()\"\"\""
   ]
  },
  {
   "cell_type": "code",
   "execution_count": 265,
   "metadata": {
    "collapsed": false,
    "scrolled": false
   },
   "outputs": [
    {
     "data": {
      "text/plain": [
       "misc                     130\n",
       "data analyst             109\n",
       "data scientist            61\n",
       "scientist                 61\n",
       "senior data scientist     38\n",
       "data engineer             29\n",
       "data other                29\n",
       "statistician              20\n",
       "Name: Title_New, dtype: int64"
      ]
     },
     "execution_count": 265,
     "metadata": {},
     "output_type": "execute_result"
    }
   ],
   "source": [
    "#df.loc[df['Title_New']== 'misc', :]\n",
    "df.Title_New.value_counts()"
   ]
  },
  {
   "cell_type": "code",
   "execution_count": 266,
   "metadata": {
    "collapsed": false
   },
   "outputs": [
    {
     "data": {
      "text/html": [
       "<div>\n",
       "<table border=\"1\" class=\"dataframe\">\n",
       "  <thead>\n",
       "    <tr style=\"text-align: right;\">\n",
       "      <th></th>\n",
       "      <th>Title_New</th>\n",
       "      <th>city</th>\n",
       "      <th>state</th>\n",
       "      <th>company</th>\n",
       "      <th>ann_sal</th>\n",
       "    </tr>\n",
       "  </thead>\n",
       "  <tbody>\n",
       "    <tr>\n",
       "      <th>0</th>\n",
       "      <td>data scientist</td>\n",
       "      <td>Oakland</td>\n",
       "      <td>CA</td>\n",
       "      <td>Even</td>\n",
       "      <td>34142.0</td>\n",
       "    </tr>\n",
       "    <tr>\n",
       "      <th>1</th>\n",
       "      <td>data scientist</td>\n",
       "      <td>San Francisco</td>\n",
       "      <td>CA</td>\n",
       "      <td>kWh Analytics</td>\n",
       "      <td>120000.0</td>\n",
       "    </tr>\n",
       "    <tr>\n",
       "      <th>2</th>\n",
       "      <td>data scientist</td>\n",
       "      <td>Redwood City</td>\n",
       "      <td>CA</td>\n",
       "      <td>Workbridge Associates</td>\n",
       "      <td>115000.0</td>\n",
       "    </tr>\n",
       "    <tr>\n",
       "      <th>3</th>\n",
       "      <td>senior data scientist</td>\n",
       "      <td>San Francisco</td>\n",
       "      <td>CA</td>\n",
       "      <td>Workbridge Associates</td>\n",
       "      <td>165000.0</td>\n",
       "    </tr>\n",
       "    <tr>\n",
       "      <th>4</th>\n",
       "      <td>data engineer</td>\n",
       "      <td>San Francisco</td>\n",
       "      <td>CA</td>\n",
       "      <td>Workbridge Associates</td>\n",
       "      <td>135000.0</td>\n",
       "    </tr>\n",
       "  </tbody>\n",
       "</table>\n",
       "</div>"
      ],
      "text/plain": [
       "               Title_New           city state                company   ann_sal\n",
       "0         data scientist        Oakland    CA                   Even   34142.0\n",
       "1         data scientist  San Francisco    CA          kWh Analytics  120000.0\n",
       "2         data scientist   Redwood City    CA  Workbridge Associates  115000.0\n",
       "3  senior data scientist  San Francisco    CA  Workbridge Associates  165000.0\n",
       "4          data engineer  San Francisco    CA  Workbridge Associates  135000.0"
      ]
     },
     "execution_count": 266,
     "metadata": {},
     "output_type": "execute_result"
    }
   ],
   "source": [
    "#Create a new dataframe with only the relevant columns.\n",
    "wdf = df[['Title_New', 'city', 'state', 'company', 'ann_sal']]\n",
    "wdf.reset_index(inplace=True, drop=True)\n",
    "wdf.head()"
   ]
  },
  {
   "cell_type": "code",
   "execution_count": 267,
   "metadata": {
    "collapsed": false
   },
   "outputs": [
    {
     "name": "stderr",
     "output_type": "stream",
     "text": [
      "/Users/timothyernst/anaconda/envs/Python2/lib/python2.7/site-packages/ipykernel/__main__.py:2: SettingWithCopyWarning: \n",
      "A value is trying to be set on a copy of a slice from a DataFrame.\n",
      "Try using .loc[row_indexer,col_indexer] = value instead\n",
      "\n",
      "See the caveats in the documentation: http://pandas.pydata.org/pandas-docs/stable/indexing.html#indexing-view-versus-copy\n",
      "  from ipykernel import kernelapp as app\n"
     ]
    }
   ],
   "source": [
    "#Generate a new dataframe that shows annaual salary as a binary of above or below the mean.\n",
    "wdf['high_sal'] = wdf['ann_sal'].apply(lambda x: 1 if x > wdf['ann_sal'].mean() else 0)\n"
   ]
  },
  {
   "cell_type": "markdown",
   "metadata": {},
   "source": [
    "# Patsy"
   ]
  },
  {
   "cell_type": "code",
   "execution_count": 268,
   "metadata": {
    "collapsed": false
   },
   "outputs": [
    {
     "data": {
      "text/html": [
       "<div>\n",
       "<table border=\"1\" class=\"dataframe\">\n",
       "  <thead>\n",
       "    <tr style=\"text-align: right;\">\n",
       "      <th></th>\n",
       "      <th>Title_New</th>\n",
       "      <th>city</th>\n",
       "      <th>state</th>\n",
       "      <th>company</th>\n",
       "      <th>ann_sal</th>\n",
       "      <th>high_sal</th>\n",
       "    </tr>\n",
       "  </thead>\n",
       "  <tbody>\n",
       "    <tr>\n",
       "      <th>0</th>\n",
       "      <td>data scientist</td>\n",
       "      <td>Oakland</td>\n",
       "      <td>CA</td>\n",
       "      <td>Even</td>\n",
       "      <td>34142.0</td>\n",
       "      <td>0</td>\n",
       "    </tr>\n",
       "    <tr>\n",
       "      <th>1</th>\n",
       "      <td>data scientist</td>\n",
       "      <td>San Francisco</td>\n",
       "      <td>CA</td>\n",
       "      <td>kWh Analytics</td>\n",
       "      <td>120000.0</td>\n",
       "      <td>1</td>\n",
       "    </tr>\n",
       "    <tr>\n",
       "      <th>2</th>\n",
       "      <td>data scientist</td>\n",
       "      <td>Redwood City</td>\n",
       "      <td>CA</td>\n",
       "      <td>Workbridge Associates</td>\n",
       "      <td>115000.0</td>\n",
       "      <td>1</td>\n",
       "    </tr>\n",
       "    <tr>\n",
       "      <th>3</th>\n",
       "      <td>senior data scientist</td>\n",
       "      <td>San Francisco</td>\n",
       "      <td>CA</td>\n",
       "      <td>Workbridge Associates</td>\n",
       "      <td>165000.0</td>\n",
       "      <td>1</td>\n",
       "    </tr>\n",
       "    <tr>\n",
       "      <th>4</th>\n",
       "      <td>data engineer</td>\n",
       "      <td>San Francisco</td>\n",
       "      <td>CA</td>\n",
       "      <td>Workbridge Associates</td>\n",
       "      <td>135000.0</td>\n",
       "      <td>1</td>\n",
       "    </tr>\n",
       "  </tbody>\n",
       "</table>\n",
       "</div>"
      ],
      "text/plain": [
       "               Title_New           city state                company  \\\n",
       "0         data scientist        Oakland    CA                   Even   \n",
       "1         data scientist  San Francisco    CA          kWh Analytics   \n",
       "2         data scientist   Redwood City    CA  Workbridge Associates   \n",
       "3  senior data scientist  San Francisco    CA  Workbridge Associates   \n",
       "4          data engineer  San Francisco    CA  Workbridge Associates   \n",
       "\n",
       "    ann_sal  high_sal  \n",
       "0   34142.0         0  \n",
       "1  120000.0         1  \n",
       "2  115000.0         1  \n",
       "3  165000.0         1  \n",
       "4  135000.0         1  "
      ]
     },
     "execution_count": 268,
     "metadata": {},
     "output_type": "execute_result"
    }
   ],
   "source": [
    "#Our code for running a regression t\n",
    "wdf.head()"
   ]
  },
  {
   "cell_type": "code",
   "execution_count": 271,
   "metadata": {
    "collapsed": false
   },
   "outputs": [
    {
     "data": {
      "text/plain": [
       "['Intercept',\n",
       " 'C(city)[T.Alpharetta]',\n",
       " 'C(city)[T.Andover]',\n",
       " 'C(city)[T.Arlington]',\n",
       " 'C(city)[T.Atlanta]',\n",
       " 'C(city)[T.Aurora]',\n",
       " 'C(city)[T.Austin]',\n",
       " 'C(city)[T.Azusa]',\n",
       " 'C(city)[T.Bedford]',\n",
       " 'C(city)[T.Bellevue]',\n",
       " 'C(city)[T.Berkeley]',\n",
       " 'C(city)[T.Bethesda]',\n",
       " 'C(city)[T.Bolling AFB]',\n",
       " 'C(city)[T.Boston]',\n",
       " 'C(city)[T.Boulder]',\n",
       " 'C(city)[T.Brisbane]',\n",
       " 'C(city)[T.Cambridge]',\n",
       " 'C(city)[T.Chatsworth]',\n",
       " 'C(city)[T.Chicago]',\n",
       " 'C(city)[T.College Park]',\n",
       " 'C(city)[T.Decatur]',\n",
       " 'C(city)[T.Deerfield]',\n",
       " 'C(city)[T.Denver]',\n",
       " 'C(city)[T.Des Plaines]',\n",
       " 'C(city)[T.Duluth]',\n",
       " 'C(city)[T.Durham]',\n",
       " 'C(city)[T.Elizabeth]',\n",
       " 'C(city)[T.Emeryville]',\n",
       " 'C(city)[T.Evanston]',\n",
       " 'C(city)[T.Fort George G Meade]',\n",
       " 'C(city)[T.Foster City]',\n",
       " 'C(city)[T.Framingham]',\n",
       " 'C(city)[T.Gaithersburg]',\n",
       " 'C(city)[T.Greenbelt]',\n",
       " 'C(city)[T.Hopkinton]',\n",
       " 'C(city)[T.Houston]',\n",
       " 'C(city)[T.Largo]',\n",
       " 'C(city)[T.Laurel]',\n",
       " 'C(city)[T.Lexington]',\n",
       " 'C(city)[T.Long Beach]',\n",
       " 'C(city)[T.Long Island City]',\n",
       " 'C(city)[T.Los Angeles]',\n",
       " 'C(city)[T.Malden]',\n",
       " 'C(city)[T.Manhattan]',\n",
       " 'C(city)[T.Maynard]',\n",
       " 'C(city)[T.McLean]',\n",
       " 'C(city)[T.Morrisville]',\n",
       " 'C(city)[T.Murray]',\n",
       " 'C(city)[T.New York]',\n",
       " 'C(city)[T.Norcross]',\n",
       " 'C(city)[T.Norwood]',\n",
       " 'C(city)[T.Oakland]',\n",
       " 'C(city)[T.Orangeburg]',\n",
       " 'C(city)[T.Pasadena]',\n",
       " 'C(city)[T.Portland]',\n",
       " 'C(city)[T.Quincy]',\n",
       " 'C(city)[T.Raleigh]',\n",
       " 'C(city)[T.Raleigh-Durham]',\n",
       " 'C(city)[T.Redmond]',\n",
       " 'C(city)[T.Redwood City]',\n",
       " 'C(city)[T.Research Triangle Park]',\n",
       " 'C(city)[T.Rockleigh]',\n",
       " 'C(city)[T.Rockville]',\n",
       " 'C(city)[T.Roswell]',\n",
       " 'C(city)[T.Salt Lake City]',\n",
       " 'C(city)[T.San Francisco]',\n",
       " 'C(city)[T.San Mateo]',\n",
       " 'C(city)[T.Santa Monica]',\n",
       " 'C(city)[T.Seattle]',\n",
       " 'C(city)[T.Silver Spring]',\n",
       " 'C(city)[T.Smyrna]',\n",
       " 'C(city)[T.South San Francisco]',\n",
       " 'C(city)[T.Springfield]',\n",
       " 'C(city)[T.Sterling]',\n",
       " 'C(city)[T.Union]',\n",
       " 'C(city)[T.Vancouver]',\n",
       " 'C(city)[T.Vienna]',\n",
       " 'C(city)[T.Wake County]',\n",
       " 'C(city)[T.Walnut Creek]',\n",
       " 'C(city)[T.Washington]',\n",
       " 'C(city)[T.West Valley City]',\n",
       " 'C(city)[T.Wilmington]',\n",
       " 'C(city)[T.Woburn]',\n",
       " 'C(state)[T.CO]',\n",
       " 'C(state)[T.DC]',\n",
       " 'C(state)[T.GA]',\n",
       " 'C(state)[T.IL]',\n",
       " 'C(state)[T.MA]',\n",
       " 'C(state)[T.MD]',\n",
       " 'C(state)[T.NC]',\n",
       " 'C(state)[T.NJ]',\n",
       " 'C(state)[T.NY]',\n",
       " 'C(state)[T.OR]',\n",
       " 'C(state)[T.TX]',\n",
       " 'C(state)[T.UT]',\n",
       " 'C(state)[T.VA]',\n",
       " 'C(state)[T.WA]',\n",
       " \"C(company)[T.ADMIN FOR CHILDREN'S SVCS]\",\n",
       " 'C(company)[T.ADNET Systems, Inc.]',\n",
       " 'C(company)[T.AR Pharma]',\n",
       " 'C(company)[T.Abacus Group]',\n",
       " 'C(company)[T.Aequor Technologies]',\n",
       " 'C(company)[T.Ajilon]',\n",
       " 'C(company)[T.All-In Analytics]',\n",
       " 'C(company)[T.Amana Academy Charter School]',\n",
       " 'C(company)[T.Analytic Recruiting]',\n",
       " 'C(company)[T.Averity]',\n",
       " 'C(company)[T.BIG 6 Search International]',\n",
       " 'C(company)[T.Baylor College of Medicine]',\n",
       " 'C(company)[T.Bedford Research Foundation]',\n",
       " 'C(company)[T.Beeswax]',\n",
       " 'C(company)[T.Big Cloud]',\n",
       " 'C(company)[T.Big Wednesday Digital]',\n",
       " 'C(company)[T.Blue Owl]',\n",
       " 'C(company)[T.BrunswikSt.]',\n",
       " 'C(company)[T.CI Radar]',\n",
       " 'C(company)[T.CONSUMER AFFAIRS]',\n",
       " 'C(company)[T.CSTE]',\n",
       " 'C(company)[T.CSU Northridge]',\n",
       " 'C(company)[T.CaliberMind]',\n",
       " 'C(company)[T.California State University]',\n",
       " 'C(company)[T.California State University, Los Angeles]',\n",
       " 'C(company)[T.Calloway & Associates, Inc.]',\n",
       " 'C(company)[T.Cardinal Consulting Group]',\n",
       " 'C(company)[T.Career Movement]',\n",
       " 'C(company)[T.CareerBuilder]',\n",
       " 'C(company)[T.Cascade Insights]',\n",
       " 'C(company)[T.Centers for Disease Control and Prevention]',\n",
       " 'C(company)[T.Central Intelligence Agency]',\n",
       " 'C(company)[T.City of Austin]',\n",
       " 'C(company)[T.City of Long Beach, CA]',\n",
       " 'C(company)[T.Clearpoint]',\n",
       " 'C(company)[T.Coder Kids]',\n",
       " 'C(company)[T.Colorado Community College System]',\n",
       " 'C(company)[T.Colorado Department of Human Services]',\n",
       " 'C(company)[T.Columbia University]',\n",
       " 'C(company)[T.Commonwealth of Massachusetts]',\n",
       " 'C(company)[T.Compassionate Oncology Medical Group]',\n",
       " 'C(company)[T.Computer Futures]',\n",
       " 'C(company)[T.Consumer Financial Protection Bureau]',\n",
       " 'C(company)[T.Cook County Health & Hospitals System]',\n",
       " 'C(company)[T.Corporate Labs Technology]',\n",
       " 'C(company)[T.Creative Circle]',\n",
       " 'C(company)[T.Cutting Edge Medical Diagnostics]',\n",
       " 'C(company)[T.DEPARTMENT OF FINANCE]',\n",
       " 'C(company)[T.DEPARTMENT OF TRANSPORTATION]',\n",
       " 'C(company)[T.DEPT OF ENVIRONMENT PROTECTION]',\n",
       " 'C(company)[T.DEPT OF HEALTH/MENTAL HYGIENE]',\n",
       " 'C(company)[T.DEPT OF INFO TECH & TELECOMM]',\n",
       " 'C(company)[T.DEPT OF PARKS & RECREATION]',\n",
       " 'C(company)[T.DEPT OF YOUTH & COMM DEV SRVS]',\n",
       " 'C(company)[T.DTS - Machine Learning Practice]',\n",
       " 'C(company)[T.DTS - NLP, Machine Learning]',\n",
       " 'C(company)[T.Datacom Technology Group]',\n",
       " 'C(company)[T.DeKalb Workforce Development]',\n",
       " 'C(company)[T.Denver Health]',\n",
       " 'C(company)[T.Denver Public Schools]',\n",
       " 'C(company)[T.Dept of Forensic Sciences]',\n",
       " 'C(company)[T.Dept of State Health Services]',\n",
       " 'C(company)[T.Dynamic Staffing Inc.]',\n",
       " 'C(company)[T.ETS Inc.]',\n",
       " 'C(company)[T.Elite Technical Services]',\n",
       " 'C(company)[T.Elite Technical Services, Inc.]',\n",
       " 'C(company)[T.Emory University]',\n",
       " 'C(company)[T.Even]',\n",
       " 'C(company)[T.Exact Staff, Inc.]',\n",
       " 'C(company)[T.Execu | Search]',\n",
       " 'C(company)[T.FDA Office of New Drugs]',\n",
       " 'C(company)[T.Fanning Personnel]',\n",
       " 'C(company)[T.First 5 LA]',\n",
       " 'C(company)[T.Food Management Search]',\n",
       " 'C(company)[T.Fortira]',\n",
       " 'C(company)[T.G-Technology Group]',\n",
       " 'C(company)[T.GCM]',\n",
       " 'C(company)[T.Galvanize]',\n",
       " 'C(company)[T.Genius Pool]',\n",
       " 'C(company)[T.Geode Executive Search]',\n",
       " 'C(company)[T.GinasTechJobs.com]',\n",
       " 'C(company)[T.Global Solutions Network]',\n",
       " 'C(company)[T.Green Key Resources]',\n",
       " 'C(company)[T.H.W. Lochner, Inc.]',\n",
       " 'C(company)[T.HERO.Jobs]',\n",
       " 'C(company)[T.HERO.jobs]',\n",
       " 'C(company)[T.HRA/DEPT OF SOCIAL SERVICES]',\n",
       " 'C(company)[T.Hain Solution]',\n",
       " 'C(company)[T.Harmin Services]',\n",
       " 'C(company)[T.Harnham]',\n",
       " 'C(company)[T.Hart]',\n",
       " 'C(company)[T.Harvey Nash USA]',\n",
       " 'C(company)[T.Health & Human Services Comm]',\n",
       " 'C(company)[T.Hirewell]',\n",
       " 'C(company)[T.Human Capital Resource, LLC.]',\n",
       " 'C(company)[T.Hunter International]',\n",
       " 'C(company)[T.Huxley Banking & Financial Services]',\n",
       " 'C(company)[T.IconsultUS]',\n",
       " 'C(company)[T.InVentiv Health Clinical]',\n",
       " 'C(company)[T.Informatic Technologies Inc]',\n",
       " 'C(company)[T.Infused Solutions, LLC]',\n",
       " 'C(company)[T.Innovative Analytics & Training, LLC]',\n",
       " 'C(company)[T.InsightsNow Inc.]',\n",
       " 'C(company)[T.Integrated Management Resources]',\n",
       " 'C(company)[T.Interesse International Inc]',\n",
       " 'C(company)[T.Intermountain Healthcare]',\n",
       " 'C(company)[T.International Antiviral Society-USA (IAS-USA)]',\n",
       " 'C(company)[T.Interpro Inc]',\n",
       " 'C(company)[T.Investment Management Services]',\n",
       " 'C(company)[T.JBCconnect]',\n",
       " 'C(company)[T.JEG Search]',\n",
       " 'C(company)[T.Jobspring Partners]',\n",
       " 'C(company)[T.John Leonard]',\n",
       " 'C(company)[T.LT]',\n",
       " 'C(company)[T.Laguna Source]',\n",
       " 'C(company)[T.Lauren Enterprises]',\n",
       " 'C(company)[T.Lawrence Berkeley National Laboratory]',\n",
       " 'C(company)[T.Legal Services Corporation]',\n",
       " 'C(company)[T.Liberty Mutual]',\n",
       " 'C(company)[T.Lighthouse Recruiting]',\n",
       " 'C(company)[T.Los Angeles County Department of Human Resources]',\n",
       " 'C(company)[T.Los Angeles County Human Resources]',\n",
       " 'C(company)[T.Los Angeles Unified School District]',\n",
       " 'C(company)[T.MD Anderson Cancer Center]',\n",
       " 'C(company)[T.Mayovika LLC]',\n",
       " 'C(company)[T.Medlytic]',\n",
       " 'C(company)[T.Mental Health, Office of]',\n",
       " 'C(company)[T.Metropolitan Water Reclamation District of Greater...]',\n",
       " 'C(company)[T.MicroHealth LLC]',\n",
       " 'C(company)[T.Microbac Laboratories, Inc.]',\n",
       " 'C(company)[T.Mission Measurement]',\n",
       " 'C(company)[T.Momentum Scientific]',\n",
       " 'C(company)[T.MycoTechnology]',\n",
       " 'C(company)[T.NESC Staffing Corp]',\n",
       " 'C(company)[T.NYC Department of Finance]',\n",
       " 'C(company)[T.Nano Precision Medical]',\n",
       " 'C(company)[T.National Security Agency]',\n",
       " 'C(company)[T.NelsonJobs]',\n",
       " 'C(company)[T.Net-Consultants]',\n",
       " 'C(company)[T.Neurable]',\n",
       " 'C(company)[T.New Hope Urgent Care]',\n",
       " 'C(company)[T.New York City Department of Health and Mental Hygi...]',\n",
       " 'C(company)[T.Next Generation Recruitment & Staffing Agency]',\n",
       " 'C(company)[T.NextGen Global Resources LLC]',\n",
       " 'C(company)[T.North Carolina Office of State Human Resources]',\n",
       " 'C(company)[T.North Carolina State University]',\n",
       " 'C(company)[T.Northeastern University]',\n",
       " 'C(company)[T.NuWest Group Holdings, LLC]',\n",
       " 'C(company)[T.OFFICE OF MANAGEMENT & BUDGET]',\n",
       " 'C(company)[T.Oak Ridge Associated Universities]',\n",
       " 'C(company)[T.On-Board Services]',\n",
       " 'C(company)[T.Oregon Health & Science University]',\n",
       " 'C(company)[T.Oscar Technology]',\n",
       " 'C(company)[T.POLICE DEPARTMENT]',\n",
       " 'C(company)[T.Parker and Lynch]',\n",
       " 'C(company)[T.PeopleScout]',\n",
       " 'C(company)[T.Peralta Community College District]',\n",
       " 'C(company)[T.Phillips Graduate University]',\n",
       " 'C(company)[T.Piper Clinical Solutions]',\n",
       " 'C(company)[T.Planet Pharma]',\n",
       " 'C(company)[T.Portland State University]',\n",
       " 'C(company)[T.Potatoes USA]',\n",
       " 'C(company)[T.Preqin,Inc.]',\n",
       " \"C(company)[T.Prince George's Community College]\",\n",
       " 'C(company)[T.Princeton Consulting]',\n",
       " 'C(company)[T.Principle Solutions Group]',\n",
       " 'C(company)[T.Pro Partners Staffing]',\n",
       " 'C(company)[T.RAZR Recruiting + Consulting]',\n",
       " 'C(company)[T.Rekruiters]',\n",
       " 'C(company)[T.Request Technology]',\n",
       " 'C(company)[T.Research Foundation of The City University of New...]',\n",
       " 'C(company)[T.S.C. International]',\n",
       " 'C(company)[T.SRG]',\n",
       " 'C(company)[T.Salt Lake Community College]',\n",
       " 'C(company)[T.SearchBankingJobs]',\n",
       " 'C(company)[T.Selby Jennings]',\n",
       " 'C(company)[T.Silva Capital Management]',\n",
       " 'C(company)[T.Sirnaomics,Inc]',\n",
       " 'C(company)[T.Smart Electric Power Alliance]',\n",
       " 'C(company)[T.Smith Hanley Associates]',\n",
       " 'C(company)[T.Stackfolio]',\n",
       " 'C(company)[T.State of North Carolina]',\n",
       " 'C(company)[T.State of Oregon]',\n",
       " 'C(company)[T.State of Washington]',\n",
       " 'C(company)[T.Strategic Employment Partners]',\n",
       " 'C(company)[T.StreetID]',\n",
       " 'C(company)[T.Striker Pierce LLC]',\n",
       " 'C(company)[T.Synergy Search Group]',\n",
       " 'C(company)[T.TEKSystems]',\n",
       " 'C(company)[T.TOP San Francisco]',\n",
       " 'C(company)[T.TULKORP.]',\n",
       " 'C(company)[T.TW Staffing Solutions]',\n",
       " 'C(company)[T.Takasago International Corp (USA)]',\n",
       " 'C(company)[T.Talon]',\n",
       " 'C(company)[T.Tessie Cleveland Community Service Corporation]',\n",
       " 'C(company)[T.Texas A&M University]',\n",
       " 'C(company)[T.Texas Department of Public Safety]',\n",
       " 'C(company)[T.The Bivium Group]',\n",
       " 'C(company)[T.The Catlin Gabel School]',\n",
       " 'C(company)[T.The Centrics Group]',\n",
       " 'C(company)[T.The Custom Group of Companies]',\n",
       " 'C(company)[T.The Hagan-Ricci Group, Inc.]',\n",
       " 'C(company)[T.The LaSalle Network]',\n",
       " 'C(company)[T.The Staffing Solutions Group]',\n",
       " 'C(company)[T.Third Bridge]',\n",
       " 'C(company)[T.Total Environmental Concepts, Inc.]',\n",
       " 'C(company)[T.Tygart Technology, Inc.]',\n",
       " 'C(company)[T.U.S. Department of Labor]',\n",
       " 'C(company)[T.US Engineering Technical Services]',\n",
       " 'C(company)[T.University of California Berkeley]',\n",
       " 'C(company)[T.University of Colorado]',\n",
       " 'C(company)[T.University of Maryland]',\n",
       " 'C(company)[T.University of Texas at Austin]',\n",
       " 'C(company)[T.University of Utah]',\n",
       " 'C(company)[T.University of Washington]',\n",
       " 'C(company)[T.University of Washington Medical Center]',\n",
       " 'C(company)[T.Univision communications inc]',\n",
       " 'C(company)[T.VROOM]',\n",
       " 'C(company)[T.Veredus]',\n",
       " 'C(company)[T.Volt Workforce Solutions]',\n",
       " 'C(company)[T.WSSC]',\n",
       " 'C(company)[T.Wade & Wendy]',\n",
       " 'C(company)[T.West Valley College]',\n",
       " 'C(company)[T.Workbridge Associates]',\n",
       " 'C(company)[T.Worldwide Staffing Exchange, LLC]',\n",
       " 'C(company)[T.XOR Data Exchange]',\n",
       " 'C(company)[T.Z2 DataLabs]',\n",
       " 'C(company)[T.ZP Group]',\n",
       " 'C(company)[T.eHire, LLC]',\n",
       " 'C(company)[T.ingenium]',\n",
       " 'C(company)[T.kWh Analytics]',\n",
       " 'C(company)[T.md laboratory]',\n",
       " 'C(company)[T.xentity corporation]',\n",
       " 'C(Title_New)[T.data engineer]',\n",
       " 'C(Title_New)[T.data other]',\n",
       " 'C(Title_New)[T.data scientist]',\n",
       " 'C(Title_New)[T.misc]',\n",
       " 'C(Title_New)[T.scientist]',\n",
       " 'C(Title_New)[T.senior data scientist]',\n",
       " 'C(Title_New)[T.statistician]']"
      ]
     },
     "execution_count": 271,
     "metadata": {},
     "output_type": "execute_result"
    }
   ],
   "source": [
    "# Make patsy df\n",
    "X = patsy.dmatrix('~ C(city) + C(state) + C(company)+ C(Title_New)', wdf)\n",
    "y = wdf['high_sal'].values\n",
    "\n",
    "#list of column names\n",
    "X.design_info.column_names"
   ]
  },
  {
   "cell_type": "code",
   "execution_count": 274,
   "metadata": {
    "collapsed": false
   },
   "outputs": [],
   "source": [
    "## create train-test out of the data given\n",
    "\n",
    "X_train, X_test, Y_train, Y_test = train_test_split(X, y, test_size=.33, random_state=2)"
   ]
  },
  {
   "cell_type": "code",
   "execution_count": 279,
   "metadata": {
    "collapsed": true
   },
   "outputs": [],
   "source": [
    "lr = LogisticRegression(solver='liblinear') \n",
    "lr_model = lr.fit(X_train, Y_train)"
   ]
  },
  {
   "cell_type": "code",
   "execution_count": 280,
   "metadata": {
    "collapsed": false
   },
   "outputs": [],
   "source": [
    "y_pred = lr_model.predict(X_test)\n",
    "y_score = lr_model.decision_function(X_test)"
   ]
  },
  {
   "cell_type": "code",
   "execution_count": 281,
   "metadata": {
    "collapsed": false
   },
   "outputs": [],
   "source": [
    "conmat = np.array(confusion_matrix(Y_test, y_pred, labels=[1,0]))\n",
    "confusion = pd.DataFrame(conmat, index=['over_mean', 'under_mean'],\n",
    "                           columns=['predicted_overmean','predicted_undermean'])"
   ]
  },
  {
   "cell_type": "code",
   "execution_count": 282,
   "metadata": {
    "collapsed": false
   },
   "outputs": [
    {
     "name": "stdout",
     "output_type": "stream",
     "text": [
      "            predicted_overmean  predicted_undermean\n",
      "over_mean                   50                   19\n",
      "under_mean                   8                   81\n",
      "             precision    recall  f1-score   support\n",
      "\n",
      "          0       0.81      0.91      0.86        89\n",
      "          1       0.86      0.72      0.79        69\n",
      "\n",
      "avg / total       0.83      0.83      0.83       158\n",
      "\n"
     ]
    },
    {
     "data": {
      "text/plain": [
       "0.88096401237583455"
      ]
     },
     "execution_count": 282,
     "metadata": {},
     "output_type": "execute_result"
    }
   ],
   "source": [
    "print(confusion)\n",
    "print classification_report(Y_test,y_pred)\n",
    "roc_auc_score(Y_test, y_score)"
   ]
  },
  {
   "cell_type": "code",
   "execution_count": 283,
   "metadata": {
    "collapsed": false
   },
   "outputs": [
    {
     "data": {
      "image/png": "[encoded data removed]",
      "text/plain": [
       "<matplotlib.figure.Figure at 0x10f2e4650>"
      ]
     },
     "metadata": {},
     "output_type": "display_data"
    }
   ],
   "source": [
    "\n",
    "FPR = dict()\n",
    "TPR = dict()\n",
    "ROC_AUC = dict()\n",
    "\n",
    "# For class 1, find the area under the curve\n",
    "FPR[1], TPR[1], _ = roc_curve(Y_test, y_score)\n",
    "ROC_AUC[1] = auc(FPR[1], TPR[1])\n",
    "\n",
    "# Plot of a ROC curve for class 1 (has_cancer)\n",
    "plt.figure(figsize=[11,9])\n",
    "plt.plot(FPR[1], TPR[1], label='ROC curve (area = %0.2f)' % ROC_AUC[1], linewidth=4)\n",
    "plt.plot([0, 1], [0, 1], 'k--', linewidth=4)\n",
    "plt.xlim([0.0, 1.0])\n",
    "plt.ylim([0.0, 1.05])\n",
    "plt.xlabel('False Positive Rate', fontsize=18)\n",
    "plt.ylabel('True Positive Rate', fontsize=18)\n",
    "plt.title('Receiver operating characteristic for high/low income', fontsize=18)\n",
    "plt.legend(loc=\"lower right\")\n",
    "plt.show()"
   ]
  },
  {
   "cell_type": "code",
   "execution_count": 284,
   "metadata": {
    "collapsed": false
   },
   "outputs": [
    {
     "data": {
      "text/plain": [
       "GridSearchCV(cv=15, error_score='raise',\n",
       "       estimator=LogisticRegression(C=1.0, class_weight=None, dual=False, fit_intercept=True,\n",
       "          intercept_scaling=1, max_iter=100, multi_class='ovr', n_jobs=1,\n",
       "          penalty='l2', random_state=None, solver='liblinear', tol=0.0001,\n",
       "          verbose=0, warm_start=False),\n",
       "       fit_params={}, iid=True, n_jobs=1,\n",
       "       param_grid={'penalty': ['l1', 'l2'], 'C': [0.0001, 0.001, 0.01, 0.1, 0.15, 0.25, 0.275, 0.33, 0.5, 0.66, 0.75, 1.0, 2.5, 5.0, 10.0, 100.0, 1000.0]},\n",
       "       pre_dispatch='2*n_jobs', refit=True, scoring=None, verbose=False)"
      ]
     },
     "execution_count": 284,
     "metadata": {},
     "output_type": "execute_result"
    }
   ],
   "source": [
    "#run GRID SEARCH ## FILL IN C VALUES\n",
    "C_vals = [0.0001, 0.001, 0.01, 0.1, .15, .25, .275, .33, 0.5, .66, 0.75, 1.0, 2.5, 5.0, 10.0, 100.0, 1000.0]\n",
    "penalties = ['l1','l2']\n",
    "\n",
    "gs = GridSearchCV(lr, {'penalty': penalties, 'C': C_vals}, verbose=False, cv=15)\n",
    "gs.fit(X, y)\n"
   ]
  },
  {
   "cell_type": "code",
   "execution_count": 285,
   "metadata": {
    "collapsed": false
   },
   "outputs": [
    {
     "data": {
      "text/plain": [
       "{'C': 5.0, 'penalty': 'l2'}"
      ]
     },
     "execution_count": 285,
     "metadata": {},
     "output_type": "execute_result"
    }
   ],
   "source": [
    "#return best model parameters\n",
    "gs.best_params_"
   ]
  },
  {
   "cell_type": "code",
   "execution_count": 286,
   "metadata": {
    "collapsed": true
   },
   "outputs": [],
   "source": [
    "#fit model with gridsearch info\n",
    "logreg = LogisticRegression(C=gs.best_params_['C'], penalty=gs.best_params_['penalty'])\n",
    "cv_model = logreg.fit(X_train, Y_train)\n",
    "\n",
    " \n",
    "#predict x\n",
    "cv_pred = cv_model.predict(X_test)"
   ]
  },
  {
   "cell_type": "code",
   "execution_count": 288,
   "metadata": {
    "collapsed": false
   },
   "outputs": [
    {
     "data": {
      "text/html": [
       "<div>\n",
       "<table border=\"1\" class=\"dataframe\">\n",
       "  <thead>\n",
       "    <tr style=\"text-align: right;\">\n",
       "      <th></th>\n",
       "      <th>0</th>\n",
       "      <th>1</th>\n",
       "    </tr>\n",
       "  </thead>\n",
       "  <tbody>\n",
       "    <tr>\n",
       "      <th>0</th>\n",
       "      <td>82</td>\n",
       "      <td>7</td>\n",
       "    </tr>\n",
       "    <tr>\n",
       "      <th>1</th>\n",
       "      <td>18</td>\n",
       "      <td>51</td>\n",
       "    </tr>\n",
       "  </tbody>\n",
       "</table>\n",
       "</div>"
      ],
      "text/plain": [
       "    0   1\n",
       "0  82   7\n",
       "1  18  51"
      ]
     },
     "execution_count": 288,
     "metadata": {},
     "output_type": "execute_result"
    }
   ],
   "source": [
    "cm = confusion_matrix(Y_test, cv_pred, labels=logreg.classes_)\n",
    "cm = pd.DataFrame(cm, columns=logreg.classes_, index=logreg.classes_)\n",
    "cm"
   ]
  },
  {
   "cell_type": "code",
   "execution_count": 289,
   "metadata": {
    "collapsed": false
   },
   "outputs": [
    {
     "name": "stdout",
     "output_type": "stream",
     "text": [
      "             precision    recall  f1-score   support\n",
      "\n",
      "          0       0.82      0.92      0.87        89\n",
      "          1       0.88      0.74      0.80        69\n",
      "\n",
      "avg / total       0.85      0.84      0.84       158\n",
      "\n"
     ]
    }
   ],
   "source": [
    "print classification_report(Y_test, cv_pred, labels=logreg.classes_)"
   ]
  },
  {
   "cell_type": "code",
   "execution_count": 290,
   "metadata": {
    "collapsed": false
   },
   "outputs": [
    {
     "data": {
      "image/png": "[encoded data removed]",
      "text/plain": [
       "<matplotlib.figure.Figure at 0x10d9e2f10>"
      ]
     },
     "metadata": {},
     "output_type": "display_data"
    }
   ],
   "source": [
    "# Do not use. \n",
    "\n",
    "\"\"\"\n",
    "FPR = dict()\n",
    "TPR = dict()\n",
    "ROC_AUC = dict()\n",
    "\n",
    "# For class 1, find the area under the curve\n",
    "FPR[1], TPR[1], _ = roc_curve(Y_test, cv_pred)\n",
    "ROC_AUC[1] = auc(FPR[1], TPR[1])\n",
    "\n",
    "# Plot of a ROC curve for class 1 (has_cancer)\n",
    "plt.figure(figsize=[11,9])\n",
    "plt.plot(FPR[1], TPR[1], label='ROC curve (area = %0.2f)' % ROC_AUC[1], linewidth=4)\n",
    "plt.plot([0, 1], [0, 1], 'k--', linewidth=4)\n",
    "plt.xlim([0.0, 1.0])\n",
    "plt.ylim([0.0, 1.05])\n",
    "plt.xlabel('False Positive Rate', fontsize=18)\n",
    "plt.ylabel('True Positive Rate', fontsize=18)\n",
    "plt.title('Receiver operating characteristic for high/low income', fontsize=18)\n",
    "plt.legend(loc=\"lower right\")\n",
    "plt.show()\"\"\""
   ]
  }
 ],
 "metadata": {
  "anaconda-cloud": {},
  "kernelspec": {
   "display_name": "Python [Python2]",
   "language": "python",
   "name": "Python [Python2]"
  },
  "language_info": {
   "codemirror_mode": {
    "name": "ipython",
    "version": 2
   },
   "file_extension": ".py",
   "mimetype": "text/x-python",
   "name": "python",
   "nbconvert_exporter": "python",
   "pygments_lexer": "ipython2",
   "version": "2.7.12"
  }
 },
 "nbformat": 4,
 "nbformat_minor": 0
}
