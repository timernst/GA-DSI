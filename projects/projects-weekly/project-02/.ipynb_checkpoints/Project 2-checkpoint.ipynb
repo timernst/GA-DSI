{
 "cells": [
  {
   "cell_type": "markdown",
   "metadata": {},
   "source": [
    "### Import and Clean the Data"
   ]
  },
  {
   "cell_type": "code",
   "execution_count": 51,
   "metadata": {
    "collapsed": false,
    "scrolled": false
   },
   "outputs": [
    {
     "data": {
      "text/html": [
       "<div>\n",
       "<table border=\"1\" class=\"dataframe\">\n",
       "  <thead>\n",
       "    <tr style=\"text-align: right;\">\n",
       "      <th></th>\n",
       "      <th>year</th>\n",
       "      <th>artist.inverted</th>\n",
       "      <th>track</th>\n",
       "      <th>time</th>\n",
       "      <th>genre</th>\n",
       "      <th>date.entered</th>\n",
       "      <th>date.peaked</th>\n",
       "      <th>x1st.week</th>\n",
       "      <th>x2nd.week</th>\n",
       "      <th>x3rd.week</th>\n",
       "      <th>...</th>\n",
       "      <th>x67th.week</th>\n",
       "      <th>x68th.week</th>\n",
       "      <th>x69th.week</th>\n",
       "      <th>x70th.week</th>\n",
       "      <th>x71st.week</th>\n",
       "      <th>x72nd.week</th>\n",
       "      <th>x73rd.week</th>\n",
       "      <th>x74th.week</th>\n",
       "      <th>x75th.week</th>\n",
       "      <th>x76th.week</th>\n",
       "    </tr>\n",
       "  </thead>\n",
       "  <tbody>\n",
       "    <tr>\n",
       "      <th>0</th>\n",
       "      <td>2000</td>\n",
       "      <td>Destiny's Child</td>\n",
       "      <td>Independent Women Part I</td>\n",
       "      <td>3,38,00 AM</td>\n",
       "      <td>Rock</td>\n",
       "      <td>September 23, 2000</td>\n",
       "      <td>November 18, 2000</td>\n",
       "      <td>78</td>\n",
       "      <td>63</td>\n",
       "      <td>49</td>\n",
       "      <td>...</td>\n",
       "      <td>*</td>\n",
       "      <td>*</td>\n",
       "      <td>*</td>\n",
       "      <td>*</td>\n",
       "      <td>*</td>\n",
       "      <td>*</td>\n",
       "      <td>*</td>\n",
       "      <td>*</td>\n",
       "      <td>*</td>\n",
       "      <td>*</td>\n",
       "    </tr>\n",
       "    <tr>\n",
       "      <th>1</th>\n",
       "      <td>2000</td>\n",
       "      <td>Santana</td>\n",
       "      <td>Maria, Maria</td>\n",
       "      <td>4,18,00 AM</td>\n",
       "      <td>Rock</td>\n",
       "      <td>February 12, 2000</td>\n",
       "      <td>April 8, 2000</td>\n",
       "      <td>15</td>\n",
       "      <td>8</td>\n",
       "      <td>6</td>\n",
       "      <td>...</td>\n",
       "      <td>*</td>\n",
       "      <td>*</td>\n",
       "      <td>*</td>\n",
       "      <td>*</td>\n",
       "      <td>*</td>\n",
       "      <td>*</td>\n",
       "      <td>*</td>\n",
       "      <td>*</td>\n",
       "      <td>*</td>\n",
       "      <td>*</td>\n",
       "    </tr>\n",
       "    <tr>\n",
       "      <th>2</th>\n",
       "      <td>2000</td>\n",
       "      <td>Savage Garden</td>\n",
       "      <td>I Knew I Loved You</td>\n",
       "      <td>4,07,00 AM</td>\n",
       "      <td>Rock</td>\n",
       "      <td>October 23, 1999</td>\n",
       "      <td>January 29, 2000</td>\n",
       "      <td>71</td>\n",
       "      <td>48</td>\n",
       "      <td>43</td>\n",
       "      <td>...</td>\n",
       "      <td>*</td>\n",
       "      <td>*</td>\n",
       "      <td>*</td>\n",
       "      <td>*</td>\n",
       "      <td>*</td>\n",
       "      <td>*</td>\n",
       "      <td>*</td>\n",
       "      <td>*</td>\n",
       "      <td>*</td>\n",
       "      <td>*</td>\n",
       "    </tr>\n",
       "    <tr>\n",
       "      <th>3</th>\n",
       "      <td>2000</td>\n",
       "      <td>Madonna</td>\n",
       "      <td>Music</td>\n",
       "      <td>3,45,00 AM</td>\n",
       "      <td>Rock</td>\n",
       "      <td>August 12, 2000</td>\n",
       "      <td>September 16, 2000</td>\n",
       "      <td>41</td>\n",
       "      <td>23</td>\n",
       "      <td>18</td>\n",
       "      <td>...</td>\n",
       "      <td>*</td>\n",
       "      <td>*</td>\n",
       "      <td>*</td>\n",
       "      <td>*</td>\n",
       "      <td>*</td>\n",
       "      <td>*</td>\n",
       "      <td>*</td>\n",
       "      <td>*</td>\n",
       "      <td>*</td>\n",
       "      <td>*</td>\n",
       "    </tr>\n",
       "    <tr>\n",
       "      <th>4</th>\n",
       "      <td>2000</td>\n",
       "      <td>Aguilera, Christina</td>\n",
       "      <td>Come On Over Baby (All I Want Is You)</td>\n",
       "      <td>3,38,00 AM</td>\n",
       "      <td>Rock</td>\n",
       "      <td>August 5, 2000</td>\n",
       "      <td>October 14, 2000</td>\n",
       "      <td>57</td>\n",
       "      <td>47</td>\n",
       "      <td>45</td>\n",
       "      <td>...</td>\n",
       "      <td>*</td>\n",
       "      <td>*</td>\n",
       "      <td>*</td>\n",
       "      <td>*</td>\n",
       "      <td>*</td>\n",
       "      <td>*</td>\n",
       "      <td>*</td>\n",
       "      <td>*</td>\n",
       "      <td>*</td>\n",
       "      <td>*</td>\n",
       "    </tr>\n",
       "  </tbody>\n",
       "</table>\n",
       "<p>5 rows × 83 columns</p>\n",
       "</div>"
      ],
      "text/plain": [
       "   year      artist.inverted                                  track  \\\n",
       "0  2000      Destiny's Child               Independent Women Part I   \n",
       "1  2000              Santana                           Maria, Maria   \n",
       "2  2000        Savage Garden                     I Knew I Loved You   \n",
       "3  2000              Madonna                                  Music   \n",
       "4  2000  Aguilera, Christina  Come On Over Baby (All I Want Is You)   \n",
       "\n",
       "         time genre        date.entered         date.peaked  x1st.week  \\\n",
       "0  3,38,00 AM  Rock  September 23, 2000   November 18, 2000         78   \n",
       "1  4,18,00 AM  Rock   February 12, 2000       April 8, 2000         15   \n",
       "2  4,07,00 AM  Rock    October 23, 1999    January 29, 2000         71   \n",
       "3  3,45,00 AM  Rock     August 12, 2000  September 16, 2000         41   \n",
       "4  3,38,00 AM  Rock      August 5, 2000    October 14, 2000         57   \n",
       "\n",
       "  x2nd.week x3rd.week    ...     x67th.week x68th.week x69th.week x70th.week  \\\n",
       "0        63        49    ...              *          *          *          *   \n",
       "1         8         6    ...              *          *          *          *   \n",
       "2        48        43    ...              *          *          *          *   \n",
       "3        23        18    ...              *          *          *          *   \n",
       "4        47        45    ...              *          *          *          *   \n",
       "\n",
       "  x71st.week x72nd.week x73rd.week x74th.week x75th.week x76th.week  \n",
       "0          *          *          *          *          *          *  \n",
       "1          *          *          *          *          *          *  \n",
       "2          *          *          *          *          *          *  \n",
       "3          *          *          *          *          *          *  \n",
       "4          *          *          *          *          *          *  \n",
       "\n",
       "[5 rows x 83 columns]"
      ]
     },
     "execution_count": 51,
     "metadata": {},
     "output_type": "execute_result"
    }
   ],
   "source": [
    "import numpy as np\n",
    "import pandas as pd\n",
    "\n",
    "import matplotlib.pyplot as plt\n",
    "plt.style.use('seaborn-muted')\n",
    "%matplotlib inline\n",
    "\n",
    "import seaborn as sns\n",
    "\n",
    "df = pd.read_csv('/Users/timothyernst/GA-DSI/projects/projects-weekly/project-02/assets/billboard.csv')\n",
    "df.head()"
   ]
  },
  {
   "cell_type": "code",
   "execution_count": 27,
   "metadata": {
    "collapsed": false
   },
   "outputs": [
    {
     "name": "stdout",
     "output_type": "stream",
     "text": [
      "<class 'pandas.core.frame.DataFrame'>\n",
      "RangeIndex: 317 entries, 0 to 316\n",
      "Data columns (total 83 columns):\n",
      "year               317 non-null int64\n",
      "artist.inverted    317 non-null object\n",
      "track              317 non-null object\n",
      "time               317 non-null object\n",
      "genre              317 non-null object\n",
      "date.entered       317 non-null object\n",
      "date.peaked        317 non-null object\n",
      "x1st.week          317 non-null int64\n",
      "x2nd.week          317 non-null object\n",
      "x3rd.week          317 non-null object\n",
      "x4th.week          317 non-null object\n",
      "x5th.week          317 non-null object\n",
      "x6th.week          317 non-null object\n",
      "x7th.week          317 non-null object\n",
      "x8th.week          317 non-null object\n",
      "x9th.week          317 non-null object\n",
      "x10th.week         317 non-null object\n",
      "x11th.week         317 non-null object\n",
      "x12th.week         317 non-null object\n",
      "x13th.week         317 non-null object\n",
      "x14th.week         317 non-null object\n",
      "x15th.week         317 non-null object\n",
      "x16th.week         317 non-null object\n",
      "x17th.week         317 non-null object\n",
      "x18th.week         317 non-null object\n",
      "x19th.week         317 non-null object\n",
      "x20th.week         317 non-null object\n",
      "x21st.week         317 non-null object\n",
      "x22nd.week         317 non-null object\n",
      "x23rd.week         317 non-null object\n",
      "x24th.week         317 non-null object\n",
      "x25th.week         39 non-null object\n",
      "x26th.week         37 non-null object\n",
      "x27th.week         30 non-null object\n",
      "x28th.week         317 non-null object\n",
      "x29th.week         317 non-null object\n",
      "x30th.week         317 non-null object\n",
      "x31st.week         317 non-null object\n",
      "x32nd.week         317 non-null object\n",
      "x33rd.week         317 non-null object\n",
      "x34th.week         317 non-null object\n",
      "x35th.week         317 non-null object\n",
      "x36th.week         317 non-null object\n",
      "x37th.week         317 non-null object\n",
      "x38th.week         317 non-null object\n",
      "x39th.week         317 non-null object\n",
      "x40th.week         317 non-null object\n",
      "x41st.week         317 non-null object\n",
      "x42nd.week         317 non-null object\n",
      "x43rd.week         317 non-null object\n",
      "x44th.week         317 non-null object\n",
      "x45th.week         317 non-null object\n",
      "x46th.week         317 non-null object\n",
      "x47th.week         317 non-null object\n",
      "x48th.week         317 non-null object\n",
      "x49th.week         317 non-null object\n",
      "x50th.week         317 non-null object\n",
      "x51st.week         317 non-null object\n",
      "x52nd.week         317 non-null object\n",
      "x53rd.week         317 non-null object\n",
      "x54th.week         317 non-null object\n",
      "x55th.week         317 non-null object\n",
      "x56th.week         317 non-null object\n",
      "x57th.week         317 non-null object\n",
      "x58th.week         317 non-null object\n",
      "x59th.week         317 non-null object\n",
      "x60th.week         317 non-null object\n",
      "x61st.week         317 non-null object\n",
      "x62nd.week         317 non-null object\n",
      "x63rd.week         317 non-null object\n",
      "x64th.week         317 non-null object\n",
      "x65th.week         317 non-null object\n",
      "x66th.week         317 non-null object\n",
      "x67th.week         317 non-null object\n",
      "x68th.week         317 non-null object\n",
      "x69th.week         317 non-null object\n",
      "x70th.week         317 non-null object\n",
      "x71st.week         317 non-null object\n",
      "x72nd.week         317 non-null object\n",
      "x73rd.week         317 non-null object\n",
      "x74th.week         317 non-null object\n",
      "x75th.week         317 non-null object\n",
      "x76th.week         317 non-null object\n",
      "dtypes: int64(2), object(81)\n",
      "memory usage: 205.6+ KB\n"
     ]
    }
   ],
   "source": [
    "df.info()"
   ]
  },
  {
   "cell_type": "markdown",
   "metadata": {},
   "source": [
    "Besided obeserving that many of the columns are in the wrong datatype. (We'll convert that later) We also observe that some of the weeks have very few non-null columns. (e.g. week 26 & week 27) This suggests there could be some true null values mixed in with the '*'. "
   ]
  },
  {
   "cell_type": "code",
   "execution_count": 52,
   "metadata": {
    "collapsed": false,
    "scrolled": true
   },
   "outputs": [],
   "source": [
    "# Replacing all the '*' with NaN so they any calculation we call won't try to run them. \n",
    "def replace_nulls(value):\n",
    "    if value == '*':\n",
    "        return np.nan\n",
    "    else:\n",
    "        return value\n",
    "\n",
    "df = df.applymap(replace_nulls)\n"
   ]
  },
  {
   "cell_type": "code",
   "execution_count": 9,
   "metadata": {
    "collapsed": false
   },
   "outputs": [
    {
     "data": {
      "text/html": [
       "<div>\n",
       "<table border=\"1\" class=\"dataframe\">\n",
       "  <thead>\n",
       "    <tr style=\"text-align: right;\">\n",
       "      <th></th>\n",
       "      <th>year</th>\n",
       "      <th>artist.inverted</th>\n",
       "      <th>track</th>\n",
       "      <th>time</th>\n",
       "      <th>genre</th>\n",
       "      <th>date.entered</th>\n",
       "      <th>date.peaked</th>\n",
       "      <th>x1st.week</th>\n",
       "      <th>x2nd.week</th>\n",
       "      <th>x3rd.week</th>\n",
       "      <th>...</th>\n",
       "      <th>x67th.week</th>\n",
       "      <th>x68th.week</th>\n",
       "      <th>x69th.week</th>\n",
       "      <th>x70th.week</th>\n",
       "      <th>x71st.week</th>\n",
       "      <th>x72nd.week</th>\n",
       "      <th>x73rd.week</th>\n",
       "      <th>x74th.week</th>\n",
       "      <th>x75th.week</th>\n",
       "      <th>x76th.week</th>\n",
       "    </tr>\n",
       "  </thead>\n",
       "  <tbody>\n",
       "    <tr>\n",
       "      <th>0</th>\n",
       "      <td>2000</td>\n",
       "      <td>Destiny's Child</td>\n",
       "      <td>Independent Women Part I</td>\n",
       "      <td>3,38,00 AM</td>\n",
       "      <td>Rock</td>\n",
       "      <td>September 23, 2000</td>\n",
       "      <td>November 18, 2000</td>\n",
       "      <td>78</td>\n",
       "      <td>63</td>\n",
       "      <td>49</td>\n",
       "      <td>...</td>\n",
       "      <td>NaN</td>\n",
       "      <td>NaN</td>\n",
       "      <td>NaN</td>\n",
       "      <td>NaN</td>\n",
       "      <td>NaN</td>\n",
       "      <td>NaN</td>\n",
       "      <td>NaN</td>\n",
       "      <td>NaN</td>\n",
       "      <td>NaN</td>\n",
       "      <td>NaN</td>\n",
       "    </tr>\n",
       "    <tr>\n",
       "      <th>1</th>\n",
       "      <td>2000</td>\n",
       "      <td>Santana</td>\n",
       "      <td>Maria, Maria</td>\n",
       "      <td>4,18,00 AM</td>\n",
       "      <td>Rock</td>\n",
       "      <td>February 12, 2000</td>\n",
       "      <td>April 8, 2000</td>\n",
       "      <td>15</td>\n",
       "      <td>8</td>\n",
       "      <td>6</td>\n",
       "      <td>...</td>\n",
       "      <td>NaN</td>\n",
       "      <td>NaN</td>\n",
       "      <td>NaN</td>\n",
       "      <td>NaN</td>\n",
       "      <td>NaN</td>\n",
       "      <td>NaN</td>\n",
       "      <td>NaN</td>\n",
       "      <td>NaN</td>\n",
       "      <td>NaN</td>\n",
       "      <td>NaN</td>\n",
       "    </tr>\n",
       "    <tr>\n",
       "      <th>2</th>\n",
       "      <td>2000</td>\n",
       "      <td>Savage Garden</td>\n",
       "      <td>I Knew I Loved You</td>\n",
       "      <td>4,07,00 AM</td>\n",
       "      <td>Rock</td>\n",
       "      <td>October 23, 1999</td>\n",
       "      <td>January 29, 2000</td>\n",
       "      <td>71</td>\n",
       "      <td>48</td>\n",
       "      <td>43</td>\n",
       "      <td>...</td>\n",
       "      <td>NaN</td>\n",
       "      <td>NaN</td>\n",
       "      <td>NaN</td>\n",
       "      <td>NaN</td>\n",
       "      <td>NaN</td>\n",
       "      <td>NaN</td>\n",
       "      <td>NaN</td>\n",
       "      <td>NaN</td>\n",
       "      <td>NaN</td>\n",
       "      <td>NaN</td>\n",
       "    </tr>\n",
       "    <tr>\n",
       "      <th>3</th>\n",
       "      <td>2000</td>\n",
       "      <td>Madonna</td>\n",
       "      <td>Music</td>\n",
       "      <td>3,45,00 AM</td>\n",
       "      <td>Rock</td>\n",
       "      <td>August 12, 2000</td>\n",
       "      <td>September 16, 2000</td>\n",
       "      <td>41</td>\n",
       "      <td>23</td>\n",
       "      <td>18</td>\n",
       "      <td>...</td>\n",
       "      <td>NaN</td>\n",
       "      <td>NaN</td>\n",
       "      <td>NaN</td>\n",
       "      <td>NaN</td>\n",
       "      <td>NaN</td>\n",
       "      <td>NaN</td>\n",
       "      <td>NaN</td>\n",
       "      <td>NaN</td>\n",
       "      <td>NaN</td>\n",
       "      <td>NaN</td>\n",
       "    </tr>\n",
       "    <tr>\n",
       "      <th>4</th>\n",
       "      <td>2000</td>\n",
       "      <td>Aguilera, Christina</td>\n",
       "      <td>Come On Over Baby (All I Want Is You)</td>\n",
       "      <td>3,38,00 AM</td>\n",
       "      <td>Rock</td>\n",
       "      <td>August 5, 2000</td>\n",
       "      <td>October 14, 2000</td>\n",
       "      <td>57</td>\n",
       "      <td>47</td>\n",
       "      <td>45</td>\n",
       "      <td>...</td>\n",
       "      <td>NaN</td>\n",
       "      <td>NaN</td>\n",
       "      <td>NaN</td>\n",
       "      <td>NaN</td>\n",
       "      <td>NaN</td>\n",
       "      <td>NaN</td>\n",
       "      <td>NaN</td>\n",
       "      <td>NaN</td>\n",
       "      <td>NaN</td>\n",
       "      <td>NaN</td>\n",
       "    </tr>\n",
       "  </tbody>\n",
       "</table>\n",
       "<p>5 rows × 83 columns</p>\n",
       "</div>"
      ],
      "text/plain": [
       "   year      artist.inverted                                  track  \\\n",
       "0  2000      Destiny's Child               Independent Women Part I   \n",
       "1  2000              Santana                           Maria, Maria   \n",
       "2  2000        Savage Garden                     I Knew I Loved You   \n",
       "3  2000              Madonna                                  Music   \n",
       "4  2000  Aguilera, Christina  Come On Over Baby (All I Want Is You)   \n",
       "\n",
       "         time genre        date.entered         date.peaked  x1st.week  \\\n",
       "0  3,38,00 AM  Rock  September 23, 2000   November 18, 2000         78   \n",
       "1  4,18,00 AM  Rock   February 12, 2000       April 8, 2000         15   \n",
       "2  4,07,00 AM  Rock    October 23, 1999    January 29, 2000         71   \n",
       "3  3,45,00 AM  Rock     August 12, 2000  September 16, 2000         41   \n",
       "4  3,38,00 AM  Rock      August 5, 2000    October 14, 2000         57   \n",
       "\n",
       "  x2nd.week x3rd.week    ...     x67th.week x68th.week x69th.week x70th.week  \\\n",
       "0        63        49    ...            NaN        NaN        NaN        NaN   \n",
       "1         8         6    ...            NaN        NaN        NaN        NaN   \n",
       "2        48        43    ...            NaN        NaN        NaN        NaN   \n",
       "3        23        18    ...            NaN        NaN        NaN        NaN   \n",
       "4        47        45    ...            NaN        NaN        NaN        NaN   \n",
       "\n",
       "  x71st.week x72nd.week x73rd.week x74th.week x75th.week x76th.week  \n",
       "0        NaN        NaN        NaN        NaN        NaN        NaN  \n",
       "1        NaN        NaN        NaN        NaN        NaN        NaN  \n",
       "2        NaN        NaN        NaN        NaN        NaN        NaN  \n",
       "3        NaN        NaN        NaN        NaN        NaN        NaN  \n",
       "4        NaN        NaN        NaN        NaN        NaN        NaN  \n",
       "\n",
       "[5 rows x 83 columns]"
      ]
     },
     "execution_count": 9,
     "metadata": {},
     "output_type": "execute_result"
    }
   ],
   "source": [
    "df.head()"
   ]
  },
  {
   "cell_type": "code",
   "execution_count": 53,
   "metadata": {
    "collapsed": false
   },
   "outputs": [
    {
     "name": "stdout",
     "output_type": "stream",
     "text": [
      "<class 'pandas.core.frame.DataFrame'>\n",
      "RangeIndex: 317 entries, 0 to 316\n",
      "Data columns (total 83 columns):\n",
      "year               317 non-null int64\n",
      "artist.inverted    317 non-null object\n",
      "track              317 non-null object\n",
      "time               317 non-null object\n",
      "genre              317 non-null object\n",
      "date.entered       317 non-null object\n",
      "date.peaked        317 non-null object\n",
      "x1st.week          317 non-null float64\n",
      "x2nd.week          312 non-null float64\n",
      "x3rd.week          307 non-null float64\n",
      "x4th.week          300 non-null float64\n",
      "x5th.week          292 non-null float64\n",
      "x6th.week          280 non-null float64\n",
      "x7th.week          269 non-null float64\n",
      "x8th.week          260 non-null float64\n",
      "x9th.week          253 non-null float64\n",
      "x10th.week         244 non-null float64\n",
      "x11th.week         236 non-null float64\n",
      "x12th.week         222 non-null float64\n",
      "x13th.week         210 non-null float64\n",
      "x14th.week         204 non-null float64\n",
      "x15th.week         197 non-null float64\n",
      "x16th.week         182 non-null float64\n",
      "x17th.week         177 non-null float64\n",
      "x18th.week         166 non-null float64\n",
      "x19th.week         156 non-null float64\n",
      "x20th.week         146 non-null float64\n",
      "x21st.week         65 non-null float64\n",
      "x22nd.week         55 non-null float64\n",
      "x23rd.week         48 non-null float64\n",
      "x24th.week         46 non-null float64\n",
      "x25th.week         38 non-null float64\n",
      "x26th.week         36 non-null float64\n",
      "x27th.week         29 non-null float64\n",
      "x28th.week         24 non-null float64\n",
      "x29th.week         20 non-null float64\n",
      "x30th.week         20 non-null float64\n",
      "x31st.week         19 non-null float64\n",
      "x32nd.week         18 non-null float64\n",
      "x33rd.week         12 non-null float64\n",
      "x34th.week         10 non-null float64\n",
      "x35th.week         9 non-null float64\n",
      "x36th.week         9 non-null float64\n",
      "x37th.week         9 non-null float64\n",
      "x38th.week         8 non-null float64\n",
      "x39th.week         8 non-null float64\n",
      "x40th.week         7 non-null float64\n",
      "x41st.week         7 non-null float64\n",
      "x42nd.week         6 non-null float64\n",
      "x43rd.week         6 non-null float64\n",
      "x44th.week         6 non-null float64\n",
      "x45th.week         5 non-null float64\n",
      "x46th.week         5 non-null float64\n",
      "x47th.week         5 non-null float64\n",
      "x48th.week         4 non-null float64\n",
      "x49th.week         4 non-null float64\n",
      "x50th.week         4 non-null float64\n",
      "x51st.week         4 non-null float64\n",
      "x52nd.week         4 non-null float64\n",
      "x53rd.week         4 non-null float64\n",
      "x54th.week         2 non-null float64\n",
      "x55th.week         2 non-null float64\n",
      "x56th.week         2 non-null float64\n",
      "x57th.week         2 non-null float64\n",
      "x58th.week         2 non-null float64\n",
      "x59th.week         2 non-null float64\n",
      "x60th.week         2 non-null float64\n",
      "x61st.week         2 non-null float64\n",
      "x62nd.week         2 non-null float64\n",
      "x63rd.week         2 non-null float64\n",
      "x64th.week         2 non-null float64\n",
      "x65th.week         1 non-null float64\n",
      "x66th.week         0 non-null float64\n",
      "x67th.week         0 non-null float64\n",
      "x68th.week         0 non-null float64\n",
      "x69th.week         0 non-null float64\n",
      "x70th.week         0 non-null float64\n",
      "x71st.week         0 non-null float64\n",
      "x72nd.week         0 non-null float64\n",
      "x73rd.week         0 non-null float64\n",
      "x74th.week         0 non-null float64\n",
      "x75th.week         0 non-null float64\n",
      "x76th.week         0 non-null float64\n",
      "dtypes: float64(76), int64(1), object(6)\n",
      "memory usage: 205.6+ KB\n"
     ]
    }
   ],
   "source": [
    "#Let's convert the ranking to float. Floats are perhaps a bit more expensive for computer processing, but this isn't\n",
    "# a large enough data set to make a difference. \n",
    "\n",
    "my_columns = [u'x1st.week', u'x2nd.week',\n",
    "       u'x3rd.week', u'x4th.week', u'x5th.week', u'x6th.week', u'x7th.week',\n",
    "       u'x8th.week', u'x9th.week', u'x10th.week', u'x11th.week', u'x12th.week',\n",
    "       u'x13th.week', u'x14th.week', u'x15th.week', u'x16th.week',\n",
    "       u'x17th.week', u'x18th.week', u'x19th.week', u'x20th.week',\n",
    "       u'x21st.week', u'x22nd.week', u'x23rd.week', u'x24th.week',\n",
    "       u'x25th.week', u'x26th.week', u'x27th.week', u'x28th.week',\n",
    "       u'x29th.week', u'x30th.week', u'x31st.week', u'x32nd.week',\n",
    "       u'x33rd.week', u'x34th.week', u'x35th.week', u'x36th.week',\n",
    "       u'x37th.week', u'x38th.week', u'x39th.week', u'x40th.week',\n",
    "       u'x41st.week', u'x42nd.week', u'x43rd.week', u'x44th.week',\n",
    "       u'x45th.week', u'x46th.week', u'x47th.week', u'x48th.week',\n",
    "       u'x49th.week', u'x50th.week', u'x51st.week', u'x52nd.week',\n",
    "       u'x53rd.week', u'x54th.week', u'x55th.week', u'x56th.week',\n",
    "       u'x57th.week', u'x58th.week', u'x59th.week', u'x60th.week',\n",
    "       u'x61st.week', u'x62nd.week', u'x63rd.week', u'x64th.week',\n",
    "       u'x65th.week', u'x66th.week', u'x67th.week', u'x68th.week',\n",
    "       u'x69th.week', u'x70th.week', u'x71st.week', u'x72nd.week',\n",
    "       u'x73rd.week', u'x74th.week', u'x75th.week', u'x76th.week']\n",
    "\n",
    "def make_int(col):\n",
    "    for col in my_columns:\n",
    "        df[col] = df[col].astype('float64', coerce=True)\n",
    "\n",
    "make_int(my_columns)\n",
    "df.info()"
   ]
  },
  {
   "cell_type": "code",
   "execution_count": null,
   "metadata": {
    "collapsed": true
   },
   "outputs": [],
   "source": [
    "#df.columns = ['Year', 'Artist']"
   ]
  },
  {
   "cell_type": "code",
   "execution_count": 55,
   "metadata": {
    "collapsed": false
   },
   "outputs": [
    {
     "data": {
      "text/html": [
       "<div>\n",
       "<table border=\"1\" class=\"dataframe\">\n",
       "  <thead>\n",
       "    <tr style=\"text-align: right;\">\n",
       "      <th></th>\n",
       "      <th>year</th>\n",
       "      <th>artist.inverted</th>\n",
       "      <th>track</th>\n",
       "      <th>time</th>\n",
       "      <th>genre</th>\n",
       "      <th>date.entered</th>\n",
       "      <th>date.peaked</th>\n",
       "      <th>x1st.week</th>\n",
       "      <th>x2nd.week</th>\n",
       "      <th>x3rd.week</th>\n",
       "      <th>...</th>\n",
       "      <th>x67th.week</th>\n",
       "      <th>x68th.week</th>\n",
       "      <th>x69th.week</th>\n",
       "      <th>x70th.week</th>\n",
       "      <th>x71st.week</th>\n",
       "      <th>x72nd.week</th>\n",
       "      <th>x73rd.week</th>\n",
       "      <th>x74th.week</th>\n",
       "      <th>x75th.week</th>\n",
       "      <th>x76th.week</th>\n",
       "    </tr>\n",
       "  </thead>\n",
       "  <tbody>\n",
       "    <tr>\n",
       "      <th>0</th>\n",
       "      <td>2000</td>\n",
       "      <td>Destiny's Child</td>\n",
       "      <td>Independent Women Part I</td>\n",
       "      <td>3,38,00 AM</td>\n",
       "      <td>Rock</td>\n",
       "      <td>September 23, 2000</td>\n",
       "      <td>November 18, 2000</td>\n",
       "      <td>78.0</td>\n",
       "      <td>63.0</td>\n",
       "      <td>49.0</td>\n",
       "      <td>...</td>\n",
       "      <td>NaN</td>\n",
       "      <td>NaN</td>\n",
       "      <td>NaN</td>\n",
       "      <td>NaN</td>\n",
       "      <td>NaN</td>\n",
       "      <td>NaN</td>\n",
       "      <td>NaN</td>\n",
       "      <td>NaN</td>\n",
       "      <td>NaN</td>\n",
       "      <td>NaN</td>\n",
       "    </tr>\n",
       "    <tr>\n",
       "      <th>1</th>\n",
       "      <td>2000</td>\n",
       "      <td>Santana</td>\n",
       "      <td>Maria, Maria</td>\n",
       "      <td>4,18,00 AM</td>\n",
       "      <td>Rock</td>\n",
       "      <td>February 12, 2000</td>\n",
       "      <td>April 8, 2000</td>\n",
       "      <td>15.0</td>\n",
       "      <td>8.0</td>\n",
       "      <td>6.0</td>\n",
       "      <td>...</td>\n",
       "      <td>NaN</td>\n",
       "      <td>NaN</td>\n",
       "      <td>NaN</td>\n",
       "      <td>NaN</td>\n",
       "      <td>NaN</td>\n",
       "      <td>NaN</td>\n",
       "      <td>NaN</td>\n",
       "      <td>NaN</td>\n",
       "      <td>NaN</td>\n",
       "      <td>NaN</td>\n",
       "    </tr>\n",
       "    <tr>\n",
       "      <th>2</th>\n",
       "      <td>2000</td>\n",
       "      <td>Savage Garden</td>\n",
       "      <td>I Knew I Loved You</td>\n",
       "      <td>4,07,00 AM</td>\n",
       "      <td>Rock</td>\n",
       "      <td>October 23, 1999</td>\n",
       "      <td>January 29, 2000</td>\n",
       "      <td>71.0</td>\n",
       "      <td>48.0</td>\n",
       "      <td>43.0</td>\n",
       "      <td>...</td>\n",
       "      <td>NaN</td>\n",
       "      <td>NaN</td>\n",
       "      <td>NaN</td>\n",
       "      <td>NaN</td>\n",
       "      <td>NaN</td>\n",
       "      <td>NaN</td>\n",
       "      <td>NaN</td>\n",
       "      <td>NaN</td>\n",
       "      <td>NaN</td>\n",
       "      <td>NaN</td>\n",
       "    </tr>\n",
       "    <tr>\n",
       "      <th>3</th>\n",
       "      <td>2000</td>\n",
       "      <td>Madonna</td>\n",
       "      <td>Music</td>\n",
       "      <td>3,45,00 AM</td>\n",
       "      <td>Rock</td>\n",
       "      <td>August 12, 2000</td>\n",
       "      <td>September 16, 2000</td>\n",
       "      <td>41.0</td>\n",
       "      <td>23.0</td>\n",
       "      <td>18.0</td>\n",
       "      <td>...</td>\n",
       "      <td>NaN</td>\n",
       "      <td>NaN</td>\n",
       "      <td>NaN</td>\n",
       "      <td>NaN</td>\n",
       "      <td>NaN</td>\n",
       "      <td>NaN</td>\n",
       "      <td>NaN</td>\n",
       "      <td>NaN</td>\n",
       "      <td>NaN</td>\n",
       "      <td>NaN</td>\n",
       "    </tr>\n",
       "    <tr>\n",
       "      <th>4</th>\n",
       "      <td>2000</td>\n",
       "      <td>Aguilera, Christina</td>\n",
       "      <td>Come On Over Baby (All I Want Is You)</td>\n",
       "      <td>3,38,00 AM</td>\n",
       "      <td>Rock</td>\n",
       "      <td>August 5, 2000</td>\n",
       "      <td>October 14, 2000</td>\n",
       "      <td>57.0</td>\n",
       "      <td>47.0</td>\n",
       "      <td>45.0</td>\n",
       "      <td>...</td>\n",
       "      <td>NaN</td>\n",
       "      <td>NaN</td>\n",
       "      <td>NaN</td>\n",
       "      <td>NaN</td>\n",
       "      <td>NaN</td>\n",
       "      <td>NaN</td>\n",
       "      <td>NaN</td>\n",
       "      <td>NaN</td>\n",
       "      <td>NaN</td>\n",
       "      <td>NaN</td>\n",
       "    </tr>\n",
       "  </tbody>\n",
       "</table>\n",
       "<p>5 rows × 83 columns</p>\n",
       "</div>"
      ],
      "text/plain": [
       "   year      artist.inverted                                  track  \\\n",
       "0  2000      Destiny's Child               Independent Women Part I   \n",
       "1  2000              Santana                           Maria, Maria   \n",
       "2  2000        Savage Garden                     I Knew I Loved You   \n",
       "3  2000              Madonna                                  Music   \n",
       "4  2000  Aguilera, Christina  Come On Over Baby (All I Want Is You)   \n",
       "\n",
       "         time genre        date.entered         date.peaked  x1st.week  \\\n",
       "0  3,38,00 AM  Rock  September 23, 2000   November 18, 2000       78.0   \n",
       "1  4,18,00 AM  Rock   February 12, 2000       April 8, 2000       15.0   \n",
       "2  4,07,00 AM  Rock    October 23, 1999    January 29, 2000       71.0   \n",
       "3  3,45,00 AM  Rock     August 12, 2000  September 16, 2000       41.0   \n",
       "4  3,38,00 AM  Rock      August 5, 2000    October 14, 2000       57.0   \n",
       "\n",
       "   x2nd.week  x3rd.week     ...      x67th.week  x68th.week  x69th.week  \\\n",
       "0       63.0       49.0     ...             NaN         NaN         NaN   \n",
       "1        8.0        6.0     ...             NaN         NaN         NaN   \n",
       "2       48.0       43.0     ...             NaN         NaN         NaN   \n",
       "3       23.0       18.0     ...             NaN         NaN         NaN   \n",
       "4       47.0       45.0     ...             NaN         NaN         NaN   \n",
       "\n",
       "   x70th.week  x71st.week  x72nd.week  x73rd.week  x74th.week  x75th.week  \\\n",
       "0         NaN         NaN         NaN         NaN         NaN         NaN   \n",
       "1         NaN         NaN         NaN         NaN         NaN         NaN   \n",
       "2         NaN         NaN         NaN         NaN         NaN         NaN   \n",
       "3         NaN         NaN         NaN         NaN         NaN         NaN   \n",
       "4         NaN         NaN         NaN         NaN         NaN         NaN   \n",
       "\n",
       "   x76th.week  \n",
       "0         NaN  \n",
       "1         NaN  \n",
       "2         NaN  \n",
       "3         NaN  \n",
       "4         NaN  \n",
       "\n",
       "[5 rows x 83 columns]"
      ]
     },
     "execution_count": 55,
     "metadata": {},
     "output_type": "execute_result"
    }
   ],
   "source": [
    "df = df.reset_index(drop=True)"
   ]
  },
  {
   "cell_type": "markdown",
   "metadata": {},
   "source": [
    "### Data Exploration"
   ]
  },
  {
   "cell_type": "code",
   "execution_count": 56,
   "metadata": {
    "collapsed": false
   },
   "outputs": [
    {
     "name": "stdout",
     "output_type": "stream",
     "text": [
      "['Rock' \"Rock'n'roll\" 'Latin' 'Country' 'Rap' 'Pop' 'Electronica' 'Jazz'\n",
      " 'R&B' 'Reggae' 'Gospel' 'R & B']\n",
      "[2000]\n",
      "228\n"
     ]
    }
   ],
   "source": [
    "#Let's just poke around the data to see what we have. \n",
    "print df['genre'].unique()\n",
    "print df['year'].unique()\n",
    "print df['artist.inverted'].nunique()"
   ]
  },
  {
   "cell_type": "markdown",
   "metadata": {},
   "source": [
    "Looks like there's an issue with the genre's where 'R&B' and 'R & B' are listed in two different ways. Let's just clean that up quickly."
   ]
  },
  {
   "cell_type": "code",
   "execution_count": 84,
   "metadata": {
    "collapsed": false
   },
   "outputs": [
    {
     "data": {
      "text/plain": [
       "array(['Rock', \"Rock'n'roll\", 'Latin', 'Country', 'Rap', 'Pop',\n",
       "       'Electronica', 'Jazz', 'R&B', 'Reggae', 'Gospel'], dtype=object)"
      ]
     },
     "execution_count": 84,
     "metadata": {},
     "output_type": "execute_result"
    }
   ],
   "source": [
    "#Replaced the genre 'R & B' with 'R&B'. Confirmed it worked.\n",
    "df['genre'].replace('R & B', 'R&B', inplace=True)\n",
    "df['genre'].unique()"
   ]
  },
  {
   "cell_type": "code",
   "execution_count": 57,
   "metadata": {
    "collapsed": false
   },
   "outputs": [
    {
     "data": {
      "text/html": [
       "<div>\n",
       "<table border=\"1\" class=\"dataframe\">\n",
       "  <thead>\n",
       "    <tr style=\"text-align: right;\">\n",
       "      <th></th>\n",
       "      <th>year</th>\n",
       "      <th>x1st.week</th>\n",
       "      <th>x2nd.week</th>\n",
       "      <th>x3rd.week</th>\n",
       "      <th>x4th.week</th>\n",
       "      <th>x5th.week</th>\n",
       "      <th>x6th.week</th>\n",
       "      <th>x7th.week</th>\n",
       "      <th>x8th.week</th>\n",
       "      <th>x9th.week</th>\n",
       "      <th>...</th>\n",
       "      <th>x67th.week</th>\n",
       "      <th>x68th.week</th>\n",
       "      <th>x69th.week</th>\n",
       "      <th>x70th.week</th>\n",
       "      <th>x71st.week</th>\n",
       "      <th>x72nd.week</th>\n",
       "      <th>x73rd.week</th>\n",
       "      <th>x74th.week</th>\n",
       "      <th>x75th.week</th>\n",
       "      <th>x76th.week</th>\n",
       "    </tr>\n",
       "  </thead>\n",
       "  <tbody>\n",
       "    <tr>\n",
       "      <th>count</th>\n",
       "      <td>317.0</td>\n",
       "      <td>317.000000</td>\n",
       "      <td>312.000000</td>\n",
       "      <td>307.000000</td>\n",
       "      <td>300.000000</td>\n",
       "      <td>292.000000</td>\n",
       "      <td>280.000000</td>\n",
       "      <td>269.000000</td>\n",
       "      <td>260.000000</td>\n",
       "      <td>253.000000</td>\n",
       "      <td>...</td>\n",
       "      <td>0.0</td>\n",
       "      <td>0.0</td>\n",
       "      <td>0.0</td>\n",
       "      <td>0.0</td>\n",
       "      <td>0.0</td>\n",
       "      <td>0.0</td>\n",
       "      <td>0.0</td>\n",
       "      <td>0.0</td>\n",
       "      <td>0.0</td>\n",
       "      <td>0.0</td>\n",
       "    </tr>\n",
       "    <tr>\n",
       "      <th>mean</th>\n",
       "      <td>2000.0</td>\n",
       "      <td>79.958991</td>\n",
       "      <td>71.173077</td>\n",
       "      <td>65.045603</td>\n",
       "      <td>59.763333</td>\n",
       "      <td>56.339041</td>\n",
       "      <td>52.360714</td>\n",
       "      <td>49.219331</td>\n",
       "      <td>47.119231</td>\n",
       "      <td>46.343874</td>\n",
       "      <td>...</td>\n",
       "      <td>NaN</td>\n",
       "      <td>NaN</td>\n",
       "      <td>NaN</td>\n",
       "      <td>NaN</td>\n",
       "      <td>NaN</td>\n",
       "      <td>NaN</td>\n",
       "      <td>NaN</td>\n",
       "      <td>NaN</td>\n",
       "      <td>NaN</td>\n",
       "      <td>NaN</td>\n",
       "    </tr>\n",
       "    <tr>\n",
       "      <th>std</th>\n",
       "      <td>0.0</td>\n",
       "      <td>14.686865</td>\n",
       "      <td>18.200443</td>\n",
       "      <td>20.752302</td>\n",
       "      <td>22.324619</td>\n",
       "      <td>23.780022</td>\n",
       "      <td>24.473273</td>\n",
       "      <td>25.654279</td>\n",
       "      <td>26.370782</td>\n",
       "      <td>27.136419</td>\n",
       "      <td>...</td>\n",
       "      <td>NaN</td>\n",
       "      <td>NaN</td>\n",
       "      <td>NaN</td>\n",
       "      <td>NaN</td>\n",
       "      <td>NaN</td>\n",
       "      <td>NaN</td>\n",
       "      <td>NaN</td>\n",
       "      <td>NaN</td>\n",
       "      <td>NaN</td>\n",
       "      <td>NaN</td>\n",
       "    </tr>\n",
       "    <tr>\n",
       "      <th>min</th>\n",
       "      <td>2000.0</td>\n",
       "      <td>15.000000</td>\n",
       "      <td>8.000000</td>\n",
       "      <td>6.000000</td>\n",
       "      <td>5.000000</td>\n",
       "      <td>2.000000</td>\n",
       "      <td>1.000000</td>\n",
       "      <td>1.000000</td>\n",
       "      <td>1.000000</td>\n",
       "      <td>1.000000</td>\n",
       "      <td>...</td>\n",
       "      <td>NaN</td>\n",
       "      <td>NaN</td>\n",
       "      <td>NaN</td>\n",
       "      <td>NaN</td>\n",
       "      <td>NaN</td>\n",
       "      <td>NaN</td>\n",
       "      <td>NaN</td>\n",
       "      <td>NaN</td>\n",
       "      <td>NaN</td>\n",
       "      <td>NaN</td>\n",
       "    </tr>\n",
       "    <tr>\n",
       "      <th>25%</th>\n",
       "      <td>2000.0</td>\n",
       "      <td>74.000000</td>\n",
       "      <td>NaN</td>\n",
       "      <td>NaN</td>\n",
       "      <td>NaN</td>\n",
       "      <td>NaN</td>\n",
       "      <td>NaN</td>\n",
       "      <td>NaN</td>\n",
       "      <td>NaN</td>\n",
       "      <td>NaN</td>\n",
       "      <td>...</td>\n",
       "      <td>NaN</td>\n",
       "      <td>NaN</td>\n",
       "      <td>NaN</td>\n",
       "      <td>NaN</td>\n",
       "      <td>NaN</td>\n",
       "      <td>NaN</td>\n",
       "      <td>NaN</td>\n",
       "      <td>NaN</td>\n",
       "      <td>NaN</td>\n",
       "      <td>NaN</td>\n",
       "    </tr>\n",
       "    <tr>\n",
       "      <th>50%</th>\n",
       "      <td>2000.0</td>\n",
       "      <td>81.000000</td>\n",
       "      <td>NaN</td>\n",
       "      <td>NaN</td>\n",
       "      <td>NaN</td>\n",
       "      <td>NaN</td>\n",
       "      <td>NaN</td>\n",
       "      <td>NaN</td>\n",
       "      <td>NaN</td>\n",
       "      <td>NaN</td>\n",
       "      <td>...</td>\n",
       "      <td>NaN</td>\n",
       "      <td>NaN</td>\n",
       "      <td>NaN</td>\n",
       "      <td>NaN</td>\n",
       "      <td>NaN</td>\n",
       "      <td>NaN</td>\n",
       "      <td>NaN</td>\n",
       "      <td>NaN</td>\n",
       "      <td>NaN</td>\n",
       "      <td>NaN</td>\n",
       "    </tr>\n",
       "    <tr>\n",
       "      <th>75%</th>\n",
       "      <td>2000.0</td>\n",
       "      <td>91.000000</td>\n",
       "      <td>NaN</td>\n",
       "      <td>NaN</td>\n",
       "      <td>NaN</td>\n",
       "      <td>NaN</td>\n",
       "      <td>NaN</td>\n",
       "      <td>NaN</td>\n",
       "      <td>NaN</td>\n",
       "      <td>NaN</td>\n",
       "      <td>...</td>\n",
       "      <td>NaN</td>\n",
       "      <td>NaN</td>\n",
       "      <td>NaN</td>\n",
       "      <td>NaN</td>\n",
       "      <td>NaN</td>\n",
       "      <td>NaN</td>\n",
       "      <td>NaN</td>\n",
       "      <td>NaN</td>\n",
       "      <td>NaN</td>\n",
       "      <td>NaN</td>\n",
       "    </tr>\n",
       "    <tr>\n",
       "      <th>max</th>\n",
       "      <td>2000.0</td>\n",
       "      <td>100.000000</td>\n",
       "      <td>100.000000</td>\n",
       "      <td>100.000000</td>\n",
       "      <td>100.000000</td>\n",
       "      <td>100.000000</td>\n",
       "      <td>99.000000</td>\n",
       "      <td>100.000000</td>\n",
       "      <td>99.000000</td>\n",
       "      <td>100.000000</td>\n",
       "      <td>...</td>\n",
       "      <td>NaN</td>\n",
       "      <td>NaN</td>\n",
       "      <td>NaN</td>\n",
       "      <td>NaN</td>\n",
       "      <td>NaN</td>\n",
       "      <td>NaN</td>\n",
       "      <td>NaN</td>\n",
       "      <td>NaN</td>\n",
       "      <td>NaN</td>\n",
       "      <td>NaN</td>\n",
       "    </tr>\n",
       "  </tbody>\n",
       "</table>\n",
       "<p>8 rows × 77 columns</p>\n",
       "</div>"
      ],
      "text/plain": [
       "         year   x1st.week   x2nd.week   x3rd.week   x4th.week   x5th.week  \\\n",
       "count   317.0  317.000000  312.000000  307.000000  300.000000  292.000000   \n",
       "mean   2000.0   79.958991   71.173077   65.045603   59.763333   56.339041   \n",
       "std       0.0   14.686865   18.200443   20.752302   22.324619   23.780022   \n",
       "min    2000.0   15.000000    8.000000    6.000000    5.000000    2.000000   \n",
       "25%    2000.0   74.000000         NaN         NaN         NaN         NaN   \n",
       "50%    2000.0   81.000000         NaN         NaN         NaN         NaN   \n",
       "75%    2000.0   91.000000         NaN         NaN         NaN         NaN   \n",
       "max    2000.0  100.000000  100.000000  100.000000  100.000000  100.000000   \n",
       "\n",
       "        x6th.week   x7th.week   x8th.week   x9th.week     ...      x67th.week  \\\n",
       "count  280.000000  269.000000  260.000000  253.000000     ...             0.0   \n",
       "mean    52.360714   49.219331   47.119231   46.343874     ...             NaN   \n",
       "std     24.473273   25.654279   26.370782   27.136419     ...             NaN   \n",
       "min      1.000000    1.000000    1.000000    1.000000     ...             NaN   \n",
       "25%           NaN         NaN         NaN         NaN     ...             NaN   \n",
       "50%           NaN         NaN         NaN         NaN     ...             NaN   \n",
       "75%           NaN         NaN         NaN         NaN     ...             NaN   \n",
       "max     99.000000  100.000000   99.000000  100.000000     ...             NaN   \n",
       "\n",
       "       x68th.week  x69th.week  x70th.week  x71st.week  x72nd.week  x73rd.week  \\\n",
       "count         0.0         0.0         0.0         0.0         0.0         0.0   \n",
       "mean          NaN         NaN         NaN         NaN         NaN         NaN   \n",
       "std           NaN         NaN         NaN         NaN         NaN         NaN   \n",
       "min           NaN         NaN         NaN         NaN         NaN         NaN   \n",
       "25%           NaN         NaN         NaN         NaN         NaN         NaN   \n",
       "50%           NaN         NaN         NaN         NaN         NaN         NaN   \n",
       "75%           NaN         NaN         NaN         NaN         NaN         NaN   \n",
       "max           NaN         NaN         NaN         NaN         NaN         NaN   \n",
       "\n",
       "       x74th.week  x75th.week  x76th.week  \n",
       "count         0.0         0.0         0.0  \n",
       "mean          NaN         NaN         NaN  \n",
       "std           NaN         NaN         NaN  \n",
       "min           NaN         NaN         NaN  \n",
       "25%           NaN         NaN         NaN  \n",
       "50%           NaN         NaN         NaN  \n",
       "75%           NaN         NaN         NaN  \n",
       "max           NaN         NaN         NaN  \n",
       "\n",
       "[8 rows x 77 columns]"
      ]
     },
     "execution_count": 57,
     "metadata": {},
     "output_type": "execute_result"
    }
   ],
   "source": [
    "df[:].describe()"
   ]
  },
  {
   "cell_type": "code",
   "execution_count": 58,
   "metadata": {
    "collapsed": false
   },
   "outputs": [
    {
     "data": {
      "text/plain": [
       "RangeIndex(start=0, stop=317, step=1)"
      ]
     },
     "execution_count": 58,
     "metadata": {},
     "output_type": "execute_result"
    }
   ],
   "source": [
    "df.index"
   ]
  },
  {
   "cell_type": "code",
   "execution_count": 59,
   "metadata": {
    "collapsed": false
   },
   "outputs": [
    {
     "data": {
      "text/plain": [
       "<matplotlib.axes._subplots.AxesSubplot at 0x11494da10>"
      ]
     },
     "execution_count": 59,
     "metadata": {},
     "output_type": "execute_result"
    },
    {
     "data": {
      "image/png": "[encoded data removed]",
      "text/plain": [
       "<matplotlib.figure.Figure at 0x114cc86d0>"
      ]
     },
     "metadata": {},
     "output_type": "display_data"
    }
   ],
   "source": [
    "df['x1st.week'].hist()"
   ]
  },
  {
   "cell_type": "code",
   "execution_count": 60,
   "metadata": {
    "collapsed": false
   },
   "outputs": [
    {
     "data": {
      "text/plain": [
       "<matplotlib.axes._subplots.AxesSubplot at 0x115d0d110>"
      ]
     },
     "execution_count": 60,
     "metadata": {},
     "output_type": "execute_result"
    },
    {
     "data": {
      "image/png": "[encoded data removed]",
      "text/plain": [
       "<matplotlib.figure.Figure at 0x115d031d0>"
      ]
     },
     "metadata": {},
     "output_type": "display_data"
    }
   ],
   "source": [
    "df['x2nd.week'].hist()"
   ]
  },
  {
   "cell_type": "code",
   "execution_count": 61,
   "metadata": {
    "collapsed": false
   },
   "outputs": [
    {
     "data": {
      "text/plain": [
       "<matplotlib.axes._subplots.AxesSubplot at 0x115ea4450>"
      ]
     },
     "execution_count": 61,
     "metadata": {},
     "output_type": "execute_result"
    },
    {
     "data": {
      "image/png": "[encoded data removed]",
      "text/plain": [
       "<matplotlib.figure.Figure at 0x116017190>"
      ]
     },
     "metadata": {},
     "output_type": "display_data"
    }
   ],
   "source": [
    "df['x3rd.week'].hist()"
   ]
  },
  {
   "cell_type": "markdown",
   "metadata": {},
   "source": [
    "### Hypothesis Formulation"
   ]
  },
  {
   "cell_type": "code",
   "execution_count": 62,
   "metadata": {
    "collapsed": false
   },
   "outputs": [
    {
     "data": {
      "text/html": [
       "<div>\n",
       "<table border=\"1\" class=\"dataframe\">\n",
       "  <thead>\n",
       "    <tr style=\"text-align: right;\">\n",
       "      <th></th>\n",
       "      <th>x1st.week</th>\n",
       "    </tr>\n",
       "  </thead>\n",
       "  <tbody>\n",
       "    <tr>\n",
       "      <th>0</th>\n",
       "      <td>78.0</td>\n",
       "    </tr>\n",
       "    <tr>\n",
       "      <th>1</th>\n",
       "      <td>15.0</td>\n",
       "    </tr>\n",
       "    <tr>\n",
       "      <th>2</th>\n",
       "      <td>71.0</td>\n",
       "    </tr>\n",
       "    <tr>\n",
       "      <th>3</th>\n",
       "      <td>41.0</td>\n",
       "    </tr>\n",
       "    <tr>\n",
       "      <th>4</th>\n",
       "      <td>57.0</td>\n",
       "    </tr>\n",
       "  </tbody>\n",
       "</table>\n",
       "</div>"
      ],
      "text/plain": [
       "   x1st.week\n",
       "0       78.0\n",
       "1       15.0\n",
       "2       71.0\n",
       "3       41.0\n",
       "4       57.0"
      ]
     },
     "execution_count": 62,
     "metadata": {},
     "output_type": "execute_result"
    }
   ],
   "source": [
    "#Initial dataframe defined as wdf.\n",
    "wdf = df[['x1st.week']]\n",
    "wdf.head()"
   ]
  },
  {
   "cell_type": "code",
   "execution_count": 63,
   "metadata": {
    "collapsed": false
   },
   "outputs": [
    {
     "name": "stderr",
     "output_type": "stream",
     "text": [
      "/Users/timothyernst/anaconda/envs/Python2/lib/python2.7/site-packages/ipykernel/__main__.py:4: SettingWithCopyWarning:\n",
      "\n",
      "\n",
      "A value is trying to be set on a copy of a slice from a DataFrame.\n",
      "Try using .loc[row_indexer,col_indexer] = value instead\n",
      "\n",
      "See the caveats in the documentation: http://pandas.pydata.org/pandas-docs/stable/indexing.html#indexing-view-versus-copy\n",
      "\n"
     ]
    },
    {
     "data": {
      "text/html": [
       "<div>\n",
       "<table border=\"1\" class=\"dataframe\">\n",
       "  <thead>\n",
       "    <tr style=\"text-align: right;\">\n",
       "      <th></th>\n",
       "      <th>x1st.week</th>\n",
       "      <th>weeks_on_list</th>\n",
       "    </tr>\n",
       "  </thead>\n",
       "  <tbody>\n",
       "    <tr>\n",
       "      <th>0</th>\n",
       "      <td>78.0</td>\n",
       "      <td>28</td>\n",
       "    </tr>\n",
       "    <tr>\n",
       "      <th>1</th>\n",
       "      <td>15.0</td>\n",
       "      <td>26</td>\n",
       "    </tr>\n",
       "    <tr>\n",
       "      <th>2</th>\n",
       "      <td>71.0</td>\n",
       "      <td>33</td>\n",
       "    </tr>\n",
       "    <tr>\n",
       "      <th>3</th>\n",
       "      <td>41.0</td>\n",
       "      <td>24</td>\n",
       "    </tr>\n",
       "    <tr>\n",
       "      <th>4</th>\n",
       "      <td>57.0</td>\n",
       "      <td>21</td>\n",
       "    </tr>\n",
       "    <tr>\n",
       "      <th>5</th>\n",
       "      <td>59.0</td>\n",
       "      <td>24</td>\n",
       "    </tr>\n",
       "    <tr>\n",
       "      <th>6</th>\n",
       "      <td>83.0</td>\n",
       "      <td>32</td>\n",
       "    </tr>\n",
       "    <tr>\n",
       "      <th>7</th>\n",
       "      <td>63.0</td>\n",
       "      <td>20</td>\n",
       "    </tr>\n",
       "    <tr>\n",
       "      <th>8</th>\n",
       "      <td>77.0</td>\n",
       "      <td>26</td>\n",
       "    </tr>\n",
       "    <tr>\n",
       "      <th>9</th>\n",
       "      <td>81.0</td>\n",
       "      <td>55</td>\n",
       "    </tr>\n",
       "    <tr>\n",
       "      <th>10</th>\n",
       "      <td>82.0</td>\n",
       "      <td>25</td>\n",
       "    </tr>\n",
       "    <tr>\n",
       "      <th>11</th>\n",
       "      <td>71.0</td>\n",
       "      <td>24</td>\n",
       "    </tr>\n",
       "    <tr>\n",
       "      <th>12</th>\n",
       "      <td>70.0</td>\n",
       "      <td>41</td>\n",
       "    </tr>\n",
       "    <tr>\n",
       "      <th>13</th>\n",
       "      <td>84.0</td>\n",
       "      <td>47</td>\n",
       "    </tr>\n",
       "    <tr>\n",
       "      <th>14</th>\n",
       "      <td>59.0</td>\n",
       "      <td>32</td>\n",
       "    </tr>\n",
       "    <tr>\n",
       "      <th>15</th>\n",
       "      <td>60.0</td>\n",
       "      <td>39</td>\n",
       "    </tr>\n",
       "    <tr>\n",
       "      <th>16</th>\n",
       "      <td>82.0</td>\n",
       "      <td>20</td>\n",
       "    </tr>\n",
       "    <tr>\n",
       "      <th>17</th>\n",
       "      <td>81.0</td>\n",
       "      <td>53</td>\n",
       "    </tr>\n",
       "    <tr>\n",
       "      <th>18</th>\n",
       "      <td>72.0</td>\n",
       "      <td>30</td>\n",
       "    </tr>\n",
       "    <tr>\n",
       "      <th>19</th>\n",
       "      <td>99.0</td>\n",
       "      <td>28</td>\n",
       "    </tr>\n",
       "    <tr>\n",
       "      <th>20</th>\n",
       "      <td>63.0</td>\n",
       "      <td>37</td>\n",
       "    </tr>\n",
       "    <tr>\n",
       "      <th>21</th>\n",
       "      <td>77.0</td>\n",
       "      <td>32</td>\n",
       "    </tr>\n",
       "    <tr>\n",
       "      <th>22</th>\n",
       "      <td>51.0</td>\n",
       "      <td>20</td>\n",
       "    </tr>\n",
       "    <tr>\n",
       "      <th>23</th>\n",
       "      <td>74.0</td>\n",
       "      <td>32</td>\n",
       "    </tr>\n",
       "    <tr>\n",
       "      <th>24</th>\n",
       "      <td>81.0</td>\n",
       "      <td>53</td>\n",
       "    </tr>\n",
       "    <tr>\n",
       "      <th>25</th>\n",
       "      <td>74.0</td>\n",
       "      <td>28</td>\n",
       "    </tr>\n",
       "    <tr>\n",
       "      <th>26</th>\n",
       "      <td>50.0</td>\n",
       "      <td>22</td>\n",
       "    </tr>\n",
       "    <tr>\n",
       "      <th>27</th>\n",
       "      <td>81.0</td>\n",
       "      <td>28</td>\n",
       "    </tr>\n",
       "    <tr>\n",
       "      <th>28</th>\n",
       "      <td>94.0</td>\n",
       "      <td>44</td>\n",
       "    </tr>\n",
       "    <tr>\n",
       "      <th>29</th>\n",
       "      <td>92.0</td>\n",
       "      <td>32</td>\n",
       "    </tr>\n",
       "    <tr>\n",
       "      <th>...</th>\n",
       "      <td>...</td>\n",
       "      <td>...</td>\n",
       "    </tr>\n",
       "    <tr>\n",
       "      <th>270</th>\n",
       "      <td>95.0</td>\n",
       "      <td>9</td>\n",
       "    </tr>\n",
       "    <tr>\n",
       "      <th>271</th>\n",
       "      <td>77.0</td>\n",
       "      <td>1</td>\n",
       "    </tr>\n",
       "    <tr>\n",
       "      <th>272</th>\n",
       "      <td>79.0</td>\n",
       "      <td>13</td>\n",
       "    </tr>\n",
       "    <tr>\n",
       "      <th>273</th>\n",
       "      <td>87.0</td>\n",
       "      <td>6</td>\n",
       "    </tr>\n",
       "    <tr>\n",
       "      <th>274</th>\n",
       "      <td>97.0</td>\n",
       "      <td>13</td>\n",
       "    </tr>\n",
       "    <tr>\n",
       "      <th>275</th>\n",
       "      <td>87.0</td>\n",
       "      <td>12</td>\n",
       "    </tr>\n",
       "    <tr>\n",
       "      <th>276</th>\n",
       "      <td>82.0</td>\n",
       "      <td>11</td>\n",
       "    </tr>\n",
       "    <tr>\n",
       "      <th>277</th>\n",
       "      <td>85.0</td>\n",
       "      <td>6</td>\n",
       "    </tr>\n",
       "    <tr>\n",
       "      <th>278</th>\n",
       "      <td>99.0</td>\n",
       "      <td>11</td>\n",
       "    </tr>\n",
       "    <tr>\n",
       "      <th>279</th>\n",
       "      <td>98.0</td>\n",
       "      <td>9</td>\n",
       "    </tr>\n",
       "    <tr>\n",
       "      <th>280</th>\n",
       "      <td>94.0</td>\n",
       "      <td>10</td>\n",
       "    </tr>\n",
       "    <tr>\n",
       "      <th>281</th>\n",
       "      <td>85.0</td>\n",
       "      <td>6</td>\n",
       "    </tr>\n",
       "    <tr>\n",
       "      <th>282</th>\n",
       "      <td>84.0</td>\n",
       "      <td>4</td>\n",
       "    </tr>\n",
       "    <tr>\n",
       "      <th>283</th>\n",
       "      <td>90.0</td>\n",
       "      <td>5</td>\n",
       "    </tr>\n",
       "    <tr>\n",
       "      <th>284</th>\n",
       "      <td>96.0</td>\n",
       "      <td>4</td>\n",
       "    </tr>\n",
       "    <tr>\n",
       "      <th>285</th>\n",
       "      <td>87.0</td>\n",
       "      <td>4</td>\n",
       "    </tr>\n",
       "    <tr>\n",
       "      <th>286</th>\n",
       "      <td>94.0</td>\n",
       "      <td>7</td>\n",
       "    </tr>\n",
       "    <tr>\n",
       "      <th>287</th>\n",
       "      <td>91.0</td>\n",
       "      <td>3</td>\n",
       "    </tr>\n",
       "    <tr>\n",
       "      <th>288</th>\n",
       "      <td>98.0</td>\n",
       "      <td>20</td>\n",
       "    </tr>\n",
       "    <tr>\n",
       "      <th>289</th>\n",
       "      <td>89.0</td>\n",
       "      <td>5</td>\n",
       "    </tr>\n",
       "    <tr>\n",
       "      <th>290</th>\n",
       "      <td>91.0</td>\n",
       "      <td>18</td>\n",
       "    </tr>\n",
       "    <tr>\n",
       "      <th>291</th>\n",
       "      <td>95.0</td>\n",
       "      <td>3</td>\n",
       "    </tr>\n",
       "    <tr>\n",
       "      <th>292</th>\n",
       "      <td>97.0</td>\n",
       "      <td>9</td>\n",
       "    </tr>\n",
       "    <tr>\n",
       "      <th>293</th>\n",
       "      <td>98.0</td>\n",
       "      <td>6</td>\n",
       "    </tr>\n",
       "    <tr>\n",
       "      <th>294</th>\n",
       "      <td>96.0</td>\n",
       "      <td>5</td>\n",
       "    </tr>\n",
       "    <tr>\n",
       "      <th>295</th>\n",
       "      <td>99.0</td>\n",
       "      <td>12</td>\n",
       "    </tr>\n",
       "    <tr>\n",
       "      <th>296</th>\n",
       "      <td>98.0</td>\n",
       "      <td>6</td>\n",
       "    </tr>\n",
       "    <tr>\n",
       "      <th>297</th>\n",
       "      <td>92.0</td>\n",
       "      <td>7</td>\n",
       "    </tr>\n",
       "    <tr>\n",
       "      <th>298</th>\n",
       "      <td>92.0</td>\n",
       "      <td>4</td>\n",
       "    </tr>\n",
       "    <tr>\n",
       "      <th>299</th>\n",
       "      <td>92.0</td>\n",
       "      <td>4</td>\n",
       "    </tr>\n",
       "  </tbody>\n",
       "</table>\n",
       "<p>300 rows × 2 columns</p>\n",
       "</div>"
      ],
      "text/plain": [
       "     x1st.week  weeks_on_list\n",
       "0         78.0             28\n",
       "1         15.0             26\n",
       "2         71.0             33\n",
       "3         41.0             24\n",
       "4         57.0             21\n",
       "5         59.0             24\n",
       "6         83.0             32\n",
       "7         63.0             20\n",
       "8         77.0             26\n",
       "9         81.0             55\n",
       "10        82.0             25\n",
       "11        71.0             24\n",
       "12        70.0             41\n",
       "13        84.0             47\n",
       "14        59.0             32\n",
       "15        60.0             39\n",
       "16        82.0             20\n",
       "17        81.0             53\n",
       "18        72.0             30\n",
       "19        99.0             28\n",
       "20        63.0             37\n",
       "21        77.0             32\n",
       "22        51.0             20\n",
       "23        74.0             32\n",
       "24        81.0             53\n",
       "25        74.0             28\n",
       "26        50.0             22\n",
       "27        81.0             28\n",
       "28        94.0             44\n",
       "29        92.0             32\n",
       "..         ...            ...\n",
       "270       95.0              9\n",
       "271       77.0              1\n",
       "272       79.0             13\n",
       "273       87.0              6\n",
       "274       97.0             13\n",
       "275       87.0             12\n",
       "276       82.0             11\n",
       "277       85.0              6\n",
       "278       99.0             11\n",
       "279       98.0              9\n",
       "280       94.0             10\n",
       "281       85.0              6\n",
       "282       84.0              4\n",
       "283       90.0              5\n",
       "284       96.0              4\n",
       "285       87.0              4\n",
       "286       94.0              7\n",
       "287       91.0              3\n",
       "288       98.0             20\n",
       "289       89.0              5\n",
       "290       91.0             18\n",
       "291       95.0              3\n",
       "292       97.0              9\n",
       "293       98.0              6\n",
       "294       96.0              5\n",
       "295       99.0             12\n",
       "296       98.0              6\n",
       "297       92.0              7\n",
       "298       92.0              4\n",
       "299       92.0              4\n",
       "\n",
       "[300 rows x 2 columns]"
      ]
     },
     "execution_count": 63,
     "metadata": {},
     "output_type": "execute_result"
    }
   ],
   "source": [
    "#Adds in the count of weeks on the list to the existing wdf dataframe. \n",
    "\n",
    "weeks_on_list = []\n",
    "wdf['weeks_on_list'] = df.iloc[:, 7:].count(axis=1, numeric_only=True)\n",
    "wdf.head(300)"
   ]
  },
  {
   "cell_type": "code",
   "execution_count": 64,
   "metadata": {
    "collapsed": false,
    "scrolled": true
   },
   "outputs": [
    {
     "data": {
      "text/html": [
       "<div>\n",
       "<table border=\"1\" class=\"dataframe\">\n",
       "  <thead>\n",
       "    <tr style=\"text-align: right;\">\n",
       "      <th></th>\n",
       "      <th>x1st.week</th>\n",
       "      <th>x2nd.week</th>\n",
       "      <th>x3rd.week</th>\n",
       "      <th>x4th.week</th>\n",
       "      <th>x5th.week</th>\n",
       "      <th>x6th.week</th>\n",
       "      <th>x7th.week</th>\n",
       "      <th>x8th.week</th>\n",
       "      <th>x9th.week</th>\n",
       "      <th>x10th.week</th>\n",
       "      <th>...</th>\n",
       "      <th>x20th.week</th>\n",
       "      <th>x21st.week</th>\n",
       "      <th>x22nd.week</th>\n",
       "      <th>x23rd.week</th>\n",
       "      <th>x24th.week</th>\n",
       "      <th>x25th.week</th>\n",
       "      <th>x26th.week</th>\n",
       "      <th>x27th.week</th>\n",
       "      <th>x28th.week</th>\n",
       "      <th>x29th.week</th>\n",
       "    </tr>\n",
       "  </thead>\n",
       "  <tbody>\n",
       "    <tr>\n",
       "      <th>0</th>\n",
       "      <td>78.0</td>\n",
       "      <td>63.0</td>\n",
       "      <td>49.0</td>\n",
       "      <td>33.0</td>\n",
       "      <td>23.0</td>\n",
       "      <td>15.0</td>\n",
       "      <td>7.0</td>\n",
       "      <td>5.0</td>\n",
       "      <td>1.0</td>\n",
       "      <td>1.0</td>\n",
       "      <td>...</td>\n",
       "      <td>2.0</td>\n",
       "      <td>3.0</td>\n",
       "      <td>7.0</td>\n",
       "      <td>10.0</td>\n",
       "      <td>12.0</td>\n",
       "      <td>15.0</td>\n",
       "      <td>22.0</td>\n",
       "      <td>29.0</td>\n",
       "      <td>31.0</td>\n",
       "      <td>NaN</td>\n",
       "    </tr>\n",
       "    <tr>\n",
       "      <th>1</th>\n",
       "      <td>15.0</td>\n",
       "      <td>8.0</td>\n",
       "      <td>6.0</td>\n",
       "      <td>5.0</td>\n",
       "      <td>2.0</td>\n",
       "      <td>3.0</td>\n",
       "      <td>2.0</td>\n",
       "      <td>2.0</td>\n",
       "      <td>1.0</td>\n",
       "      <td>1.0</td>\n",
       "      <td>...</td>\n",
       "      <td>15.0</td>\n",
       "      <td>19.0</td>\n",
       "      <td>21.0</td>\n",
       "      <td>26.0</td>\n",
       "      <td>36.0</td>\n",
       "      <td>48.0</td>\n",
       "      <td>47.0</td>\n",
       "      <td>NaN</td>\n",
       "      <td>NaN</td>\n",
       "      <td>NaN</td>\n",
       "    </tr>\n",
       "  </tbody>\n",
       "</table>\n",
       "<p>2 rows × 29 columns</p>\n",
       "</div>"
      ],
      "text/plain": [
       "   x1st.week  x2nd.week  x3rd.week  x4th.week  x5th.week  x6th.week  \\\n",
       "0       78.0       63.0       49.0       33.0       23.0       15.0   \n",
       "1       15.0        8.0        6.0        5.0        2.0        3.0   \n",
       "\n",
       "   x7th.week  x8th.week  x9th.week  x10th.week     ...      x20th.week  \\\n",
       "0        7.0        5.0        1.0         1.0     ...             2.0   \n",
       "1        2.0        2.0        1.0         1.0     ...            15.0   \n",
       "\n",
       "   x21st.week  x22nd.week  x23rd.week  x24th.week  x25th.week  x26th.week  \\\n",
       "0         3.0         7.0        10.0        12.0        15.0        22.0   \n",
       "1        19.0        21.0        26.0        36.0        48.0        47.0   \n",
       "\n",
       "   x27th.week  x28th.week  x29th.week  \n",
       "0        29.0        31.0         NaN  \n",
       "1         NaN         NaN         NaN  \n",
       "\n",
       "[2 rows x 29 columns]"
      ]
     },
     "execution_count": 64,
     "metadata": {},
     "output_type": "execute_result"
    }
   ],
   "source": [
    "#This is just a simple way to varify the formula above has worked.\n",
    "df.iloc[0:2, 7:36]\n"
   ]
  },
  {
   "cell_type": "code",
   "execution_count": 65,
   "metadata": {
    "collapsed": false
   },
   "outputs": [
    {
     "data": {
      "text/html": [
       "<div>\n",
       "<table border=\"1\" class=\"dataframe\">\n",
       "  <thead>\n",
       "    <tr style=\"text-align: right;\">\n",
       "      <th></th>\n",
       "      <th>Debut_Place</th>\n",
       "      <th>Weeks_on_List</th>\n",
       "    </tr>\n",
       "  </thead>\n",
       "  <tbody>\n",
       "    <tr>\n",
       "      <th>0</th>\n",
       "      <td>78.0</td>\n",
       "      <td>28</td>\n",
       "    </tr>\n",
       "    <tr>\n",
       "      <th>1</th>\n",
       "      <td>15.0</td>\n",
       "      <td>26</td>\n",
       "    </tr>\n",
       "    <tr>\n",
       "      <th>2</th>\n",
       "      <td>71.0</td>\n",
       "      <td>33</td>\n",
       "    </tr>\n",
       "    <tr>\n",
       "      <th>3</th>\n",
       "      <td>41.0</td>\n",
       "      <td>24</td>\n",
       "    </tr>\n",
       "    <tr>\n",
       "      <th>4</th>\n",
       "      <td>57.0</td>\n",
       "      <td>21</td>\n",
       "    </tr>\n",
       "  </tbody>\n",
       "</table>\n",
       "</div>"
      ],
      "text/plain": [
       "   Debut_Place  Weeks_on_List\n",
       "0         78.0             28\n",
       "1         15.0             26\n",
       "2         71.0             33\n",
       "3         41.0             24\n",
       "4         57.0             21"
      ]
     },
     "execution_count": 65,
     "metadata": {},
     "output_type": "execute_result"
    }
   ],
   "source": [
    "#Replace the names of the columns.\n",
    "wdf.columns = [\"Debut_Place\", \"Weeks_on_List\"]\n",
    "wdf.head()"
   ]
  },
  {
   "cell_type": "markdown",
   "metadata": {},
   "source": [
    "### Hypothesis Testing"
   ]
  },
  {
   "cell_type": "code",
   "execution_count": 66,
   "metadata": {
    "collapsed": false
   },
   "outputs": [
    {
     "data": {
      "text/plain": [
       "<seaborn.axisgrid.PairGrid at 0x1161c9450>"
      ]
     },
     "execution_count": 66,
     "metadata": {},
     "output_type": "execute_result"
    },
    {
     "data": {
      "image/png": "[encoded data removed]",
      "text/plain": [
       "<matplotlib.figure.Figure at 0x1161c9b50>"
      ]
     },
     "metadata": {},
     "output_type": "display_data"
    }
   ],
   "source": [
    "#Here we use the Seaborn Pairplot function to just get a quick look at the data and see if we can recognize a pattern. \n",
    "sns.pairplot(wdf)"
   ]
  },
  {
   "cell_type": "markdown",
   "metadata": {},
   "source": [
    " "
   ]
  },
  {
   "cell_type": "code",
   "execution_count": 39,
   "metadata": {
    "collapsed": false
   },
   "outputs": [
    {
     "name": "stdout",
     "output_type": "stream",
     "text": [
      "81.0\n"
     ]
    }
   ],
   "source": [
    "#Since the median value is 81, we're going to divide our data into two groups. Songs that debuted above 81 and songs\n",
    "# that debuted below 81 to see if there's a difference in how long they stay on the list. \n",
    "print wdf[\"Debut_Place\"].median()"
   ]
  },
  {
   "cell_type": "code",
   "execution_count": 40,
   "metadata": {
    "collapsed": false
   },
   "outputs": [
    {
     "name": "stdout",
     "output_type": "stream",
     "text": [
      "0    77\n",
      "dtype: int64\n"
     ]
    }
   ],
   "source": [
    "print wdf[\"Debut_Place\"].mode()"
   ]
  },
  {
   "cell_type": "code",
   "execution_count": 113,
   "metadata": {
    "collapsed": false
   },
   "outputs": [
    {
     "data": {
      "text/plain": [
       "[<matplotlib.text.Text at 0x11b1d7d50>, <matplotlib.text.Text at 0x117549590>]"
      ]
     },
     "execution_count": 113,
     "metadata": {},
     "output_type": "execute_result"
    },
    {
     "data": {
      "image/png": "[encoded data removed]",
      "text/plain": [
       "<matplotlib.figure.Figure at 0x11b3e2b50>"
      ]
     },
     "metadata": {},
     "output_type": "display_data"
    }
   ],
   "source": [
    "# Tried this using a few different types of plots. Seaborn proved to have the closes to what I needed.\n",
    "sns.set(style=\"ticks\", context=\"talk\")\n",
    "ax = sns.regplot(x=\"Debut_Place\", y=\"Weeks_on_List\", data=wdf, truncate=True, label=\"Weeks on List vs Debut Place\")\n",
    "ax.set(ylabel='Weeks on List', xlabel='Debut Place')\n"
   ]
  },
  {
   "cell_type": "code",
   "execution_count": 102,
   "metadata": {
    "collapsed": true
   },
   "outputs": [
    {
     "data": {
      "image/png": "[encoded data removed]",
      "text/plain": [
       "<matplotlib.figure.Figure at 0x11863c410>"
      ]
     },
     "metadata": {},
     "output_type": "display_data"
    },
    {
     "name": "stdout",
     "output_type": "stream",
     "text": [
      "MSE: 204.520734115\n"
     ]
    }
   ],
   "source": [
    "#Load the data into statsmodel so we can evaluate the summary statistics that it produces. We leverage the example from\n",
    "# the lecture, but we're not so interested in the graph (though I do want to see it to be sure it worked). We mostly \n",
    "# want the summary stats.\n",
    "import statsmodels.api as sm\n",
    "import statsmodels.formula.api as smf\n",
    "\n",
    "X = wdf[\"Weeks_on_List\"]\n",
    "X = sm.add_constant(X) \n",
    "y = wdf[\"Debut_Place\"]\n",
    "\n",
    "model = sm.OLS(y, X).fit()\n",
    "predictions = model.predict()\n",
    "\n",
    "plt.scatter(predictions, y, s=30, c='r', marker='+')\n",
    "plt.xlabel(\"Predicted Values from RM\")\n",
    "plt.ylabel(\"Actual Values MEDV\")\n",
    "plt.show()\n",
    "print \"MSE:\", mean_squared_error(y, predictions)"
   ]
  },
  {
   "cell_type": "code",
   "execution_count": 103,
   "metadata": {
    "collapsed": false
   },
   "outputs": [
    {
     "name": "stdout",
     "output_type": "stream",
     "text": [
      "                            OLS Regression Results                            \n",
      "==============================================================================\n",
      "Dep. Variable:            Debut_Place   R-squared:                       0.049\n",
      "Model:                            OLS   Adj. R-squared:                  0.046\n",
      "Method:                 Least Squares   F-statistic:                     16.18\n",
      "Date:                Wed, 05 Oct 2016   Prob (F-statistic):           7.23e-05\n",
      "Time:                        07:04:59   Log-Likelihood:                -1293.1\n",
      "No. Observations:                 317   AIC:                             2590.\n",
      "Df Residuals:                     315   BIC:                             2598.\n",
      "Df Model:                           1                                         \n",
      "Covariance Type:            nonrobust                                         \n",
      "=================================================================================\n",
      "                    coef    std err          t      P>|t|      [95.0% Conf. Int.]\n",
      "---------------------------------------------------------------------------------\n",
      "const            85.9412      1.692     50.804      0.000        82.613    89.270\n",
      "Weeks_on_List    -0.3573      0.089     -4.022      0.000        -0.532    -0.183\n",
      "==============================================================================\n",
      "Omnibus:                       86.818   Durbin-Watson:                   1.694\n",
      "Prob(Omnibus):                  0.000   Jarque-Bera (JB):              202.245\n",
      "Skew:                          -1.337   Prob(JB):                     1.21e-44\n",
      "Kurtosis:                       5.857   Cond. No.                         40.1\n",
      "==============================================================================\n",
      "\n",
      "Warnings:\n",
      "[1] Standard Errors assume that the covariance matrix of the errors is correctly specified.\n"
     ]
    }
   ],
   "source": [
    "# This R-squared looks very low, but perhaps not low enough to disreguared the whole thing. \n",
    "print(model.summary())"
   ]
  },
  {
   "cell_type": "code",
   "execution_count": 68,
   "metadata": {
    "collapsed": false
   },
   "outputs": [
    {
     "name": "stdout",
     "output_type": "stream",
     "text": [
      "    Debut_Place  Weeks_on_List\n",
      "6          83.0             32\n",
      "9          81.0             55\n",
      "10         82.0             25\n",
      "13         84.0             47\n",
      "16         82.0             20\n",
      "   Debut_Place  Weeks_on_List\n",
      "0         78.0             28\n",
      "1         15.0             26\n",
      "2         71.0             33\n",
      "3         41.0             24\n",
      "4         57.0             21\n"
     ]
    }
   ],
   "source": [
    "#Generating the two lists below. One contains songs debuting less that 81, and one contains songs that debut above 81. \n",
    "\n",
    "dfl81 = wdf[wdf[\"Debut_Place\"] < 81]\n",
    "dfm81 = wdf[wdf[\"Debut_Place\"] >= 81]\n",
    "print dfm81.head()\n",
    "print dfl81.head()"
   ]
  },
  {
   "cell_type": "code",
   "execution_count": 112,
   "metadata": {
    "collapsed": false
   },
   "outputs": [
    {
     "data": {
      "image/png": "[encoded data removed]",
      "text/plain": [
       "<matplotlib.figure.Figure at 0x116e84990>"
      ]
     },
     "metadata": {},
     "output_type": "display_data"
    }
   ],
   "source": [
    "import matplotlib.pyplot as plt\n",
    "import plotly.plotly as py\n",
    "plt.style.use('seaborn-deep')\n",
    "plt.rcParams['axes.facecolor'] = 'white'\n",
    "sns.set(style='darkgrid')\n",
    "\n",
    "fig1 = plt.figure(figsize=(8,6))\n",
    "\n",
    "x = dfl81[\"Weeks_on_List\"]\n",
    "y = dfm81[\"Weeks_on_List\"]\n",
    "\n",
    "bins = np.linspace(0, 40, 20)\n",
    "\n",
    "plt.hist(x, bins, alpha=0.5)\n",
    "plt.hist(y, bins, alpha=0.5)\n",
    "plt.xlabel('Number of Weeks on the Billboard List')\n",
    "plt.legend([\"Songs debuting LOWER than 81.\", \"Songs debuting HIGHER than 81.\"], loc=1)\n",
    "plt.title('Debut Spot vs. Time on the Billboard 100 Charts')\n",
    "plt.ylabel('Frequency')\n",
    "plt.show()\n",
    "\n",
    "#plot_url = py.plot_mpl(histogram, filename='docs/histogram-mpl-same')"
   ]
  },
  {
   "cell_type": "code",
   "execution_count": 177,
   "metadata": {
    "collapsed": false
   },
   "outputs": [
    {
     "name": "stdout",
     "output_type": "stream",
     "text": [
      "18.3831168831\n",
      "15.1901840491\n"
     ]
    }
   ],
   "source": [
    "print dfl81['Weeks_on_List'].mean()\n",
    "print dfm81['Weeks_on_List'].mean()"
   ]
  },
  {
   "cell_type": "code",
   "execution_count": 77,
   "metadata": {
    "collapsed": false
   },
   "outputs": [
    {
     "name": "stdout",
     "output_type": "stream",
     "text": [
      "T-score: 3.17240372165\n",
      "P-Value: 0.00166084979459\n"
     ]
    }
   ],
   "source": [
    "import scipy.stats as stats\n",
    "t_stat, p_val = stats.ttest_ind(dfl81[\"Weeks_on_List\"], dfm81[\"Weeks_on_List\"])\n",
    "print \"T-score: %s\" % t_stat\n",
    "print \"P-Value: %s\" % p_val"
   ]
  },
  {
   "cell_type": "code",
   "execution_count": 86,
   "metadata": {
    "collapsed": false
   },
   "outputs": [
    {
     "data": {
      "text/plain": [
       "<matplotlib.axes._subplots.AxesSubplot at 0x116dfd950>"
      ]
     },
     "execution_count": 86,
     "metadata": {},
     "output_type": "execute_result"
    },
    {
     "data": {
      "image/png": "[encoded data removed]",
      "text/plain": [
       "<matplotlib.figure.Figure at 0x116882e90>"
      ]
     },
     "metadata": {},
     "output_type": "display_data"
    }
   ],
   "source": [
    "ax = sns.distplot(dfl81[\"Weeks_on_List\"])\n",
    "sns.distplot(dfm81[\"Weeks_on_List\"], color='darkred', ax=ax)"
   ]
  },
  {
   "cell_type": "code",
   "execution_count": null,
   "metadata": {
    "collapsed": true
   },
   "outputs": [],
   "source": []
  },
  {
   "cell_type": "markdown",
   "metadata": {},
   "source": [
    "### Conclusion\n",
    "Additional information available on the blog."
   ]
  },
  {
   "cell_type": "markdown",
   "metadata": {},
   "source": [
    "##### Hypothesis "
   ]
  },
  {
   "cell_type": "markdown",
   "metadata": {
    "collapsed": true
   },
   "source": [
    "\n",
    "We've broken our data into two seperate datasets. The first data set represents songs that debuted high on the list. For the purpose of our analysis we defined high as anything above the median value of 81. Our second dataset then was anything that debuted low on the list, less than (or at) 81. \n",
    "\n",
    "Null Hypothesis: The mean of both populations is the same.\n",
    "Alternate Hypothesis: The two means are not the same."
   ]
  },
  {
   "cell_type": "markdown",
   "metadata": {
    "collapsed": true
   },
   "source": [
    "Assumptions:\n",
    "    * We're assuming the data is random or can be considered random for out tests. \n",
    "    * We're assuming both the data sets (dfl81 & dfm81) are normally distributed about the mean.\n",
    "    \n",
    "Risks:\n",
    "The risks are assumed to be similar to those associated with any stastical analysis.\n",
    "    *Typer I Error: We could have rejected the null hypothesis when, in fact, the null was true, and the true value of the two means is the same. \n",
    "    *The additional risk is since this data was not accompanied by a data dictionary, we could be missing a significant aspect of the data. "
   ]
  },
  {
   "cell_type": "markdown",
   "metadata": {
    "collapsed": true
   },
   "source": [
    "##### Conclusion "
   ]
  },
  {
   "cell_type": "markdown",
   "metadata": {},
   "source": [
    "The p-value is small (0.0016) indicating that at the 5% significance level, the results are significant. The data therefore provide evidence to conclude that the mean length of songs that debuted high on the Billboard list is different from the mean of songs which debuted lower on the list. The songs which debuted higher on the list spent more on time on the list on average. "
   ]
  }
 ],
 "metadata": {
  "anaconda-cloud": {},
  "kernelspec": {
   "display_name": "Python [Python2]",
   "language": "python",
   "name": "Python [Python2]"
  },
  "language_info": {
   "codemirror_mode": {
    "name": "ipython",
    "version": 2
   },
   "file_extension": ".py",
   "mimetype": "text/x-python",
   "name": "python",
   "nbconvert_exporter": "python",
   "pygments_lexer": "ipython2",
   "version": "2.7.12"
  }
 },
 "nbformat": 4,
 "nbformat_minor": 0
}
