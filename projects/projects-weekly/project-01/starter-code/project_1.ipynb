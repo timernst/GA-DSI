{
 "cells": [
  {
   "cell_type": "markdown",
   "metadata": {
    "nbpresent": {
     "id": "932a85e6-bafe-4bb0-b198-84a4d32aae6e"
    }
   },
   "source": [
    "# Project 1\n",
    "\n",
    "## Step 1: Open the `sat_scores.csv` file. Investigate the data, and answer the questions below.\n"
   ]
  },
  {
   "cell_type": "markdown",
   "metadata": {
    "nbpresent": {
     "id": "a8113e68-158a-417f-bcfa-ddff47c8ea23"
    }
   },
   "source": [
    "##### 1. What does the data describe?"
   ]
  },
  {
   "cell_type": "markdown",
   "metadata": {
    "nbpresent": {
     "id": "b67018e5-b039-4f1d-b735-509322f1d0c1"
    }
   },
   "source": [
    "The data describles the average SAT Scores for the math and verbal portion by state. It also includes the particaption rate by state. "
   ]
  },
  {
   "cell_type": "markdown",
   "metadata": {
    "nbpresent": {
     "id": "849971fb-30cf-490f-81de-e44dcf6790b9"
    }
   },
   "source": [
    "##### 2. Does the data look complete? Are there any obvious issues with the observations?"
   ]
  },
  {
   "cell_type": "markdown",
   "metadata": {
    "nbpresent": {
     "id": "bf3d43c0-c518-41fa-bb31-596988210129"
    }
   },
   "source": [
    "The data looks complete, with the possible expection of the writing scores which were added as a core evaluation to the SAT in 2005. The SAT is now three sections with a max score of 2400. \n",
    "\n",
    "All states are represented including DC. For purposes of this exercies we won't excluded DC as a non-state. \n",
    "\n",
    "The only obvious issue with the data is final row call 'All' which should be excluded in most circumstances. "
   ]
  },
  {
   "cell_type": "markdown",
   "metadata": {
    "nbpresent": {
     "id": "c3b52d77-93ce-407f-8209-dcf3183287ea"
    }
   },
   "source": [
    "##### 3. Create a data dictionary for the dataset."
   ]
  },
  {
   "cell_type": "markdown",
   "metadata": {
    "collapsed": true,
    "nbpresent": {
     "id": "92f513f3-66e1-48ab-beb0-544d9617d5e8"
    }
   },
   "source": [
    "<b>State</b>: <i>Column 1</i>\n",
    "  <li>Optional: N</li>\n",
    "  <li>Descripton: Two letter state abbreviation for each of the states within the US, including DC.</li>\n",
    "\n",
    "<b>Rate</b>: <i>Column 2</i>\n",
    "  <li>Optional: N</li>\n",
    "  <li>Descripton: The rate of participation in the SAT for the corresponding state. This is a one or two digit intiger from 0 to 100. </li>\n",
    "\n",
    "<b>Verbal</b>: <i>Column 3</i>\n",
    "  <li>Optional: N</li>\n",
    "  <li>Descripton: This represents the state average on the Verbal portion of the SAT test. The score is represented as an intiger from 0 to 800. </li>\n",
    "  \n",
    "<b>Math</b>: <i>Column 4</i>\n",
    "  <li>Optional: N</li>\n",
    "  <li>Descripton: This represents the state average on the Mathematics portion of the SAT test. The score is represented as an intiger from 0 to 800. </li>"
   ]
  },
  {
   "cell_type": "markdown",
   "metadata": {
    "nbpresent": {
     "id": "c102120b-81c7-41ec-ae80-025f0acd9017"
    }
   },
   "source": [
    "## Step 2: Load the data."
   ]
  },
  {
   "cell_type": "markdown",
   "metadata": {
    "nbpresent": {
     "id": "cd379c69-613c-4110-8076-3660004b1422"
    }
   },
   "source": [
    "##### 4. Load the data into a list of lists"
   ]
  },
  {
   "cell_type": "code",
   "execution_count": 4,
   "metadata": {
    "collapsed": true,
    "nbpresent": {
     "id": "0d6e507b-eb94-42e0-9cc0-bd50517fc826"
    }
   },
   "outputs": [],
   "source": [
    "#importing everything I might need.\n",
    "import pandas as pd\n",
    "\n",
    "import numpy as np\n",
    "import matplotlib.pyplot as plt\n",
    "import seaborn as sns\n",
    "import plotly\n",
    "import plotly.plotly as py\n",
    "import plotly.graph_objs as go"
   ]
  },
  {
   "cell_type": "code",
   "execution_count": 5,
   "metadata": {
    "collapsed": false,
    "nbpresent": {
     "id": "08f06c0f-a36b-438a-9a01-31af0e39e18e"
    }
   },
   "outputs": [
    {
     "name": "stdout",
     "output_type": "stream",
     "text": [
      "[['CT', 82, 509, 510], ['NJ', 81, 499, 513], ['MA', 79, 511, 515], ['NY', 77, 495, 505], ['NH', 72, 520, 516], ['RI', 71, 501, 499], ['PA', 71, 500, 499], ['VT', 69, 511, 506], ['ME', 69, 506, 500], ['VA', 68, 510, 501], ['DE', 67, 501, 499], ['MD', 65, 508, 510], ['NC', 65, 493, 499], ['GA', 63, 491, 489], ['IN', 60, 499, 501], ['SC', 57, 486, 488], ['DC', 56, 482, 474], ['OR', 55, 526, 526], ['FL', 54, 498, 499], ['WA', 53, 527, 527], ['TX', 53, 493, 499], ['HI', 52, 485, 515], ['AK', 51, 514, 510], ['CA', 51, 498, 517], ['AZ', 34, 523, 525], ['NV', 33, 509, 515], ['CO', 31, 539, 542], ['OH', 26, 534, 439], ['MT', 23, 539, 539], ['WV', 18, 527, 512], ['ID', 17, 543, 542], ['TN', 13, 562, 553], ['NM', 13, 551, 542], ['IL', 12, 576, 589], ['KY', 12, 550, 550], ['WY', 11, 547, 545], ['MI', 11, 561, 572], ['MN', 9, 580, 589], ['KS', 9, 577, 580], ['AL', 9, 559, 554], ['NE', 8, 562, 568], ['OK', 8, 567, 561], ['MO', 8, 577, 577], ['LA', 7, 564, 562], ['WI', 6, 584, 596], ['AR', 6, 562, 550], ['UT', 5, 575, 570], ['IA', 5, 593, 603], ['SD', 4, 577, 582], ['ND', 4, 592, 599], ['MS', 4, 566, 551], ['All', 45, 506, 514]]\n"
     ]
    }
   ],
   "source": [
    "#Here we actually load the file as a Pandas dataframe and then convert it to a list of list.\n",
    "sat_scores = pd.read_csv('/Users/timothyernst/GA-DSI/projects/projects-weekly/project-01/assets/sat_scores.csv')\n",
    "list_o_scores = sat_scores.values.tolist()\n",
    "print list_o_scores"
   ]
  },
  {
   "cell_type": "markdown",
   "metadata": {
    "nbpresent": {
     "id": "cbe9b4f2-98fa-433f-8e0b-b826a8290dbf"
    }
   },
   "source": [
    "##### 5. Print the data"
   ]
  },
  {
   "cell_type": "code",
   "execution_count": 26,
   "metadata": {
    "collapsed": false,
    "nbpresent": {
     "id": "025c5945-6e6e-4ae2-85c3-211020103e37"
    }
   },
   "outputs": [
    {
     "name": "stdout",
     "output_type": "stream",
     "text": [
      "   State  Rate  Verbal  Math\n",
      "0     CT    82     509   510\n",
      "1     NJ    81     499   513\n",
      "2     MA    79     511   515\n",
      "3     NY    77     495   505\n",
      "4     NH    72     520   516\n",
      "5     RI    71     501   499\n",
      "6     PA    71     500   499\n",
      "7     VT    69     511   506\n",
      "8     ME    69     506   500\n",
      "9     VA    68     510   501\n",
      "10    DE    67     501   499\n",
      "11    MD    65     508   510\n",
      "12    NC    65     493   499\n",
      "13    GA    63     491   489\n",
      "14    IN    60     499   501\n",
      "15    SC    57     486   488\n",
      "16    DC    56     482   474\n",
      "17    OR    55     526   526\n",
      "18    FL    54     498   499\n",
      "19    WA    53     527   527\n",
      "20    TX    53     493   499\n",
      "21    HI    52     485   515\n",
      "22    AK    51     514   510\n",
      "23    CA    51     498   517\n",
      "24    AZ    34     523   525\n",
      "25    NV    33     509   515\n",
      "26    CO    31     539   542\n",
      "27    OH    26     534   439\n",
      "28    MT    23     539   539\n",
      "29    WV    18     527   512\n",
      "30    ID    17     543   542\n",
      "31    TN    13     562   553\n",
      "32    NM    13     551   542\n",
      "33    IL    12     576   589\n",
      "34    KY    12     550   550\n",
      "35    WY    11     547   545\n",
      "36    MI    11     561   572\n",
      "37    MN     9     580   589\n",
      "38    KS     9     577   580\n",
      "39    AL     9     559   554\n",
      "40    NE     8     562   568\n",
      "41    OK     8     567   561\n",
      "42    MO     8     577   577\n",
      "43    LA     7     564   562\n",
      "44    WI     6     584   596\n",
      "45    AR     6     562   550\n",
      "46    UT     5     575   570\n",
      "47    IA     5     593   603\n",
      "48    SD     4     577   582\n",
      "49    ND     4     592   599\n",
      "50    MS     4     566   551\n",
      "51   All    45     506   514\n"
     ]
    },
    {
     "data": {
      "text/plain": [
       "pandas.core.frame.DataFrame"
      ]
     },
     "execution_count": 26,
     "metadata": {},
     "output_type": "execute_result"
    }
   ],
   "source": [
    "print sat_scores"
   ]
  },
  {
   "cell_type": "markdown",
   "metadata": {
    "collapsed": true,
    "nbpresent": {
     "id": "9b45773b-d0b5-4fb1-9fad-1286620db3a6"
    }
   },
   "source": [
    "##### 6. Extract a list of the labels from the data, and remove them from the data."
   ]
  },
  {
   "cell_type": "code",
   "execution_count": 6,
   "metadata": {
    "collapsed": false,
    "nbpresent": {
     "id": "333b152d-94ed-4b0d-adff-7518bd39424d"
    }
   },
   "outputs": [
    {
     "data": {
      "text/plain": [
       "Index([u'State', u'Rate', u'Verbal', u'Math'], dtype='object')"
      ]
     },
     "execution_count": 6,
     "metadata": {},
     "output_type": "execute_result"
    }
   ],
   "source": [
    "sat_scores.columns"
   ]
  },
  {
   "cell_type": "code",
   "execution_count": 32,
   "metadata": {
    "collapsed": false,
    "nbpresent": {
     "id": "7e8f5ee4-5c8a-4667-9328-ede7b6c45bd1"
    }
   },
   "outputs": [
    {
     "data": {
      "text/html": [
       "<div>\n",
       "<table border=\"1\" class=\"dataframe\">\n",
       "  <thead>\n",
       "    <tr style=\"text-align: right;\">\n",
       "      <th></th>\n",
       "      <th>0</th>\n",
       "      <th>1</th>\n",
       "      <th>2</th>\n",
       "      <th>3</th>\n",
       "    </tr>\n",
       "  </thead>\n",
       "  <tbody>\n",
       "    <tr>\n",
       "      <th>0</th>\n",
       "      <td>CT</td>\n",
       "      <td>82</td>\n",
       "      <td>509</td>\n",
       "      <td>510</td>\n",
       "    </tr>\n",
       "    <tr>\n",
       "      <th>1</th>\n",
       "      <td>NJ</td>\n",
       "      <td>81</td>\n",
       "      <td>499</td>\n",
       "      <td>513</td>\n",
       "    </tr>\n",
       "    <tr>\n",
       "      <th>2</th>\n",
       "      <td>MA</td>\n",
       "      <td>79</td>\n",
       "      <td>511</td>\n",
       "      <td>515</td>\n",
       "    </tr>\n",
       "    <tr>\n",
       "      <th>3</th>\n",
       "      <td>NY</td>\n",
       "      <td>77</td>\n",
       "      <td>495</td>\n",
       "      <td>505</td>\n",
       "    </tr>\n",
       "    <tr>\n",
       "      <th>4</th>\n",
       "      <td>NH</td>\n",
       "      <td>72</td>\n",
       "      <td>520</td>\n",
       "      <td>516</td>\n",
       "    </tr>\n",
       "    <tr>\n",
       "      <th>5</th>\n",
       "      <td>RI</td>\n",
       "      <td>71</td>\n",
       "      <td>501</td>\n",
       "      <td>499</td>\n",
       "    </tr>\n",
       "    <tr>\n",
       "      <th>6</th>\n",
       "      <td>PA</td>\n",
       "      <td>71</td>\n",
       "      <td>500</td>\n",
       "      <td>499</td>\n",
       "    </tr>\n",
       "    <tr>\n",
       "      <th>7</th>\n",
       "      <td>VT</td>\n",
       "      <td>69</td>\n",
       "      <td>511</td>\n",
       "      <td>506</td>\n",
       "    </tr>\n",
       "    <tr>\n",
       "      <th>8</th>\n",
       "      <td>ME</td>\n",
       "      <td>69</td>\n",
       "      <td>506</td>\n",
       "      <td>500</td>\n",
       "    </tr>\n",
       "    <tr>\n",
       "      <th>9</th>\n",
       "      <td>VA</td>\n",
       "      <td>68</td>\n",
       "      <td>510</td>\n",
       "      <td>501</td>\n",
       "    </tr>\n",
       "    <tr>\n",
       "      <th>10</th>\n",
       "      <td>DE</td>\n",
       "      <td>67</td>\n",
       "      <td>501</td>\n",
       "      <td>499</td>\n",
       "    </tr>\n",
       "    <tr>\n",
       "      <th>11</th>\n",
       "      <td>MD</td>\n",
       "      <td>65</td>\n",
       "      <td>508</td>\n",
       "      <td>510</td>\n",
       "    </tr>\n",
       "    <tr>\n",
       "      <th>12</th>\n",
       "      <td>NC</td>\n",
       "      <td>65</td>\n",
       "      <td>493</td>\n",
       "      <td>499</td>\n",
       "    </tr>\n",
       "    <tr>\n",
       "      <th>13</th>\n",
       "      <td>GA</td>\n",
       "      <td>63</td>\n",
       "      <td>491</td>\n",
       "      <td>489</td>\n",
       "    </tr>\n",
       "    <tr>\n",
       "      <th>14</th>\n",
       "      <td>IN</td>\n",
       "      <td>60</td>\n",
       "      <td>499</td>\n",
       "      <td>501</td>\n",
       "    </tr>\n",
       "    <tr>\n",
       "      <th>15</th>\n",
       "      <td>SC</td>\n",
       "      <td>57</td>\n",
       "      <td>486</td>\n",
       "      <td>488</td>\n",
       "    </tr>\n",
       "    <tr>\n",
       "      <th>16</th>\n",
       "      <td>DC</td>\n",
       "      <td>56</td>\n",
       "      <td>482</td>\n",
       "      <td>474</td>\n",
       "    </tr>\n",
       "    <tr>\n",
       "      <th>17</th>\n",
       "      <td>OR</td>\n",
       "      <td>55</td>\n",
       "      <td>526</td>\n",
       "      <td>526</td>\n",
       "    </tr>\n",
       "    <tr>\n",
       "      <th>18</th>\n",
       "      <td>FL</td>\n",
       "      <td>54</td>\n",
       "      <td>498</td>\n",
       "      <td>499</td>\n",
       "    </tr>\n",
       "    <tr>\n",
       "      <th>19</th>\n",
       "      <td>WA</td>\n",
       "      <td>53</td>\n",
       "      <td>527</td>\n",
       "      <td>527</td>\n",
       "    </tr>\n",
       "    <tr>\n",
       "      <th>20</th>\n",
       "      <td>TX</td>\n",
       "      <td>53</td>\n",
       "      <td>493</td>\n",
       "      <td>499</td>\n",
       "    </tr>\n",
       "    <tr>\n",
       "      <th>21</th>\n",
       "      <td>HI</td>\n",
       "      <td>52</td>\n",
       "      <td>485</td>\n",
       "      <td>515</td>\n",
       "    </tr>\n",
       "    <tr>\n",
       "      <th>22</th>\n",
       "      <td>AK</td>\n",
       "      <td>51</td>\n",
       "      <td>514</td>\n",
       "      <td>510</td>\n",
       "    </tr>\n",
       "    <tr>\n",
       "      <th>23</th>\n",
       "      <td>CA</td>\n",
       "      <td>51</td>\n",
       "      <td>498</td>\n",
       "      <td>517</td>\n",
       "    </tr>\n",
       "    <tr>\n",
       "      <th>24</th>\n",
       "      <td>AZ</td>\n",
       "      <td>34</td>\n",
       "      <td>523</td>\n",
       "      <td>525</td>\n",
       "    </tr>\n",
       "    <tr>\n",
       "      <th>25</th>\n",
       "      <td>NV</td>\n",
       "      <td>33</td>\n",
       "      <td>509</td>\n",
       "      <td>515</td>\n",
       "    </tr>\n",
       "    <tr>\n",
       "      <th>26</th>\n",
       "      <td>CO</td>\n",
       "      <td>31</td>\n",
       "      <td>539</td>\n",
       "      <td>542</td>\n",
       "    </tr>\n",
       "    <tr>\n",
       "      <th>27</th>\n",
       "      <td>OH</td>\n",
       "      <td>26</td>\n",
       "      <td>534</td>\n",
       "      <td>439</td>\n",
       "    </tr>\n",
       "    <tr>\n",
       "      <th>28</th>\n",
       "      <td>MT</td>\n",
       "      <td>23</td>\n",
       "      <td>539</td>\n",
       "      <td>539</td>\n",
       "    </tr>\n",
       "    <tr>\n",
       "      <th>29</th>\n",
       "      <td>WV</td>\n",
       "      <td>18</td>\n",
       "      <td>527</td>\n",
       "      <td>512</td>\n",
       "    </tr>\n",
       "    <tr>\n",
       "      <th>30</th>\n",
       "      <td>ID</td>\n",
       "      <td>17</td>\n",
       "      <td>543</td>\n",
       "      <td>542</td>\n",
       "    </tr>\n",
       "    <tr>\n",
       "      <th>31</th>\n",
       "      <td>TN</td>\n",
       "      <td>13</td>\n",
       "      <td>562</td>\n",
       "      <td>553</td>\n",
       "    </tr>\n",
       "    <tr>\n",
       "      <th>32</th>\n",
       "      <td>NM</td>\n",
       "      <td>13</td>\n",
       "      <td>551</td>\n",
       "      <td>542</td>\n",
       "    </tr>\n",
       "    <tr>\n",
       "      <th>33</th>\n",
       "      <td>IL</td>\n",
       "      <td>12</td>\n",
       "      <td>576</td>\n",
       "      <td>589</td>\n",
       "    </tr>\n",
       "    <tr>\n",
       "      <th>34</th>\n",
       "      <td>KY</td>\n",
       "      <td>12</td>\n",
       "      <td>550</td>\n",
       "      <td>550</td>\n",
       "    </tr>\n",
       "    <tr>\n",
       "      <th>35</th>\n",
       "      <td>WY</td>\n",
       "      <td>11</td>\n",
       "      <td>547</td>\n",
       "      <td>545</td>\n",
       "    </tr>\n",
       "    <tr>\n",
       "      <th>36</th>\n",
       "      <td>MI</td>\n",
       "      <td>11</td>\n",
       "      <td>561</td>\n",
       "      <td>572</td>\n",
       "    </tr>\n",
       "    <tr>\n",
       "      <th>37</th>\n",
       "      <td>MN</td>\n",
       "      <td>9</td>\n",
       "      <td>580</td>\n",
       "      <td>589</td>\n",
       "    </tr>\n",
       "    <tr>\n",
       "      <th>38</th>\n",
       "      <td>KS</td>\n",
       "      <td>9</td>\n",
       "      <td>577</td>\n",
       "      <td>580</td>\n",
       "    </tr>\n",
       "    <tr>\n",
       "      <th>39</th>\n",
       "      <td>AL</td>\n",
       "      <td>9</td>\n",
       "      <td>559</td>\n",
       "      <td>554</td>\n",
       "    </tr>\n",
       "    <tr>\n",
       "      <th>40</th>\n",
       "      <td>NE</td>\n",
       "      <td>8</td>\n",
       "      <td>562</td>\n",
       "      <td>568</td>\n",
       "    </tr>\n",
       "    <tr>\n",
       "      <th>41</th>\n",
       "      <td>OK</td>\n",
       "      <td>8</td>\n",
       "      <td>567</td>\n",
       "      <td>561</td>\n",
       "    </tr>\n",
       "    <tr>\n",
       "      <th>42</th>\n",
       "      <td>MO</td>\n",
       "      <td>8</td>\n",
       "      <td>577</td>\n",
       "      <td>577</td>\n",
       "    </tr>\n",
       "    <tr>\n",
       "      <th>43</th>\n",
       "      <td>LA</td>\n",
       "      <td>7</td>\n",
       "      <td>564</td>\n",
       "      <td>562</td>\n",
       "    </tr>\n",
       "    <tr>\n",
       "      <th>44</th>\n",
       "      <td>WI</td>\n",
       "      <td>6</td>\n",
       "      <td>584</td>\n",
       "      <td>596</td>\n",
       "    </tr>\n",
       "    <tr>\n",
       "      <th>45</th>\n",
       "      <td>AR</td>\n",
       "      <td>6</td>\n",
       "      <td>562</td>\n",
       "      <td>550</td>\n",
       "    </tr>\n",
       "    <tr>\n",
       "      <th>46</th>\n",
       "      <td>UT</td>\n",
       "      <td>5</td>\n",
       "      <td>575</td>\n",
       "      <td>570</td>\n",
       "    </tr>\n",
       "    <tr>\n",
       "      <th>47</th>\n",
       "      <td>IA</td>\n",
       "      <td>5</td>\n",
       "      <td>593</td>\n",
       "      <td>603</td>\n",
       "    </tr>\n",
       "    <tr>\n",
       "      <th>48</th>\n",
       "      <td>SD</td>\n",
       "      <td>4</td>\n",
       "      <td>577</td>\n",
       "      <td>582</td>\n",
       "    </tr>\n",
       "    <tr>\n",
       "      <th>49</th>\n",
       "      <td>ND</td>\n",
       "      <td>4</td>\n",
       "      <td>592</td>\n",
       "      <td>599</td>\n",
       "    </tr>\n",
       "    <tr>\n",
       "      <th>50</th>\n",
       "      <td>MS</td>\n",
       "      <td>4</td>\n",
       "      <td>566</td>\n",
       "      <td>551</td>\n",
       "    </tr>\n",
       "    <tr>\n",
       "      <th>51</th>\n",
       "      <td>All</td>\n",
       "      <td>45</td>\n",
       "      <td>506</td>\n",
       "      <td>514</td>\n",
       "    </tr>\n",
       "  </tbody>\n",
       "</table>\n",
       "</div>"
      ],
      "text/plain": [
       "      0   1    2    3\n",
       "0    CT  82  509  510\n",
       "1    NJ  81  499  513\n",
       "2    MA  79  511  515\n",
       "3    NY  77  495  505\n",
       "4    NH  72  520  516\n",
       "5    RI  71  501  499\n",
       "6    PA  71  500  499\n",
       "7    VT  69  511  506\n",
       "8    ME  69  506  500\n",
       "9    VA  68  510  501\n",
       "10   DE  67  501  499\n",
       "11   MD  65  508  510\n",
       "12   NC  65  493  499\n",
       "13   GA  63  491  489\n",
       "14   IN  60  499  501\n",
       "15   SC  57  486  488\n",
       "16   DC  56  482  474\n",
       "17   OR  55  526  526\n",
       "18   FL  54  498  499\n",
       "19   WA  53  527  527\n",
       "20   TX  53  493  499\n",
       "21   HI  52  485  515\n",
       "22   AK  51  514  510\n",
       "23   CA  51  498  517\n",
       "24   AZ  34  523  525\n",
       "25   NV  33  509  515\n",
       "26   CO  31  539  542\n",
       "27   OH  26  534  439\n",
       "28   MT  23  539  539\n",
       "29   WV  18  527  512\n",
       "30   ID  17  543  542\n",
       "31   TN  13  562  553\n",
       "32   NM  13  551  542\n",
       "33   IL  12  576  589\n",
       "34   KY  12  550  550\n",
       "35   WY  11  547  545\n",
       "36   MI  11  561  572\n",
       "37   MN   9  580  589\n",
       "38   KS   9  577  580\n",
       "39   AL   9  559  554\n",
       "40   NE   8  562  568\n",
       "41   OK   8  567  561\n",
       "42   MO   8  577  577\n",
       "43   LA   7  564  562\n",
       "44   WI   6  584  596\n",
       "45   AR   6  562  550\n",
       "46   UT   5  575  570\n",
       "47   IA   5  593  603\n",
       "48   SD   4  577  582\n",
       "49   ND   4  592  599\n",
       "50   MS   4  566  551\n",
       "51  All  45  506  514"
      ]
     },
     "execution_count": 32,
     "metadata": {},
     "output_type": "execute_result"
    }
   ],
   "source": [
    "#Generated a new dataframe that skips the first row, we also declare header=None \\\n",
    "#so that it doesn't then take the second row as header. \n",
    "sat_scores2 = pd.read_csv('/Users/timothyernst/GA-DSI/projects/projects-weekly/project-01/assets/sat_scores.csv', header=None, skiprows=1)\n",
    "sat_scores2\n"
   ]
  },
  {
   "cell_type": "markdown",
   "metadata": {
    "nbpresent": {
     "id": "12bc51d5-580b-4810-bf56-5fd9339328fd"
    }
   },
   "source": [
    "##### 7. Create a list of State names extracted from the data. (Hint: use the list of labels to index on the State column)"
   ]
  },
  {
   "cell_type": "code",
   "execution_count": 7,
   "metadata": {
    "collapsed": false,
    "nbpresent": {
     "id": "e1ba66df-2821-46b0-a1b9-be53817f1b7f"
    }
   },
   "outputs": [
    {
     "data": {
      "text/plain": [
       "['CT',\n",
       " 'NJ',\n",
       " 'MA',\n",
       " 'NY',\n",
       " 'NH',\n",
       " 'RI',\n",
       " 'PA',\n",
       " 'VT',\n",
       " 'ME',\n",
       " 'VA',\n",
       " 'DE',\n",
       " 'MD',\n",
       " 'NC',\n",
       " 'GA',\n",
       " 'IN',\n",
       " 'SC',\n",
       " 'DC',\n",
       " 'OR',\n",
       " 'FL',\n",
       " 'WA',\n",
       " 'TX',\n",
       " 'HI',\n",
       " 'AK',\n",
       " 'CA',\n",
       " 'AZ',\n",
       " 'NV',\n",
       " 'CO',\n",
       " 'OH',\n",
       " 'MT',\n",
       " 'WV',\n",
       " 'ID',\n",
       " 'TN',\n",
       " 'NM',\n",
       " 'IL',\n",
       " 'KY',\n",
       " 'WY',\n",
       " 'MI',\n",
       " 'MN',\n",
       " 'KS',\n",
       " 'AL',\n",
       " 'NE',\n",
       " 'OK',\n",
       " 'MO',\n",
       " 'LA',\n",
       " 'WI',\n",
       " 'AR',\n",
       " 'UT',\n",
       " 'IA',\n",
       " 'SD',\n",
       " 'ND',\n",
       " 'MS']"
      ]
     },
     "execution_count": 7,
     "metadata": {},
     "output_type": "execute_result"
    }
   ],
   "source": [
    "#This code is not intuitive but it certainly gets the job done. We select the column from the original dataframe.\n",
    "#We then use the index fuction to remove the last row since it's an aggregate and not a state.\n",
    "#We then convert it into a list with the 'tolist' function. \n",
    "sat_scores['State'][sat_scores.index[0:51]].tolist()"
   ]
  },
  {
   "cell_type": "markdown",
   "metadata": {
    "nbpresent": {
     "id": "f416fa75-e463-4673-b4f2-b663572e0a97"
    }
   },
   "source": [
    "##### 8. Print the types of each column"
   ]
  },
  {
   "cell_type": "code",
   "execution_count": 39,
   "metadata": {
    "collapsed": false,
    "nbpresent": {
     "id": "dd531d56-9e90-4316-98c6-0d32d89e0c73"
    }
   },
   "outputs": [
    {
     "name": "stdout",
     "output_type": "stream",
     "text": [
      "<class 'pandas.core.frame.DataFrame'>\n",
      "RangeIndex: 52 entries, 0 to 51\n",
      "Data columns (total 4 columns):\n",
      "State     52 non-null object\n",
      "Rate      52 non-null int64\n",
      "Verbal    52 non-null int64\n",
      "Math      52 non-null int64\n",
      "dtypes: int64(3), object(1)\n",
      "memory usage: 1.7+ KB\n",
      "None\n"
     ]
    }
   ],
   "source": [
    "#Could have also used .dtype\n",
    "print sat_scores.info()\n"
   ]
  },
  {
   "cell_type": "markdown",
   "metadata": {
    "nbpresent": {
     "id": "f607becd-888c-47a6-9d07-de9e7410c7d2"
    }
   },
   "source": [
    "##### 9. Do any types need to be reassigned? If so, go ahead and do it."
   ]
  },
  {
   "cell_type": "code",
   "execution_count": null,
   "metadata": {
    "collapsed": false,
    "nbpresent": {
     "id": "b048715b-89ce-4a0d-be9e-1716a5b446e7"
    }
   },
   "outputs": [],
   "source": [
    "\"\"\"Fine for our purpose since these are dataframes in Pandas. The only object is the 'State' column, which seems \n",
    "appripriate. The other columns are already listed as intigers and therefore don't need to be reassigned. \n",
    "If they weren't in Pandas and we needed to convert them we would have to leverage the .int() function. \"\"\""
   ]
  },
  {
   "cell_type": "markdown",
   "metadata": {
    "nbpresent": {
     "id": "b0ae8c5e-1d63-436b-91f6-e0459718b081"
    }
   },
   "source": [
    "##### 10. Create a dictionary for each column mapping the State to its respective value for that column. "
   ]
  },
  {
   "cell_type": "code",
   "execution_count": 40,
   "metadata": {
    "collapsed": false,
    "nbpresent": {
     "id": "d2cb133d-1364-4d57-85e6-905429b6273f"
    }
   },
   "outputs": [
    {
     "data": {
      "text/plain": [
       "[['CT', 82, 509, 510],\n",
       " ['NJ', 81, 499, 513],\n",
       " ['MA', 79, 511, 515],\n",
       " ['NY', 77, 495, 505],\n",
       " ['NH', 72, 520, 516],\n",
       " ['RI', 71, 501, 499],\n",
       " ['PA', 71, 500, 499],\n",
       " ['VT', 69, 511, 506],\n",
       " ['ME', 69, 506, 500],\n",
       " ['VA', 68, 510, 501],\n",
       " ['DE', 67, 501, 499],\n",
       " ['MD', 65, 508, 510],\n",
       " ['NC', 65, 493, 499],\n",
       " ['GA', 63, 491, 489],\n",
       " ['IN', 60, 499, 501],\n",
       " ['SC', 57, 486, 488],\n",
       " ['DC', 56, 482, 474],\n",
       " ['OR', 55, 526, 526],\n",
       " ['FL', 54, 498, 499],\n",
       " ['WA', 53, 527, 527],\n",
       " ['TX', 53, 493, 499],\n",
       " ['HI', 52, 485, 515],\n",
       " ['AK', 51, 514, 510],\n",
       " ['CA', 51, 498, 517],\n",
       " ['AZ', 34, 523, 525],\n",
       " ['NV', 33, 509, 515],\n",
       " ['CO', 31, 539, 542],\n",
       " ['OH', 26, 534, 439],\n",
       " ['MT', 23, 539, 539],\n",
       " ['WV', 18, 527, 512],\n",
       " ['ID', 17, 543, 542],\n",
       " ['TN', 13, 562, 553],\n",
       " ['NM', 13, 551, 542],\n",
       " ['IL', 12, 576, 589],\n",
       " ['KY', 12, 550, 550],\n",
       " ['WY', 11, 547, 545],\n",
       " ['MI', 11, 561, 572],\n",
       " ['MN', 9, 580, 589],\n",
       " ['KS', 9, 577, 580],\n",
       " ['AL', 9, 559, 554],\n",
       " ['NE', 8, 562, 568],\n",
       " ['OK', 8, 567, 561],\n",
       " ['MO', 8, 577, 577],\n",
       " ['LA', 7, 564, 562],\n",
       " ['WI', 6, 584, 596],\n",
       " ['AR', 6, 562, 550],\n",
       " ['UT', 5, 575, 570],\n",
       " ['IA', 5, 593, 603],\n",
       " ['SD', 4, 577, 582],\n",
       " ['ND', 4, 592, 599],\n",
       " ['MS', 4, 566, 551]]"
      ]
     },
     "execution_count": 40,
     "metadata": {},
     "output_type": "execute_result"
    }
   ],
   "source": [
    "#First we need to remove that 'All' row from the previously defined list_o_scores. Continued in next cell.\n",
    "list_of_list = list_o_scores[0:51]\n",
    "list_of_list"
   ]
  },
  {
   "cell_type": "code",
   "execution_count": 10,
   "metadata": {
    "collapsed": false,
    "nbpresent": {
     "id": "cb3a2202-e5d1-4081-a576-b2a31ba0fc44"
    }
   },
   "outputs": [
    {
     "name": "stdout",
     "output_type": "stream",
     "text": [
      "{'WA': [53, 527, 527], 'DE': [67, 501, 499], 'DC': [56, 482, 474], 'WI': [6, 584, 596], 'WV': [18, 527, 512], 'HI': [52, 485, 515], 'FL': [54, 498, 499], 'WY': [11, 547, 545], 'NH': [72, 520, 516], 'NJ': [81, 499, 513], 'NM': [13, 551, 542], 'TX': [53, 493, 499], 'LA': [7, 564, 562], 'NC': [65, 493, 499], 'ND': [4, 592, 599], 'NE': [8, 562, 568], 'TN': [13, 562, 553], 'NY': [77, 495, 505], 'PA': [71, 500, 499], 'RI': [71, 501, 499], 'NV': [33, 509, 515], 'VA': [68, 510, 501], 'CO': [31, 539, 542], 'AK': [51, 514, 510], 'AL': [9, 559, 554], 'AR': [6, 562, 550], 'VT': [69, 511, 506], 'IL': [12, 576, 589], 'GA': [63, 491, 489], 'IN': [60, 499, 501], 'IA': [5, 593, 603], 'OK': [8, 567, 561], 'AZ': [34, 523, 525], 'CA': [51, 498, 517], 'ID': [17, 543, 542], 'CT': [82, 509, 510], 'ME': [69, 506, 500], 'MD': [65, 508, 510], 'All': [45, 506, 514], 'MA': [79, 511, 515], 'OH': [26, 534, 439], 'UT': [5, 575, 570], 'MO': [8, 577, 577], 'MN': [9, 580, 589], 'MI': [11, 561, 572], 'KS': [9, 577, 580], 'MT': [23, 539, 539], 'MS': [4, 566, 551], 'SC': [57, 486, 488], 'KY': [12, 550, 550], 'OR': [55, 526, 526], 'SD': [4, 577, 582]}\n"
     ]
    }
   ],
   "source": [
    "state_key_dict = {}\n",
    "for line in list_o_scores:\n",
    "    key, value = line[0], line[1:]\n",
    "    state_key_dict[key] = value\n",
    "\n",
    "print state_key_dict\n"
   ]
  },
  {
   "cell_type": "markdown",
   "metadata": {
    "nbpresent": {
     "id": "260a410e-ae33-4553-bf84-cea9b37db371"
    }
   },
   "source": [
    "##### 11. Create a dictionary with the values for each of the numeric columns"
   ]
  },
  {
   "cell_type": "code",
   "execution_count": 48,
   "metadata": {
    "collapsed": false,
    "nbpresent": {
     "id": "d7eefc4c-324e-4524-9cf1-113949252d2c"
    }
   },
   "outputs": [
    {
     "data": {
      "text/plain": [
       "[['State',\n",
       "  'CT',\n",
       "  'NJ',\n",
       "  'MA',\n",
       "  'NY',\n",
       "  'NH',\n",
       "  'RI',\n",
       "  'PA',\n",
       "  'VT',\n",
       "  'ME',\n",
       "  'VA',\n",
       "  'DE',\n",
       "  'MD',\n",
       "  'NC',\n",
       "  'GA',\n",
       "  'IN',\n",
       "  'SC',\n",
       "  'DC',\n",
       "  'OR',\n",
       "  'FL',\n",
       "  'WA',\n",
       "  'TX',\n",
       "  'HI',\n",
       "  'AK',\n",
       "  'CA',\n",
       "  'AZ',\n",
       "  'NV',\n",
       "  'CO',\n",
       "  'OH',\n",
       "  'MT',\n",
       "  'WV',\n",
       "  'ID',\n",
       "  'TN',\n",
       "  'NM',\n",
       "  'IL',\n",
       "  'KY',\n",
       "  'WY',\n",
       "  'MI',\n",
       "  'MN',\n",
       "  'KS',\n",
       "  'AL',\n",
       "  'NE',\n",
       "  'OK',\n",
       "  'MO',\n",
       "  'LA',\n",
       "  'WI',\n",
       "  'AR',\n",
       "  'UT',\n",
       "  'IA',\n",
       "  'SD',\n",
       "  'ND',\n",
       "  'MS'],\n",
       " ['Rate',\n",
       "  '82',\n",
       "  '81',\n",
       "  '79',\n",
       "  '77',\n",
       "  '72',\n",
       "  '71',\n",
       "  '71',\n",
       "  '69',\n",
       "  '69',\n",
       "  '68',\n",
       "  '67',\n",
       "  '65',\n",
       "  '65',\n",
       "  '63',\n",
       "  '60',\n",
       "  '57',\n",
       "  '56',\n",
       "  '55',\n",
       "  '54',\n",
       "  '53',\n",
       "  '53',\n",
       "  '52',\n",
       "  '51',\n",
       "  '51',\n",
       "  '34',\n",
       "  '33',\n",
       "  '31',\n",
       "  '26',\n",
       "  '23',\n",
       "  '18',\n",
       "  '17',\n",
       "  '13',\n",
       "  '13',\n",
       "  '12',\n",
       "  '12',\n",
       "  '11',\n",
       "  '11',\n",
       "  '9',\n",
       "  '9',\n",
       "  '9',\n",
       "  '8',\n",
       "  '8',\n",
       "  '8',\n",
       "  '7',\n",
       "  '6',\n",
       "  '6',\n",
       "  '5',\n",
       "  '5',\n",
       "  '4',\n",
       "  '4',\n",
       "  '4'],\n",
       " ['Verbal',\n",
       "  '509',\n",
       "  '499',\n",
       "  '511',\n",
       "  '495',\n",
       "  '520',\n",
       "  '501',\n",
       "  '500',\n",
       "  '511',\n",
       "  '506',\n",
       "  '510',\n",
       "  '501',\n",
       "  '508',\n",
       "  '493',\n",
       "  '491',\n",
       "  '499',\n",
       "  '486',\n",
       "  '482',\n",
       "  '526',\n",
       "  '498',\n",
       "  '527',\n",
       "  '493',\n",
       "  '485',\n",
       "  '514',\n",
       "  '498',\n",
       "  '523',\n",
       "  '509',\n",
       "  '539',\n",
       "  '534',\n",
       "  '539',\n",
       "  '527',\n",
       "  '543',\n",
       "  '562',\n",
       "  '551',\n",
       "  '576',\n",
       "  '550',\n",
       "  '547',\n",
       "  '561',\n",
       "  '580',\n",
       "  '577',\n",
       "  '559',\n",
       "  '562',\n",
       "  '567',\n",
       "  '577',\n",
       "  '564',\n",
       "  '584',\n",
       "  '562',\n",
       "  '575',\n",
       "  '593',\n",
       "  '577',\n",
       "  '592',\n",
       "  '566'],\n",
       " ['Math',\n",
       "  '510',\n",
       "  '513',\n",
       "  '515',\n",
       "  '505',\n",
       "  '516',\n",
       "  '499',\n",
       "  '499',\n",
       "  '506',\n",
       "  '500',\n",
       "  '501',\n",
       "  '499',\n",
       "  '510',\n",
       "  '499',\n",
       "  '489',\n",
       "  '501',\n",
       "  '488',\n",
       "  '474',\n",
       "  '526',\n",
       "  '499',\n",
       "  '527',\n",
       "  '499',\n",
       "  '515',\n",
       "  '510',\n",
       "  '517',\n",
       "  '525',\n",
       "  '515',\n",
       "  '542',\n",
       "  '439',\n",
       "  '539',\n",
       "  '512',\n",
       "  '542',\n",
       "  '553',\n",
       "  '542',\n",
       "  '589',\n",
       "  '550',\n",
       "  '545',\n",
       "  '572',\n",
       "  '589',\n",
       "  '580',\n",
       "  '554',\n",
       "  '568',\n",
       "  '561',\n",
       "  '577',\n",
       "  '562',\n",
       "  '596',\n",
       "  '550',\n",
       "  '570',\n",
       "  '603',\n",
       "  '582',\n",
       "  '599',\n",
       "  '551']]"
      ]
     },
     "execution_count": 48,
     "metadata": {},
     "output_type": "execute_result"
    }
   ],
   "source": [
    "#We need a new list of lists that includes the header, but not the final 'All' row. Finally we place it into a \n",
    "#list transposed. \n",
    "new_dataframe = pd.read_csv('/Users/timothyernst/GA-DSI/projects/projects-weekly/project-01/assets/sat_scores.csv', header=None, skiprows=[52])\n",
    "new_list = new_dataframe.T.values.tolist()\n",
    "new_list"
   ]
  },
  {
   "cell_type": "code",
   "execution_count": 153,
   "metadata": {
    "collapsed": false,
    "nbpresent": {
     "id": "4b264ce4-c9f5-473d-acb9-e6a6e070a6ee"
    }
   },
   "outputs": [
    {
     "name": "stdout",
     "output_type": "stream",
     "text": [
      "{'Math': ['510', '513', '515', '505', '516', '499', '499', '506', '500', '501', '499', '510', '499', '489', '501', '488', '474', '526', '499', '527', '499', '515', '510', '517', '525', '515', '542', '439', '539', '512', '542', '553', '542', '589', '550', '545', '572', '589', '580', '554', '568', '561', '577', '562', '596', '550', '570', '603', '582', '599', '551'], 'State': ['CT', 'NJ', 'MA', 'NY', 'NH', 'RI', 'PA', 'VT', 'ME', 'VA', 'DE', 'MD', 'NC', 'GA', 'IN', 'SC', 'DC', 'OR', 'FL', 'WA', 'TX', 'HI', 'AK', 'CA', 'AZ', 'NV', 'CO', 'OH', 'MT', 'WV', 'ID', 'TN', 'NM', 'IL', 'KY', 'WY', 'MI', 'MN', 'KS', 'AL', 'NE', 'OK', 'MO', 'LA', 'WI', 'AR', 'UT', 'IA', 'SD', 'ND', 'MS'], 'Rate': ['82', '81', '79', '77', '72', '71', '71', '69', '69', '68', '67', '65', '65', '63', '60', '57', '56', '55', '54', '53', '53', '52', '51', '51', '34', '33', '31', '26', '23', '18', '17', '13', '13', '12', '12', '11', '11', '9', '9', '9', '8', '8', '8', '7', '6', '6', '5', '5', '4', '4', '4'], 'Verbal': ['509', '499', '511', '495', '520', '501', '500', '511', '506', '510', '501', '508', '493', '491', '499', '486', '482', '526', '498', '527', '493', '485', '514', '498', '523', '509', '539', '534', '539', '527', '543', '562', '551', '576', '550', '547', '561', '580', '577', '559', '562', '567', '577', '564', '584', '562', '575', '593', '577', '592', '566']}\n"
     ]
    }
   ],
   "source": [
    "row_key_dict = {}\n",
    "for line in new_list: \n",
    "    key, value = line[0], line[1:]\n",
    "    row_key_dict[key] = value\n",
    "\n",
    "print row_key_dict"
   ]
  },
  {
   "cell_type": "markdown",
   "metadata": {
    "nbpresent": {
     "id": "77f1770c-6657-48f9-83c4-d8692dbc8a1e"
    }
   },
   "source": [
    "## Step 3: Describe the data"
   ]
  },
  {
   "cell_type": "markdown",
   "metadata": {
    "nbpresent": {
     "id": "ccd3585a-958a-4f26-aa93-c7d7b60356f7"
    }
   },
   "source": [
    "##### 12. Print the min and max of each column"
   ]
  },
  {
   "cell_type": "code",
   "execution_count": 44,
   "metadata": {
    "collapsed": false,
    "nbpresent": {
     "id": "e942e59d-a23e-4167-9171-bbc966aff5f1"
    }
   },
   "outputs": [
    {
     "name": "stdout",
     "output_type": "stream",
     "text": [
      "Minimum participation rate by any state is 4.\n",
      "The minimum average verbal score for any state is 482.\n",
      "The minimum average math score for any state is 439.\n"
     ]
    }
   ],
   "source": [
    "#Pandas makes this type of operation very easy. We remove the final row, since it's 'All' and should not be selected. \n",
    "\n",
    "print \"Minimum participation rate by any state is %s.\" % (sat_scores['Rate'].iloc[0:51].min())\n",
    "print \"The minimum average verbal score for any state is %s.\" % (sat_scores['Verbal'].iloc[0:51].min())\n",
    "print \"The minimum average math score for any state is %s.\" % (sat_scores['Math'].iloc[0:51].min())"
   ]
  },
  {
   "cell_type": "code",
   "execution_count": 45,
   "metadata": {
    "collapsed": false,
    "nbpresent": {
     "id": "34c87a53-2912-4610-a8b9-ee1242e4530a"
    }
   },
   "outputs": [
    {
     "name": "stdout",
     "output_type": "stream",
     "text": [
      "Minimum participation rate by any state is 82.\n",
      "The minimum average verbal score for any state is 593.\n",
      "The minimum average math score for any state is 603.\n"
     ]
    }
   ],
   "source": [
    "print \"Minimum participation rate by any state is %s.\" % sat_scores['Rate'].iloc[0:51].max()\n",
    "print \"The minimum average verbal score for any state is %s.\" % sat_scores['Verbal'].iloc[0:51].max()\n",
    "print \"The minimum average math score for any state is %s.\" % sat_scores['Math'].iloc[0:51].max()"
   ]
  },
  {
   "cell_type": "markdown",
   "metadata": {
    "nbpresent": {
     "id": "62b51fc9-281c-4030-a67f-a6c9267c457f"
    }
   },
   "source": [
    "##### 13. Write a function using only list comprehensions, no loops, to compute Standard Deviation. Print the Standard Deviation of each numeric column."
   ]
  },
  {
   "cell_type": "code",
   "execution_count": 95,
   "metadata": {
    "collapsed": false,
    "nbpresent": {
     "id": "01944e0a-06f5-4500-a344-a702a522dc2a"
    }
   },
   "outputs": [
    {
     "name": "stdout",
     "output_type": "stream",
     "text": [
      "[82, 81, 79, 77, 72, 71, 71, 69, 69, 68, 67, 65, 65, 63, 60, 57, 56, 55, 54, 53, 53, 52, 51, 51, 34, 33, 31, 26, 23, 18, 17, 13, 13, 12, 12, 11, 11, 9, 9, 9, 8, 8, 8, 7, 6, 6, 5, 5, 4, 4, 4]\n",
      "[510, 513, 515, 505, 516, 499, 499, 506, 500, 501, 499, 510, 499, 489, 501, 488, 474, 526, 499, 527, 499, 515, 510, 517, 525, 515, 542, 439, 539, 512, 542, 553, 542, 589, 550, 545, 572, 589, 580, 554, 568, 561, 577, 562, 596, 550, 570, 603, 582, 599, 551]\n",
      "[509, 499, 511, 495, 520, 501, 500, 511, 506, 510, 501, 508, 493, 491, 499, 486, 482, 526, 498, 527, 493, 485, 514, 498, 523, 509, 539, 534, 539, 527, 543, 562, 551, 576, 550, 547, 561, 580, 577, 559, 562, 567, 577, 564, 584, 562, 575, 593, 577, 592, 566]\n"
     ]
    }
   ],
   "source": [
    "#Here we're just generating the lists we may need. Continued in the next cell.\n",
    "rate_list = sat_scores['Rate'][sat_scores.index[0:51]].tolist()\n",
    "math_list = sat_scores['Math'][sat_scores.index[0:51]].tolist()\n",
    "verbal_list = sat_scores['Verbal'][sat_scores.index[0:51]].tolist()\n",
    "print rate_list\n",
    "print math_list\n",
    "print verbal_list"
   ]
  },
  {
   "cell_type": "code",
   "execution_count": 108,
   "metadata": {
    "collapsed": false,
    "nbpresent": {
     "id": "8eb2a79c-a58c-4476-843d-399e745cdb3e"
    }
   },
   "outputs": [
    {
     "name": "stdout",
     "output_type": "stream",
     "text": [
      "[27.27636339397171]\n",
      "[35.930488446443363]\n",
      "[33.030289129827487]\n"
     ]
    }
   ],
   "source": [
    "def calc_std_dev(std_list):\n",
    "    std = [(sum((i-(sum(std_list)/len(std_list)))**2 for i in std_list) / len(std_list))**0.5]\n",
    "    return std\n",
    "\n",
    "print calc_std_dev(rate_list)\n",
    "print calc_std_dev(math_list)\n",
    "print calc_std_dev(verbal_list)"
   ]
  },
  {
   "cell_type": "markdown",
   "metadata": {
    "nbpresent": {
     "id": "114db1a1-4bfd-4ceb-9bd2-7a7c03e0304d"
    }
   },
   "source": [
    "## Step 4: Visualize the data"
   ]
  },
  {
   "cell_type": "markdown",
   "metadata": {
    "collapsed": true,
    "nbpresent": {
     "id": "6f1d29d0-6577-4939-95d3-c95c3c080faf"
    }
   },
   "source": [
    "##### 14. Using MatPlotLib and PyPlot, plot the distribution of the Rate using histograms."
   ]
  },
  {
   "cell_type": "code",
   "execution_count": 129,
   "metadata": {
    "collapsed": false,
    "nbpresent": {
     "id": "07a8b15f-6d71-4d0b-9c34-995091fac54a"
    }
   },
   "outputs": [
    {
     "name": "stdout",
     "output_type": "stream",
     "text": [
      "[82, 81, 79, 77, 72, 71, 71, 69, 69, 68, 67, 65, 65, 63, 60, 57, 56, 55, 54, 53, 53, 52, 51, 51, 34, 33, 31, 26, 23, 18, 17, 13, 13, 12, 12, 11, 11, 9, 9, 9, 8, 8, 8, 7, 6, 6, 5, 5, 4, 4, 4]\n"
     ]
    }
   ],
   "source": [
    "#fig, ax = plt.subplots(figsize=(15,7))\n",
    "\n",
    "rate_string = row_key_dict['Rate']\n",
    "rate = [int(x) for x in rate_string]\n",
    "\n",
    "print rate"
   ]
  },
  {
   "cell_type": "code",
   "execution_count": 197,
   "metadata": {
    "collapsed": false,
    "nbpresent": {
     "id": "b70caf3b-a3ab-4f53-aad6-abe1a2949658"
    }
   },
   "outputs": [
    {
     "data": {
      "image/png": "[encoded data removed]",
      "text/plain": [
       "<matplotlib.figure.Figure at 0x116f1c6d0>"
      ]
     },
     "metadata": {},
     "output_type": "display_data"
    }
   ],
   "source": [
    "#Here we demonstrate how to make a histogram with Matplotlib\n",
    "plt.hist(rate)\n",
    "plt.title(\"State Participation Rate in the SAT\")\n",
    "plt.xlabel(\"Participation Level\")\n",
    "plt.ylabel(\"Frequency\")\n",
    "plt.show()\n"
   ]
  },
  {
   "cell_type": "markdown",
   "metadata": {
    "nbpresent": {
     "id": "f47c5fa2-dbed-44a3-a3fd-367db71d4b7c"
    }
   },
   "source": [
    "##### 15. Plot the Math distribution"
   ]
  },
  {
   "cell_type": "code",
   "execution_count": 158,
   "metadata": {
    "collapsed": false,
    "nbpresent": {
     "id": "6301a69f-bed5-4dde-9f30-2a53adfd3a04"
    }
   },
   "outputs": [
    {
     "name": "stdout",
     "output_type": "stream",
     "text": [
      "[510 513 515 505 516 499 499 506 500 501 499 510 499 489 501 488 474 526\n",
      " 499 527 499 515 510 517 525 515 542 439 539 512 542 553 542 589 550 545\n",
      " 572 589 580 554 568 561 577 562 596 550 570 603 582 599 551]\n"
     ]
    },
    {
     "data": {
      "text/plain": [
       "numpy.ndarray"
      ]
     },
     "execution_count": 158,
     "metadata": {},
     "output_type": "execute_result"
    }
   ],
   "source": [
    "#Disregard this cell\n",
    "\"\"\"math_string = row_key_dict['Math']\n",
    "math_values = [int(x) for x in math_string]\n",
    "math_array = np.asarray(math_values)\n",
    "\n",
    "print math_array\n",
    "type (math_array)\"\"\""
   ]
  },
  {
   "cell_type": "code",
   "execution_count": 190,
   "metadata": {
    "collapsed": false,
    "nbpresent": {
     "id": "c4ae26e0-2e42-46b8-b62b-467360e5fc20"
    }
   },
   "outputs": [
    {
     "data": {
      "text/plain": [
       "<matplotlib.axes._subplots.AxesSubplot at 0x112d9fdd0>"
      ]
     },
     "execution_count": 190,
     "metadata": {},
     "output_type": "execute_result"
    },
    {
     "data": {
      "image/png": "[encoded data removed]",
      "text/plain": [
       "<matplotlib.figure.Figure at 0x115e8e710>"
      ]
     },
     "metadata": {},
     "output_type": "display_data"
    }
   ],
   "source": [
    "# Demo of how we can use leverage advanges of Panda to make plotting easy. \n",
    "%matplotlib inline\n",
    "sat_scores['Math'].hist()"
   ]
  },
  {
   "cell_type": "markdown",
   "metadata": {
    "nbpresent": {
     "id": "558abb22-bb61-44a2-96b8-0c2a574a3edc"
    }
   },
   "source": [
    "##### 16. Plot the Verbal distribution"
   ]
  },
  {
   "cell_type": "code",
   "execution_count": 196,
   "metadata": {
    "collapsed": false,
    "nbpresent": {
     "id": "08dda090-1233-4cd5-ac4a-254833abf8eb"
    }
   },
   "outputs": [
    {
     "data": {
      "text/plain": [
       "<matplotlib.text.Text at 0x116f64d10>"
      ]
     },
     "execution_count": 196,
     "metadata": {},
     "output_type": "execute_result"
    },
    {
     "data": {
      "image/png": "[encoded data removed]",
      "text/plain": [
       "<matplotlib.figure.Figure at 0x116f14790>"
      ]
     },
     "metadata": {},
     "output_type": "display_data"
    }
   ],
   "source": [
    "#Similar to above but we leverage some of the formatting options.\n",
    "%matplotlib inline\n",
    "\n",
    "fig = sat_scores['Verbal'].hist(figsize=(6,4), color='blue')\n",
    "plt.style.use('ggplot')\n",
    "\n",
    "ax = plt.gca()\n",
    "\n",
    "ax.set_ylabel('Frequency', fontsize=14)\n",
    "ax.set_xlabel('SAT Verbal', fontsize=14)\n",
    "ax.set_title('Distribution of SAT Verbal Scores per State', y=1.01)"
   ]
  },
  {
   "cell_type": "markdown",
   "metadata": {
    "nbpresent": {
     "id": "ed4e915e-f0ac-4c23-8439-6d3975eb6a21"
    }
   },
   "source": [
    "##### 17. What is the typical assumption for data distribution?"
   ]
  },
  {
   "cell_type": "code",
   "execution_count": null,
   "metadata": {
    "collapsed": false,
    "nbpresent": {
     "id": "2dc476df-32d9-45de-a2c0-4b62efa90e57"
    }
   },
   "outputs": [],
   "source": [
    "\"\"\"It is typically assumed the data is normally distributed. \"\"\""
   ]
  },
  {
   "cell_type": "markdown",
   "metadata": {
    "nbpresent": {
     "id": "57b257ef-985c-4eb2-be80-e45584a3464f"
    }
   },
   "source": [
    "##### 18. Does that distribution hold true for our data?"
   ]
  },
  {
   "cell_type": "code",
   "execution_count": null,
   "metadata": {
    "collapsed": false,
    "nbpresent": {
     "id": "df281191-2880-46cd-ae04-6c41ab0a3dee"
    }
   },
   "outputs": [],
   "source": [
    "\"\"\"No this data looks closer to bi-modal but is certainly not normally distributed, with the possible expection of the\n",
    "math scores. Even those do not look noramally distributed though.\"\"\""
   ]
  },
  {
   "cell_type": "markdown",
   "metadata": {
    "nbpresent": {
     "id": "6f0541da-d45e-4f64-b323-cd87ca1c1999"
    }
   },
   "source": [
    "##### 19. Plot some scatterplots. **BONUS**: Use a PyPlot `figure` to present multiple plots at once."
   ]
  },
  {
   "cell_type": "code",
   "execution_count": 52,
   "metadata": {
    "collapsed": false,
    "nbpresent": {
     "id": "f45e6aa7-8951-42e4-beb4-5fcdeb6dbe78"
    },
    "scrolled": false
   },
   "outputs": [
    {
     "data": {
      "text/plain": [
       "<seaborn.axisgrid.PairGrid at 0x114a200d0>"
      ]
     },
     "execution_count": 52,
     "metadata": {},
     "output_type": "execute_result"
    },
    {
     "data": {
      "image/png": "[encoded data removed]",
      "text/plain": [
       "<matplotlib.figure.Figure at 0x1149559d0>"
      ]
     },
     "metadata": {},
     "output_type": "display_data"
    }
   ],
   "source": [
    "%matplotlib inline\n",
    "\n",
    "sns.pairplot(sat_scores)"
   ]
  },
  {
   "cell_type": "markdown",
   "metadata": {
    "nbpresent": {
     "id": "ba49433a-b0b2-4f86-8bed-d7648ab04dd2"
    }
   },
   "source": [
    "##### 20. Are there any interesting relationships to note?"
   ]
  },
  {
   "cell_type": "code",
   "execution_count": null,
   "metadata": {
    "collapsed": false,
    "nbpresent": {
     "id": "782c459f-2b3c-4e91-8c9e-44f3c9796b1e"
    }
   },
   "outputs": [],
   "source": [
    "\"\"\"There is a very strong (near perfect) correlation between math scores and verbal scores. This is a behavior that\n",
    "makes sense for us. If you're a good student then you're studying both math and verbal skills, etc. There's also a \n",
    "strong negative correlation between participation rate with both verbal and math. There are probably many reasons for \n",
    "this correlation. It could be that in states with low participation the only students taking the SAT are the ones \n",
    "who are likely to do well.\"\"\""
   ]
  },
  {
   "cell_type": "markdown",
   "metadata": {
    "nbpresent": {
     "id": "e140802e-bc1f-4eec-a499-64be1180eb49"
    }
   },
   "source": [
    "##### 21. Create box plots for each variable. "
   ]
  },
  {
   "cell_type": "code",
   "execution_count": 216,
   "metadata": {
    "collapsed": false,
    "nbpresent": {
     "id": "cf8b8118-5a58-419b-8258-06495baa73c6"
    },
    "scrolled": false
   },
   "outputs": [
    {
     "data": {
      "text/plain": [
       "{'boxes': [<matplotlib.lines.Line2D at 0x1223a2990>],\n",
       " 'caps': [<matplotlib.lines.Line2D at 0x1223b28d0>,\n",
       "  <matplotlib.lines.Line2D at 0x1223b2f10>],\n",
       " 'fliers': [<matplotlib.lines.Line2D at 0x1223bdbd0>],\n",
       " 'means': [],\n",
       " 'medians': [<matplotlib.lines.Line2D at 0x1223bd590>],\n",
       " 'whiskers': [<matplotlib.lines.Line2D at 0x1223a2b90>,\n",
       "  <matplotlib.lines.Line2D at 0x1223b2290>]}"
      ]
     },
     "execution_count": 216,
     "metadata": {},
     "output_type": "execute_result"
    },
    {
     "data": {
      "image/png": "[encoded data removed]",
      "text/plain": [
       "<matplotlib.figure.Figure at 0x12209ef50>"
      ]
     },
     "metadata": {},
     "output_type": "display_data"
    }
   ],
   "source": [
    "\n",
    "plt.figure()\n",
    "plt.boxplot(math_array, 1)"
   ]
  },
  {
   "cell_type": "code",
   "execution_count": 219,
   "metadata": {
    "collapsed": false,
    "scrolled": false
   },
   "outputs": [
    {
     "name": "stderr",
     "output_type": "stream",
     "text": [
      "/Users/timothyernst/anaconda/envs/Python2/lib/python2.7/site-packages/ipykernel/__main__.py:2: FutureWarning:\n",
      "\n",
      "\n",
      "The default value for 'return_type' will change to 'axes' in a future release.\n",
      " To use the future behavior now, set return_type='axes'.\n",
      " To keep the previous behavior and silence this warning, set return_type='dict'.\n",
      "\n"
     ]
    },
    {
     "data": {
      "text/plain": [
       "{'boxes': [<matplotlib.lines.Line2D at 0x1228dbf90>],\n",
       " 'caps': [<matplotlib.lines.Line2D at 0x1228eaed0>,\n",
       "  <matplotlib.lines.Line2D at 0x1228f4550>],\n",
       " 'fliers': [<matplotlib.lines.Line2D at 0x122902210>],\n",
       " 'means': [],\n",
       " 'medians': [<matplotlib.lines.Line2D at 0x1228f4b90>],\n",
       " 'whiskers': [<matplotlib.lines.Line2D at 0x1228ea1d0>,\n",
       "  <matplotlib.lines.Line2D at 0x1228ea890>]}"
      ]
     },
     "execution_count": 219,
     "metadata": {},
     "output_type": "execute_result"
    },
    {
     "data": {
      "image/png": "[encoded data removed]",
      "text/plain": [
       "<matplotlib.figure.Figure at 0x1227013d0>"
      ]
     },
     "metadata": {},
     "output_type": "display_data"
    }
   ],
   "source": [
    "#We can use Pandas to make this even easier.\n",
    "sat_scores.boxplot('Verbal')"
   ]
  },
  {
   "cell_type": "code",
   "execution_count": 220,
   "metadata": {
    "collapsed": false
   },
   "outputs": [
    {
     "name": "stderr",
     "output_type": "stream",
     "text": [
      "/Users/timothyernst/anaconda/envs/Python2/lib/python2.7/site-packages/ipykernel/__main__.py:1: FutureWarning:\n",
      "\n",
      "\n",
      "The default value for 'return_type' will change to 'axes' in a future release.\n",
      " To use the future behavior now, set return_type='axes'.\n",
      " To keep the previous behavior and silence this warning, set return_type='dict'.\n",
      "\n"
     ]
    },
    {
     "data": {
      "text/plain": [
       "{'boxes': [<matplotlib.lines.Line2D at 0x122a6ca10>],\n",
       " 'caps': [<matplotlib.lines.Line2D at 0x122a7a950>,\n",
       "  <matplotlib.lines.Line2D at 0x122a7af90>],\n",
       " 'fliers': [<matplotlib.lines.Line2D at 0x122a85c50>],\n",
       " 'means': [],\n",
       " 'medians': [<matplotlib.lines.Line2D at 0x122a85610>],\n",
       " 'whiskers': [<matplotlib.lines.Line2D at 0x122a6cc10>,\n",
       "  <matplotlib.lines.Line2D at 0x122a7a310>]}"
      ]
     },
     "execution_count": 220,
     "metadata": {},
     "output_type": "execute_result"
    },
    {
     "data": {
      "image/png": "[encoded data removed]",
      "text/plain": [
       "<matplotlib.figure.Figure at 0x1227c0f50>"
      ]
     },
     "metadata": {},
     "output_type": "display_data"
    }
   ],
   "source": [
    "sat_scores.boxplot('Rate')"
   ]
  },
  {
   "cell_type": "markdown",
   "metadata": {
    "nbpresent": {
     "id": "bf8c5a85-0582-4aa1-9510-7b7da4c399d4"
    }
   },
   "source": [
    "##### BONUS: Using Tableau, create a heat map for each variable using a map of the US. "
   ]
  },
  {
   "cell_type": "code",
   "execution_count": null,
   "metadata": {
    "collapsed": true,
    "nbpresent": {
     "id": "f4ab4a77-1a8d-4880-bbdc-0d4b0c86b9b2"
    }
   },
   "outputs": [],
   "source": []
  }
 ],
 "metadata": {
  "anaconda-cloud": {},
  "celltoolbar": "Raw Cell Format",
  "kernelspec": {
   "display_name": "Python [Python2]",
   "language": "python",
   "name": "Python [Python2]"
  },
  "language_info": {
   "codemirror_mode": {
    "name": "ipython",
    "version": 2
   },
   "file_extension": ".py",
   "mimetype": "text/x-python",
   "name": "python",
   "nbconvert_exporter": "python",
   "pygments_lexer": "ipython2",
   "version": "2.7.12"
  }
 },
 "nbformat": 4,
 "nbformat_minor": 0
}
